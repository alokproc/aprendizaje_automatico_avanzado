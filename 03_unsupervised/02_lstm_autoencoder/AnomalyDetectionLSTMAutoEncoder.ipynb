{
 "cells": [
  {
   "cell_type": "markdown",
   "metadata": {
    "colab_type": "text",
    "id": "o_uUkQmeKCxJ"
   },
   "source": [
    "En este ejercicio se utiliza un LSTM autoencoder para buscar anomalias en unos sensores de vibraciones colocados en unos rodamientos"
   ]
  },
  {
   "cell_type": "markdown",
   "metadata": {
    "colab_type": "text",
    "id": "h_3_xxXHKOa7"
   },
   "source": [
    "Primero importamos las librerias"
   ]
  },
  {
   "cell_type": "code",
   "execution_count": 1,
   "metadata": {
    "colab": {
     "base_uri": "https://localhost:8080/",
     "height": 293
    },
    "colab_type": "code",
    "executionInfo": {
     "elapsed": 3067,
     "status": "error",
     "timestamp": 1588469221408,
     "user": {
      "displayName": "Ekhi Zugasti Uriguen",
      "photoUrl": "https://lh3.googleusercontent.com/a-/AOh14GjLW21F9JMtJwfUDFcY2ROtJC3l1QPlGpvoN9Qy=s64",
      "userId": "00195558535022081217"
     },
     "user_tz": -120
    },
    "id": "5mr7rLeRG8uG",
    "outputId": "97d7cadc-5e8c-44a0-d043-fa94ff92a905"
   },
   "outputs": [],
   "source": [
    "#_________________TODO_______________________\n",
    "import numpy as np\n",
    "import pandas as pd\n"
   ]
  },
  {
   "cell_type": "markdown",
   "metadata": {
    "colab_type": "text",
    "id": "8-ZI8CjNKx9Z"
   },
   "source": [
    "Importamos datos, y preprocesamos.\n",
    "\n",
    "En vez de utilizar todos los datos de cada csv, calcularemos la media de cada sensor por archivo, y lo juntaremos en un único pandas dataframe, donde el index, será la fecha y la hora."
   ]
  },
  {
   "cell_type": "code",
   "execution_count": null,
   "metadata": {
    "colab": {},
    "colab_type": "code",
    "id": "_kVYLXQOKrMX"
   },
   "outputs": [],
   "source": [
    "# load, average and merge sensor samples\n",
    "data_dir = 'XXXXXXXX'\n",
    "merged_data = pd.DataFrame()\n",
    "\n",
    "for filename in os.listdir(data_dir):\n",
    "  #_____________________TODO__________________________________________-\n",
    "    #read CSV\n",
    "    dataset = pd.read_csv(os.path.join(data_dir, filename), sep='\\t',header=None)\n",
    "    #calculate mean value of sensors\n",
    "    dataset_mean_abs = np.array(dataset.abs().mean())\n",
    "    #append to \"merged_data\" and add index value date and time (you have that information in the filename)\n",
    "\n",
    "merged_data.columns = ['Bearing 1', 'Bearing 2', 'Bearing 3', 'Bearing 4']\n",
    "\n",
    "#transform data file index to datetime and sort in chronological order\n",
    "merged_data.index = pd.to_datetime(merged_data.index, format='%Y.%m.%d.%H.%M.%S')\n",
    "merged_data = merged_data.sort_index()\n",
    "merged_data.to_csv('Averaged_BearingTest_Dataset.csv')\n",
    "print(\"Dataset shape:\", merged_data.shape)\n",
    "merged_data.head()\n",
    "\n",
    "\n",
    "train = merged_data['2004-02-12 10:52:39': '2004-02-15 12:52:39']\n",
    "test = merged_data['2004-02-15 12:52:39':]\n",
    "print(\"Training dataset shape:\", train.shape)\n",
    "print(\"Test dataset shape:\", test.shape)\n",
    "\n"
   ]
  },
  {
   "cell_type": "markdown",
   "metadata": {
    "colab_type": "text",
    "id": "q0ZRH-UsL2mD"
   },
   "source": [
    "Plot training and testing data "
   ]
  },
  {
   "cell_type": "code",
   "execution_count": null,
   "metadata": {
    "colab": {},
    "colab_type": "code",
    "id": "m5NuI6myKTIB"
   },
   "outputs": [],
   "source": [
    "\n",
    "\n",
    "\n",
    "fig, ax = plt.subplots(figsize=(14, 6), dpi=80)\n",
    "ax.plot(train['Bearing 1'], label='Bearing 1', color='blue', linewidth=1)\n",
    "ax.plot(train['Bearing 2'], label='Bearing 2', color='red', linewidth=1)\n",
    "ax.plot(train['Bearing 3'], label='Bearing 3', color='green', linewidth=1)\n",
    "ax.plot(train['Bearing 4'], label='Bearing 4', color='black', linewidth=1)\n",
    "plt.legend(loc='lower left')\n",
    "ax.set_title('Bearing Sensor Training Data', fontsize=16)\n",
    "plt.show()\n",
    "\n",
    "fig, ax = plt.subplots(figsize=(14, 6), dpi=80)\n",
    "ax.plot(test['Bearing 1'], label='Bearing 1', color='blue', linewidth=1)\n",
    "ax.plot(test['Bearing 2'], label='Bearing 2', color='red', linewidth=1)\n",
    "ax.plot(test['Bearing 3'], label='Bearing 3', color='green', linewidth=1)\n",
    "ax.plot(test['Bearing 4'], label='Bearing 4', color='black', linewidth=1)\n",
    "plt.legend(loc='lower left')\n",
    "ax.set_title('Bearing Sensor Testing Data', fontsize=16)\n",
    "plt.show()\n",
    "\n"
   ]
  },
  {
   "cell_type": "markdown",
   "metadata": {
    "colab_type": "text",
    "id": "RvAef_frMFk4"
   },
   "source": [
    "Scale with MinMaxScaler and reshape data to be tensor inputs for lstm"
   ]
  },
  {
   "cell_type": "code",
   "execution_count": null,
   "metadata": {
    "colab": {},
    "colab_type": "code",
    "id": "OkUIwtEoMGAe"
   },
   "outputs": [],
   "source": [
    "#_________TODO_________________\n",
    "#minmaxscale\n",
    "\n",
    "\n",
    "# reshape inputs for LSTM [samples, timesteps, features]\n",
    "\n"
   ]
  },
  {
   "cell_type": "markdown",
   "metadata": {
    "colab_type": "text",
    "id": "bjiOcIr8Mkxc"
   },
   "source": [
    "Define Autoencoder model (LSTM autoencoder)\n",
    "compile and fit"
   ]
  },
  {
   "cell_type": "code",
   "execution_count": null,
   "metadata": {
    "colab": {},
    "colab_type": "code",
    "id": "b9VcgQcqMlBw"
   },
   "outputs": [],
   "source": [
    "\n",
    "\n",
    "# define the autoencoder network model\n",
    "def autoencoder_model(X):\n",
    "    inputs = Input(shape=(X.shape[1], X.shape[2]))\n",
    "    L1 = LSTM(16, activation='relu', return_sequences=True,)(inputs)\n",
    "    L2 = LSTM(4, activation='relu', return_sequences=False)(L1)\n",
    "    L3 = RepeatVector(X.shape[1])(L2)\n",
    "    L4 = LSTM(4, activation='relu', return_sequences=True)(L3)\n",
    "    L5 = LSTM(16, activation='relu', return_sequences=True)(L4)\n",
    "    output = TimeDistributed(Dense(X.shape[2]))(L5)\n",
    "    model = Model(inputs=inputs, outputs=output)\n",
    "    return model\n",
    "\n",
    "#_________TODO________________ compile, and fit\n",
    "\n"
   ]
  },
  {
   "cell_type": "markdown",
   "metadata": {
    "colab_type": "text",
    "id": "YwP27beIMlTU"
   },
   "source": [
    "Plot loss history"
   ]
  },
  {
   "cell_type": "code",
   "execution_count": null,
   "metadata": {
    "colab": {},
    "colab_type": "code",
    "id": "2ivWEU3pMleb"
   },
   "outputs": [],
   "source": [
    "# plot the training losses\n",
    "fig, ax = plt.subplots(figsize=(14, 6), dpi=80)\n",
    "ax.plot(history['loss'], 'b', label='Train', linewidth=2)\n",
    "ax.plot(history['val_loss'], 'r', label='Validation', linewidth=2)\n",
    "ax.set_title('Model loss', fontsize=16)\n",
    "ax.set_ylabel('Loss (mae)')\n",
    "ax.set_xlabel('Epoch')\n",
    "ax.legend(loc='upper right')\n",
    "plt.show()\n",
    "\n"
   ]
  },
  {
   "cell_type": "markdown",
   "metadata": {
    "colab_type": "text",
    "id": "VR_SnzdlNTG6"
   },
   "source": [
    "\n",
    "\n",
    "```\n",
    "# This is formatted as code\n",
    "```\n",
    "\n",
    "Predict Train"
   ]
  },
  {
   "cell_type": "code",
   "execution_count": null,
   "metadata": {
    "colab": {},
    "colab_type": "code",
    "id": "2GbQ2YfJNhT2"
   },
   "outputs": [],
   "source": [
    "#make the prediction of Xtrain values\n",
    "#_______TODO_____________\n",
    "X_pred=#Todo"
   ]
  },
  {
   "cell_type": "markdown",
   "metadata": {
    "colab_type": "text",
    "id": "2tKg0-m3Npoj"
   },
   "source": [
    "Calculate the MAE loss in training phase and set threshold"
   ]
  },
  {
   "cell_type": "code",
   "execution_count": null,
   "metadata": {
    "colab": {},
    "colab_type": "code",
    "id": "ojfzSsEHNpyI"
   },
   "outputs": [],
   "source": [
    "LossMAE = np.mean(np.abs(X_pred-Xtrain), axis = 1)\n",
    "thres=LossMAE.mean()+3*LossMAE.std()\n",
    "print(thres)\n",
    "\n"
   ]
  },
  {
   "cell_type": "markdown",
   "metadata": {
    "colab_type": "text",
    "id": "R7MmTg61OHAB"
   },
   "source": [
    "calculate the loss on the test set"
   ]
  },
  {
   "cell_type": "code",
   "execution_count": null,
   "metadata": {
    "colab": {},
    "colab_type": "code",
    "id": "7l1WByhFOHS0"
   },
   "outputs": [],
   "source": [
    "#Make prediction of Xtest, and calculate the loss MAE of the test set\n",
    "#________TODO__________________-"
   ]
  },
  {
   "cell_type": "markdown",
   "metadata": {
    "colab_type": "text",
    "id": "BvB4tWUtOVAB"
   },
   "source": [
    "Plot, train MAE losses, threshold and TestMAE looses"
   ]
  },
  {
   "cell_type": "code",
   "execution_count": null,
   "metadata": {
    "colab": {},
    "colab_type": "code",
    "id": "1QGXv6UbOrlZ"
   },
   "outputs": [],
   "source": [
    "#____________TODO__________________-"
   ]
  }
 ],
 "metadata": {
  "colab": {
   "authorship_tag": "ABX9TyMTOkyJnvolvz3b/dDB56rU",
   "name": "AnomalyDetectionLSTMAutoEncoder.ipynb",
   "provenance": []
  },
  "kernelspec": {
   "display_name": "Python 3",
   "language": "python",
   "name": "python3"
  },
  "language_info": {
   "codemirror_mode": {
    "name": "ipython",
    "version": 3
   },
   "file_extension": ".py",
   "mimetype": "text/x-python",
   "name": "python",
   "nbconvert_exporter": "python",
   "pygments_lexer": "ipython3",
   "version": "3.7.7"
  }
 },
 "nbformat": 4,
 "nbformat_minor": 4
}
