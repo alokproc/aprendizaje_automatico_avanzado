{
 "cells": [
  {
   "cell_type": "markdown",
   "metadata": {
    "colab_type": "text",
    "id": "KM0Y-uAVb4UD"
   },
   "source": [
    "# exercise: sentiment analysis"
   ]
  },
  {
   "cell_type": "markdown",
   "metadata": {
    "colab_type": "text",
    "id": "EOjaMdKwb4UJ"
   },
   "source": [
    "Binary classification is possibly the most common type of problem in ML applications. In this one we're going to see how to build a classifier in Keras. Specifically, we will build a neural network to help us classify movie opinions as \"positive/negative\" based only on the textual content of the movie. It will be an example of what is currently known as sentiment analysis."
   ]
  },
  {
   "cell_type": "markdown",
   "metadata": {
    "colab_type": "text",
    "id": "U9ykCQdDb4UO"
   },
   "source": [
    "## IMDB dataset"
   ]
  },
  {
   "cell_type": "markdown",
   "metadata": {
    "colab_type": "text",
    "id": "OD3UxgoRb4US"
   },
   "source": [
    "We will use one of the datasets provided by the IMDB site (Internet Movie DataBase) formed by 50,000 highly polarized opinions (which simplifies the learning task). This set is divided in 50%/50% for training/test, and in each of them there are 50% of opinions of each type.\n",
    "\n",
    "As with the previous dataset (MNIST) this dataset also comes with Keras, and in addition is provided pre-processed: by means of an indexed dictionary, the opinions (word sequences) have been converted into sequences of integers.\n",
    "\n",
    "The code that loads the dataset (about 80Mb of data that will be downloaded the first time it is executed) is:"
   ]
  },
  {
   "cell_type": "code",
   "execution_count": 1,
   "metadata": {
    "colab": {
     "base_uri": "https://localhost:8080/",
     "height": 98
    },
    "colab_type": "code",
    "executionInfo": {
     "elapsed": 10062,
     "status": "ok",
     "timestamp": 1584999760848,
     "user": {
      "displayName": "Ekhi Zugasti Uriguen",
      "photoUrl": "https://lh3.googleusercontent.com/a-/AOh14GjLW21F9JMtJwfUDFcY2ROtJC3l1QPlGpvoN9Qy=s64",
      "userId": "00195558535022081217"
     },
     "user_tz": -60
    },
    "id": "DbN_nV4ib4UV",
    "outputId": "253ba047-54a1-4c40-cc70-f860122ebcd2"
   },
   "outputs": [],
   "source": [
    "from tensorflow.keras.datasets import imdb\n",
    "numwords=10000\n",
    "(train_data, train_labels), (test_data, test_labels) = imdb.load_data(num_words=numwords)"
   ]
  },
  {
   "cell_type": "markdown",
   "metadata": {
    "colab_type": "text",
    "id": "L1sgD_whb4Ui"
   },
   "source": [
    "As the dictionary is tremendously large and there are many words that are rarely used, we'll be left with only the 10,000 most frequent words (something we get by means of the argument num_words = 10000 in the loading process).\n",
    "\n",
    "If you wish, you can explore the content of the train_data and test_data variables, which are lists of opinions, where each opinion is a list of integers (encoding a sequence of words). The variables train_labels and test_labels are binary lists, where 0 indicates that the associated opinion is negative and 1 that it is positive:"
   ]
  },
  {
   "cell_type": "code",
   "execution_count": 2,
   "metadata": {},
   "outputs": [
    {
     "data": {
      "text/html": [
       "<div>\n",
       "<style scoped>\n",
       "    .dataframe tbody tr th:only-of-type {\n",
       "        vertical-align: middle;\n",
       "    }\n",
       "\n",
       "    .dataframe tbody tr th {\n",
       "        vertical-align: top;\n",
       "    }\n",
       "\n",
       "    .dataframe thead th {\n",
       "        text-align: right;\n",
       "    }\n",
       "</style>\n",
       "<table border=\"1\" class=\"dataframe\">\n",
       "  <thead>\n",
       "    <tr style=\"text-align: right;\">\n",
       "      <th></th>\n",
       "      <th>0</th>\n",
       "    </tr>\n",
       "  </thead>\n",
       "  <tbody>\n",
       "    <tr>\n",
       "      <th>0</th>\n",
       "      <td>[1, 14, 22, 16, 43, 530, 973, 1622, 1385, 65, ...</td>\n",
       "    </tr>\n",
       "    <tr>\n",
       "      <th>1</th>\n",
       "      <td>[1, 194, 1153, 194, 8255, 78, 228, 5, 6, 1463,...</td>\n",
       "    </tr>\n",
       "    <tr>\n",
       "      <th>2</th>\n",
       "      <td>[1, 14, 47, 8, 30, 31, 7, 4, 249, 108, 7, 4, 5...</td>\n",
       "    </tr>\n",
       "    <tr>\n",
       "      <th>3</th>\n",
       "      <td>[1, 4, 2, 2, 33, 2804, 4, 2040, 432, 111, 153,...</td>\n",
       "    </tr>\n",
       "    <tr>\n",
       "      <th>4</th>\n",
       "      <td>[1, 249, 1323, 7, 61, 113, 10, 10, 13, 1637, 1...</td>\n",
       "    </tr>\n",
       "  </tbody>\n",
       "</table>\n",
       "</div>"
      ],
      "text/plain": [
       "                                                   0\n",
       "0  [1, 14, 22, 16, 43, 530, 973, 1622, 1385, 65, ...\n",
       "1  [1, 194, 1153, 194, 8255, 78, 228, 5, 6, 1463,...\n",
       "2  [1, 14, 47, 8, 30, 31, 7, 4, 249, 108, 7, 4, 5...\n",
       "3  [1, 4, 2, 2, 33, 2804, 4, 2040, 432, 111, 153,...\n",
       "4  [1, 249, 1323, 7, 61, 113, 10, 10, 13, 1637, 1..."
      ]
     },
     "execution_count": 2,
     "metadata": {},
     "output_type": "execute_result"
    }
   ],
   "source": [
    "import pandas as pd\n",
    "\n",
    "pd.DataFrame(train_data).head()"
   ]
  },
  {
   "cell_type": "code",
   "execution_count": 3,
   "metadata": {},
   "outputs": [
    {
     "data": {
      "text/html": [
       "<div>\n",
       "<style scoped>\n",
       "    .dataframe tbody tr th:only-of-type {\n",
       "        vertical-align: middle;\n",
       "    }\n",
       "\n",
       "    .dataframe tbody tr th {\n",
       "        vertical-align: top;\n",
       "    }\n",
       "\n",
       "    .dataframe thead th {\n",
       "        text-align: right;\n",
       "    }\n",
       "</style>\n",
       "<table border=\"1\" class=\"dataframe\">\n",
       "  <thead>\n",
       "    <tr style=\"text-align: right;\">\n",
       "      <th></th>\n",
       "      <th>0</th>\n",
       "    </tr>\n",
       "  </thead>\n",
       "  <tbody>\n",
       "    <tr>\n",
       "      <th>0</th>\n",
       "      <td>1</td>\n",
       "    </tr>\n",
       "    <tr>\n",
       "      <th>1</th>\n",
       "      <td>0</td>\n",
       "    </tr>\n",
       "    <tr>\n",
       "      <th>2</th>\n",
       "      <td>0</td>\n",
       "    </tr>\n",
       "    <tr>\n",
       "      <th>3</th>\n",
       "      <td>1</td>\n",
       "    </tr>\n",
       "    <tr>\n",
       "      <th>4</th>\n",
       "      <td>0</td>\n",
       "    </tr>\n",
       "  </tbody>\n",
       "</table>\n",
       "</div>"
      ],
      "text/plain": [
       "   0\n",
       "0  1\n",
       "1  0\n",
       "2  0\n",
       "3  1\n",
       "4  0"
      ]
     },
     "execution_count": 3,
     "metadata": {},
     "output_type": "execute_result"
    }
   ],
   "source": [
    "pd.DataFrame(train_labels).head()"
   ]
  },
  {
   "cell_type": "markdown",
   "metadata": {
    "colab_type": "text",
    "id": "FsS54CABb4Ul"
   },
   "source": [
    "\n",
    "\n",
    "## Data Preprocessing"
   ]
  },
  {
   "cell_type": "markdown",
   "metadata": {
    "colab_type": "text",
    "id": "VMhzTRi5b4Un"
   },
   "source": [
    "Since neural networks do not support lists of integers as input, because they are of variable length, we have to add additional pre-processing to be able to work with them. We have two options:\n",
    "\n",
    "- Complete the shorter lists so that they're all the same length, and then convert them into tensors that will feed the input layer of the network.\n",
    "- Encode the lists in One-hot to convert them into 0s and 1s vectors. Since we have a maximum of 10,000 words in our vocabulary, each opinion will be converted into a binary list of 10,000 positions indicating which words appear in the opinion. In this case, the first (dense) layer of our network would be connected with vectors of length 10,000.\n",
    "\n",
    "We will choose this second option, which over time we will see has more advantages than the first.\n",
    "\n",
    "The code that allows us to do this conversion is:\n"
   ]
  },
  {
   "cell_type": "code",
   "execution_count": 4,
   "metadata": {
    "colab": {},
    "colab_type": "code",
    "id": "fImSfZXwb4Uq"
   },
   "outputs": [],
   "source": [
    "import numpy as np\n",
    "\n",
    "def vectorize_sequences(sequences, dimension=numwords):\n",
    "    # Create an all-zero matrix of shape (len(sequences), dimension)\n",
    "    results = np.zeros((len(sequences), dimension))\n",
    "    for i, sequence in enumerate(sequences):\n",
    "        results[i, sequence] = 1.  # set specific indices of results[i] to 1s\n",
    "    return results\n",
    "\n",
    "# Our vectorized training data\n",
    "x_train = vectorize_sequences(train_data)\n",
    "# Our vectorized test data\n",
    "x_test = vectorize_sequences(test_data)"
   ]
  },
  {
   "cell_type": "markdown",
   "metadata": {
    "colab_type": "text",
    "id": "_yK1yZ8kb4Uy"
   },
   "source": [
    "We would also have to do a conversion with the labels, but since in this case they are already binary vectors, it is enough to convert them into numerical ones:\n"
   ]
  },
  {
   "cell_type": "code",
   "execution_count": 5,
   "metadata": {
    "colab": {},
    "colab_type": "code",
    "id": "tE7vdcRxb4U0"
   },
   "outputs": [],
   "source": [
    "# Our vectorized labels\n",
    "y_train = np.asarray(train_labels).astype('float32')\n",
    "y_test = np.asarray(test_labels).astype('float32')"
   ]
  },
  {
   "cell_type": "code",
   "execution_count": 6,
   "metadata": {},
   "outputs": [
    {
     "data": {
      "text/plain": [
       "array([1., 0., 0., ..., 0., 1., 0.], dtype=float32)"
      ]
     },
     "execution_count": 6,
     "metadata": {},
     "output_type": "execute_result"
    }
   ],
   "source": [
    "y_train"
   ]
  },
  {
   "cell_type": "markdown",
   "metadata": {
    "colab_type": "text",
    "id": "Bo0OEMd3b4U8"
   },
   "source": [
    "## Network Definition"
   ]
  },
  {
   "cell_type": "markdown",
   "metadata": {
    "colab_type": "text",
    "id": "l_Rm5lq3b4U-"
   },
   "source": [
    "As we have seen, the input data are vectors, and the labels are scalar (1s and 0s), so this is the simplest configuration possible to be worked with a neural network, and a type of network that works well with this type of problem is a simple stack of dense layers with relu activations, which in Keras are built with the instruction: layers.Dense(16, activation='relu').\n",
    "\n",
    "In general, in all types of layers, the most common arguments you will have to use will be the number of neurons in the layer, and the type of activation these neurons will use. In the previous case we used 16 neurons, which means that this layer will use 16 dimensions to try to structure the patterns it finds in the input data according to the target function (loss) that it should optimize.\n",
    "\n",
    "It can be intuitively interpreted that the dimension of the layer represents how much freedom the network is allowed to learn internal representations. Having more units allows you to learn more complex representations, but also increases the computational load and facilitates the memorization of patterns in the training data (which may not be relevant to the problem and may lead to an over-adjustment phenomenon).\n",
    "\n",
    "Regarding the architecture when working with dense layers, there are two key decisions to consider:\n",
    "\n",
    "\n",
    "*   How many layers to use.\n",
    "\n",
    "*   How many units to place in each layer.\n",
    "\n",
    "\n",
    "    \n",
    "\n",
    "While there are no general rules for how to make these decisions, there are some reasons that can be learned from experience and some implicit knowledge useful for network design. For this example, without a clear justification, and only as a demonstration of the techniques we will use three intermediate layers of 16 neurons each, and a third layer that will have a single scalar output (which will represent the model's prediction). The intermediate layers will use relu as an activation function, and the final layer will use a sigmoid (which has an output in [0, 1]).\n",
    "\n",
    "The implementation in Keras, similar to the one we already did for MNIST, is therefore"
   ]
  },
  {
   "cell_type": "code",
   "execution_count": 7,
   "metadata": {
    "colab": {
     "base_uri": "https://localhost:8080/",
     "height": 295
    },
    "colab_type": "code",
    "executionInfo": {
     "elapsed": 877,
     "status": "ok",
     "timestamp": 1585003968093,
     "user": {
      "displayName": "Ekhi Zugasti Uriguen",
      "photoUrl": "https://lh3.googleusercontent.com/a-/AOh14GjLW21F9JMtJwfUDFcY2ROtJC3l1QPlGpvoN9Qy=s64",
      "userId": "00195558535022081217"
     },
     "user_tz": -60
    },
    "id": "zr8Sk4dob4VA",
    "outputId": "7cc74137-948e-4eaa-944a-086a726176f4"
   },
   "outputs": [
    {
     "name": "stdout",
     "output_type": "stream",
     "text": [
      "Model: \"sequential\"\n",
      "_________________________________________________________________\n",
      "Layer (type)                 Output Shape              Param #   \n",
      "=================================================================\n",
      "dense (Dense)                (None, 4)                 40004     \n",
      "_________________________________________________________________\n",
      "dense_1 (Dense)              (None, 4)                 20        \n",
      "_________________________________________________________________\n",
      "dense_2 (Dense)              (None, 4)                 20        \n",
      "_________________________________________________________________\n",
      "dense_3 (Dense)              (None, 1)                 5         \n",
      "=================================================================\n",
      "Total params: 40,049\n",
      "Trainable params: 40,049\n",
      "Non-trainable params: 0\n",
      "_________________________________________________________________\n"
     ]
    }
   ],
   "source": [
    "from tensorflow.keras import models\n",
    "from tensorflow.keras import layers\n",
    "from tensorflow.keras.utils import plot_model\n",
    "\n",
    "red = models.Sequential()\n",
    "red.add(layers.Dense(4, activation='relu', input_shape=(numwords,)))\n",
    "red.add(layers.Dense(4, activation='relu'))\n",
    "red.add(layers.Dense(4, activation='relu'))\n",
    "red.add(layers.Dense(1, activation='sigmoid'))\n",
    "red.summary()\n"
   ]
  },
  {
   "cell_type": "code",
   "execution_count": 8,
   "metadata": {
    "colab": {
     "base_uri": "https://localhost:8080/",
     "height": 533
    },
    "colab_type": "code",
    "executionInfo": {
     "elapsed": 14561,
     "status": "ok",
     "timestamp": 1584999765392,
     "user": {
      "displayName": "Ekhi Zugasti Uriguen",
      "photoUrl": "https://lh3.googleusercontent.com/a-/AOh14GjLW21F9JMtJwfUDFcY2ROtJC3l1QPlGpvoN9Qy=s64",
      "userId": "00195558535022081217"
     },
     "user_tz": -60
    },
    "id": "Re9jQl4eOOTC",
    "outputId": "c9e9b172-4a64-4923-d17c-3aabad741b6d"
   },
   "outputs": [
    {
     "name": "stdout",
     "output_type": "stream",
     "text": [
      "Failed to import pydot. You must install pydot and graphviz for `pydotprint` to work.\n"
     ]
    }
   ],
   "source": [
    "plot_model(red, to_file='IMDBModel_plot.png', show_shapes=True, show_layer_names=True)"
   ]
  },
  {
   "cell_type": "markdown",
   "metadata": {
    "colab_type": "text",
    "id": "qqi5crYUb4VF"
   },
   "source": [
    "Following the same pattern we saw in the previous example, we need to choose the loss function (which will be minimized) and the optimization method (which will seek to minimize that function).\n",
    "\n",
    "Since we are facing a binary classification problem and the output of our network is a probability (provided by the sigmoid), we will use binary_crossentropy as the loss function. This is not the only viable option, we could have chosen, for example, mean_squared_error, but in this case binary_crossentropy is a better option because we are working with probabilities.\n",
    "\n",
    "Cross entropy comes from the Information Theory field, and measures the distance between probability distributions (in this case, the distribution calculated by the predictor and the one that represents the actual distribution coming from the training data).\n",
    "\n",
    "As an optimizer we will use rmsprop, which is usually a good choice in almost all cases. To monitor the evolution of learning we will use only one metric, accuracy.\n"
   ]
  },
  {
   "cell_type": "code",
   "execution_count": 9,
   "metadata": {
    "colab": {},
    "colab_type": "code",
    "id": "gecGwuQZb4VH"
   },
   "outputs": [],
   "source": [
    "red.compile(optimizer='rmsprop', loss='binary_crossentropy', metrics=['binary_accuracy'])"
   ]
  },
  {
   "cell_type": "markdown",
   "metadata": {
    "colab_type": "text",
    "id": "6eoQENnpb4VO"
   },
   "source": [
    "In this case we are passing all the data as strings that come predefined in Keras and work with fixed parameters, but it is also possible to adjust with more flexibility each one of them and to configure the parameters on which it depends, and even to pass you functions, either those that Keras brings or completely customized. For example:\n",
    " - we can set a new learning Rate. The lower the learning rate, the more difficult will be achieving the optimal point (so we would need to add more epochs)"
   ]
  },
  {
   "cell_type": "code",
   "execution_count": 10,
   "metadata": {
    "colab": {},
    "colab_type": "code",
    "id": "_CunMAWLb4VP"
   },
   "outputs": [],
   "source": [
    "from tensorflow.keras import optimizers\n",
    "\n",
    "red.compile(optimizer=optimizers.RMSprop(lr=0.0001), #the default value is 0.001\n",
    "            loss='binary_crossentropy',\n",
    "            metrics=['binary_accuracy'])"
   ]
  },
  {
   "cell_type": "markdown",
   "metadata": {
    "colab_type": "text",
    "id": "heMNn39Bb4VV"
   },
   "source": [
    "## Model Validation"
   ]
  },
  {
   "cell_type": "markdown",
   "metadata": {
    "colab_type": "text",
    "id": "n7vFSm_Tb4VX"
   },
   "source": [
    "n order to monitor the metrics (accuracy) while training is taking place we need to have more data that the model does not use during the process. We will create a validation set by separating another 10,000 samples from the original set. So the situation is as follows:\n",
    "- Training set: with which we will try to optimize the weights of the network so that it minimizes the loss function. In this process we use a model that depends on certain parameters that may need to be adjusted to achieve better performance.\n",
    "- Validation set: with which we will measure how good is the concrete model we are training (with fixed parameters). It is something like a temporary test set. It allows to adjust these parameters to improve the performance.\n",
    "- Test set: that has not been used at any moment of the previous iterations and that allows to measure in an objective way the goodness of the final model obtained."
   ]
  },
  {
   "cell_type": "code",
   "execution_count": 11,
   "metadata": {
    "colab": {},
    "colab_type": "code",
    "id": "eKPokIlvb4VZ"
   },
   "outputs": [],
   "source": [
    "from sklearn.model_selection import train_test_split\n",
    "\n",
    "partial_x_train, x_val, partial_y_train, y_val = train_test_split(x_train, y_train, test_size=0.15)"
   ]
  },
  {
   "cell_type": "markdown",
   "metadata": {
    "colab_type": "text",
    "id": "olPf5tWFb4Vg"
   },
   "source": [
    "We will then train the model on the complete training set (no validation, no test), in mini-batches of 512 samples (i.e. every 512 samples analyzed, the weights of the network are updated).\n",
    "\n",
    "We will monitor loss and accuracy over the 10,000 samples left in the validation set. To do this, we use the validation_data argument of the fit function, which we did not use in the previous example.\n",
    "\n",
    "As predicting the right number of iterations (epochs) can be complicated, we will prefix a high number of epochs (500) and define an early stop criterion using the EarlyStopping function (to which several decisions must be indicated, the most relevant being the monitoring criterion to be used and the number of epochs without improvement in it before stopping, called patience):"
   ]
  },
  {
   "cell_type": "code",
   "execution_count": 12,
   "metadata": {
    "colab": {
     "base_uri": "https://localhost:8080/",
     "height": 1000
    },
    "colab_type": "code",
    "executionInfo": {
     "elapsed": 86949,
     "status": "ok",
     "timestamp": 1585004067930,
     "user": {
      "displayName": "Ekhi Zugasti Uriguen",
      "photoUrl": "https://lh3.googleusercontent.com/a-/AOh14GjLW21F9JMtJwfUDFcY2ROtJC3l1QPlGpvoN9Qy=s64",
      "userId": "00195558535022081217"
     },
     "user_tz": -60
    },
    "id": "xE643n8bb4Vh",
    "outputId": "173dd82d-7c71-41ef-fc77-3d83744f509b"
   },
   "outputs": [
    {
     "name": "stdout",
     "output_type": "stream",
     "text": [
      "Train on 21250 samples, validate on 3750 samples\n",
      "Epoch 1/500\n",
      "21250/21250 [==============================] - 2s 76us/sample - loss: 0.6902 - binary_accuracy: 0.5727 - val_loss: 0.6845 - val_binary_accuracy: 0.6525\n",
      "Epoch 2/500\n",
      "21250/21250 [==============================] - 1s 36us/sample - loss: 0.6771 - binary_accuracy: 0.7015 - val_loss: 0.6683 - val_binary_accuracy: 0.7405\n",
      "Epoch 3/500\n",
      "21250/21250 [==============================] - 1s 38us/sample - loss: 0.6594 - binary_accuracy: 0.7723 - val_loss: 0.6498 - val_binary_accuracy: 0.7928\n",
      "Epoch 4/500\n",
      "21250/21250 [==============================] - 1s 37us/sample - loss: 0.6391 - binary_accuracy: 0.8076 - val_loss: 0.6295 - val_binary_accuracy: 0.8136\n",
      "Epoch 5/500\n",
      "21250/21250 [==============================] - 1s 37us/sample - loss: 0.6172 - binary_accuracy: 0.8320 - val_loss: 0.6090 - val_binary_accuracy: 0.8341\n",
      "Epoch 6/500\n",
      "21250/21250 [==============================] - 1s 39us/sample - loss: 0.5952 - binary_accuracy: 0.8507 - val_loss: 0.5886 - val_binary_accuracy: 0.8477\n",
      "Epoch 7/500\n",
      "21250/21250 [==============================] - 1s 38us/sample - loss: 0.5737 - binary_accuracy: 0.8636 - val_loss: 0.5691 - val_binary_accuracy: 0.8544\n",
      "Epoch 8/500\n",
      "21250/21250 [==============================] - 1s 37us/sample - loss: 0.5528 - binary_accuracy: 0.8716 - val_loss: 0.5497 - val_binary_accuracy: 0.8629\n",
      "Epoch 9/500\n",
      "21250/21250 [==============================] - 1s 37us/sample - loss: 0.5324 - binary_accuracy: 0.8779 - val_loss: 0.5313 - val_binary_accuracy: 0.8669\n",
      "Epoch 10/500\n",
      "21250/21250 [==============================] - 1s 37us/sample - loss: 0.5126 - binary_accuracy: 0.8828 - val_loss: 0.5133 - val_binary_accuracy: 0.8699\n",
      "Epoch 11/500\n",
      "21250/21250 [==============================] - 1s 39us/sample - loss: 0.4932 - binary_accuracy: 0.8871 - val_loss: 0.4961 - val_binary_accuracy: 0.8736\n",
      "Epoch 12/500\n",
      "21250/21250 [==============================] - 1s 39us/sample - loss: 0.4747 - binary_accuracy: 0.8912 - val_loss: 0.4797 - val_binary_accuracy: 0.8739\n",
      "Epoch 13/500\n",
      "21250/21250 [==============================] - 1s 37us/sample - loss: 0.4570 - binary_accuracy: 0.8940 - val_loss: 0.4644 - val_binary_accuracy: 0.8752\n",
      "Epoch 14/500\n",
      "21250/21250 [==============================] - 1s 41us/sample - loss: 0.4401 - binary_accuracy: 0.8964 - val_loss: 0.4496 - val_binary_accuracy: 0.8747\n",
      "Epoch 15/500\n",
      "21250/21250 [==============================] - 1s 40us/sample - loss: 0.4238 - binary_accuracy: 0.8992 - val_loss: 0.4357 - val_binary_accuracy: 0.8747\n",
      "Epoch 16/500\n",
      "21250/21250 [==============================] - 1s 37us/sample - loss: 0.4083 - binary_accuracy: 0.9010 - val_loss: 0.4226 - val_binary_accuracy: 0.8773\n",
      "Epoch 17/500\n",
      "21250/21250 [==============================] - 1s 37us/sample - loss: 0.3934 - binary_accuracy: 0.9033 - val_loss: 0.4102 - val_binary_accuracy: 0.8776\n",
      "Epoch 18/500\n",
      "21250/21250 [==============================] - 1s 38us/sample - loss: 0.3795 - binary_accuracy: 0.9056 - val_loss: 0.3988 - val_binary_accuracy: 0.8781\n",
      "Epoch 19/500\n",
      "21250/21250 [==============================] - 1s 37us/sample - loss: 0.3663 - binary_accuracy: 0.9068 - val_loss: 0.3881 - val_binary_accuracy: 0.8808\n",
      "Epoch 20/500\n",
      "21250/21250 [==============================] - 1s 38us/sample - loss: 0.3539 - binary_accuracy: 0.9093 - val_loss: 0.3782 - val_binary_accuracy: 0.8827\n",
      "Epoch 21/500\n",
      "21250/21250 [==============================] - 1s 37us/sample - loss: 0.3420 - binary_accuracy: 0.9104 - val_loss: 0.3690 - val_binary_accuracy: 0.8800\n",
      "Epoch 22/500\n",
      "21250/21250 [==============================] - 1s 37us/sample - loss: 0.3310 - binary_accuracy: 0.9120 - val_loss: 0.3604 - val_binary_accuracy: 0.8827\n",
      "Epoch 23/500\n",
      "21250/21250 [==============================] - 1s 37us/sample - loss: 0.3204 - binary_accuracy: 0.9134 - val_loss: 0.3524 - val_binary_accuracy: 0.8835\n",
      "Epoch 24/500\n",
      "21250/21250 [==============================] - 1s 37us/sample - loss: 0.3104 - binary_accuracy: 0.9143 - val_loss: 0.3451 - val_binary_accuracy: 0.8840\n",
      "Epoch 25/500\n",
      "21250/21250 [==============================] - 1s 37us/sample - loss: 0.3011 - binary_accuracy: 0.9163 - val_loss: 0.3384 - val_binary_accuracy: 0.8853\n",
      "Epoch 26/500\n",
      "21250/21250 [==============================] - 1s 39us/sample - loss: 0.2921 - binary_accuracy: 0.9172 - val_loss: 0.3320 - val_binary_accuracy: 0.8864\n",
      "Epoch 27/500\n",
      "21250/21250 [==============================] - 1s 38us/sample - loss: 0.2837 - binary_accuracy: 0.9192 - val_loss: 0.3263 - val_binary_accuracy: 0.8864\n",
      "Epoch 28/500\n",
      "21250/21250 [==============================] - 1s 37us/sample - loss: 0.2758 - binary_accuracy: 0.9208 - val_loss: 0.3211 - val_binary_accuracy: 0.8872\n",
      "Epoch 29/500\n",
      "21250/21250 [==============================] - 1s 37us/sample - loss: 0.2686 - binary_accuracy: 0.9212 - val_loss: 0.3165 - val_binary_accuracy: 0.8864\n",
      "Epoch 30/500\n",
      "21250/21250 [==============================] - 1s 37us/sample - loss: 0.2615 - binary_accuracy: 0.9234 - val_loss: 0.3120 - val_binary_accuracy: 0.8877\n",
      "Epoch 31/500\n",
      "21250/21250 [==============================] - 1s 37us/sample - loss: 0.2547 - binary_accuracy: 0.9247 - val_loss: 0.3080 - val_binary_accuracy: 0.8893\n",
      "Epoch 32/500\n",
      "21250/21250 [==============================] - 1s 37us/sample - loss: 0.2483 - binary_accuracy: 0.9258 - val_loss: 0.3043 - val_binary_accuracy: 0.8883\n",
      "Epoch 33/500\n",
      "21250/21250 [==============================] - 1s 38us/sample - loss: 0.2421 - binary_accuracy: 0.9274 - val_loss: 0.3009 - val_binary_accuracy: 0.8893\n",
      "Epoch 34/500\n",
      "21250/21250 [==============================] - 1s 41us/sample - loss: 0.2364 - binary_accuracy: 0.9281 - val_loss: 0.2978 - val_binary_accuracy: 0.8893\n",
      "Epoch 35/500\n",
      "21250/21250 [==============================] - 1s 40us/sample - loss: 0.2308 - binary_accuracy: 0.9293 - val_loss: 0.2952 - val_binary_accuracy: 0.8896\n",
      "Epoch 36/500\n",
      "21250/21250 [==============================] - 1s 38us/sample - loss: 0.2257 - binary_accuracy: 0.9303 - val_loss: 0.2929 - val_binary_accuracy: 0.8901\n",
      "Epoch 37/500\n",
      "21250/21250 [==============================] - 1s 37us/sample - loss: 0.2208 - binary_accuracy: 0.9320 - val_loss: 0.2906 - val_binary_accuracy: 0.8896\n",
      "Epoch 38/500\n",
      "21250/21250 [==============================] - 1s 40us/sample - loss: 0.2161 - binary_accuracy: 0.9324 - val_loss: 0.2886 - val_binary_accuracy: 0.8928\n",
      "Epoch 39/500\n",
      "21250/21250 [==============================] - 1s 40us/sample - loss: 0.2116 - binary_accuracy: 0.9338 - val_loss: 0.2869 - val_binary_accuracy: 0.8923\n",
      "Epoch 40/500\n",
      "21250/21250 [==============================] - 1s 42us/sample - loss: 0.2072 - binary_accuracy: 0.9353 - val_loss: 0.2852 - val_binary_accuracy: 0.8917\n",
      "Epoch 41/500\n",
      "21250/21250 [==============================] - 1s 37us/sample - loss: 0.2031 - binary_accuracy: 0.9363 - val_loss: 0.2840 - val_binary_accuracy: 0.8925\n",
      "Epoch 42/500\n",
      "21250/21250 [==============================] - 1s 38us/sample - loss: 0.1991 - binary_accuracy: 0.9371 - val_loss: 0.2827 - val_binary_accuracy: 0.8923\n",
      "Epoch 43/500\n",
      "21250/21250 [==============================] - 1s 39us/sample - loss: 0.1953 - binary_accuracy: 0.9383 - val_loss: 0.2817 - val_binary_accuracy: 0.8939\n",
      "Epoch 44/500\n",
      "21250/21250 [==============================] - 1s 40us/sample - loss: 0.1916 - binary_accuracy: 0.9394 - val_loss: 0.2809 - val_binary_accuracy: 0.8920\n",
      "Epoch 45/500\n",
      "21250/21250 [==============================] - 1s 37us/sample - loss: 0.1881 - binary_accuracy: 0.9404 - val_loss: 0.2802 - val_binary_accuracy: 0.8923\n",
      "Epoch 46/500\n",
      "21250/21250 [==============================] - 1s 42us/sample - loss: 0.1847 - binary_accuracy: 0.9407 - val_loss: 0.2796 - val_binary_accuracy: 0.8923\n",
      "Epoch 47/500\n",
      "21250/21250 [==============================] - 1s 40us/sample - loss: 0.1814 - binary_accuracy: 0.9416 - val_loss: 0.2793 - val_binary_accuracy: 0.8933\n",
      "Epoch 48/500\n",
      "21250/21250 [==============================] - 1s 38us/sample - loss: 0.1783 - binary_accuracy: 0.9425 - val_loss: 0.2788 - val_binary_accuracy: 0.8925\n",
      "Epoch 49/500\n",
      "21250/21250 [==============================] - 1s 38us/sample - loss: 0.1753 - binary_accuracy: 0.9433 - val_loss: 0.2786 - val_binary_accuracy: 0.8931\n",
      "Epoch 50/500\n",
      "21250/21250 [==============================] - 1s 37us/sample - loss: 0.1724 - binary_accuracy: 0.9441 - val_loss: 0.2785 - val_binary_accuracy: 0.8928\n",
      "Epoch 51/500\n",
      "21250/21250 [==============================] - 1s 37us/sample - loss: 0.1696 - binary_accuracy: 0.9454 - val_loss: 0.2785 - val_binary_accuracy: 0.8925\n",
      "Epoch 52/500\n",
      "21250/21250 [==============================] - 1s 36us/sample - loss: 0.1669 - binary_accuracy: 0.9455 - val_loss: 0.2786 - val_binary_accuracy: 0.8917\n",
      "Epoch 53/500\n",
      "21250/21250 [==============================] - 1s 37us/sample - loss: 0.1643 - binary_accuracy: 0.9470 - val_loss: 0.2788 - val_binary_accuracy: 0.8923\n",
      "Epoch 54/500\n",
      "21250/21250 [==============================] - 1s 36us/sample - loss: 0.1617 - binary_accuracy: 0.9472 - val_loss: 0.2791 - val_binary_accuracy: 0.8923\n",
      "Epoch 55/500\n",
      "21250/21250 [==============================] - 1s 37us/sample - loss: 0.1592 - binary_accuracy: 0.9490 - val_loss: 0.2796 - val_binary_accuracy: 0.8920\n"
     ]
    }
   ],
   "source": [
    "from tensorflow.keras.callbacks import EarlyStopping\n",
    "\n",
    "EarlyStopping_CallBack = [EarlyStopping(monitor='val_loss',\n",
    "                                        min_delta=0,\n",
    "                                        patience=5,\n",
    "                                        verbose=0,\n",
    "                                        mode='auto',\n",
    "                                        baseline=None)]\n",
    "entrenamiento = red.fit(partial_x_train,\n",
    "                        partial_y_train,\n",
    "                        callbacks=EarlyStopping_CallBack,\n",
    "                        epochs=500,\n",
    "                        batch_size=512,\n",
    "                        validation_data=(x_val, y_val))"
   ]
  },
  {
   "cell_type": "markdown",
   "metadata": {
    "colab_type": "text",
    "id": "BW5dK1kxb4Vm"
   },
   "source": [
    "the call to fit() returns a history object, which has the following structure"
   ]
  },
  {
   "cell_type": "code",
   "execution_count": 13,
   "metadata": {
    "colab": {
     "base_uri": "https://localhost:8080/",
     "height": 34
    },
    "colab_type": "code",
    "executionInfo": {
     "elapsed": 617,
     "status": "ok",
     "timestamp": 1585004095919,
     "user": {
      "displayName": "Ekhi Zugasti Uriguen",
      "photoUrl": "https://lh3.googleusercontent.com/a-/AOh14GjLW21F9JMtJwfUDFcY2ROtJC3l1QPlGpvoN9Qy=s64",
      "userId": "00195558535022081217"
     },
     "user_tz": -60
    },
    "id": "rEG63sQxb4Vo",
    "outputId": "b17ff3ff-2356-4b3a-9b3b-a778626c9023"
   },
   "outputs": [
    {
     "data": {
      "text/plain": [
       "dict_keys(['loss', 'binary_accuracy', 'val_loss', 'val_binary_accuracy'])"
      ]
     },
     "execution_count": 13,
     "metadata": {},
     "output_type": "execute_result"
    }
   ],
   "source": [
    "entrenamiento_dict = entrenamiento.history\n",
    "entrenamiento_dict.keys()"
   ]
  },
  {
   "cell_type": "markdown",
   "metadata": {
    "colab_type": "text",
    "id": "A1Z4XVELb4Vs"
   },
   "source": [
    "In this case, this object contains 4 entries, one for each metric being monitored during training and during validation. We can use Matplotlib to represent the training and validation losses/accuracies simultaneously:"
   ]
  },
  {
   "cell_type": "code",
   "execution_count": 14,
   "metadata": {
    "colab": {
     "base_uri": "https://localhost:8080/",
     "height": 295
    },
    "colab_type": "code",
    "executionInfo": {
     "elapsed": 1795,
     "status": "ok",
     "timestamp": 1585004248630,
     "user": {
      "displayName": "Ekhi Zugasti Uriguen",
      "photoUrl": "https://lh3.googleusercontent.com/a-/AOh14GjLW21F9JMtJwfUDFcY2ROtJC3l1QPlGpvoN9Qy=s64",
      "userId": "00195558535022081217"
     },
     "user_tz": -60
    },
    "id": "IFBp0GiTb4Vv",
    "outputId": "63107b73-4b06-4c0b-ed46-f02be6aee24e"
   },
   "outputs": [
    {
     "data": {
      "image/png": "[encoded data removed]",
      "text/plain": [
       "<Figure size 432x288 with 1 Axes>"
      ]
     },
     "metadata": {
      "needs_background": "light"
     },
     "output_type": "display_data"
    }
   ],
   "source": [
    "import matplotlib.pyplot as plt\n",
    "\n",
    "ent_acc = entrenamiento.history['binary_accuracy']\n",
    "val_acc = entrenamiento.history['val_binary_accuracy']\n",
    "ent_loss = entrenamiento.history['loss']\n",
    "val_loss = entrenamiento.history['val_loss']\n",
    "\n",
    "epochs = range(1, len(ent_acc) + 1)\n",
    "\n",
    "# \"bo\" is for \"blue dot\"\n",
    "plt.plot(epochs, ent_loss, 'bo', label='Training')\n",
    "# r* red star\n",
    "plt.plot(epochs, val_loss, 'r*', label='Validation')\n",
    "plt.title('Loss in Training and Validation')\n",
    "plt.xlabel('Epochs')\n",
    "plt.ylabel('Loss')\n",
    "plt.legend()\n",
    "\n",
    "plt.show()"
   ]
  },
  {
   "cell_type": "code",
   "execution_count": 15,
   "metadata": {
    "colab": {
     "base_uri": "https://localhost:8080/",
     "height": 295
    },
    "colab_type": "code",
    "executionInfo": {
     "elapsed": 633,
     "status": "ok",
     "timestamp": 1585004284077,
     "user": {
      "displayName": "Ekhi Zugasti Uriguen",
      "photoUrl": "https://lh3.googleusercontent.com/a-/AOh14GjLW21F9JMtJwfUDFcY2ROtJC3l1QPlGpvoN9Qy=s64",
      "userId": "00195558535022081217"
     },
     "user_tz": -60
    },
    "id": "5vS-2yhYb4Vz",
    "outputId": "98582733-5a4a-41b3-9d9b-25e60fc643a5"
   },
   "outputs": [
    {
     "data": {
      "image/png": "[encoded data removed]",
      "text/plain": [
       "<Figure size 432x288 with 1 Axes>"
      ]
     },
     "metadata": {
      "needs_background": "light"
     },
     "output_type": "display_data"
    }
   ],
   "source": [
    "plt.clf()   # clear figure\n",
    "acc_values = entrenamiento_dict['binary_accuracy']\n",
    "val_acc_values = entrenamiento_dict['val_binary_accuracy']\n",
    "\n",
    "plt.plot(epochs, ent_acc, 'bo', label='Training')\n",
    "plt.plot(epochs, val_acc, 'r*', label='Validation')\n",
    "plt.title('Accuracy in Training and Validation')\n",
    "plt.xlabel('Epochs')\n",
    "plt.ylabel('Accuracy')\n",
    "plt.legend()\n",
    "\n",
    "plt.show()"
   ]
  },
  {
   "cell_type": "markdown",
   "metadata": {
    "colab_type": "text",
    "id": "Wjua5g21b4V5"
   },
   "source": [
    "These graphs show that the training loss decreases with each epoch, and that the training accuracy increases, which indicates that the optimization procedure is working properly (especially regarding the loss function). But in this case we observe that the same does not happen with the validation, which begin to worsen from the first epochs. This is a clear case of overfitting: after a few steps the system over-adjusts to the training data, and learns a representation that is specific to this data and cannot be generalised to other data.\n"
   ]
  },
  {
   "cell_type": "markdown",
   "metadata": {
    "colab_type": "text",
    "id": "E75XoYSDb4V7"
   },
   "source": [
    "Lets try to evaluate the model on the test data, not used until now:"
   ]
  },
  {
   "cell_type": "code",
   "execution_count": 16,
   "metadata": {
    "colab": {
     "base_uri": "https://localhost:8080/",
     "height": 52
    },
    "colab_type": "code",
    "executionInfo": {
     "elapsed": 4778,
     "status": "ok",
     "timestamp": 1585004379727,
     "user": {
      "displayName": "Ekhi Zugasti Uriguen",
      "photoUrl": "https://lh3.googleusercontent.com/a-/AOh14GjLW21F9JMtJwfUDFcY2ROtJC3l1QPlGpvoN9Qy=s64",
      "userId": "00195558535022081217"
     },
     "user_tz": -60
    },
    "id": "O1TMRsOUb4V8",
    "outputId": "7747bbeb-e60f-4b3e-d693-517710517dd2"
   },
   "outputs": [
    {
     "name": "stdout",
     "output_type": "stream",
     "text": [
      "25000/25000 [==============================] - 2s 69us/sample - loss: 0.2812 - binary_accuracy: 0.8880\n"
     ]
    },
    {
     "data": {
      "text/plain": [
       "[0.2811827792167664, 0.88804]"
      ]
     },
     "execution_count": 16,
     "metadata": {},
     "output_type": "execute_result"
    }
   ],
   "source": [
    "results = red.evaluate(x_test, y_test)\n",
    "results"
   ]
  },
  {
   "cell_type": "markdown",
   "metadata": {
    "colab_type": "text",
    "id": "C6sfYDk8b4V_"
   },
   "source": [
    "We see that the very simple approach we have made achieves a fairly high accuracy, although the current state of the art for this problem is around 95%, but working on much more elaborate networks."
   ]
  },
  {
   "cell_type": "markdown",
   "metadata": {
    "colab_type": "text",
    "id": "Me0Q41WCb4WB"
   },
   "source": [
    "## Predicción sobre datos nuevos"
   ]
  },
  {
   "cell_type": "markdown",
   "metadata": {
    "colab_type": "text",
    "id": "UXZdq8TAb4WE"
   },
   "source": [
    "Having trained the network, the natural step is to use the model for something practical. We can generate new predictions about opinions to analyze whether they are positive or not using the predict method associated with the model:"
   ]
  },
  {
   "cell_type": "code",
   "execution_count": 17,
   "metadata": {
    "colab": {
     "base_uri": "https://localhost:8080/",
     "height": 139
    },
    "colab_type": "code",
    "executionInfo": {
     "elapsed": 2727,
     "status": "ok",
     "timestamp": 1585004490631,
     "user": {
      "displayName": "Ekhi Zugasti Uriguen",
      "photoUrl": "https://lh3.googleusercontent.com/a-/AOh14GjLW21F9JMtJwfUDFcY2ROtJC3l1QPlGpvoN9Qy=s64",
      "userId": "00195558535022081217"
     },
     "user_tz": -60
    },
    "id": "hzqC7VjOb4WF",
    "outputId": "20553ce0-a6a0-4586-a00d-18493daa14a5"
   },
   "outputs": [
    {
     "data": {
      "text/plain": [
       "array([[0.17209558],\n",
       "       [0.9989126 ],\n",
       "       [0.9223633 ],\n",
       "       ...,\n",
       "       [0.14107299],\n",
       "       [0.11583058],\n",
       "       [0.45367712]], dtype=float32)"
      ]
     },
     "execution_count": 17,
     "metadata": {},
     "output_type": "execute_result"
    }
   ],
   "source": [
    "red.predict(x_test)"
   ]
  },
  {
   "cell_type": "markdown",
   "metadata": {
    "colab_type": "text",
    "id": "FKiCP3-Wb4WK"
   },
   "source": [
    "We see that the model is very determining in some cases (reaching values like 0.99 or 0.01) but not so much in others (with values close to a medium, like 0.46)"
   ]
  },
  {
   "cell_type": "markdown",
   "metadata": {
    "colab_type": "text",
    "id": "Y8sqwHKjb4WL"
   },
   "source": [
    "## Proposed Work"
   ]
  },
  {
   "cell_type": "markdown",
   "metadata": {
    "colab_type": "text",
    "id": "YTvTz-bIb4WN"
   },
   "source": [
    "Easy small changes:\n",
    "- In the previous model we used 3 hidden layers... check the effect of increasing or decreasing this number on validation and test accuracy.\n",
    "- Change the number of units in the hidden layers (8, 32, 64,...) and measure their effect.\n",
    "- See what happens when you use mse as a loss function, instead of binary_crossentropy?\n",
    "- See what happens when using tanh activation instead of relu?"
   ]
  },
  {
   "cell_type": "markdown",
   "metadata": {
    "colab_type": "text",
    "id": "bGl1pRykpGXy"
   },
   "source": [
    "Use Hyperas for Parameter tunning:\n",
    "Select a fixed number of layers and let Hyperas select the best hyperparameters for all of them \n",
    "\n",
    "\n",
    "*   Number of neurons in each layer\n",
    "*   Activation function for each layer\n",
    "* Dropout value \n",
    "* optimizer\n",
    "* Batch size\n",
    "\n",
    "Is it possible to add or remove layers with hyperas?\n",
    "\n"
   ]
  },
  {
   "cell_type": "markdown",
   "metadata": {
    "colab_type": "text",
    "id": "znMP6jxSqosf"
   },
   "source": [
    "Hyperas is not currently installed in google colab, you can install it, executing the code:\n",
    "\n",
    "\n",
    "```\n",
    "!pip install hyperas\n",
    "```\n",
    "\n",
    "help for using Hyperas in colab: https://nilsschlueter.de/blog/articles/keras-hyperparameter-tuning-in-google-colab-using-hyperas/"
   ]
  },
  {
   "cell_type": "code",
   "execution_count": null,
   "metadata": {},
   "outputs": [],
   "source": []
  },
  {
   "cell_type": "markdown",
   "metadata": {},
   "source": [
    "## Easy small changes"
   ]
  },
  {
   "cell_type": "markdown",
   "metadata": {},
   "source": [
    "### In the previous model we used 3 hidden layers... check the effect of increasing or decreasing this number on validation and test accuracy."
   ]
  },
  {
   "cell_type": "code",
   "execution_count": 18,
   "metadata": {},
   "outputs": [
    {
     "name": "stdout",
     "output_type": "stream",
     "text": [
      "25000/25000 [==============================] - 2s 72us/sample - loss: 0.6405 - binary_accuracy: 0.8546\n"
     ]
    },
    {
     "data": {
      "text/plain": [
       "[0.6404572793865204, 0.85464]"
      ]
     },
     "execution_count": 18,
     "metadata": {},
     "output_type": "execute_result"
    }
   ],
   "source": [
    "# we try adding more hidden layers\n",
    "from tensorflow.keras import models\n",
    "from tensorflow.keras import layers\n",
    "from tensorflow.keras.utils import plot_model\n",
    "from tensorflow.keras.callbacks import EarlyStopping\n",
    "\n",
    "nn = models.Sequential([\n",
    "    layers.Dense(4, activation='relu', input_shape=(numwords,)),\n",
    "    layers.Dense(4, activation='relu'),\n",
    "    layers.Dense(4, activation='relu'),\n",
    "    layers.Dense(4, activation='relu'),\n",
    "    layers.Dense(4, activation='relu'),\n",
    "    layers.Dense(1, activation='sigmoid')\n",
    "])\n",
    "\n",
    "nn.compile(optimizer='rmsprop', loss='binary_crossentropy', metrics=['binary_accuracy'])\n",
    "\n",
    "EarlyStopping_CallBack = [EarlyStopping(monitor='val_loss', min_delta=0, patience=5, verbose=0, mode='auto', baseline=None)]\n",
    "nn.fit(partial_x_train, partial_y_train, callbacks=EarlyStopping_CallBack, epochs=500, batch_size=512, validation_data=(x_val, y_val), verbose=0)\n",
    "nn.evaluate(x_test, y_test)"
   ]
  },
  {
   "cell_type": "code",
   "execution_count": 19,
   "metadata": {},
   "outputs": [
    {
     "name": "stdout",
     "output_type": "stream",
     "text": [
      "25000/25000 [==============================] - 2s 73us/sample - loss: 0.4709 - binary_accuracy: 0.8633\n"
     ]
    },
    {
     "data": {
      "text/plain": [
       "[0.4708661760520935, 0.86332]"
      ]
     },
     "execution_count": 19,
     "metadata": {},
     "output_type": "execute_result"
    }
   ],
   "source": [
    "# we try decreasing hidden layers\n",
    "from tensorflow.keras import models\n",
    "from tensorflow.keras import layers\n",
    "from tensorflow.keras.utils import plot_model\n",
    "from tensorflow.keras.callbacks import EarlyStopping\n",
    "\n",
    "nn = models.Sequential([\n",
    "    layers.Dense(4, activation='relu', input_shape=(numwords,)),\n",
    "    layers.Dense(4, activation='relu'),\n",
    "    layers.Dense(1, activation='sigmoid')\n",
    "])\n",
    "\n",
    "nn.compile(optimizer='rmsprop', loss='binary_crossentropy', metrics=['binary_accuracy'])\n",
    "\n",
    "EarlyStopping_CallBack = [EarlyStopping(monitor='val_loss', min_delta=0, patience=5, verbose=0, mode='auto', baseline=None)]\n",
    "nn.fit(partial_x_train, partial_y_train, callbacks=EarlyStopping_CallBack, epochs=500, batch_size=512, validation_data=(x_val, y_val), verbose=0)\n",
    "nn.evaluate(x_test, y_test)"
   ]
  },
  {
   "cell_type": "markdown",
   "metadata": {},
   "source": [
    "### Change the number of units in the hidden layers (8, 32, 64,...) and measure their effect."
   ]
  },
  {
   "cell_type": "code",
   "execution_count": 20,
   "metadata": {},
   "outputs": [
    {
     "name": "stdout",
     "output_type": "stream",
     "text": [
      "25000/25000 [==============================] - 2s 71us/sample - loss: 0.3658 - binary_accuracy: 0.8721\n"
     ]
    },
    {
     "data": {
      "text/plain": [
       "[0.3657976244997978, 0.87208]"
      ]
     },
     "execution_count": 20,
     "metadata": {},
     "output_type": "execute_result"
    }
   ],
   "source": [
    "from tensorflow.keras import models\n",
    "from tensorflow.keras import layers\n",
    "from tensorflow.keras.utils import plot_model\n",
    "from tensorflow.keras.callbacks import EarlyStopping\n",
    "\n",
    "nn = models.Sequential([\n",
    "    layers.Dense(8, activation='relu', input_shape=(numwords,)),\n",
    "    layers.Dense(8, activation='relu'),\n",
    "    layers.Dense(8, activation='relu'),\n",
    "    layers.Dense(1, activation='sigmoid')\n",
    "])\n",
    "\n",
    "nn.compile(optimizer='rmsprop', loss='binary_crossentropy', metrics=['binary_accuracy'])\n",
    "\n",
    "EarlyStopping_CallBack = [EarlyStopping(monitor='val_loss', min_delta=0, patience=5, verbose=0, mode='auto', baseline=None)]\n",
    "nn.fit(partial_x_train, partial_y_train, callbacks=EarlyStopping_CallBack, epochs=500, batch_size=512, validation_data=(x_val, y_val), verbose=0)\n",
    "nn.evaluate(x_test, y_test)"
   ]
  },
  {
   "cell_type": "code",
   "execution_count": 21,
   "metadata": {},
   "outputs": [
    {
     "name": "stdout",
     "output_type": "stream",
     "text": [
      "25000/25000 [==============================] - 2s 71us/sample - loss: 0.4658 - binary_accuracy: 0.8705\n"
     ]
    },
    {
     "data": {
      "text/plain": [
       "[0.4657591793489456, 0.87048]"
      ]
     },
     "execution_count": 21,
     "metadata": {},
     "output_type": "execute_result"
    }
   ],
   "source": [
    "from tensorflow.keras import models\n",
    "from tensorflow.keras import layers\n",
    "from tensorflow.keras.utils import plot_model\n",
    "from tensorflow.keras.callbacks import EarlyStopping\n",
    "\n",
    "nn = models.Sequential([\n",
    "    layers.Dense(64, activation='relu', input_shape=(numwords,)),\n",
    "    layers.Dense(64, activation='relu'),\n",
    "    layers.Dense(64, activation='relu'),\n",
    "    layers.Dense(1, activation='sigmoid')\n",
    "])\n",
    "\n",
    "nn.compile(optimizer='rmsprop', loss='binary_crossentropy', metrics=['binary_accuracy'])\n",
    "\n",
    "EarlyStopping_CallBack = [EarlyStopping(monitor='val_loss', min_delta=0, patience=5, verbose=0, mode='auto', baseline=None)]\n",
    "nn.fit(partial_x_train, partial_y_train, callbacks=EarlyStopping_CallBack, epochs=500, batch_size=512, validation_data=(x_val, y_val), verbose=0)\n",
    "nn.evaluate(x_test, y_test)"
   ]
  },
  {
   "cell_type": "markdown",
   "metadata": {},
   "source": [
    "### See what happens when you use mse as a loss function, instead of binary_crossentropy?"
   ]
  },
  {
   "cell_type": "code",
   "execution_count": 22,
   "metadata": {},
   "outputs": [
    {
     "name": "stdout",
     "output_type": "stream",
     "text": [
      "25000/25000 [==============================] - 2s 70us/sample - loss: 0.1111 - binary_accuracy: 0.8667\n"
     ]
    },
    {
     "data": {
      "text/plain": [
       "[0.11108997273370623, 0.86668]"
      ]
     },
     "execution_count": 22,
     "metadata": {},
     "output_type": "execute_result"
    }
   ],
   "source": [
    "from tensorflow.keras import models\n",
    "from tensorflow.keras import layers\n",
    "from tensorflow.keras.utils import plot_model\n",
    "from tensorflow.keras.callbacks import EarlyStopping\n",
    "\n",
    "nn = models.Sequential([\n",
    "    layers.Dense(64, activation='relu', input_shape=(numwords,)),\n",
    "    layers.Dense(64, activation='relu'),\n",
    "    layers.Dense(64, activation='relu'),\n",
    "    layers.Dense(1, activation='sigmoid')\n",
    "])\n",
    "\n",
    "nn.compile(optimizer='rmsprop', loss='mean_squared_error', metrics=['binary_accuracy'])\n",
    "\n",
    "EarlyStopping_CallBack = [EarlyStopping(monitor='val_loss', min_delta=0, patience=5, verbose=0, mode='auto', baseline=None)]\n",
    "nn.fit(partial_x_train, partial_y_train, callbacks=EarlyStopping_CallBack, epochs=500, batch_size=512, validation_data=(x_val, y_val), verbose=0)\n",
    "nn.evaluate(x_test, y_test)"
   ]
  },
  {
   "cell_type": "markdown",
   "metadata": {},
   "source": [
    "### See what happens when using tanh activation instead of relu?"
   ]
  },
  {
   "cell_type": "code",
   "execution_count": 23,
   "metadata": {},
   "outputs": [
    {
     "name": "stdout",
     "output_type": "stream",
     "text": [
      "25000/25000 [==============================] - 2s 71us/sample - loss: 0.6345 - binary_accuracy: 0.8168\n"
     ]
    },
    {
     "data": {
      "text/plain": [
       "[0.6345494931411744, 0.8168]"
      ]
     },
     "execution_count": 23,
     "metadata": {},
     "output_type": "execute_result"
    }
   ],
   "source": [
    "from tensorflow.keras import models\n",
    "from tensorflow.keras import layers\n",
    "from tensorflow.keras.utils import plot_model\n",
    "from tensorflow.keras.callbacks import EarlyStopping\n",
    "\n",
    "nn = models.Sequential([\n",
    "    layers.Dense(64, activation='tanh', input_shape=(numwords,)),\n",
    "    layers.Dense(64, activation='tanh'),\n",
    "    layers.Dense(64, activation='tanh'),\n",
    "    layers.Dense(1, activation='sigmoid')\n",
    "])\n",
    "\n",
    "nn.compile(optimizer='rmsprop', loss='binary_crossentropy', metrics=['binary_accuracy'])\n",
    "\n",
    "EarlyStopping_CallBack = [EarlyStopping(monitor='val_loss', min_delta=0, patience=5, verbose=0, mode='auto', baseline=None)]\n",
    "nn.fit(partial_x_train, partial_y_train, callbacks=EarlyStopping_CallBack, epochs=500, batch_size=512, validation_data=(x_val, y_val), verbose=0)\n",
    "nn.evaluate(x_test, y_test)"
   ]
  },
  {
   "cell_type": "markdown",
   "metadata": {},
   "source": [
    "## Hyperas"
   ]
  },
  {
   "cell_type": "code",
   "execution_count": 38,
   "metadata": {},
   "outputs": [],
   "source": [
    "import numpy as np\n",
    "from tensorflow.keras.datasets import imdb\n",
    "from tensorflow.keras import models, layers\n",
    "from hyperopt import STATUS_OK\n",
    "from hyperas.distributions import uniform, choice\n",
    "\n",
    "def data():\n",
    "    (train_data, train_labels), (test_data, test_labels) = imdb.load_data(num_words=10000)\n",
    "    \n",
    "    def nested_vectorize_sequences(sequences, dimension=10000):\n",
    "        results = np.zeros((len(sequences), dimension))\n",
    "        for i, sequence in enumerate(sequences):\n",
    "            results[i, sequence] = 1.  \n",
    "        return results    \n",
    "    \n",
    "    x_train = nested_vectorize_sequences(train_data)\n",
    "    x_test = nested_vectorize_sequences(test_data)\n",
    "    y_train = np.asarray(train_labels).astype('float32')\n",
    "    y_test = np.asarray(test_labels).astype('float32')\n",
    "    \n",
    "    return x_train, y_train, x_test, y_test\n",
    "\n",
    "def model(x_train, y_train, x_test, y_test):\n",
    "    nn = models.Sequential([\n",
    "        layers.Dense(64, activation={{choice(['relu', 'softmax'])}}, input_shape=(10000,)),\n",
    "        layers.Dropout({{uniform(0.2, 0.5)}}),\n",
    "        layers.Dense(64, {{choice(['relu', 'softmax'])}}),\n",
    "        layers.Dropout({{uniform(0.2, 0.5)}}),\n",
    "        layers.Dense(1, activation={{choice(['relu', 'sigmoid'])}})\n",
    "    ])\n",
    "    nn.compile(optimizer={{choice(['rmsprop', 'adam'])}}, loss='binary_crossentropy', metrics=['binary_accuracy'])\n",
    "    nn.fit(x_train, y_train, \n",
    "           epochs=10, \n",
    "           batch_size={{choice([256, 512])}}, \n",
    "           validation_data=(x_test, y_test), \n",
    "           verbose=0)    \n",
    "    score, acc = nn.evaluate(x_test, y_test, verbose=0)\n",
    "    print('Test accuracy:', acc)\n",
    "    return {'loss': -acc, 'status': STATUS_OK, 'model': nn}  \n",
    "    "
   ]
  },
  {
   "cell_type": "code",
   "execution_count": 39,
   "metadata": {},
   "outputs": [
    {
     "name": "stdout",
     "output_type": "stream",
     "text": [
      ">>> Imports:\n",
      "#coding=utf-8\n",
      "\n",
      "try:\n",
      "    from tensorflow.keras.datasets import imdb\n",
      "except:\n",
      "    pass\n",
      "\n",
      "try:\n",
      "    import pandas as pd\n",
      "except:\n",
      "    pass\n",
      "\n",
      "try:\n",
      "    import numpy as np\n",
      "except:\n",
      "    pass\n",
      "\n",
      "try:\n",
      "    from tensorflow.keras import models\n",
      "except:\n",
      "    pass\n",
      "\n",
      "try:\n",
      "    from tensorflow.keras import layers\n",
      "except:\n",
      "    pass\n",
      "\n",
      "try:\n",
      "    from tensorflow.keras.utils import plot_model\n",
      "except:\n",
      "    pass\n",
      "\n",
      "try:\n",
      "    from tensorflow.keras import optimizers\n",
      "except:\n",
      "    pass\n",
      "\n",
      "try:\n",
      "    from sklearn.model_selection import train_test_split\n",
      "except:\n",
      "    pass\n",
      "\n",
      "try:\n",
      "    from tensorflow.keras.callbacks import EarlyStopping\n",
      "except:\n",
      "    pass\n",
      "\n",
      "try:\n",
      "    import matplotlib.pyplot as plt\n",
      "except:\n",
      "    pass\n",
      "\n",
      "try:\n",
      "    from tensorflow.keras import models\n",
      "except:\n",
      "    pass\n",
      "\n",
      "try:\n",
      "    from tensorflow.keras import layers\n",
      "except:\n",
      "    pass\n",
      "\n",
      "try:\n",
      "    from tensorflow.keras.utils import plot_model\n",
      "except:\n",
      "    pass\n",
      "\n",
      "try:\n",
      "    from tensorflow.keras.callbacks import EarlyStopping\n",
      "except:\n",
      "    pass\n",
      "\n",
      "try:\n",
      "    from tensorflow.keras import models\n",
      "except:\n",
      "    pass\n",
      "\n",
      "try:\n",
      "    from tensorflow.keras import layers\n",
      "except:\n",
      "    pass\n",
      "\n",
      "try:\n",
      "    from tensorflow.keras.utils import plot_model\n",
      "except:\n",
      "    pass\n",
      "\n",
      "try:\n",
      "    from tensorflow.keras.callbacks import EarlyStopping\n",
      "except:\n",
      "    pass\n",
      "\n",
      "try:\n",
      "    from tensorflow.keras import models\n",
      "except:\n",
      "    pass\n",
      "\n",
      "try:\n",
      "    from tensorflow.keras import layers\n",
      "except:\n",
      "    pass\n",
      "\n",
      "try:\n",
      "    from tensorflow.keras.utils import plot_model\n",
      "except:\n",
      "    pass\n",
      "\n",
      "try:\n",
      "    from tensorflow.keras.callbacks import EarlyStopping\n",
      "except:\n",
      "    pass\n",
      "\n",
      "try:\n",
      "    from tensorflow.keras import models\n",
      "except:\n",
      "    pass\n",
      "\n",
      "try:\n",
      "    from tensorflow.keras import layers\n",
      "except:\n",
      "    pass\n",
      "\n",
      "try:\n",
      "    from tensorflow.keras.utils import plot_model\n",
      "except:\n",
      "    pass\n",
      "\n",
      "try:\n",
      "    from tensorflow.keras.callbacks import EarlyStopping\n",
      "except:\n",
      "    pass\n",
      "\n",
      "try:\n",
      "    from tensorflow.keras import models\n",
      "except:\n",
      "    pass\n",
      "\n",
      "try:\n",
      "    from tensorflow.keras import layers\n",
      "except:\n",
      "    pass\n",
      "\n",
      "try:\n",
      "    from tensorflow.keras.utils import plot_model\n",
      "except:\n",
      "    pass\n",
      "\n",
      "try:\n",
      "    from tensorflow.keras.callbacks import EarlyStopping\n",
      "except:\n",
      "    pass\n",
      "\n",
      "try:\n",
      "    from tensorflow.keras import models\n",
      "except:\n",
      "    pass\n",
      "\n",
      "try:\n",
      "    from tensorflow.keras import layers\n",
      "except:\n",
      "    pass\n",
      "\n",
      "try:\n",
      "    from tensorflow.keras.utils import plot_model\n",
      "except:\n",
      "    pass\n",
      "\n",
      "try:\n",
      "    from tensorflow.keras.callbacks import EarlyStopping\n",
      "except:\n",
      "    pass\n",
      "\n",
      "try:\n",
      "    import numpy as np\n",
      "except:\n",
      "    pass\n",
      "\n",
      "try:\n",
      "    from tensorflow.keras.datasets import imdb\n",
      "except:\n",
      "    pass\n",
      "\n",
      "try:\n",
      "    from tensorflow.keras import models, layers\n",
      "except:\n",
      "    pass\n",
      "\n",
      "try:\n",
      "    from hyperopt import STATUS_OK\n",
      "except:\n",
      "    pass\n",
      "\n",
      "try:\n",
      "    from hyperas.distributions import uniform, choice\n",
      "except:\n",
      "    pass\n",
      "\n",
      "try:\n",
      "    from hyperopt import Trials, STATUS_OK, tpe\n",
      "except:\n",
      "    pass\n",
      "\n",
      "try:\n",
      "    from hyperas import optim\n",
      "except:\n",
      "    pass\n",
      "\n",
      ">>> Hyperas search space:\n",
      "\n",
      "def get_space():\n",
      "    return {\n",
      "        'activation': hp.choice('activation', ['relu', 'softmax']),\n",
      "        'Dropout': hp.uniform('Dropout', 0.2, 0.5),\n",
      "        'activation_1': hp.choice('activation_1', ['relu', 'softmax']),\n",
      "        'Dropout_1': hp.uniform('Dropout_1', 0.2, 0.5),\n",
      "        'activation_2': hp.choice('activation_2', ['relu', 'sigmoid']),\n",
      "        'optimizer': hp.choice('optimizer', ['rmsprop', 'adam']),\n",
      "        'batch_size': hp.choice('batch_size', [256, 512]),\n",
      "    }\n",
      "\n",
      ">>> Data\n",
      "  1: \n",
      "  2: (train_data, train_labels), (test_data, test_labels) = imdb.load_data(num_words=10000)\n",
      "  3: \n",
      "  4: def nested_vectorize_sequences(sequences, dimension=10000):\n",
      "  5:     results = np.zeros((len(sequences), dimension))\n",
      "  6:     for i, sequence in enumerate(sequences):\n",
      "  7:         results[i, sequence] = 1.  \n",
      "  8:     return results    \n",
      "  9: \n",
      " 10: x_train = nested_vectorize_sequences(train_data)\n",
      " 11: x_test = nested_vectorize_sequences(test_data)\n",
      " 12: y_train = np.asarray(train_labels).astype('float32')\n",
      " 13: y_test = np.asarray(test_labels).astype('float32')\n",
      " 14: \n",
      " 15: \n",
      " 16: \n",
      " 17: \n",
      ">>> Resulting replaced keras model:\n",
      "\n",
      "  1: def keras_fmin_fnct(space):\n",
      "  2: \n",
      "  3:     nn = models.Sequential([\n",
      "  4:         layers.Dense(64, activation=space['activation'], input_shape=(10000,)),\n",
      "  5:         layers.Dropout(space['Dropout']),\n",
      "  6:         layers.Dense(64, space['activation_1']),\n",
      "  7:         layers.Dropout(space['Dropout_1']),\n",
      "  8:         layers.Dense(1, activation=space['activation_2'])\n",
      "  9:     ])\n",
      " 10:     nn.compile(optimizer=space['optimizer'], loss='binary_crossentropy', metrics=['binary_accuracy'])\n",
      " 11:     nn.fit(x_train, y_train, \n",
      " 12:            epochs=10, \n",
      " 13:            batch_size=space['batch_size'], \n",
      " 14:            validation_data=(x_test, y_test), \n",
      " 15:            verbose=0)    \n",
      " 16:     score, acc = nn.evaluate(x_test, y_test, verbose=0)\n",
      " 17:     print('Test accuracy:', acc)\n",
      " 18:     return {'loss': -acc, 'status': STATUS_OK, 'model': nn}  \n",
      " 19: \n",
      "Test accuracy:                                                                                                                                      \n",
      "0.88748                                                                                                                                             \n",
      "Test accuracy:                                                                                                                                      \n",
      "0.8578                                                                                                                                              \n",
      "Test accuracy:                                                                                                                                      \n",
      "0.88284                                                                                                                                             \n",
      "Test accuracy:                                                                                                                                      \n",
      "0.8882                                                                                                                                              \n",
      "Test accuracy:                                                                                                                                      \n",
      "0.87556                                                                                                                                             \n",
      "100%|██████████████████████████████████████████████████████████████████████████████| 5/5 [01:32<00:00, 18.57s/trial, best loss: -0.8881999850273132]\n",
      "Evalutation of best performing model:\n",
      "25000/25000 [==============================] - 2s 70us/sample - loss: 0.5384 - binary_accuracy: 0.8882\n",
      "[0.53836594039917, 0.8882]\n",
      "Best performing model chosen hyper-parameters:\n",
      "{'Dropout': 0.23518926573813273, 'Dropout_1': 0.45332732297021894, 'activation': 1, 'activation_1': 1, 'activation_2': 1, 'batch_size': 1, 'optimizer': 1}\n"
     ]
    }
   ],
   "source": [
    "from hyperopt import Trials, STATUS_OK, tpe\n",
    "from hyperas import optim\n",
    "\n",
    "best_run, best_model = optim.minimize(\n",
    "    model=model, \n",
    "    data=data, \n",
    "    max_evals=5, \n",
    "    algo=tpe.suggest, \n",
    "    notebook_name='SentimentAnalysisExample+exercise', \n",
    "    trials=Trials()\n",
    ")\n",
    "\n",
    "X_train, Y_train, X_test, Y_test = data()\n",
    "print(\"Evalutation of best performing model:\")\n",
    "print(best_model.evaluate(x_test, y_test))\n",
    "print(\"Best performing model chosen hyper-parameters:\")\n",
    "print(best_run)"
   ]
  },
  {
   "cell_type": "code",
   "execution_count": null,
   "metadata": {},
   "outputs": [],
   "source": []
  }
 ],
 "metadata": {
  "colab": {
   "name": "SentimentAnalysisExample+exercise.ipynb",
   "provenance": [
    {
     "file_id": "1ZL0FstT3_lcGoFIYk6ZqKBfdQIs7x1uf",
     "timestamp": 1585007864366
    }
   ]
  },
  "kernelspec": {
   "display_name": "Python 3",
   "language": "python",
   "name": "python3"
  },
  "language_info": {
   "codemirror_mode": {
    "name": "ipython",
    "version": 3
   },
   "file_extension": ".py",
   "mimetype": "text/x-python",
   "name": "python",
   "nbconvert_exporter": "python",
   "pygments_lexer": "ipython3",
   "version": "3.7.7"
  }
 },
 "nbformat": 4,
 "nbformat_minor": 4
}
