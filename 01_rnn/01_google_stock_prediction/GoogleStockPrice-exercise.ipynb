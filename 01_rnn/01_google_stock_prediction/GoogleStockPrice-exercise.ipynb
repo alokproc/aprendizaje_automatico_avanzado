{
 "cells": [
  {
   "cell_type": "markdown",
   "metadata": {
    "colab_type": "text",
    "id": "b46897WqUF5p"
   },
   "source": [
    "# Recurrent Neural Networks"
   ]
  },
  {
   "cell_type": "markdown",
   "metadata": {
    "colab_type": "text",
    "id": "xbPcDjv_UNre"
   },
   "source": [
    "## Part 1: Preprocess the data.\n",
    "In the csv files, you will find several columns. you only need the \"close\" column for this exercise\n",
    "\n",
    "\n",
    "reshape the data! see examples"
   ]
  },
  {
   "cell_type": "code",
   "execution_count": null,
   "metadata": {
    "colab": {},
    "colab_type": "code",
    "id": "Zp2Fl7aJMNGi"
   },
   "outputs": [],
   "source": [
    "# Part 1 - Data Preprocessing\n",
    "\n",
    "# Importing the libraries\n",
    "\n",
    "\n",
    "# Importing the training set\n",
    "\n",
    "\n",
    "# Creating a data structure with 30 timesteps and 1 output\n",
    "\n",
    "\n",
    "# Reshaping [samples,timesteps,features]\n",
    "# remember: samples: how many observations you have\n",
    "#           timesteps: how long does the rnn remember (30 in our case)\n",
    "#           features: how many variables (1 in our case)\n"
   ]
  },
  {
   "cell_type": "code",
   "execution_count": 2,
   "metadata": {},
   "outputs": [],
   "source": [
    "import numpy as np\n",
    "import pandas as pd"
   ]
  },
  {
   "cell_type": "code",
   "execution_count": 3,
   "metadata": {},
   "outputs": [
    {
     "name": "stdout",
     "output_type": "stream",
     "text": [
      "(1258,)\n",
      "(50,)\n"
     ]
    }
   ],
   "source": [
    "# train\n",
    "df_train = pd.read_csv('Google_Stock_Price_Train.csv')\n",
    "close_train = df_train['Close']\n",
    "close_train = close_train.astype(str).str.replace(',', '')\n",
    "close_train = pd.to_numeric(close_train)\n",
    "\n",
    "# test\n",
    "df_test = pd.read_csv('Google_Stock_Price_Test.csv')\n",
    "close_test = df_test['Close']\n",
    "close_test = close_test.astype(str).str.replace(',', '')\n",
    "close_test = pd.to_numeric(close_test)\n",
    "close_test = np.concatenate([np.zeros(30), close_test])\n",
    "\n",
    "# normalize data\n",
    "mean = close_train.mean()\n",
    "stdv = close_train.std()\n",
    "close_train = (close_train - mean) / stdv\n",
    "close_test = (close_test - mean) / stdv\n",
    "\n",
    "# print shapes\n",
    "print(close_train.shape)\n",
    "print(close_test.shape)"
   ]
  },
  {
   "cell_type": "code",
   "execution_count": 4,
   "metadata": {},
   "outputs": [
    {
     "name": "stdout",
     "output_type": "stream",
     "text": [
      "[[-0.29789921 -0.28053984 -0.33662394 ... -0.65807564 -0.62001857\n",
      "  -0.63476796]\n",
      " [-0.28053984 -0.33662394 -0.39106921 ... -0.62001857 -0.63476796\n",
      "  -0.66020003]\n",
      " [-0.33662394 -0.39106921 -0.55786477 ... -0.63476796 -0.66020003\n",
      "  -0.65437312]\n",
      " ...\n",
      " [ 0.14209387  0.27811601  0.31447356 ...  0.47702032  0.46882622\n",
      "   0.47878054]\n",
      " [ 0.27811601  0.31447356  0.35544408 ...  0.46882622  0.47878054\n",
      "   0.43932744]\n",
      " [ 0.31447356  0.35544408  0.29055891 ...  0.47878054  0.43932744\n",
      "   0.4256099 ]]\n",
      "(1228, 30) \n",
      "\n",
      "[-0.66020003 -0.65437312 -0.66578417 ...  0.43932744  0.4256099\n",
      "  0.35902521]\n",
      "(1228,) \n",
      "\n"
     ]
    }
   ],
   "source": [
    "# split a univariate sequence into samples\n",
    "def split_sequence(sequence, n_steps):\n",
    "    X, y = list(), list()\n",
    "    for i in range(len(sequence)):\n",
    "        # find the end of this pattern\n",
    "        end_ix = i + n_steps\n",
    "        # check if we are beyond the sequence\n",
    "        if end_ix > len(sequence)-1:\n",
    "            break\n",
    "        # gather input and output parts of the pattern\n",
    "        seq_x, seq_y = sequence[i:end_ix], sequence[end_ix]\n",
    "        X.append(seq_x)\n",
    "        y.append(seq_y)\n",
    "    return np.array(X), np.array(y)\n",
    "\n",
    "X_train, Y_train = split_sequence(close_train, 30)\n",
    "print(X_train)\n",
    "print(X_train.shape, '\\n')\n",
    "print(Y_train)\n",
    "print(Y_train.shape, '\\n')"
   ]
  },
  {
   "cell_type": "code",
   "execution_count": 5,
   "metadata": {},
   "outputs": [],
   "source": [
    "# reshape from [samples, timesteps] into [samples, timesteps, features]\n",
    "n_samples = X_train.shape[0] # 1228\n",
    "n_steps = X_train.shape[1] # 30\n",
    "n_features = 1 # \"close\" column\n",
    "\n",
    "X_train = X_train.reshape((n_samples, n_steps, n_features))"
   ]
  },
  {
   "cell_type": "code",
   "execution_count": 6,
   "metadata": {},
   "outputs": [],
   "source": [
    "# https://www.tensorflow.org/tutorials/structured_data/time_series\n",
    "# https://machinelearningmastery.com/how-to-develop-lstm-models-for-time-series-forecasting/"
   ]
  },
  {
   "cell_type": "code",
   "execution_count": 7,
   "metadata": {},
   "outputs": [],
   "source": [
    "from sklearn.model_selection import train_test_split\n",
    "\n",
    "X_train, X_val, y_train, y_val = train_test_split(X_train, Y_train, test_size=0.20, random_state=42)"
   ]
  },
  {
   "cell_type": "markdown",
   "metadata": {
    "colab_type": "text",
    "id": "YJVFwheNZA0x"
   },
   "source": [
    "## part 2: model building\n",
    "Build The RNN, you can use LSTM or GRU"
   ]
  },
  {
   "cell_type": "code",
   "execution_count": 8,
   "metadata": {
    "colab": {},
    "colab_type": "code",
    "id": "cYsW6xAlMNGw"
   },
   "outputs": [],
   "source": [
    "# Part 2 - Building the RNN\n",
    "\n",
    "# Importing the Keras libraries and packages\n",
    "\n",
    "\n",
    "# Initialising the RNN\n",
    "\n",
    "\n",
    "# Compiling the RNN\n",
    "\n",
    "# Fitting the RNN to the Training set\n"
   ]
  },
  {
   "cell_type": "code",
   "execution_count": 9,
   "metadata": {},
   "outputs": [
    {
     "name": "stderr",
     "output_type": "stream",
     "text": [
      "Using TensorFlow backend.\n"
     ]
    }
   ],
   "source": [
    "from keras import models, layers"
   ]
  },
  {
   "cell_type": "markdown",
   "metadata": {},
   "source": [
    "#### LSTM"
   ]
  },
  {
   "cell_type": "code",
   "execution_count": 10,
   "metadata": {},
   "outputs": [
    {
     "name": "stdout",
     "output_type": "stream",
     "text": [
      "Model: \"sequential_1\"\n",
      "_________________________________________________________________\n",
      "Layer (type)                 Output Shape              Param #   \n",
      "=================================================================\n",
      "lstm_1 (LSTM)                (None, 32)                4352      \n",
      "_________________________________________________________________\n",
      "dense_1 (Dense)              (None, 1)                 33        \n",
      "=================================================================\n",
      "Total params: 4,385\n",
      "Trainable params: 4,385\n",
      "Non-trainable params: 0\n",
      "_________________________________________________________________\n",
      "None\n"
     ]
    }
   ],
   "source": [
    "lstm_model = models.Sequential([\n",
    "    layers.LSTM(32, input_shape=X_train.shape[-2:]),\n",
    "    layers.Dense(1)\n",
    "])\n",
    "print(lstm_model.summary())"
   ]
  },
  {
   "cell_type": "code",
   "execution_count": 11,
   "metadata": {},
   "outputs": [
    {
     "name": "stdout",
     "output_type": "stream",
     "text": [
      "Train on 982 samples, validate on 246 samples\n",
      "Epoch 1/20\n",
      "982/982 [==============================] - 1s 987us/step - loss: 0.3313 - val_loss: 0.1310\n",
      "Epoch 2/20\n",
      "982/982 [==============================] - 1s 541us/step - loss: 0.0783 - val_loss: 0.0872\n",
      "Epoch 3/20\n",
      "982/982 [==============================] - 1s 525us/step - loss: 0.0550 - val_loss: 0.0548\n",
      "Epoch 4/20\n",
      "982/982 [==============================] - 1s 530us/step - loss: 0.0457 - val_loss: 0.0472\n",
      "Epoch 5/20\n",
      "982/982 [==============================] - 1s 529us/step - loss: 0.0417 - val_loss: 0.0353\n",
      "Epoch 6/20\n",
      "982/982 [==============================] - 1s 540us/step - loss: 0.0393 - val_loss: 0.0285\n",
      "Epoch 7/20\n",
      "982/982 [==============================] - 1s 533us/step - loss: 0.0369 - val_loss: 0.0214\n",
      "Epoch 8/20\n",
      "982/982 [==============================] - 1s 538us/step - loss: 0.0346 - val_loss: 0.0200\n",
      "Epoch 9/20\n",
      "982/982 [==============================] - 1s 525us/step - loss: 0.0323 - val_loss: 0.0161\n",
      "Epoch 10/20\n",
      "982/982 [==============================] - 1s 530us/step - loss: 0.0306 - val_loss: 0.0135\n",
      "Epoch 11/20\n",
      "982/982 [==============================] - 1s 538us/step - loss: 0.0294 - val_loss: 0.0125\n",
      "Epoch 12/20\n",
      "982/982 [==============================] - 1s 541us/step - loss: 0.0268 - val_loss: 0.0114\n",
      "Epoch 13/20\n",
      "982/982 [==============================] - 1s 541us/step - loss: 0.0263 - val_loss: 0.0104\n",
      "Epoch 14/20\n",
      "982/982 [==============================] - 1s 541us/step - loss: 0.0259 - val_loss: 0.0089\n",
      "Epoch 15/20\n",
      "982/982 [==============================] - 1s 537us/step - loss: 0.0246 - val_loss: 0.0087\n",
      "Epoch 16/20\n",
      "982/982 [==============================] - 1s 542us/step - loss: 0.0239 - val_loss: 0.0082\n",
      "Epoch 17/20\n",
      "982/982 [==============================] - 1s 530us/step - loss: 0.0224 - val_loss: 0.0083\n",
      "Epoch 18/20\n",
      "982/982 [==============================] - 1s 540us/step - loss: 0.0219 - val_loss: 0.0100\n",
      "Epoch 19/20\n",
      "982/982 [==============================] - 1s 538us/step - loss: 0.0206 - val_loss: 0.0081\n",
      "Epoch 20/20\n",
      "982/982 [==============================] - 1s 555us/step - loss: 0.0209 - val_loss: 0.0079\n"
     ]
    }
   ],
   "source": [
    "lstm_model.compile(optimizer='rmsprop', loss='mse')\n",
    "\n",
    "history = lstm_model.fit(X_train, y_train, epochs=20, validation_data=(X_val, y_val))"
   ]
  },
  {
   "cell_type": "markdown",
   "metadata": {
    "colab_type": "text",
    "id": "i4CJcwf6ZaCD"
   },
   "source": [
    "## Part 3: Making Predictions\n",
    "make predictions in the Test dataset"
   ]
  },
  {
   "cell_type": "code",
   "execution_count": 12,
   "metadata": {
    "colab": {},
    "colab_type": "code",
    "id": "A3yRQGt_MNG-"
   },
   "outputs": [],
   "source": [
    "X_train, Y_train = split_sequence(close_test, 30)\n",
    "\n",
    "# reshape from [samples, timesteps] into [samples, timesteps, features]\n",
    "n_samples = X_train.shape[0]\n",
    "n_steps = X_train.shape[1] # 30\n",
    "n_features = 1 # \"close\" column\n",
    "\n",
    "X_train = X_train.reshape((n_samples, n_steps, n_features))"
   ]
  },
  {
   "cell_type": "code",
   "execution_count": 13,
   "metadata": {
    "colab": {},
    "colab_type": "code",
    "id": "kZFthMDbMNHH"
   },
   "outputs": [
    {
     "name": "stdout",
     "output_type": "stream",
     "text": [
      "20/20 [==============================] - 0s 249us/step\n"
     ]
    },
    {
     "data": {
      "text/plain": [
       "1.3627281188964844"
      ]
     },
     "execution_count": 13,
     "metadata": {},
     "output_type": "execute_result"
    }
   ],
   "source": [
    "lstm_model.evaluate(X_train, Y_train)"
   ]
  }
 ],
 "metadata": {
  "colab": {
   "name": "GoogleStockPrice-exercise.ipynb",
   "provenance": []
  },
  "kernelspec": {
   "display_name": "Python 3",
   "language": "python",
   "name": "python3"
  },
  "language_info": {
   "codemirror_mode": {
    "name": "ipython",
    "version": 3
   },
   "file_extension": ".py",
   "mimetype": "text/x-python",
   "name": "python",
   "nbconvert_exporter": "python",
   "pygments_lexer": "ipython3",
   "version": "3.7.7"
  }
 },
 "nbformat": 4,
 "nbformat_minor": 4
}
