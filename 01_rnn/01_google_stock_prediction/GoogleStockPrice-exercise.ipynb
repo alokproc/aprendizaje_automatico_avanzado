{
 "cells": [
  {
   "cell_type": "markdown",
   "metadata": {
    "colab_type": "text",
    "id": "b46897WqUF5p"
   },
   "source": [
    "# Recurrent Neural Networks"
   ]
  },
  {
   "cell_type": "markdown",
   "metadata": {
    "colab_type": "text",
    "id": "xbPcDjv_UNre"
   },
   "source": [
    "## Part 1: Preprocess the data.\n",
    "In the csv files, you will find several columns. you only need the \"close\" column for this exercise\n",
    "\n",
    "\n",
    "reshape the data! see examples"
   ]
  },
  {
   "cell_type": "code",
   "execution_count": null,
   "metadata": {
    "colab": {},
    "colab_type": "code",
    "id": "Zp2Fl7aJMNGi"
   },
   "outputs": [],
   "source": [
    "# Part 1 - Data Preprocessing\n",
    "\n",
    "# Importing the libraries\n",
    "\n",
    "\n",
    "# Importing the training set\n",
    "\n",
    "\n",
    "# Creating a data structure with 30 timesteps and 1 output\n",
    "\n",
    "\n",
    "# Reshaping [samples,timesteps,features]\n",
    "# remember: samples: how many observations you have\n",
    "#           timesteps: how long does the rnn remember (30 in our case)\n",
    "#           features: how many variables (1 in our case)\n"
   ]
  },
  {
   "cell_type": "markdown",
   "metadata": {
    "colab_type": "text",
    "id": "YJVFwheNZA0x"
   },
   "source": [
    "## part 2: model building\n",
    "Build The RNN, you can use LSTM or GRU"
   ]
  },
  {
   "cell_type": "code",
   "execution_count": null,
   "metadata": {
    "colab": {},
    "colab_type": "code",
    "id": "cYsW6xAlMNGw"
   },
   "outputs": [],
   "source": [
    "# Part 2 - Building the RNN\n",
    "\n",
    "# Importing the Keras libraries and packages\n",
    "\n",
    "\n",
    "# Initialising the RNN\n",
    "\n",
    "\n",
    "# Compiling the RNN\n",
    "\n",
    "# Fitting the RNN to the Training set\n"
   ]
  },
  {
   "cell_type": "markdown",
   "metadata": {
    "colab_type": "text",
    "id": "i4CJcwf6ZaCD"
   },
   "source": [
    "## Part 3: Making Predictions\n",
    "make predictions in the Test dataset"
   ]
  },
  {
   "cell_type": "code",
   "execution_count": null,
   "metadata": {
    "colab": {},
    "colab_type": "code",
    "id": "A3yRQGt_MNG-"
   },
   "outputs": [],
   "source": []
  },
  {
   "cell_type": "code",
   "execution_count": null,
   "metadata": {
    "colab": {},
    "colab_type": "code",
    "id": "kZFthMDbMNHH"
   },
   "outputs": [],
   "source": []
  }
 ],
 "metadata": {
  "colab": {
   "name": "GoogleStockPrice-exercise.ipynb",
   "provenance": []
  },
  "kernelspec": {
   "display_name": "Python 3",
   "language": "python",
   "name": "python3"
  },
  "language_info": {
   "codemirror_mode": {
    "name": "ipython",
    "version": 3
   },
   "file_extension": ".py",
   "mimetype": "text/x-python",
   "name": "python",
   "nbconvert_exporter": "python",
   "pygments_lexer": "ipython3",
   "version": "3.7.7"
  }
 },
 "nbformat": 4,
 "nbformat_minor": 4
}
