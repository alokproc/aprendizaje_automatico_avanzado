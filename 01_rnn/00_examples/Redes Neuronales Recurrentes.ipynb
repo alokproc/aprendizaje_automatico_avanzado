{
 "cells": [
  {
   "cell_type": "markdown",
   "metadata": {},
   "source": [
    "# Redes Neuronales Recurrentes (RNN)"
   ]
  },
  {
   "cell_type": "code",
   "execution_count": 1,
   "metadata": {},
   "outputs": [
    {
     "name": "stderr",
     "output_type": "stream",
     "text": [
      "Using TensorFlow backend.\n"
     ]
    }
   ],
   "source": [
    "import keras"
   ]
  },
  {
   "cell_type": "markdown",
   "metadata": {},
   "source": [
    "Keras proporciona una capa recurrente muy simple, sin ningún tipo de aditivos ni mejoras: la capa SimpleRNN."
   ]
  },
  {
   "cell_type": "code",
   "execution_count": 2,
   "metadata": {},
   "outputs": [],
   "source": [
    "from keras.layers import SimpleRNN"
   ]
  },
  {
   "cell_type": "markdown",
   "metadata": {},
   "source": [
    "Como el resto de capas de Keras, SimpleRNN procesa batches de secuencias, lo que quiere decir que toma como entrada algo de la forma ***(batch_size, timesteps, input_features)***.\n",
    "\n",
    "Esta capa tiene dos modos de ejcución. Para cada secuencia de entrada puede:\n",
    "- Devolver la última salida del procesamiento de la secuencia de entrada (un tensor de tamaño ***(batch_size, output_features)***), o\n",
    "- Devolver la secuencia completa de salidas (un tensor de tamaño ***(batch_size, timesteps, output_features)***).\n",
    "\n",
    "La elección de estos dos modos se hace por medio del argumento return_sequences:"
   ]
  },
  {
   "cell_type": "code",
   "execution_count": 3,
   "metadata": {},
   "outputs": [
    {
     "name": "stdout",
     "output_type": "stream",
     "text": [
      "Model: \"sequential_1\"\n",
      "_________________________________________________________________\n",
      "Layer (type)                 Output Shape              Param #   \n",
      "=================================================================\n",
      "embedding_1 (Embedding)      (None, None, 32)          320000    \n",
      "_________________________________________________________________\n",
      "simple_rnn_1 (SimpleRNN)     (None, 32)                2080      \n",
      "=================================================================\n",
      "Total params: 322,080\n",
      "Trainable params: 322,080\n",
      "Non-trainable params: 0\n",
      "_________________________________________________________________\n"
     ]
    }
   ],
   "source": [
    "from keras.models import Sequential\n",
    "from keras.layers import Embedding, SimpleRNN\n",
    "\n",
    "model = Sequential()\n",
    "model.add(Embedding(10000, 32))\n",
    "model.add(SimpleRNN(32))\n",
    "model.summary()"
   ]
  },
  {
   "cell_type": "markdown",
   "metadata": {},
   "source": [
    "Estas capas se pueden apilar como cualquier otra de Keras (teniendo en cuenta que, para que colapsen, ha de usarse el modo de devolución de secuencias completas):"
   ]
  },
  {
   "cell_type": "code",
   "execution_count": 4,
   "metadata": {},
   "outputs": [
    {
     "name": "stdout",
     "output_type": "stream",
     "text": [
      "Model: \"sequential_2\"\n",
      "_________________________________________________________________\n",
      "Layer (type)                 Output Shape              Param #   \n",
      "=================================================================\n",
      "embedding_2 (Embedding)      (None, None, 32)          320000    \n",
      "_________________________________________________________________\n",
      "simple_rnn_2 (SimpleRNN)     (None, None, 32)          2080      \n",
      "_________________________________________________________________\n",
      "simple_rnn_3 (SimpleRNN)     (None, None, 32)          2080      \n",
      "_________________________________________________________________\n",
      "simple_rnn_4 (SimpleRNN)     (None, None, 32)          2080      \n",
      "_________________________________________________________________\n",
      "simple_rnn_5 (SimpleRNN)     (None, 32)                2080      \n",
      "=================================================================\n",
      "Total params: 328,320\n",
      "Trainable params: 328,320\n",
      "Non-trainable params: 0\n",
      "_________________________________________________________________\n"
     ]
    }
   ],
   "source": [
    "model = Sequential()\n",
    "model.add(Embedding(10000, 32))\n",
    "model.add(SimpleRNN(32, return_sequences=True))\n",
    "model.add(SimpleRNN(32, return_sequences=True))\n",
    "model.add(SimpleRNN(32, return_sequences=True))\n",
    "model.add(SimpleRNN(32))  # This last layer only returns the last outputs.\n",
    "model.summary()"
   ]
  },
  {
   "cell_type": "markdown",
   "metadata": {},
   "source": [
    "Probemos cómo se comporta esta capa en el ejemplo de clasificación de opiniones de IMDB. Primero, debemos comenzar preprocesando los datos:"
   ]
  },
  {
   "cell_type": "code",
   "execution_count": 5,
   "metadata": {},
   "outputs": [
    {
     "name": "stdout",
     "output_type": "stream",
     "text": [
      "Loading data...\n",
      "25000 train sequences\n",
      "25000 test sequences\n",
      "Pad sequences (samples x time)\n",
      "input_train shape: (25000, 500)\n",
      "input_test shape: (25000, 500)\n"
     ]
    }
   ],
   "source": [
    "from keras.datasets import imdb\n",
    "from keras.preprocessing import sequence\n",
    "\n",
    "max_features = 10000  # number of words to consider as features\n",
    "maxlen = 500  # cut texts after this number of words (among top max_features most common words)\n",
    "batch_size = 32\n",
    "\n",
    "print('Loading data...')\n",
    "(input_train, y_train), (input_test, y_test) = imdb.load_data(num_words=max_features)\n",
    "print(len(input_train), 'train sequences')\n",
    "print(len(input_test), 'test sequences')\n",
    "\n",
    "print('Pad sequences (samples x time)')\n",
    "input_train = sequence.pad_sequences(input_train, maxlen=maxlen)\n",
    "input_test = sequence.pad_sequences(input_test, maxlen=maxlen)\n",
    "print('input_train shape:', input_train.shape)\n",
    "print('input_test shape:', input_test.shape)"
   ]
  },
  {
   "cell_type": "markdown",
   "metadata": {},
   "source": [
    "Ahora entrenamos una red en la que hemos añadido una capa Embedding y otra SimpleRNN:"
   ]
  },
  {
   "cell_type": "code",
   "execution_count": 6,
   "metadata": {},
   "outputs": [
    {
     "name": "stderr",
     "output_type": "stream",
     "text": [
      "Z:\\Programacion\\Anaconda\\envs\\deepl\\lib\\site-packages\\tensorflow_core\\python\\framework\\indexed_slices.py:433: UserWarning: Converting sparse IndexedSlices to a dense Tensor of unknown shape. This may consume a large amount of memory.\n",
      "  \"Converting sparse IndexedSlices to a dense Tensor of unknown shape. \"\n"
     ]
    },
    {
     "name": "stdout",
     "output_type": "stream",
     "text": [
      "Train on 20000 samples, validate on 5000 samples\n",
      "Epoch 1/10\n",
      "20000/20000 [==============================] - 32s 2ms/step - loss: 0.5882 - acc: 0.6878 - val_loss: 0.5410 - val_acc: 0.7228\n",
      "Epoch 2/10\n",
      "20000/20000 [==============================] - 30s 1ms/step - loss: 0.3654 - acc: 0.8485 - val_loss: 0.3950 - val_acc: 0.8364\n",
      "Epoch 3/10\n",
      "20000/20000 [==============================] - 31s 2ms/step - loss: 0.2714 - acc: 0.8966 - val_loss: 0.3382 - val_acc: 0.8606\n",
      "Epoch 4/10\n",
      "20000/20000 [==============================] - 30s 1ms/step - loss: 0.2218 - acc: 0.9172 - val_loss: 0.3266 - val_acc: 0.8694\n",
      "Epoch 5/10\n",
      "20000/20000 [==============================] - 30s 1ms/step - loss: 0.1711 - acc: 0.9391 - val_loss: 0.4025 - val_acc: 0.8232\n",
      "Epoch 6/10\n",
      "20000/20000 [==============================] - 30s 1ms/step - loss: 0.1240 - acc: 0.9578 - val_loss: 0.8110 - val_acc: 0.7810\n",
      "Epoch 7/10\n",
      "20000/20000 [==============================] - 30s 1ms/step - loss: 0.0860 - acc: 0.9733 - val_loss: 0.4021 - val_acc: 0.8682\n",
      "Epoch 8/10\n",
      "20000/20000 [==============================] - 30s 2ms/step - loss: 0.0605 - acc: 0.9808 - val_loss: 0.5042 - val_acc: 0.8188\n",
      "Epoch 9/10\n",
      "20000/20000 [==============================] - 30s 1ms/step - loss: 0.0423 - acc: 0.9871 - val_loss: 0.5399 - val_acc: 0.8480\n",
      "Epoch 10/10\n",
      "20000/20000 [==============================] - 30s 1ms/step - loss: 0.0259 - acc: 0.9930 - val_loss: 0.5889 - val_acc: 0.8160\n"
     ]
    }
   ],
   "source": [
    "from keras.layers import Dense\n",
    "\n",
    "model = Sequential()\n",
    "model.add(Embedding(max_features, 32))\n",
    "model.add(SimpleRNN(32))\n",
    "model.add(Dense(1, activation='sigmoid'))\n",
    "\n",
    "model.compile(optimizer='rmsprop', loss='binary_crossentropy', metrics=['acc'])\n",
    "history = model.fit(input_train, y_train,\n",
    "                    epochs=10,\n",
    "                    batch_size=128,\n",
    "                    validation_split=0.2)"
   ]
  },
  {
   "cell_type": "markdown",
   "metadata": {},
   "source": [
    "Y mostramos cómo se ha comportado el entrenamiento:"
   ]
  },
  {
   "cell_type": "code",
   "execution_count": 7,
   "metadata": {},
   "outputs": [
    {
     "data": {
      "image/png": "[encoded data removed]",
      "text/plain": [
       "<Figure size 432x288 with 1 Axes>"
      ]
     },
     "metadata": {
      "needs_background": "light"
     },
     "output_type": "display_data"
    },
    {
     "data": {
      "image/png": "[encoded data removed]",
      "text/plain": [
       "<Figure size 432x288 with 1 Axes>"
      ]
     },
     "metadata": {
      "needs_background": "light"
     },
     "output_type": "display_data"
    }
   ],
   "source": [
    "import matplotlib.pyplot as plt\n",
    "\n",
    "acc = history.history['acc']\n",
    "val_acc = history.history['val_acc']\n",
    "loss = history.history['loss']\n",
    "val_loss = history.history['val_loss']\n",
    "\n",
    "epochs = range(len(acc))\n",
    "\n",
    "plt.plot(epochs, acc, 'bo', label='Training acc')\n",
    "plt.plot(epochs, val_acc, 'b', label='Validation acc')\n",
    "plt.title('Training and validation accuracy')\n",
    "plt.legend()\n",
    "\n",
    "plt.figure()\n",
    "\n",
    "plt.plot(epochs, loss, 'bo', label='Training loss')\n",
    "plt.plot(epochs, val_loss, 'b', label='Validation loss')\n",
    "plt.title('Training and validation loss')\n",
    "plt.legend()\n",
    "\n",
    "plt.show()"
   ]
  },
  {
   "cell_type": "markdown",
   "metadata": {},
   "source": [
    "Vemos que muy pronto se produce un sobreajuste y nos quedamos por debajo del 88% conseguido por el método directo de las capas densas visto en un ejemplo anterior. Parte del problema, por supuesto, es que ahora las entradas solo consideran las primeras 500 palabras, y no la secuencia completa, pero además la capa SimpleRNN no es suficientemente buena para procesar secuencias largas, ya que sufre el problema del **desvanecimiento del gradiente** habitual en capas profundas, lo que significa que apenas puede recordar estados que estén muy atrás en el tiempo.\n",
    "\n",
    "A continuación veremos otros modelos recurrentes que intentan evitar este problema."
   ]
  },
  {
   "cell_type": "markdown",
   "metadata": {},
   "source": [
    "## Un ejemplo de LSTM en Keras"
   ]
  },
  {
   "cell_type": "markdown",
   "metadata": {},
   "source": [
    "Vamos a abordar el mismo problema de antes pero sustituyendo la capa SimpleRNN por una capa LSTM. Aunque esta nueva capa tiene muchos argumentos, dejaremos por defecto los que trae Keras (que no funcionan mal) y solo ajustaremos la dimensión de salida :"
   ]
  },
  {
   "cell_type": "code",
   "execution_count": 8,
   "metadata": {},
   "outputs": [
    {
     "name": "stderr",
     "output_type": "stream",
     "text": [
      "Z:\\Programacion\\Anaconda\\envs\\deepl\\lib\\site-packages\\tensorflow_core\\python\\framework\\indexed_slices.py:433: UserWarning: Converting sparse IndexedSlices to a dense Tensor of unknown shape. This may consume a large amount of memory.\n",
      "  \"Converting sparse IndexedSlices to a dense Tensor of unknown shape. \"\n"
     ]
    },
    {
     "name": "stdout",
     "output_type": "stream",
     "text": [
      "Train on 20000 samples, validate on 5000 samples\n",
      "Epoch 1/10\n",
      "20000/20000 [==============================] - 45s 2ms/step - loss: 0.4903 - acc: 0.7688 - val_loss: 0.3620 - val_acc: 0.8544\n",
      "Epoch 2/10\n",
      "20000/20000 [==============================] - 45s 2ms/step - loss: 0.2989 - acc: 0.8844 - val_loss: 0.3037 - val_acc: 0.8794\n",
      "Epoch 3/10\n",
      "20000/20000 [==============================] - 45s 2ms/step - loss: 0.2351 - acc: 0.9132 - val_loss: 0.7898 - val_acc: 0.7660\n",
      "Epoch 4/10\n",
      "20000/20000 [==============================] - 48s 2ms/step - loss: 0.2071 - acc: 0.9234 - val_loss: 0.3442 - val_acc: 0.8648\n",
      "Epoch 5/10\n",
      "20000/20000 [==============================] - 46s 2ms/step - loss: 0.1731 - acc: 0.9387 - val_loss: 0.3351 - val_acc: 0.8866\n",
      "Epoch 6/10\n",
      "20000/20000 [==============================] - 49s 2ms/step - loss: 0.1568 - acc: 0.9449 - val_loss: 0.3039 - val_acc: 0.8766\n",
      "Epoch 7/10\n",
      "20000/20000 [==============================] - 46s 2ms/step - loss: 0.1408 - acc: 0.9503 - val_loss: 0.3136 - val_acc: 0.8842\n",
      "Epoch 8/10\n",
      "20000/20000 [==============================] - 46s 2ms/step - loss: 0.1298 - acc: 0.9541 - val_loss: 0.3397 - val_acc: 0.8780\n",
      "Epoch 9/10\n",
      "20000/20000 [==============================] - 45s 2ms/step - loss: 0.1219 - acc: 0.9589 - val_loss: 0.3452 - val_acc: 0.8668\n",
      "Epoch 10/10\n",
      "20000/20000 [==============================] - 49s 2ms/step - loss: 0.1120 - acc: 0.9617 - val_loss: 0.4413 - val_acc: 0.8790\n"
     ]
    }
   ],
   "source": [
    "from keras.layers import LSTM\n",
    "\n",
    "model = Sequential()\n",
    "model.add(Embedding(max_features, 32))\n",
    "model.add(LSTM(32))\n",
    "model.add(Dense(1, activation='sigmoid'))\n",
    "\n",
    "model.compile(optimizer='rmsprop',\n",
    "              loss='binary_crossentropy',\n",
    "              metrics=['acc'])\n",
    "history = model.fit(input_train, y_train,\n",
    "                    epochs=10,\n",
    "                    batch_size=128,\n",
    "                    validation_split=0.2)"
   ]
  },
  {
   "cell_type": "code",
   "execution_count": 9,
   "metadata": {},
   "outputs": [
    {
     "data": {
      "image/png": "[encoded data removed]",
      "text/plain": [
       "<Figure size 432x288 with 1 Axes>"
      ]
     },
     "metadata": {
      "needs_background": "light"
     },
     "output_type": "display_data"
    },
    {
     "data": {
      "image/png": "[encoded data removed]",
      "text/plain": [
       "<Figure size 432x288 with 1 Axes>"
      ]
     },
     "metadata": {
      "needs_background": "light"
     },
     "output_type": "display_data"
    }
   ],
   "source": [
    "acc = history.history['acc']\n",
    "val_acc = history.history['val_acc']\n",
    "loss = history.history['loss']\n",
    "val_loss = history.history['val_loss']\n",
    "\n",
    "epochs = range(len(acc))\n",
    "\n",
    "plt.plot(epochs, acc, 'bo', label='Training acc')\n",
    "plt.plot(epochs, val_acc, 'b', label='Validation acc')\n",
    "plt.title('Training and validation accuracy')\n",
    "plt.legend()\n",
    "\n",
    "plt.figure()\n",
    "\n",
    "plt.plot(epochs, loss, 'bo', label='Training loss')\n",
    "plt.plot(epochs, val_loss, 'b', label='Validation loss')\n",
    "plt.title('Training and validation loss')\n",
    "plt.legend()\n",
    "\n",
    "plt.show()"
   ]
  },
  {
   "cell_type": "markdown",
   "metadata": {},
   "source": [
    "Alcanzamos un 88% de accuracy, que supera el de la red con SimpleRNN ya que LSTM sufre menos el efecto del desvanecimiento, y aproximadamente igual (quizás un poco mejor) que el de la red densa (que había recibido más información sobre cada opinión).\n",
    "\n",
    "Sin embargo, esta solución con LSTM requiere mucha más potencia computacional que la densa, y los resultados no son tan llamativos. Por supuesto, una razón puede ser que no hemos hecho ningún ajuste fino de los parámetros de la red (por ejemplo, la dimensión de inmersión), por lo que quizás no estamos obteniendo el rendimiento que podíamos. Pero quizás la razón principal es que analizar la estructura completa de las opiniones quizás no sea tan importante para evaluar un problema de análisis de sentimientos, y quizás solo sea suficiente con saber qué palabras, y con qué frecuencia, aparecen en la opinión.\n",
    "\n",
    "Pero hay problemas mucho más duros que este para los que las redes densas no proporcionarían una solución suficientemente buena, y para los que las LSTM sí funcionan bien, como, por ejemplo, la traducción automática."
   ]
  }
 ],
 "metadata": {
  "kernelspec": {
   "display_name": "Python 3",
   "language": "python",
   "name": "python3"
  },
  "language_info": {
   "codemirror_mode": {
    "name": "ipython",
    "version": 3
   },
   "file_extension": ".py",
   "mimetype": "text/x-python",
   "name": "python",
   "nbconvert_exporter": "python",
   "pygments_lexer": "ipython3",
   "version": "3.7.7"
  }
 },
 "nbformat": 4,
 "nbformat_minor": 4
}
