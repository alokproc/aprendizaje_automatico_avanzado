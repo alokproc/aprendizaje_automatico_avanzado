{
 "cells": [
  {
   "cell_type": "markdown",
   "metadata": {
    "colab_type": "text",
    "id": "PdmsmZYLvcH7"
   },
   "source": [
    "# Exam Advanced Machine Learning\n"
   ]
  },
  {
   "cell_type": "markdown",
   "metadata": {
    "colab_type": "text",
    "id": "sEzR6acBQb1L"
   },
   "source": [
    "## Problem statement:\n",
    "**Arnold Schwarzenegger** has a camera that points to the street. This camera is part of a surveillance system, and he has realized, that several times, a bird poses in front of the camera, and some regions are not visible.\n",
    "\n",
    "He wants to be able to detect when this bird is in front of his camera, so as to kill it with his gun, after saying: \"*hasta la vista baby*\". He has contacted you in order you to build some \"*Artificial Intelligence stuff*\" to tell him when the bird is in the camera. Arnold tells you, that something happened to the hard drive that was storing the videos and that he only has images of the street in front of his house when he did not have any problem with the bird.\n",
    "\n",
    "---\n",
    "\n",
    "So, you have created a dataset from those old videos, extracting some frames from them, and storing them as images. You are sure that every image you selected are images of normal operation of the camera. and they look like this: \n",
    "\n",
    "![alt text](http://www.svcl.ucsd.edu/projects/anomaly/image/index/025c_74.jpg)\n",
    "\n",
    "You also created a test environment, where you simulate the bird as a black box. You suppose that if you are able to detect the black box, you would be able to detect the bird. You decided to mix correct images and black boxed images in this test environment. \n",
    "\n",
    "---\n",
    "Finally, in the final Validation step, you have actual images of a bird appearing in front of the camera; you will use these final images for the final part of this exam. \n",
    "\n",
    "---\n",
    "\n"
   ]
  },
  {
   "cell_type": "markdown",
   "metadata": {
    "colab_type": "text",
    "id": "MV-GxmJX36zH"
   },
   "source": [
    "## Part 0: UNZIP DATASET (only for COLAB)\n",
    "\n",
    "Having the data uploaded to colab highly speeds up the training. please, upload the zip file provided, and unzip it. (it can take like 5 minutes, so go on with the exam, start to code) \n"
   ]
  },
  {
   "cell_type": "code",
   "execution_count": null,
   "metadata": {
    "colab": {
     "base_uri": "https://localhost:8080/",
     "height": 52
    },
    "colab_type": "code",
    "executionInfo": {
     "elapsed": 3524,
     "status": "ok",
     "timestamp": 1589035440292,
     "user": {
      "displayName": "Ekhi Zugasti Uriguen",
      "photoUrl": "https://lh3.googleusercontent.com/a-/AOh14GjLW21F9JMtJwfUDFcY2ROtJC3l1QPlGpvoN9Qy=s64",
      "userId": "00195558535022081217"
     },
     "user_tz": -120
    },
    "id": "PYZM4hHp3IBH",
    "outputId": "b3d3f665-4158-48a3-c30c-f8bd8bfe5541"
   },
   "outputs": [
    {
     "name": "stdout",
     "output_type": "stream",
     "text": [
      "mkdir: cannot create directory ‘/content/data’: File exists\n",
      "unzip:  cannot find or open /content/examDataset.zip, /content/examDataset.zip.zip or /content/examDataset.zip.ZIP.\n"
     ]
    }
   ],
   "source": [
    "!mkdir /content/data\n",
    "!unzip /content/examDataset.zip -d /content/data"
   ]
  },
  {
   "cell_type": "markdown",
   "metadata": {
    "colab_type": "text",
    "id": "gLzhJQrNvWl6"
   },
   "source": [
    "## Part 1: Data Preprocessing (2pt)\n",
    "\n",
    "\n",
    "---\n",
    "\n",
    "\n",
    "\n",
    "You own a GPU from 2018, a GTX1060 6GB. It is still quite good for deep learning, but you realized that you should fix the **size of the images to be 128 x 128** for the fitting to be fast. **The images are black and white**, and you read somewere that the **class_mode** you need to use for this type of problem has to be **\"input\"** (class_mode='input'). AND do not shuffle the images! (shuffle=False) (1.5pt)\n",
    "\n",
    "you also will want to have a validation dataset in order to know when to finish the trainning of the data. The Validation split will be -> **95% train, 5% validation** (0.5pt)\n",
    "\n",
    "\n",
    "\n",
    "---\n",
    "\n",
    "\n",
    "\n"
   ]
  },
  {
   "cell_type": "code",
   "execution_count": 1,
   "metadata": {
    "colab": {},
    "colab_type": "code",
    "id": "fyuEpxY4QYaY"
   },
   "outputs": [],
   "source": [
    "#imports\n",
    "from tensorflow.keras.preprocessing.image import ImageDataGenerator\n",
    "from tensorflow.keras import layers, models"
   ]
  },
  {
   "cell_type": "code",
   "execution_count": 2,
   "metadata": {
    "colab": {},
    "colab_type": "code",
    "id": "sybsG-AfvWLq"
   },
   "outputs": [
    {
     "name": "stdout",
     "output_type": "stream",
     "text": [
      "Found 885 images belonging to 1 classes.\n",
      "Found 46 images belonging to 1 classes.\n",
      "Found 690 images belonging to 1 classes.\n",
      "Found 50 images belonging to 1 classes.\n"
     ]
    },
    {
     "name": "stderr",
     "output_type": "stream",
     "text": [
      "Z:\\Programacion\\Anaconda\\envs\\deepl\\lib\\site-packages\\keras_preprocessing\\image\\utils.py:173: UserWarning: Using \".tiff\" files with multiple bands will cause distortion. Please verify your output.\n",
      "  warnings.warn('Using \".tiff\" files with multiple bands '\n"
     ]
    }
   ],
   "source": [
    "#preprocessing\n",
    "\n",
    "it_train = ImageDataGenerator(rescale=1./255, shear_range=0.2, zoom_range=0.2, horizontal_flip=True, validation_split=0.05)\n",
    "train = it_train.flow_from_directory('train', target_size=(128,128), batch_size=32, color_mode='grayscale', class_mode='input', shuffle=False, subset='training')\n",
    "val = it_train.flow_from_directory('train', target_size=(128,128), batch_size=32, color_mode='grayscale', class_mode='input', shuffle=False, subset='validation')\n",
    "\n",
    "it_test = ImageDataGenerator(rescale=1./255)\n",
    "test = it_train.flow_from_directory('test', target_size=(128,128), batch_size=32,  color_mode='grayscale', class_mode='input', shuffle=False)\n",
    "\n",
    "it_evaluation = ImageDataGenerator(rescale=1./255)\n",
    "evaluation = it_train.flow_from_directory('finalEvaluation', target_size=(128,128), batch_size=32,  color_mode='grayscale', class_mode='input', shuffle=False)"
   ]
  },
  {
   "cell_type": "markdown",
   "metadata": {
    "colab_type": "text",
    "id": "eEVYYCe925UO"
   },
   "source": [
    "##Part 2: Model Creation (2pt)\n",
    "\n",
    "\n",
    "---\n",
    "\n",
    "\n",
    "\n",
    "In this part, you will have to arquitecture and code a model, that fulfills the Arnolds' needs. (1.5pt)\n",
    "\n",
    "you will have to select the optimizer and loss function, and compile the model (0.5pt)\n",
    "\n",
    "\n",
    "---\n",
    "\n"
   ]
  },
  {
   "cell_type": "code",
   "execution_count": 3,
   "metadata": {
    "colab": {},
    "colab_type": "code",
    "id": "TsRpLfxfOMJB"
   },
   "outputs": [],
   "source": [
    "# Define Model\n",
    "model = models.Sequential([\n",
    "    # encoder\n",
    "    layers.Conv2D(16, (3,3), activation='relu', padding='same', input_shape=(128, 128, 1)),\n",
    "    layers.MaxPooling2D(pool_size=(2,2)),\n",
    "    layers.Conv2D(4, (3,3), activation='relu', padding='same'),\n",
    "    layers.MaxPooling2D(pool_size=(2,2)),\n",
    "    # decoder\n",
    "    layers.Conv2D(4, (3,3), activation='relu', padding='same'),\n",
    "    layers.UpSampling2D((2,2)),\n",
    "    layers.Conv2D(16, (3,3), activation='relu', padding='same'),\n",
    "    layers.UpSampling2D((2,2)),    \n",
    "    layers.Conv2D(1, (3,3), activation='relu', padding='same'),\n",
    "])\n"
   ]
  },
  {
   "cell_type": "code",
   "execution_count": 4,
   "metadata": {
    "colab": {},
    "colab_type": "code",
    "id": "sWQ71LbiOMZ6"
   },
   "outputs": [],
   "source": [
    "# Compile model\n",
    "model.compile(optimizer='rmsprop', loss='mse')"
   ]
  },
  {
   "cell_type": "code",
   "execution_count": 5,
   "metadata": {
    "colab": {},
    "colab_type": "code",
    "id": "M7LRjkEROQ70"
   },
   "outputs": [
    {
     "name": "stdout",
     "output_type": "stream",
     "text": [
      "Model: \"sequential\"\n",
      "_________________________________________________________________\n",
      "Layer (type)                 Output Shape              Param #   \n",
      "=================================================================\n",
      "conv2d (Conv2D)              (None, 128, 128, 16)      160       \n",
      "_________________________________________________________________\n",
      "max_pooling2d (MaxPooling2D) (None, 64, 64, 16)        0         \n",
      "_________________________________________________________________\n",
      "conv2d_1 (Conv2D)            (None, 64, 64, 4)         580       \n",
      "_________________________________________________________________\n",
      "max_pooling2d_1 (MaxPooling2 (None, 32, 32, 4)         0         \n",
      "_________________________________________________________________\n",
      "conv2d_2 (Conv2D)            (None, 32, 32, 4)         148       \n",
      "_________________________________________________________________\n",
      "up_sampling2d (UpSampling2D) (None, 64, 64, 4)         0         \n",
      "_________________________________________________________________\n",
      "conv2d_3 (Conv2D)            (None, 64, 64, 16)        592       \n",
      "_________________________________________________________________\n",
      "up_sampling2d_1 (UpSampling2 (None, 128, 128, 16)      0         \n",
      "_________________________________________________________________\n",
      "conv2d_4 (Conv2D)            (None, 128, 128, 1)       145       \n",
      "=================================================================\n",
      "Total params: 1,625\n",
      "Trainable params: 1,625\n",
      "Non-trainable params: 0\n",
      "_________________________________________________________________\n"
     ]
    }
   ],
   "source": [
    "# print model summary\n",
    "model.summary()"
   ]
  },
  {
   "cell_type": "markdown",
   "metadata": {
    "colab_type": "text",
    "id": "kAPsWfWZOYGm"
   },
   "source": [
    "## Part 3: Model Fitting (2pt)\n",
    "\n",
    "---\n",
    "\n",
    "\n",
    "\n",
    "Make the fitting of the model: in order to have the whole 2 points, this fitting should have:\n",
    "\n",
    "\n",
    "*   Validation dataset, and monitor the loss of this validation dataset (0.5pt)\n",
    "*   Model regularization: if the validation loss starts getting higher while the training loss keeps going down, you will have to stop the fitting process (1pt)\n",
    "*   you will have to make sure that every image is used in the fitting process (0.5pt)\n",
    "\n",
    "---\n",
    "\n",
    "\n"
   ]
  },
  {
   "cell_type": "code",
   "execution_count": 6,
   "metadata": {
    "colab": {},
    "colab_type": "code",
    "id": "euIIA-iYP_HV"
   },
   "outputs": [
    {
     "name": "stdout",
     "output_type": "stream",
     "text": [
      "WARNING:tensorflow:From <ipython-input-6-321e07bdb063>:10: Model.fit_generator (from tensorflow.python.keras.engine.training) is deprecated and will be removed in a future version.\n",
      "Instructions for updating:\n",
      "Please use Model.fit, which supports generators.\n",
      "WARNING:tensorflow:sample_weight modes were coerced from\n",
      "  ...\n",
      "    to  \n",
      "  ['...']\n",
      "WARNING:tensorflow:sample_weight modes were coerced from\n",
      "  ...\n",
      "    to  \n",
      "  ['...']\n",
      "Train for 27 steps, validate for 1 steps\n",
      "Epoch 1/25\n",
      "27/27 [==============================] - 3s 109ms/step - loss: 0.0390 - val_loss: 0.0091\n",
      "Epoch 2/25\n",
      "27/27 [==============================] - 2s 63ms/step - loss: 0.0083 - val_loss: 0.0081\n",
      "Epoch 3/25\n",
      "27/27 [==============================] - 2s 62ms/step - loss: 0.0070 - val_loss: 0.0068\n",
      "Epoch 4/25\n",
      "27/27 [==============================] - 2s 61ms/step - loss: 0.0060 - val_loss: 0.0059\n",
      "Epoch 5/25\n",
      "27/27 [==============================] - 2s 61ms/step - loss: 0.0053 - val_loss: 0.0049\n",
      "Epoch 6/25\n",
      "27/27 [==============================] - 2s 62ms/step - loss: 0.0047 - val_loss: 0.0049\n",
      "Epoch 7/25\n",
      "27/27 [==============================] - 2s 62ms/step - loss: 0.0044 - val_loss: 0.0043\n",
      "Epoch 8/25\n",
      "27/27 [==============================] - 2s 61ms/step - loss: 0.0042 - val_loss: 0.0046\n",
      "Epoch 9/25\n",
      "27/27 [==============================] - 2s 61ms/step - loss: 0.0040 - val_loss: 0.0039\n",
      "Epoch 10/25\n",
      "27/27 [==============================] - 2s 61ms/step - loss: 0.0039 - val_loss: 0.0040\n",
      "Epoch 11/25\n",
      "27/27 [==============================] - 2s 61ms/step - loss: 0.0037 - val_loss: 0.0038\n",
      "Epoch 12/25\n",
      "27/27 [==============================] - 2s 62ms/step - loss: 0.0036 - val_loss: 0.0038\n",
      "Epoch 13/25\n",
      "27/27 [==============================] - 2s 64ms/step - loss: 0.0035 - val_loss: 0.0036\n",
      "Epoch 14/25\n",
      "27/27 [==============================] - 2s 62ms/step - loss: 0.0034 - val_loss: 0.0034\n",
      "Epoch 15/25\n",
      "27/27 [==============================] - 2s 61ms/step - loss: 0.0033 - val_loss: 0.0033\n",
      "Epoch 16/25\n",
      "27/27 [==============================] - 2s 62ms/step - loss: 0.0033 - val_loss: 0.0034\n",
      "Epoch 17/25\n",
      "27/27 [==============================] - 2s 61ms/step - loss: 0.0032 - val_loss: 0.0034\n",
      "Epoch 18/25\n",
      "27/27 [==============================] - 2s 61ms/step - loss: 0.0031 - val_loss: 0.0033\n",
      "Epoch 19/25\n",
      "27/27 [==============================] - 2s 61ms/step - loss: 0.0031 - val_loss: 0.0032\n",
      "Epoch 20/25\n",
      "27/27 [==============================] - 2s 62ms/step - loss: 0.0030 - val_loss: 0.0032\n",
      "Epoch 21/25\n",
      "27/27 [==============================] - 2s 62ms/step - loss: 0.0030 - val_loss: 0.0031\n",
      "Epoch 22/25\n",
      "27/27 [==============================] - 2s 61ms/step - loss: 0.0029 - val_loss: 0.0029\n",
      "Epoch 23/25\n",
      "27/27 [==============================] - 2s 63ms/step - loss: 0.0029 - val_loss: 0.0029\n",
      "Epoch 24/25\n",
      "27/27 [==============================] - 2s 61ms/step - loss: 0.0029 - val_loss: 0.0028\n",
      "Epoch 25/25\n",
      "27/27 [==============================] - 2s 62ms/step - loss: 0.0028 - val_loss: 0.0028\n"
     ]
    },
    {
     "data": {
      "text/plain": [
       "<tensorflow.python.keras.callbacks.History at 0x1844527a848>"
      ]
     },
     "execution_count": 6,
     "metadata": {},
     "output_type": "execute_result"
    }
   ],
   "source": [
    "#model Fitting\n",
    "\n",
    "from tensorflow.keras.callbacks import EarlyStopping\n",
    "\n",
    "early_stop = [EarlyStopping(monitor='val_loss', min_delta=0, patience=3, verbose=0, mode='auto', baseline=None)]\n",
    "\n",
    "stepsepochTrain = train.samples // 32\n",
    "stepeepochtest = val.samples // 32\n",
    "\n",
    "model.fit_generator(train, epochs=25, steps_per_epoch=stepsepochTrain, validation_data=val, validation_steps=stepeepochtest, callbacks=early_stop)"
   ]
  },
  {
   "cell_type": "markdown",
   "metadata": {
    "colab_type": "text",
    "id": "F127owEcShpK"
   },
   "source": [
    "## Part 4: Model Validation(2pt)\n",
    "\n",
    "You have read somewhere, that in order to compare 2 images, there is a method called `mean_squared_error` that comes in scikit_image package; you also found an implementation of this, and you think it will be helpfull to have it. this function, returns the error between two images.\n",
    "\n",
    "\n",
    "```\n",
    "from skimage.metrics import mean_squared_error\n",
    "\n",
    "def errorCalculation(image1,image2):\n",
    "  error=mean_squared_error(image1,image2)\n",
    "  return error\n",
    "```\n",
    "\n",
    "You also found around internet, that there is a way to get the images and the filenames from a `flow_from_directory` type of object; and you think it can be useful. This function passing a generator->flow_from_directory type object and returns, a 4D numpy array, with shape [imageN,pixelsX,pixelsY,channels], here imageN is the number of images in that data generator. it also returns the filenames sorted as the images you get in the images_array.\n",
    "\n",
    "```\n",
    "def getImagesFromGenerator(generator):\n",
    "  data_list = []\n",
    "  batch_index = 0\n",
    "\n",
    "  while batch_index <= generator.batch_index:\n",
    "      data = generator.next()\n",
    "      data_list.append(data[0])\n",
    "      batch_index = batch_index + 1\n",
    "\n",
    "  # now, data_array is the numeric data of whole images\n",
    "  images_array = np.concatenate(data_list, axis=0 )\n",
    "  filenames=np.array(generator.filenames) #getfilenames\n",
    "  filenames=filenames[generator.index_array] #orderFilenames\n",
    "  return images_array, filenames\n",
    "```\n",
    "\n",
    "**ONLY USE THESE FUNCTIONS IF YOU THINK YOU NEED THEM.** (but I think these will help)\n",
    "\n",
    "In this part, you will have to:\n",
    "\n",
    "\n",
    "*   Make a prediction that is able to detect which of the test set files contain a bird (black box)\n",
    "> * Set detection threshold as `mean + 3x std` of the **training set** (0.5pt)\n",
    "> * create a pandas dataframe that which of the files are detected as bird (0.5pt)\n",
    "\n",
    "*   Using the CSV file in the test folder calculate: (use 'STATUS' column)\n",
    "> * the accuracy of your solution on the test data (0.5pt)\n",
    "> * the confusion matrix of your solution on the test data (0.5pt)\n",
    "\n",
    "Further instructions:\n",
    "\n",
    "\n",
    "\n",
    "1.   Colab sometimes has problems predicting images from data_generators, please use images that `getImagesFromGenerator` function provides for predictions.\n",
    "2.   IF you used the dataGenerator with `shuffle=False` the order of the filenames in the provided CSV file should be the same as the one you have. This makes calculating accuracy and ConfusionMatrix really straighforward. (otherwise you will have to sort the values... and it can make you code more than it is really needed)\n",
    "\n",
    "\n",
    "\n"
   ]
  },
  {
   "cell_type": "code",
   "execution_count": 20,
   "metadata": {
    "colab": {},
    "colab_type": "code",
    "id": "8phZMWT85i1K"
   },
   "outputs": [
    {
     "name": "stdout",
     "output_type": "stream",
     "text": [
      "(885, 128, 128, 1)\n",
      "(690, 128, 128, 1)\n"
     ]
    }
   ],
   "source": [
    "# Make predictions for train and test datasets\n",
    "pred_train = model.predict(train)\n",
    "pred_test = model.predict(test)\n",
    "\n",
    "print(pred_train.shape)\n",
    "print(pred_test.shape)"
   ]
  },
  {
   "cell_type": "code",
   "execution_count": 22,
   "metadata": {},
   "outputs": [
    {
     "name": "stdout",
     "output_type": "stream",
     "text": [
      "(885, 128, 128, 1)\n",
      "(690, 128, 128, 1)\n"
     ]
    }
   ],
   "source": [
    "import numpy as np\n",
    "\n",
    "def getImagesFromGenerator(generator):\n",
    "    data_list = []\n",
    "    batch_index = 0\n",
    "\n",
    "    while batch_index <= generator.batch_index:\n",
    "        data = generator.next()\n",
    "        data_list.append(data[0])\n",
    "        batch_index = batch_index + 1\n",
    "\n",
    "    # now, data_array is the numeric data of whole images\n",
    "    images_array = np.concatenate(data_list, axis=0 )\n",
    "    filenames=np.array(generator.filenames) #getfilenames\n",
    "    filenames=filenames[generator.index_array] #orderFilenames\n",
    "    return images_array, filenames\n",
    "\n",
    "train_images, filenames_train = getImagesFromGenerator(train)\n",
    "test_images, filenames_test = getImagesFromGenerator(test)\n",
    "\n",
    "print(train_images.shape)\n",
    "print(test_images.shape)"
   ]
  },
  {
   "cell_type": "code",
   "execution_count": 23,
   "metadata": {
    "colab": {},
    "colab_type": "code",
    "id": "NOEXLeps90Hv"
   },
   "outputs": [
    {
     "data": {
      "text/plain": [
       "0.027941795175354528"
      ]
     },
     "execution_count": 23,
     "metadata": {},
     "output_type": "execute_result"
    }
   ],
   "source": [
    "# Calculate the error and set threshold\n",
    "\n",
    "from skimage.metrics import mean_squared_error\n",
    "\n",
    "def errorCalculation(image1,image2):\n",
    "    error = mean_squared_error(image1,image2)\n",
    "    return error\n",
    "\n",
    "\n",
    "train_errors = []\n",
    "\n",
    "for i in range(0, 885):\n",
    "    error = mean_squared_error(train_images[i], pred_train[i])\n",
    "    train_errors.append(error)\n",
    "\n",
    "train_errors = np.array(train_errors)\n",
    "threshold = train_errors.mean()+3*train_errors.std()\n",
    "threshold"
   ]
  },
  {
   "cell_type": "code",
   "execution_count": 35,
   "metadata": {
    "colab": {},
    "colab_type": "code",
    "id": "p1-Yac0f9GXk"
   },
   "outputs": [
    {
     "data": {
      "text/html": [
       "<div>\n",
       "<style scoped>\n",
       "    .dataframe tbody tr th:only-of-type {\n",
       "        vertical-align: middle;\n",
       "    }\n",
       "\n",
       "    .dataframe tbody tr th {\n",
       "        vertical-align: top;\n",
       "    }\n",
       "\n",
       "    .dataframe thead th {\n",
       "        text-align: right;\n",
       "    }\n",
       "</style>\n",
       "<table border=\"1\" class=\"dataframe\">\n",
       "  <thead>\n",
       "    <tr style=\"text-align: right;\">\n",
       "      <th></th>\n",
       "      <th>Filenames</th>\n",
       "      <th>Status</th>\n",
       "    </tr>\n",
       "  </thead>\n",
       "  <tbody>\n",
       "    <tr>\n",
       "      <th>0</th>\n",
       "      <td>evaluate\\001 (1).tif</td>\n",
       "      <td>False</td>\n",
       "    </tr>\n",
       "    <tr>\n",
       "      <th>1</th>\n",
       "      <td>evaluate\\001 (2).tif</td>\n",
       "      <td>False</td>\n",
       "    </tr>\n",
       "    <tr>\n",
       "      <th>2</th>\n",
       "      <td>evaluate\\001.tif</td>\n",
       "      <td>False</td>\n",
       "    </tr>\n",
       "    <tr>\n",
       "      <th>3</th>\n",
       "      <td>evaluate\\001A.tif</td>\n",
       "      <td>True</td>\n",
       "    </tr>\n",
       "    <tr>\n",
       "      <th>4</th>\n",
       "      <td>evaluate\\002 (1).tif</td>\n",
       "      <td>False</td>\n",
       "    </tr>\n",
       "    <tr>\n",
       "      <th>...</th>\n",
       "      <td>...</td>\n",
       "      <td>...</td>\n",
       "    </tr>\n",
       "    <tr>\n",
       "      <th>685</th>\n",
       "      <td>evaluate\\179.tif</td>\n",
       "      <td>False</td>\n",
       "    </tr>\n",
       "    <tr>\n",
       "      <th>686</th>\n",
       "      <td>evaluate\\179A.tif</td>\n",
       "      <td>True</td>\n",
       "    </tr>\n",
       "    <tr>\n",
       "      <th>687</th>\n",
       "      <td>evaluate\\180 (1).tif</td>\n",
       "      <td>False</td>\n",
       "    </tr>\n",
       "    <tr>\n",
       "      <th>688</th>\n",
       "      <td>evaluate\\180.tif</td>\n",
       "      <td>False</td>\n",
       "    </tr>\n",
       "    <tr>\n",
       "      <th>689</th>\n",
       "      <td>evaluate\\180A.tif</td>\n",
       "      <td>True</td>\n",
       "    </tr>\n",
       "  </tbody>\n",
       "</table>\n",
       "<p>690 rows × 2 columns</p>\n",
       "</div>"
      ],
      "text/plain": [
       "                Filenames Status\n",
       "0    evaluate\\001 (1).tif  False\n",
       "1    evaluate\\001 (2).tif  False\n",
       "2        evaluate\\001.tif  False\n",
       "3       evaluate\\001A.tif   True\n",
       "4    evaluate\\002 (1).tif  False\n",
       "..                    ...    ...\n",
       "685      evaluate\\179.tif  False\n",
       "686     evaluate\\179A.tif   True\n",
       "687  evaluate\\180 (1).tif  False\n",
       "688      evaluate\\180.tif  False\n",
       "689     evaluate\\180A.tif   True\n",
       "\n",
       "[690 rows x 2 columns]"
      ]
     },
     "execution_count": 35,
     "metadata": {},
     "output_type": "execute_result"
    }
   ],
   "source": [
    "# create pandas dataframe with test predictions, columns=[Filenames, Status] where status=False ok status=True nok\n",
    "import pandas as pd\n",
    "\n",
    "df = pd.DataFrame(columns=['Filenames', 'Status'])\n",
    "\n",
    "for i in range(0, 690):\n",
    "    image = test_images[i]\n",
    "    pred_image = pred_test[i]\n",
    "    error = errorCalculation(image, pred_image)    \n",
    "    if error > threshold:\n",
    "        data = {'Filenames': filenames_test[i], 'Status': True}\n",
    "        df = df.append(data, ignore_index=True)\n",
    "    else:\n",
    "        data = {'Filenames': filenames_test[i], 'Status': False}\n",
    "        df = df.append(data, ignore_index=True)\n",
    "        \n",
    "df.to_csv('anomaly_detection_results.csv')\n",
    "df"
   ]
  },
  {
   "cell_type": "code",
   "execution_count": 37,
   "metadata": {
    "colab": {},
    "colab_type": "code",
    "id": "L1RhRwLjCrtF"
   },
   "outputs": [
    {
     "data": {
      "text/plain": [
       "0.9"
      ]
     },
     "execution_count": 37,
     "metadata": {},
     "output_type": "execute_result"
    }
   ],
   "source": [
    "# evaluate model using csv file with correct anotations\n",
    "# evaluate testing accuracy + confusion matrix\n",
    "\n",
    "from sklearn.metrics import accuracy_score\n",
    "\n",
    "results = pd.read_csv('test/result(1).csv')\n",
    "original = results['status'].astype(int)\n",
    "predicted = df['Status'].astype(int)\n",
    "\n",
    "accuracy_score(original.values, predicted.values)"
   ]
  },
  {
   "cell_type": "markdown",
   "metadata": {
    "colab_type": "text",
    "id": "bAL6UXVC-wgc"
   },
   "source": [
    "## Part 5: make model predictions and visualizations (2pt)\n",
    "\n",
    "Let us assume you have developed a model that has an accuracy over 90% in your test data. The moment has come to try your model in real life. In the validation folder you will find actual images of the bird chuache is trying to hunt.\n",
    "\n",
    "\n",
    "\n",
    "*   Make predictions for each of the images in that folder; you should no shuffle the images in the generator (shuffle=False) (1pt)\n",
    "*   Make a figure, where the you plot the error of each of the images and the threshold. (1pt)\n",
    "\n"
   ]
  },
  {
   "cell_type": "code",
   "execution_count": 39,
   "metadata": {
    "colab": {},
    "colab_type": "code",
    "id": "_QyT75qOyagM"
   },
   "outputs": [],
   "source": [
    "# Make predictions of the folder:\n",
    "#  -load images,\n",
    "#  -make predictions,\n",
    "#  -calculate error\n",
    "\n",
    "\n",
    "train_errors = []\n",
    "\n",
    "for i in range(0, 885):\n",
    "    error = mean_squared_error(train_images[i], pred_train[i])\n",
    "    train_errors.append(error)\n",
    "    \n",
    "\n",
    "test_errors = []\n",
    "\n",
    "for i in range(0, 690):\n",
    "    error = mean_squared_error(test_images[i], pred_test[i])\n",
    "    test_errors.append(error)\n",
    "    \n",
    "# ekhi, no me ha dado tiempo hacer el grafico con los datos de 'finalEvaluation'.\n",
    "# por eso he ploteado los datos de train y test"
   ]
  },
  {
   "cell_type": "code",
   "execution_count": 41,
   "metadata": {
    "colab": {},
    "colab_type": "code",
    "id": "356B2KUOylgo"
   },
   "outputs": [
    {
     "data": {
      "image/png": "[encoded data removed]",
      "text/plain": [
       "<Figure size 1120x480 with 1 Axes>"
      ]
     },
     "metadata": {
      "needs_background": "light"
     },
     "output_type": "display_data"
    }
   ],
   "source": [
    "#plot error and detection threshold\n",
    "\n",
    "from matplotlib import pyplot as plt\n",
    "\n",
    "fig, ax = plt.subplots(figsize=(14, 6), dpi=80)\n",
    "ax.plot(train_errors, 'b', label='train', linewidth=2)\n",
    "ax.plot(test_errors, 'r', label='test', linewidth=2)\n",
    "ax.plot(np.full(shape=1000, fill_value=threshold), 'g', label='Threshold', linewidth=2)\n",
    "ax.set_title('Model loss', fontsize=16)\n",
    "ax.set_ylabel('MAE')\n",
    "ax.set_xlabel('Instances')\n",
    "ax.legend(loc='upper right')\n",
    "plt.show()"
   ]
  },
  {
   "cell_type": "code",
   "execution_count": null,
   "metadata": {},
   "outputs": [],
   "source": []
  }
 ],
 "metadata": {
  "colab": {
   "authorship_tag": "ABX9TyOPmPpVYetIWZc9V1uKgTtd",
   "name": "AdML_exam.ipynb",
   "provenance": []
  },
  "kernelspec": {
   "display_name": "Python 3",
   "language": "python",
   "name": "python3"
  },
  "language_info": {
   "codemirror_mode": {
    "name": "ipython",
    "version": 3
   },
   "file_extension": ".py",
   "mimetype": "text/x-python",
   "name": "python",
   "nbconvert_exporter": "python",
   "pygments_lexer": "ipython3",
   "version": "3.7.7"
  }
 },
 "nbformat": 4,
 "nbformat_minor": 4
}
