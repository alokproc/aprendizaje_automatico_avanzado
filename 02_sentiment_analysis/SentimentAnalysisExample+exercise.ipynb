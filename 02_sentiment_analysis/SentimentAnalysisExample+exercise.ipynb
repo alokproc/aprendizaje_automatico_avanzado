{
 "cells": [
  {
   "cell_type": "markdown",
   "metadata": {
    "colab_type": "text",
    "id": "KM0Y-uAVb4UD"
   },
   "source": [
    "# exercise: sentiment analysis"
   ]
  },
  {
   "cell_type": "markdown",
   "metadata": {
    "colab_type": "text",
    "id": "EOjaMdKwb4UJ"
   },
   "source": [
    "Binary classification is possibly the most common type of problem in ML applications. In this one we're going to see how to build a classifier in Keras. Specifically, we will build a neural network to help us classify movie opinions as \"positive/negative\" based only on the textual content of the movie. It will be an example of what is currently known as sentiment analysis."
   ]
  },
  {
   "cell_type": "markdown",
   "metadata": {
    "colab_type": "text",
    "id": "U9ykCQdDb4UO"
   },
   "source": [
    "## IMDB dataset"
   ]
  },
  {
   "cell_type": "markdown",
   "metadata": {
    "colab_type": "text",
    "id": "OD3UxgoRb4US"
   },
   "source": [
    "We will use one of the datasets provided by the IMDB site (Internet Movie DataBase) formed by 50,000 highly polarized opinions (which simplifies the learning task). This set is divided in 50%/50% for training/test, and in each of them there are 50% of opinions of each type.\n",
    "\n",
    "As with the previous dataset (MNIST) this dataset also comes with Keras, and in addition is provided pre-processed: by means of an indexed dictionary, the opinions (word sequences) have been converted into sequences of integers.\n",
    "\n",
    "The code that loads the dataset (about 80Mb of data that will be downloaded the first time it is executed) is:"
   ]
  },
  {
   "cell_type": "code",
   "execution_count": 1,
   "metadata": {
    "colab": {
     "base_uri": "https://localhost:8080/",
     "height": 98
    },
    "colab_type": "code",
    "executionInfo": {
     "elapsed": 10062,
     "status": "ok",
     "timestamp": 1584999760848,
     "user": {
      "displayName": "Ekhi Zugasti Uriguen",
      "photoUrl": "https://lh3.googleusercontent.com/a-/AOh14GjLW21F9JMtJwfUDFcY2ROtJC3l1QPlGpvoN9Qy=s64",
      "userId": "00195558535022081217"
     },
     "user_tz": -60
    },
    "id": "DbN_nV4ib4UV",
    "outputId": "253ba047-54a1-4c40-cc70-f860122ebcd2"
   },
   "outputs": [
    {
     "name": "stdout",
     "output_type": "stream",
     "text": [
      "Downloading data from https://storage.googleapis.com/tensorflow/tf-keras-datasets/imdb.npz\n",
      "17465344/17464789 [==============================] - 1s 0us/step\n"
     ]
    }
   ],
   "source": [
    "from tensorflow.keras.datasets import imdb\n",
    "numwords=10000\n",
    "(train_data, train_labels), (test_data, test_labels) = imdb.load_data(num_words=numwords)"
   ]
  },
  {
   "cell_type": "markdown",
   "metadata": {
    "colab_type": "text",
    "id": "L1sgD_whb4Ui"
   },
   "source": [
    "As the dictionary is tremendously large and there are many words that are rarely used, we'll be left with only the 10,000 most frequent words (something we get by means of the argument num_words = 10000 in the loading process).\n",
    "\n",
    "If you wish, you can explore the content of the train_data and test_data variables, which are lists of opinions, where each opinion is a list of integers (encoding a sequence of words). The variables train_labels and test_labels are binary lists, where 0 indicates that the associated opinion is negative and 1 that it is positive:"
   ]
  },
  {
   "cell_type": "code",
   "execution_count": 4,
   "metadata": {},
   "outputs": [
    {
     "data": {
      "text/html": [
       "<div>\n",
       "<style scoped>\n",
       "    .dataframe tbody tr th:only-of-type {\n",
       "        vertical-align: middle;\n",
       "    }\n",
       "\n",
       "    .dataframe tbody tr th {\n",
       "        vertical-align: top;\n",
       "    }\n",
       "\n",
       "    .dataframe thead th {\n",
       "        text-align: right;\n",
       "    }\n",
       "</style>\n",
       "<table border=\"1\" class=\"dataframe\">\n",
       "  <thead>\n",
       "    <tr style=\"text-align: right;\">\n",
       "      <th></th>\n",
       "      <th>0</th>\n",
       "    </tr>\n",
       "  </thead>\n",
       "  <tbody>\n",
       "    <tr>\n",
       "      <th>0</th>\n",
       "      <td>[1, 14, 22, 16, 43, 530, 973, 1622, 1385, 65, ...</td>\n",
       "    </tr>\n",
       "    <tr>\n",
       "      <th>1</th>\n",
       "      <td>[1, 194, 1153, 194, 8255, 78, 228, 5, 6, 1463,...</td>\n",
       "    </tr>\n",
       "    <tr>\n",
       "      <th>2</th>\n",
       "      <td>[1, 14, 47, 8, 30, 31, 7, 4, 249, 108, 7, 4, 5...</td>\n",
       "    </tr>\n",
       "    <tr>\n",
       "      <th>3</th>\n",
       "      <td>[1, 4, 2, 2, 33, 2804, 4, 2040, 432, 111, 153,...</td>\n",
       "    </tr>\n",
       "    <tr>\n",
       "      <th>4</th>\n",
       "      <td>[1, 249, 1323, 7, 61, 113, 10, 10, 13, 1637, 1...</td>\n",
       "    </tr>\n",
       "  </tbody>\n",
       "</table>\n",
       "</div>"
      ],
      "text/plain": [
       "                                                   0\n",
       "0  [1, 14, 22, 16, 43, 530, 973, 1622, 1385, 65, ...\n",
       "1  [1, 194, 1153, 194, 8255, 78, 228, 5, 6, 1463,...\n",
       "2  [1, 14, 47, 8, 30, 31, 7, 4, 249, 108, 7, 4, 5...\n",
       "3  [1, 4, 2, 2, 33, 2804, 4, 2040, 432, 111, 153,...\n",
       "4  [1, 249, 1323, 7, 61, 113, 10, 10, 13, 1637, 1..."
      ]
     },
     "execution_count": 4,
     "metadata": {},
     "output_type": "execute_result"
    }
   ],
   "source": [
    "import pandas as pd\n",
    "\n",
    "pd.DataFrame(train_data).head()"
   ]
  },
  {
   "cell_type": "code",
   "execution_count": 5,
   "metadata": {},
   "outputs": [
    {
     "data": {
      "text/html": [
       "<div>\n",
       "<style scoped>\n",
       "    .dataframe tbody tr th:only-of-type {\n",
       "        vertical-align: middle;\n",
       "    }\n",
       "\n",
       "    .dataframe tbody tr th {\n",
       "        vertical-align: top;\n",
       "    }\n",
       "\n",
       "    .dataframe thead th {\n",
       "        text-align: right;\n",
       "    }\n",
       "</style>\n",
       "<table border=\"1\" class=\"dataframe\">\n",
       "  <thead>\n",
       "    <tr style=\"text-align: right;\">\n",
       "      <th></th>\n",
       "      <th>0</th>\n",
       "    </tr>\n",
       "  </thead>\n",
       "  <tbody>\n",
       "    <tr>\n",
       "      <th>0</th>\n",
       "      <td>1</td>\n",
       "    </tr>\n",
       "    <tr>\n",
       "      <th>1</th>\n",
       "      <td>0</td>\n",
       "    </tr>\n",
       "    <tr>\n",
       "      <th>2</th>\n",
       "      <td>0</td>\n",
       "    </tr>\n",
       "    <tr>\n",
       "      <th>3</th>\n",
       "      <td>1</td>\n",
       "    </tr>\n",
       "    <tr>\n",
       "      <th>4</th>\n",
       "      <td>0</td>\n",
       "    </tr>\n",
       "  </tbody>\n",
       "</table>\n",
       "</div>"
      ],
      "text/plain": [
       "   0\n",
       "0  1\n",
       "1  0\n",
       "2  0\n",
       "3  1\n",
       "4  0"
      ]
     },
     "execution_count": 5,
     "metadata": {},
     "output_type": "execute_result"
    }
   ],
   "source": [
    "pd.DataFrame(train_labels).head()"
   ]
  },
  {
   "cell_type": "markdown",
   "metadata": {
    "colab_type": "text",
    "id": "FsS54CABb4Ul"
   },
   "source": [
    "\n",
    "\n",
    "## Data Preprocessing"
   ]
  },
  {
   "cell_type": "markdown",
   "metadata": {
    "colab_type": "text",
    "id": "VMhzTRi5b4Un"
   },
   "source": [
    "Since neural networks do not support lists of integers as input, because they are of variable length, we have to add additional pre-processing to be able to work with them. We have two options:\n",
    "\n",
    "- Complete the shorter lists so that they're all the same length, and then convert them into tensors that will feed the input layer of the network.\n",
    "- Encode the lists in One-hot to convert them into 0s and 1s vectors. Since we have a maximum of 10,000 words in our vocabulary, each opinion will be converted into a binary list of 10,000 positions indicating which words appear in the opinion. In this case, the first (dense) layer of our network would be connected with vectors of length 10,000.\n",
    "\n",
    "We will choose this second option, which over time we will see has more advantages than the first.\n",
    "\n",
    "The code that allows us to do this conversion is:\n"
   ]
  },
  {
   "cell_type": "code",
   "execution_count": 6,
   "metadata": {
    "colab": {},
    "colab_type": "code",
    "id": "fImSfZXwb4Uq"
   },
   "outputs": [],
   "source": [
    "import numpy as np\n",
    "\n",
    "def vectorize_sequences(sequences, dimension=numwords):\n",
    "    # Create an all-zero matrix of shape (len(sequences), dimension)\n",
    "    results = np.zeros((len(sequences), dimension))\n",
    "    for i, sequence in enumerate(sequences):\n",
    "        results[i, sequence] = 1.  # set specific indices of results[i] to 1s\n",
    "    return results\n",
    "\n",
    "# Our vectorized training data\n",
    "x_train = vectorize_sequences(train_data)\n",
    "# Our vectorized test data\n",
    "x_test = vectorize_sequences(test_data)"
   ]
  },
  {
   "cell_type": "markdown",
   "metadata": {
    "colab_type": "text",
    "id": "_yK1yZ8kb4Uy"
   },
   "source": [
    "We would also have to do a conversion with the labels, but since in this case they are already binary vectors, it is enough to convert them into numerical ones:\n"
   ]
  },
  {
   "cell_type": "code",
   "execution_count": 7,
   "metadata": {
    "colab": {},
    "colab_type": "code",
    "id": "tE7vdcRxb4U0"
   },
   "outputs": [],
   "source": [
    "# Our vectorized labels\n",
    "y_train = np.asarray(train_labels).astype('float32')\n",
    "y_test = np.asarray(test_labels).astype('float32')"
   ]
  },
  {
   "cell_type": "code",
   "execution_count": 9,
   "metadata": {},
   "outputs": [
    {
     "data": {
      "text/plain": [
       "array([1., 0., 0., ..., 0., 1., 0.], dtype=float32)"
      ]
     },
     "execution_count": 9,
     "metadata": {},
     "output_type": "execute_result"
    }
   ],
   "source": [
    "y_train"
   ]
  },
  {
   "cell_type": "markdown",
   "metadata": {
    "colab_type": "text",
    "id": "Bo0OEMd3b4U8"
   },
   "source": [
    "## Network Definition"
   ]
  },
  {
   "cell_type": "markdown",
   "metadata": {
    "colab_type": "text",
    "id": "l_Rm5lq3b4U-"
   },
   "source": [
    "As we have seen, the input data are vectors, and the labels are scalar (1s and 0s), so this is the simplest configuration possible to be worked with a neural network, and a type of network that works well with this type of problem is a simple stack of dense layers with relu activations, which in Keras are built with the instruction: layers.Dense(16, activation='relu').\n",
    "\n",
    "In general, in all types of layers, the most common arguments you will have to use will be the number of neurons in the layer, and the type of activation these neurons will use. In the previous case we used 16 neurons, which means that this layer will use 16 dimensions to try to structure the patterns it finds in the input data according to the target function (loss) that it should optimize.\n",
    "\n",
    "It can be intuitively interpreted that the dimension of the layer represents how much freedom the network is allowed to learn internal representations. Having more units allows you to learn more complex representations, but also increases the computational load and facilitates the memorization of patterns in the training data (which may not be relevant to the problem and may lead to an over-adjustment phenomenon).\n",
    "\n",
    "Regarding the architecture when working with dense layers, there are two key decisions to consider:\n",
    "\n",
    "\n",
    "*   How many layers to use.\n",
    "\n",
    "*   How many units to place in each layer.\n",
    "\n",
    "\n",
    "    \n",
    "\n",
    "While there are no general rules for how to make these decisions, there are some reasons that can be learned from experience and some implicit knowledge useful for network design. For this example, without a clear justification, and only as a demonstration of the techniques we will use three intermediate layers of 16 neurons each, and a third layer that will have a single scalar output (which will represent the model's prediction). The intermediate layers will use relu as an activation function, and the final layer will use a sigmoid (which has an output in [0, 1]).\n",
    "\n",
    "The implementation in Keras, similar to the one we already did for MNIST, is therefore"
   ]
  },
  {
   "cell_type": "code",
   "execution_count": 11,
   "metadata": {
    "colab": {
     "base_uri": "https://localhost:8080/",
     "height": 295
    },
    "colab_type": "code",
    "executionInfo": {
     "elapsed": 877,
     "status": "ok",
     "timestamp": 1585003968093,
     "user": {
      "displayName": "Ekhi Zugasti Uriguen",
      "photoUrl": "https://lh3.googleusercontent.com/a-/AOh14GjLW21F9JMtJwfUDFcY2ROtJC3l1QPlGpvoN9Qy=s64",
      "userId": "00195558535022081217"
     },
     "user_tz": -60
    },
    "id": "zr8Sk4dob4VA",
    "outputId": "7cc74137-948e-4eaa-944a-086a726176f4"
   },
   "outputs": [
    {
     "name": "stdout",
     "output_type": "stream",
     "text": [
      "Model: \"sequential\"\n",
      "_________________________________________________________________\n",
      "Layer (type)                 Output Shape              Param #   \n",
      "=================================================================\n",
      "dense (Dense)                (None, 4)                 40004     \n",
      "_________________________________________________________________\n",
      "dense_1 (Dense)              (None, 4)                 20        \n",
      "_________________________________________________________________\n",
      "dense_2 (Dense)              (None, 4)                 20        \n",
      "_________________________________________________________________\n",
      "dense_3 (Dense)              (None, 1)                 5         \n",
      "=================================================================\n",
      "Total params: 40,049\n",
      "Trainable params: 40,049\n",
      "Non-trainable params: 0\n",
      "_________________________________________________________________\n"
     ]
    }
   ],
   "source": [
    "from tensorflow.keras import models\n",
    "from tensorflow.keras import layers\n",
    "from tensorflow.keras.utils import plot_model\n",
    "\n",
    "red = models.Sequential()\n",
    "red.add(layers.Dense(4, activation='relu', input_shape=(numwords,)))\n",
    "red.add(layers.Dense(4, activation='relu'))\n",
    "red.add(layers.Dense(4, activation='relu'))\n",
    "red.add(layers.Dense(1, activation='sigmoid'))\n",
    "red.summary()\n"
   ]
  },
  {
   "cell_type": "code",
   "execution_count": 14,
   "metadata": {
    "colab": {
     "base_uri": "https://localhost:8080/",
     "height": 533
    },
    "colab_type": "code",
    "executionInfo": {
     "elapsed": 14561,
     "status": "ok",
     "timestamp": 1584999765392,
     "user": {
      "displayName": "Ekhi Zugasti Uriguen",
      "photoUrl": "https://lh3.googleusercontent.com/a-/AOh14GjLW21F9JMtJwfUDFcY2ROtJC3l1QPlGpvoN9Qy=s64",
      "userId": "00195558535022081217"
     },
     "user_tz": -60
    },
    "id": "Re9jQl4eOOTC",
    "outputId": "c9e9b172-4a64-4923-d17c-3aabad741b6d"
   },
   "outputs": [
    {
     "name": "stdout",
     "output_type": "stream",
     "text": [
      "Failed to import pydot. You must install pydot and graphviz for `pydotprint` to work.\n"
     ]
    }
   ],
   "source": [
    "plot_model(red, to_file='IMDBModel_plot.png', show_shapes=True, show_layer_names=True)"
   ]
  },
  {
   "cell_type": "markdown",
   "metadata": {
    "colab_type": "text",
    "id": "qqi5crYUb4VF"
   },
   "source": [
    "Following the same pattern we saw in the previous example, we need to choose the loss function (which will be minimized) and the optimization method (which will seek to minimize that function).\n",
    "\n",
    "Since we are facing a binary classification problem and the output of our network is a probability (provided by the sigmoid), we will use binary_crossentropy as the loss function. This is not the only viable option, we could have chosen, for example, mean_squared_error, but in this case binary_crossentropy is a better option because we are working with probabilities.\n",
    "\n",
    "Cross entropy comes from the Information Theory field, and measures the distance between probability distributions (in this case, the distribution calculated by the predictor and the one that represents the actual distribution coming from the training data).\n",
    "\n",
    "As an optimizer we will use rmsprop, which is usually a good choice in almost all cases. To monitor the evolution of learning we will use only one metric, accuracy.\n"
   ]
  },
  {
   "cell_type": "code",
   "execution_count": 15,
   "metadata": {
    "colab": {},
    "colab_type": "code",
    "id": "gecGwuQZb4VH"
   },
   "outputs": [],
   "source": [
    "red.compile(optimizer='rmsprop', loss='binary_crossentropy', metrics=['binary_accuracy'])"
   ]
  },
  {
   "cell_type": "markdown",
   "metadata": {
    "colab_type": "text",
    "id": "6eoQENnpb4VO"
   },
   "source": [
    "In this case we are passing all the data as strings that come predefined in Keras and work with fixed parameters, but it is also possible to adjust with more flexibility each one of them and to configure the parameters on which it depends, and even to pass you functions, either those that Keras brings or completely customized. For example:\n",
    " - we can set a new learning Rate. The lower the learning rate, the more difficult will be achieving the optimal point (so we would need to add more epochs)"
   ]
  },
  {
   "cell_type": "code",
   "execution_count": 16,
   "metadata": {
    "colab": {},
    "colab_type": "code",
    "id": "_CunMAWLb4VP"
   },
   "outputs": [],
   "source": [
    "from tensorflow.keras import optimizers\n",
    "\n",
    "red.compile(optimizer=optimizers.RMSprop(lr=0.0001), #the default value is 0.001\n",
    "            loss='binary_crossentropy',\n",
    "            metrics=['binary_accuracy'])"
   ]
  },
  {
   "cell_type": "markdown",
   "metadata": {
    "colab_type": "text",
    "id": "heMNn39Bb4VV"
   },
   "source": [
    "## Model Validation"
   ]
  },
  {
   "cell_type": "markdown",
   "metadata": {
    "colab_type": "text",
    "id": "n7vFSm_Tb4VX"
   },
   "source": [
    "n order to monitor the metrics (accuracy) while training is taking place we need to have more data that the model does not use during the process. We will create a validation set by separating another 10,000 samples from the original set. So the situation is as follows:\n",
    "- Training set: with which we will try to optimize the weights of the network so that it minimizes the loss function. In this process we use a model that depends on certain parameters that may need to be adjusted to achieve better performance.\n",
    "- Validation set: with which we will measure how good is the concrete model we are training (with fixed parameters). It is something like a temporary test set. It allows to adjust these parameters to improve the performance.\n",
    "- Test set: that has not been used at any moment of the previous iterations and that allows to measure in an objective way the goodness of the final model obtained."
   ]
  },
  {
   "cell_type": "code",
   "execution_count": 18,
   "metadata": {
    "colab": {},
    "colab_type": "code",
    "id": "eKPokIlvb4VZ"
   },
   "outputs": [],
   "source": [
    "from sklearn.model_selection import train_test_split\n",
    "\n",
    "partial_x_train, x_val, partial_y_train, y_val = train_test_split(x_train, y_train, test_size=0.15)"
   ]
  },
  {
   "cell_type": "markdown",
   "metadata": {
    "colab_type": "text",
    "id": "olPf5tWFb4Vg"
   },
   "source": [
    "We will then train the model on the complete training set (no validation, no test), in mini-batches of 512 samples (i.e. every 512 samples analyzed, the weights of the network are updated).\n",
    "\n",
    "We will monitor loss and accuracy over the 10,000 samples left in the validation set. To do this, we use the validation_data argument of the fit function, which we did not use in the previous example.\n",
    "\n",
    "As predicting the right number of iterations (epochs) can be complicated, we will prefix a high number of epochs (500) and define an early stop criterion using the EarlyStopping function (to which several decisions must be indicated, the most relevant being the monitoring criterion to be used and the number of epochs without improvement in it before stopping, called patience):"
   ]
  },
  {
   "cell_type": "code",
   "execution_count": 19,
   "metadata": {
    "colab": {
     "base_uri": "https://localhost:8080/",
     "height": 1000
    },
    "colab_type": "code",
    "executionInfo": {
     "elapsed": 86949,
     "status": "ok",
     "timestamp": 1585004067930,
     "user": {
      "displayName": "Ekhi Zugasti Uriguen",
      "photoUrl": "https://lh3.googleusercontent.com/a-/AOh14GjLW21F9JMtJwfUDFcY2ROtJC3l1QPlGpvoN9Qy=s64",
      "userId": "00195558535022081217"
     },
     "user_tz": -60
    },
    "id": "xE643n8bb4Vh",
    "outputId": "173dd82d-7c71-41ef-fc77-3d83744f509b"
   },
   "outputs": [
    {
     "name": "stdout",
     "output_type": "stream",
     "text": [
      "Train on 21250 samples, validate on 3750 samples\n",
      "Epoch 1/500\n",
      "21250/21250 [==============================] - 4s 174us/sample - loss: 0.6913 - binary_accuracy: 0.5393 - val_loss: 0.6875 - val_binary_accuracy: 0.6013\n",
      "Epoch 2/500\n",
      "21250/21250 [==============================] - 1s 45us/sample - loss: 0.6800 - binary_accuracy: 0.6439 - val_loss: 0.6694 - val_binary_accuracy: 0.6640\n",
      "Epoch 3/500\n",
      "21250/21250 [==============================] - 1s 43us/sample - loss: 0.6604 - binary_accuracy: 0.6889 - val_loss: 0.6520 - val_binary_accuracy: 0.7251\n",
      "Epoch 4/500\n",
      "21250/21250 [==============================] - 1s 41us/sample - loss: 0.6422 - binary_accuracy: 0.7222 - val_loss: 0.6352 - val_binary_accuracy: 0.7085\n",
      "Epoch 5/500\n",
      "21250/21250 [==============================] - 1s 43us/sample - loss: 0.6252 - binary_accuracy: 0.7429 - val_loss: 0.6194 - val_binary_accuracy: 0.7437\n",
      "Epoch 6/500\n",
      "21250/21250 [==============================] - 1s 43us/sample - loss: 0.6090 - binary_accuracy: 0.7651 - val_loss: 0.6048 - val_binary_accuracy: 0.7696\n",
      "Epoch 7/500\n",
      "21250/21250 [==============================] - 1s 41us/sample - loss: 0.5935 - binary_accuracy: 0.7849 - val_loss: 0.5908 - val_binary_accuracy: 0.7923\n",
      "Epoch 8/500\n",
      "21250/21250 [==============================] - 1s 43us/sample - loss: 0.5785 - binary_accuracy: 0.8043 - val_loss: 0.5772 - val_binary_accuracy: 0.7944\n",
      "Epoch 9/500\n",
      "21250/21250 [==============================] - 1s 42us/sample - loss: 0.5639 - binary_accuracy: 0.8183 - val_loss: 0.5641 - val_binary_accuracy: 0.8040\n",
      "Epoch 10/500\n",
      "21250/21250 [==============================] - 1s 43us/sample - loss: 0.5500 - binary_accuracy: 0.8290 - val_loss: 0.5518 - val_binary_accuracy: 0.8240\n",
      "Epoch 11/500\n",
      "21250/21250 [==============================] - 1s 43us/sample - loss: 0.5367 - binary_accuracy: 0.8420 - val_loss: 0.5398 - val_binary_accuracy: 0.8283\n",
      "Epoch 12/500\n",
      "21250/21250 [==============================] - 1s 42us/sample - loss: 0.5236 - binary_accuracy: 0.8503 - val_loss: 0.5285 - val_binary_accuracy: 0.8309\n",
      "Epoch 13/500\n",
      "21250/21250 [==============================] - 1s 45us/sample - loss: 0.5110 - binary_accuracy: 0.8575 - val_loss: 0.5173 - val_binary_accuracy: 0.8360\n",
      "Epoch 14/500\n",
      "21250/21250 [==============================] - 1s 40us/sample - loss: 0.4987 - binary_accuracy: 0.8641 - val_loss: 0.5066 - val_binary_accuracy: 0.8435\n",
      "Epoch 15/500\n",
      "21250/21250 [==============================] - 1s 45us/sample - loss: 0.4867 - binary_accuracy: 0.8702 - val_loss: 0.4961 - val_binary_accuracy: 0.8480\n",
      "Epoch 16/500\n",
      "21250/21250 [==============================] - 1s 44us/sample - loss: 0.4749 - binary_accuracy: 0.8750 - val_loss: 0.4860 - val_binary_accuracy: 0.8504\n",
      "Epoch 17/500\n",
      "21250/21250 [==============================] - 1s 42us/sample - loss: 0.4635 - binary_accuracy: 0.8801 - val_loss: 0.4765 - val_binary_accuracy: 0.8517\n",
      "Epoch 18/500\n",
      "21250/21250 [==============================] - 1s 49us/sample - loss: 0.4524 - binary_accuracy: 0.8840 - val_loss: 0.4670 - val_binary_accuracy: 0.8555\n",
      "Epoch 19/500\n",
      "21250/21250 [==============================] - 1s 45us/sample - loss: 0.4417 - binary_accuracy: 0.8876 - val_loss: 0.4578 - val_binary_accuracy: 0.8600\n",
      "Epoch 20/500\n",
      "21250/21250 [==============================] - 1s 42us/sample - loss: 0.4312 - binary_accuracy: 0.8914 - val_loss: 0.4492 - val_binary_accuracy: 0.8616\n",
      "Epoch 21/500\n",
      "21250/21250 [==============================] - 1s 47us/sample - loss: 0.4209 - binary_accuracy: 0.8951 - val_loss: 0.4406 - val_binary_accuracy: 0.8656\n",
      "Epoch 22/500\n",
      "21250/21250 [==============================] - 1s 45us/sample - loss: 0.4109 - binary_accuracy: 0.8985 - val_loss: 0.4325 - val_binary_accuracy: 0.8667\n",
      "Epoch 23/500\n",
      "21250/21250 [==============================] - 1s 45us/sample - loss: 0.4011 - binary_accuracy: 0.9012 - val_loss: 0.4245 - val_binary_accuracy: 0.8707\n",
      "Epoch 24/500\n",
      "21250/21250 [==============================] - 1s 49us/sample - loss: 0.3916 - binary_accuracy: 0.9039 - val_loss: 0.4168 - val_binary_accuracy: 0.8736\n",
      "Epoch 25/500\n",
      "21250/21250 [==============================] - 1s 42us/sample - loss: 0.3823 - binary_accuracy: 0.9056 - val_loss: 0.4095 - val_binary_accuracy: 0.8741\n",
      "Epoch 26/500\n",
      "21250/21250 [==============================] - 1s 42us/sample - loss: 0.3733 - binary_accuracy: 0.9097 - val_loss: 0.4026 - val_binary_accuracy: 0.8741\n",
      "Epoch 27/500\n",
      "21250/21250 [==============================] - 1s 43us/sample - loss: 0.3644 - binary_accuracy: 0.9118 - val_loss: 0.3956 - val_binary_accuracy: 0.8776\n",
      "Epoch 28/500\n",
      "21250/21250 [==============================] - 1s 41us/sample - loss: 0.3557 - binary_accuracy: 0.9134 - val_loss: 0.3888 - val_binary_accuracy: 0.8795\n",
      "Epoch 29/500\n",
      "21250/21250 [==============================] - 1s 45us/sample - loss: 0.3473 - binary_accuracy: 0.9157 - val_loss: 0.3828 - val_binary_accuracy: 0.8792\n",
      "Epoch 30/500\n",
      "21250/21250 [==============================] - 1s 47us/sample - loss: 0.3392 - binary_accuracy: 0.9170 - val_loss: 0.3766 - val_binary_accuracy: 0.8811\n",
      "Epoch 31/500\n",
      "21250/21250 [==============================] - 1s 44us/sample - loss: 0.3312 - binary_accuracy: 0.9190 - val_loss: 0.3709 - val_binary_accuracy: 0.8816\n",
      "Epoch 32/500\n",
      "21250/21250 [==============================] - 1s 48us/sample - loss: 0.3234 - binary_accuracy: 0.9207 - val_loss: 0.3655 - val_binary_accuracy: 0.8816\n",
      "Epoch 33/500\n",
      "21250/21250 [==============================] - 1s 42us/sample - loss: 0.3158 - binary_accuracy: 0.9216 - val_loss: 0.3593 - val_binary_accuracy: 0.8861\n",
      "Epoch 34/500\n",
      "21250/21250 [==============================] - 1s 43us/sample - loss: 0.3084 - binary_accuracy: 0.9238 - val_loss: 0.3545 - val_binary_accuracy: 0.8856\n",
      "Epoch 35/500\n",
      "21250/21250 [==============================] - 1s 43us/sample - loss: 0.3012 - binary_accuracy: 0.9253 - val_loss: 0.3498 - val_binary_accuracy: 0.8851\n",
      "Epoch 36/500\n",
      "21250/21250 [==============================] - 1s 48us/sample - loss: 0.2944 - binary_accuracy: 0.9265 - val_loss: 0.3450 - val_binary_accuracy: 0.8861\n",
      "Epoch 37/500\n",
      "21250/21250 [==============================] - 1s 44us/sample - loss: 0.2877 - binary_accuracy: 0.9277 - val_loss: 0.3408 - val_binary_accuracy: 0.8872\n",
      "Epoch 38/500\n",
      "21250/21250 [==============================] - 1s 49us/sample - loss: 0.2812 - binary_accuracy: 0.9292 - val_loss: 0.3360 - val_binary_accuracy: 0.8880\n",
      "Epoch 39/500\n",
      "21250/21250 [==============================] - 1s 44us/sample - loss: 0.2747 - binary_accuracy: 0.9304 - val_loss: 0.3316 - val_binary_accuracy: 0.8885\n",
      "Epoch 40/500\n",
      "21250/21250 [==============================] - 1s 45us/sample - loss: 0.2686 - binary_accuracy: 0.9322 - val_loss: 0.3283 - val_binary_accuracy: 0.8875\n",
      "Epoch 41/500\n",
      "21250/21250 [==============================] - 1s 43us/sample - loss: 0.2625 - binary_accuracy: 0.9337 - val_loss: 0.3241 - val_binary_accuracy: 0.8891\n",
      "Epoch 42/500\n",
      "21250/21250 [==============================] - 1s 44us/sample - loss: 0.2567 - binary_accuracy: 0.9350 - val_loss: 0.3214 - val_binary_accuracy: 0.8885\n",
      "Epoch 43/500\n",
      "21250/21250 [==============================] - 1s 44us/sample - loss: 0.2510 - binary_accuracy: 0.9352 - val_loss: 0.3171 - val_binary_accuracy: 0.8901\n",
      "Epoch 44/500\n",
      "21250/21250 [==============================] - 1s 49us/sample - loss: 0.2455 - binary_accuracy: 0.9366 - val_loss: 0.3144 - val_binary_accuracy: 0.8896\n",
      "Epoch 45/500\n",
      "21250/21250 [==============================] - 1s 47us/sample - loss: 0.2400 - binary_accuracy: 0.9375 - val_loss: 0.3111 - val_binary_accuracy: 0.8912\n",
      "Epoch 46/500\n",
      "21250/21250 [==============================] - 1s 45us/sample - loss: 0.2346 - binary_accuracy: 0.9385 - val_loss: 0.3081 - val_binary_accuracy: 0.8917\n",
      "Epoch 47/500\n",
      "21250/21250 [==============================] - 1s 42us/sample - loss: 0.2297 - binary_accuracy: 0.9399 - val_loss: 0.3058 - val_binary_accuracy: 0.8923\n",
      "Epoch 48/500\n",
      "21250/21250 [==============================] - 1s 43us/sample - loss: 0.2250 - binary_accuracy: 0.9403 - val_loss: 0.3039 - val_binary_accuracy: 0.8912\n",
      "Epoch 49/500\n",
      "21250/21250 [==============================] - 1s 44us/sample - loss: 0.2203 - binary_accuracy: 0.9413 - val_loss: 0.3018 - val_binary_accuracy: 0.8920\n",
      "Epoch 50/500\n",
      "21250/21250 [==============================] - 1s 41us/sample - loss: 0.2158 - binary_accuracy: 0.9430 - val_loss: 0.2999 - val_binary_accuracy: 0.8912\n",
      "Epoch 51/500\n",
      "21250/21250 [==============================] - 1s 44us/sample - loss: 0.2115 - binary_accuracy: 0.9437 - val_loss: 0.2980 - val_binary_accuracy: 0.8920\n",
      "Epoch 52/500\n",
      "21250/21250 [==============================] - 1s 48us/sample - loss: 0.2073 - binary_accuracy: 0.9444 - val_loss: 0.2963 - val_binary_accuracy: 0.8920\n",
      "Epoch 53/500\n",
      "21250/21250 [==============================] - 1s 43us/sample - loss: 0.2032 - binary_accuracy: 0.9461 - val_loss: 0.2948 - val_binary_accuracy: 0.8915\n",
      "Epoch 54/500\n",
      "21250/21250 [==============================] - 1s 43us/sample - loss: 0.1993 - binary_accuracy: 0.9466 - val_loss: 0.2928 - val_binary_accuracy: 0.8912\n",
      "Epoch 55/500\n",
      "21250/21250 [==============================] - 1s 41us/sample - loss: 0.1954 - binary_accuracy: 0.9476 - val_loss: 0.2919 - val_binary_accuracy: 0.8915\n",
      "Epoch 56/500\n",
      "21250/21250 [==============================] - 1s 43us/sample - loss: 0.1916 - binary_accuracy: 0.9479 - val_loss: 0.2911 - val_binary_accuracy: 0.8907\n",
      "Epoch 57/500\n",
      "21250/21250 [==============================] - 1s 41us/sample - loss: 0.1880 - binary_accuracy: 0.9485 - val_loss: 0.2900 - val_binary_accuracy: 0.8899\n",
      "Epoch 58/500\n",
      "21250/21250 [==============================] - 1s 42us/sample - loss: 0.1846 - binary_accuracy: 0.9493 - val_loss: 0.2883 - val_binary_accuracy: 0.8909\n",
      "Epoch 59/500\n",
      "21250/21250 [==============================] - 1s 43us/sample - loss: 0.1813 - binary_accuracy: 0.9499 - val_loss: 0.2879 - val_binary_accuracy: 0.8901\n",
      "Epoch 60/500\n",
      "21250/21250 [==============================] - 1s 40us/sample - loss: 0.1780 - binary_accuracy: 0.9505 - val_loss: 0.2871 - val_binary_accuracy: 0.8912\n",
      "Epoch 61/500\n",
      "21250/21250 [==============================] - 1s 43us/sample - loss: 0.1749 - binary_accuracy: 0.9517 - val_loss: 0.2865 - val_binary_accuracy: 0.8915\n",
      "Epoch 62/500\n",
      "21250/21250 [==============================] - 1s 41us/sample - loss: 0.1720 - binary_accuracy: 0.9516 - val_loss: 0.2868 - val_binary_accuracy: 0.8901\n",
      "Epoch 63/500\n",
      "21250/21250 [==============================] - 1s 43us/sample - loss: 0.1690 - binary_accuracy: 0.9517 - val_loss: 0.2854 - val_binary_accuracy: 0.8917\n",
      "Epoch 64/500\n",
      "21250/21250 [==============================] - 1s 46us/sample - loss: 0.1661 - binary_accuracy: 0.9524 - val_loss: 0.2852 - val_binary_accuracy: 0.8920\n",
      "Epoch 65/500\n",
      "21250/21250 [==============================] - 1s 48us/sample - loss: 0.1632 - binary_accuracy: 0.9536 - val_loss: 0.2849 - val_binary_accuracy: 0.8920\n",
      "Epoch 66/500\n",
      "21250/21250 [==============================] - 1s 44us/sample - loss: 0.1605 - binary_accuracy: 0.9540 - val_loss: 0.2845 - val_binary_accuracy: 0.8923\n",
      "Epoch 67/500\n",
      "21250/21250 [==============================] - 1s 47us/sample - loss: 0.1581 - binary_accuracy: 0.9552 - val_loss: 0.2855 - val_binary_accuracy: 0.8909\n",
      "Epoch 68/500\n",
      "21250/21250 [==============================] - 1s 40us/sample - loss: 0.1556 - binary_accuracy: 0.9558 - val_loss: 0.2848 - val_binary_accuracy: 0.8917\n",
      "Epoch 69/500\n",
      "21250/21250 [==============================] - 1s 43us/sample - loss: 0.1531 - binary_accuracy: 0.9568 - val_loss: 0.2851 - val_binary_accuracy: 0.8923\n",
      "Epoch 70/500\n",
      "21250/21250 [==============================] - 1s 42us/sample - loss: 0.1507 - binary_accuracy: 0.9570 - val_loss: 0.2849 - val_binary_accuracy: 0.8920\n",
      "Epoch 71/500\n",
      "21250/21250 [==============================] - 1s 42us/sample - loss: 0.1483 - binary_accuracy: 0.9579 - val_loss: 0.2854 - val_binary_accuracy: 0.8931\n"
     ]
    }
   ],
   "source": [
    "from tensorflow.keras.callbacks import EarlyStopping\n",
    "\n",
    "EarlyStopping_CallBack = [EarlyStopping(monitor='val_loss',\n",
    "                                        min_delta=0,\n",
    "                                        patience=5,\n",
    "                                        verbose=0,\n",
    "                                        mode='auto',\n",
    "                                        baseline=None)]\n",
    "entrenamiento = red.fit(partial_x_train,\n",
    "                        partial_y_train,\n",
    "                        callbacks=EarlyStopping_CallBack,\n",
    "                        epochs=500,\n",
    "                        batch_size=512,\n",
    "                        validation_data=(x_val, y_val))"
   ]
  },
  {
   "cell_type": "markdown",
   "metadata": {
    "colab_type": "text",
    "id": "BW5dK1kxb4Vm"
   },
   "source": [
    "the call to fit() returns a history object, which has the following structure"
   ]
  },
  {
   "cell_type": "code",
   "execution_count": 20,
   "metadata": {
    "colab": {
     "base_uri": "https://localhost:8080/",
     "height": 34
    },
    "colab_type": "code",
    "executionInfo": {
     "elapsed": 617,
     "status": "ok",
     "timestamp": 1585004095919,
     "user": {
      "displayName": "Ekhi Zugasti Uriguen",
      "photoUrl": "https://lh3.googleusercontent.com/a-/AOh14GjLW21F9JMtJwfUDFcY2ROtJC3l1QPlGpvoN9Qy=s64",
      "userId": "00195558535022081217"
     },
     "user_tz": -60
    },
    "id": "rEG63sQxb4Vo",
    "outputId": "b17ff3ff-2356-4b3a-9b3b-a778626c9023"
   },
   "outputs": [
    {
     "data": {
      "text/plain": [
       "dict_keys(['loss', 'binary_accuracy', 'val_loss', 'val_binary_accuracy'])"
      ]
     },
     "execution_count": 20,
     "metadata": {},
     "output_type": "execute_result"
    }
   ],
   "source": [
    "entrenamiento_dict = entrenamiento.history\n",
    "entrenamiento_dict.keys()"
   ]
  },
  {
   "cell_type": "markdown",
   "metadata": {
    "colab_type": "text",
    "id": "A1Z4XVELb4Vs"
   },
   "source": [
    "In this case, this object contains 4 entries, one for each metric being monitored during training and during validation. We can use Matplotlib to represent the training and validation losses/accuracies simultaneously:"
   ]
  },
  {
   "cell_type": "code",
   "execution_count": 21,
   "metadata": {
    "colab": {
     "base_uri": "https://localhost:8080/",
     "height": 295
    },
    "colab_type": "code",
    "executionInfo": {
     "elapsed": 1795,
     "status": "ok",
     "timestamp": 1585004248630,
     "user": {
      "displayName": "Ekhi Zugasti Uriguen",
      "photoUrl": "https://lh3.googleusercontent.com/a-/AOh14GjLW21F9JMtJwfUDFcY2ROtJC3l1QPlGpvoN9Qy=s64",
      "userId": "00195558535022081217"
     },
     "user_tz": -60
    },
    "id": "IFBp0GiTb4Vv",
    "outputId": "63107b73-4b06-4c0b-ed46-f02be6aee24e"
   },
   "outputs": [
    {
     "data": {
      "image/png": "[encoded data removed]",
      "text/plain": [
       "<Figure size 432x288 with 1 Axes>"
      ]
     },
     "metadata": {
      "needs_background": "light"
     },
     "output_type": "display_data"
    }
   ],
   "source": [
    "import matplotlib.pyplot as plt\n",
    "\n",
    "ent_acc = entrenamiento.history['binary_accuracy']\n",
    "val_acc = entrenamiento.history['val_binary_accuracy']\n",
    "ent_loss = entrenamiento.history['loss']\n",
    "val_loss = entrenamiento.history['val_loss']\n",
    "\n",
    "epochs = range(1, len(ent_acc) + 1)\n",
    "\n",
    "# \"bo\" is for \"blue dot\"\n",
    "plt.plot(epochs, ent_loss, 'bo', label='Training')\n",
    "# r* red star\n",
    "plt.plot(epochs, val_loss, 'r*', label='Validation')\n",
    "plt.title('Loss in Training and Validation')\n",
    "plt.xlabel('Epochs')\n",
    "plt.ylabel('Loss')\n",
    "plt.legend()\n",
    "\n",
    "plt.show()"
   ]
  },
  {
   "cell_type": "code",
   "execution_count": 22,
   "metadata": {
    "colab": {
     "base_uri": "https://localhost:8080/",
     "height": 295
    },
    "colab_type": "code",
    "executionInfo": {
     "elapsed": 633,
     "status": "ok",
     "timestamp": 1585004284077,
     "user": {
      "displayName": "Ekhi Zugasti Uriguen",
      "photoUrl": "https://lh3.googleusercontent.com/a-/AOh14GjLW21F9JMtJwfUDFcY2ROtJC3l1QPlGpvoN9Qy=s64",
      "userId": "00195558535022081217"
     },
     "user_tz": -60
    },
    "id": "5vS-2yhYb4Vz",
    "outputId": "98582733-5a4a-41b3-9d9b-25e60fc643a5"
   },
   "outputs": [
    {
     "data": {
      "image/png": "[encoded data removed]",
      "text/plain": [
       "<Figure size 432x288 with 1 Axes>"
      ]
     },
     "metadata": {
      "needs_background": "light"
     },
     "output_type": "display_data"
    }
   ],
   "source": [
    "plt.clf()   # clear figure\n",
    "acc_values = entrenamiento_dict['binary_accuracy']\n",
    "val_acc_values = entrenamiento_dict['val_binary_accuracy']\n",
    "\n",
    "plt.plot(epochs, ent_acc, 'bo', label='Training')\n",
    "plt.plot(epochs, val_acc, 'r*', label='Validation')\n",
    "plt.title('Accuracy in Training and Validation')\n",
    "plt.xlabel('Epochs')\n",
    "plt.ylabel('Accuracy')\n",
    "plt.legend()\n",
    "\n",
    "plt.show()"
   ]
  },
  {
   "cell_type": "markdown",
   "metadata": {
    "colab_type": "text",
    "id": "Wjua5g21b4V5"
   },
   "source": [
    "These graphs show that the training loss decreases with each epoch, and that the training accuracy increases, which indicates that the optimization procedure is working properly (especially regarding the loss function). But in this case we observe that the same does not happen with the validation, which begin to worsen from the first epochs. This is a clear case of overfitting: after a few steps the system over-adjusts to the training data, and learns a representation that is specific to this data and cannot be generalised to other data.\n"
   ]
  },
  {
   "cell_type": "markdown",
   "metadata": {
    "colab_type": "text",
    "id": "E75XoYSDb4V7"
   },
   "source": [
    "Lets try to evaluate the model on the test data, not used until now:"
   ]
  },
  {
   "cell_type": "code",
   "execution_count": 23,
   "metadata": {
    "colab": {
     "base_uri": "https://localhost:8080/",
     "height": 52
    },
    "colab_type": "code",
    "executionInfo": {
     "elapsed": 4778,
     "status": "ok",
     "timestamp": 1585004379727,
     "user": {
      "displayName": "Ekhi Zugasti Uriguen",
      "photoUrl": "https://lh3.googleusercontent.com/a-/AOh14GjLW21F9JMtJwfUDFcY2ROtJC3l1QPlGpvoN9Qy=s64",
      "userId": "00195558535022081217"
     },
     "user_tz": -60
    },
    "id": "O1TMRsOUb4V8",
    "outputId": "7747bbeb-e60f-4b3e-d693-517710517dd2"
   },
   "outputs": [
    {
     "name": "stdout",
     "output_type": "stream",
     "text": [
      "25000/25000 [==============================] - 2s 92us/sample - loss: 0.2874 - binary_accuracy: 0.8866\n"
     ]
    },
    {
     "data": {
      "text/plain": [
       "[0.2874491779327393, 0.88664]"
      ]
     },
     "execution_count": 23,
     "metadata": {},
     "output_type": "execute_result"
    }
   ],
   "source": [
    "results = red.evaluate(x_test, y_test)\n",
    "results"
   ]
  },
  {
   "cell_type": "markdown",
   "metadata": {
    "colab_type": "text",
    "id": "C6sfYDk8b4V_"
   },
   "source": [
    "We see that the very simple approach we have made achieves a fairly high accuracy, although the current state of the art for this problem is around 95%, but working on much more elaborate networks."
   ]
  },
  {
   "cell_type": "markdown",
   "metadata": {
    "colab_type": "text",
    "id": "Me0Q41WCb4WB"
   },
   "source": [
    "## Predicción sobre datos nuevos"
   ]
  },
  {
   "cell_type": "markdown",
   "metadata": {
    "colab_type": "text",
    "id": "UXZdq8TAb4WE"
   },
   "source": [
    "Having trained the network, the natural step is to use the model for something practical. We can generate new predictions about opinions to analyze whether they are positive or not using the predict method associated with the model:"
   ]
  },
  {
   "cell_type": "code",
   "execution_count": 25,
   "metadata": {
    "colab": {
     "base_uri": "https://localhost:8080/",
     "height": 139
    },
    "colab_type": "code",
    "executionInfo": {
     "elapsed": 2727,
     "status": "ok",
     "timestamp": 1585004490631,
     "user": {
      "displayName": "Ekhi Zugasti Uriguen",
      "photoUrl": "https://lh3.googleusercontent.com/a-/AOh14GjLW21F9JMtJwfUDFcY2ROtJC3l1QPlGpvoN9Qy=s64",
      "userId": "00195558535022081217"
     },
     "user_tz": -60
    },
    "id": "hzqC7VjOb4WF",
    "outputId": "20553ce0-a6a0-4586-a00d-18493daa14a5"
   },
   "outputs": [
    {
     "data": {
      "text/plain": [
       "array([[0.14388803],\n",
       "       [0.9999862 ],\n",
       "       [0.96097124],\n",
       "       ...,\n",
       "       [0.18289196],\n",
       "       [0.10936368],\n",
       "       [0.67559177]], dtype=float32)"
      ]
     },
     "execution_count": 25,
     "metadata": {},
     "output_type": "execute_result"
    }
   ],
   "source": [
    "red.predict(x_test)"
   ]
  },
  {
   "cell_type": "markdown",
   "metadata": {
    "colab_type": "text",
    "id": "FKiCP3-Wb4WK"
   },
   "source": [
    "We see that the model is very determining in some cases (reaching values like 0.99 or 0.01) but not so much in others (with values close to a medium, like 0.46)"
   ]
  },
  {
   "cell_type": "markdown",
   "metadata": {
    "colab_type": "text",
    "id": "Y8sqwHKjb4WL"
   },
   "source": [
    "## Proposed Work"
   ]
  },
  {
   "cell_type": "markdown",
   "metadata": {
    "colab_type": "text",
    "id": "YTvTz-bIb4WN"
   },
   "source": [
    "Easy small changes:\n",
    "- In the previous model we used 3 hidden layers... check the effect of increasing or decreasing this number on validation and test accuracy.\n",
    "- Change the number of units in the hidden layers (8, 32, 64,...) and measure their effect.\n",
    "- See what happens when you use mse as a loss function, instead of binary_crossentropy?\n",
    "- See what happens when using tanh activation instead of relu?"
   ]
  },
  {
   "cell_type": "markdown",
   "metadata": {
    "colab_type": "text",
    "id": "bGl1pRykpGXy"
   },
   "source": [
    "Use Hyperas for Parameter tunning:\n",
    "Select a fixed number of layers and let Hyperas select the best hyperparameters for all of them \n",
    "\n",
    "\n",
    "*   Number of neurons in each layer\n",
    "*   Activation function for each layer\n",
    "* Dropout value \n",
    "* optimizer\n",
    "* Batch size\n",
    "\n",
    "Is it possible to add or remove layers with hyperas?\n",
    "\n"
   ]
  },
  {
   "cell_type": "markdown",
   "metadata": {
    "colab_type": "text",
    "id": "znMP6jxSqosf"
   },
   "source": [
    "Hyperas is not currently installed in google colab, you can install it, executing the code:\n",
    "\n",
    "\n",
    "```\n",
    "!pip install hyperas\n",
    "```\n",
    "\n",
    "help for using Hyperas in colab: https://nilsschlueter.de/blog/articles/keras-hyperparameter-tuning-in-google-colab-using-hyperas/"
   ]
  },
  {
   "cell_type": "code",
   "execution_count": null,
   "metadata": {},
   "outputs": [],
   "source": []
  },
  {
   "cell_type": "markdown",
   "metadata": {},
   "source": [
    "## Easy small changes"
   ]
  },
  {
   "cell_type": "markdown",
   "metadata": {},
   "source": [
    "### In the previous model we used 3 hidden layers... check the effect of increasing or decreasing this number on validation and test accuracy."
   ]
  },
  {
   "cell_type": "code",
   "execution_count": 31,
   "metadata": {},
   "outputs": [
    {
     "name": "stdout",
     "output_type": "stream",
     "text": [
      "25000/25000 [==============================] - 2s 88us/sample - loss: 0.6931 - binary_accuracy: 0.5000\n"
     ]
    },
    {
     "data": {
      "text/plain": [
       "[0.6931478381919861, 0.5]"
      ]
     },
     "execution_count": 31,
     "metadata": {},
     "output_type": "execute_result"
    }
   ],
   "source": [
    "# we try adding more hidden layers\n",
    "from tensorflow.keras import models\n",
    "from tensorflow.keras import layers\n",
    "from tensorflow.keras.utils import plot_model\n",
    "from tensorflow.keras.callbacks import EarlyStopping\n",
    "\n",
    "nn = models.Sequential([\n",
    "    layers.Dense(4, activation='relu', input_shape=(numwords,)),\n",
    "    layers.Dense(4, activation='relu'),\n",
    "    layers.Dense(4, activation='relu'),\n",
    "    layers.Dense(4, activation='relu'),\n",
    "    layers.Dense(4, activation='relu'),\n",
    "    layers.Dense(1, activation='sigmoid')\n",
    "])\n",
    "\n",
    "nn.compile(optimizer='rmsprop', loss='binary_crossentropy', metrics=['binary_accuracy'])\n",
    "\n",
    "EarlyStopping_CallBack = [EarlyStopping(monitor='val_loss', min_delta=0, patience=5, verbose=0, mode='auto', baseline=None)]\n",
    "nn.fit(partial_x_train, partial_y_train, callbacks=EarlyStopping_CallBack, epochs=500, batch_size=512, validation_data=(x_val, y_val), verbose=0)\n",
    "nn.evaluate(x_test, y_test)"
   ]
  },
  {
   "cell_type": "code",
   "execution_count": 32,
   "metadata": {},
   "outputs": [
    {
     "name": "stdout",
     "output_type": "stream",
     "text": [
      "25000/25000 [==============================] - 2s 91us/sample - loss: 0.3330 - binary_accuracy: 0.8755\n"
     ]
    },
    {
     "data": {
      "text/plain": [
       "[0.3329727688026428, 0.87548]"
      ]
     },
     "execution_count": 32,
     "metadata": {},
     "output_type": "execute_result"
    }
   ],
   "source": [
    "# we try decreasing hidden layers\n",
    "from tensorflow.keras import models\n",
    "from tensorflow.keras import layers\n",
    "from tensorflow.keras.utils import plot_model\n",
    "from tensorflow.keras.callbacks import EarlyStopping\n",
    "\n",
    "nn = models.Sequential([\n",
    "    layers.Dense(4, activation='relu', input_shape=(numwords,)),\n",
    "    layers.Dense(4, activation='relu'),\n",
    "    layers.Dense(1, activation='sigmoid')\n",
    "])\n",
    "\n",
    "nn.compile(optimizer='rmsprop', loss='binary_crossentropy', metrics=['binary_accuracy'])\n",
    "\n",
    "EarlyStopping_CallBack = [EarlyStopping(monitor='val_loss', min_delta=0, patience=5, verbose=0, mode='auto', baseline=None)]\n",
    "nn.fit(partial_x_train, partial_y_train, callbacks=EarlyStopping_CallBack, epochs=500, batch_size=512, validation_data=(x_val, y_val), verbose=0)\n",
    "nn.evaluate(x_test, y_test)"
   ]
  },
  {
   "cell_type": "markdown",
   "metadata": {},
   "source": [
    "### Change the number of units in the hidden layers (8, 32, 64,...) and measure their effect."
   ]
  },
  {
   "cell_type": "code",
   "execution_count": 33,
   "metadata": {},
   "outputs": [
    {
     "name": "stdout",
     "output_type": "stream",
     "text": [
      "25000/25000 [==============================] - 2s 88us/sample - loss: 0.3524 - binary_accuracy: 0.8730\n"
     ]
    },
    {
     "data": {
      "text/plain": [
       "[0.3523668971943855, 0.87304]"
      ]
     },
     "execution_count": 33,
     "metadata": {},
     "output_type": "execute_result"
    }
   ],
   "source": [
    "from tensorflow.keras import models\n",
    "from tensorflow.keras import layers\n",
    "from tensorflow.keras.utils import plot_model\n",
    "from tensorflow.keras.callbacks import EarlyStopping\n",
    "\n",
    "nn = models.Sequential([\n",
    "    layers.Dense(8, activation='relu', input_shape=(numwords,)),\n",
    "    layers.Dense(8, activation='relu'),\n",
    "    layers.Dense(8, activation='relu'),\n",
    "    layers.Dense(1, activation='sigmoid')\n",
    "])\n",
    "\n",
    "nn.compile(optimizer='rmsprop', loss='binary_crossentropy', metrics=['binary_accuracy'])\n",
    "\n",
    "EarlyStopping_CallBack = [EarlyStopping(monitor='val_loss', min_delta=0, patience=5, verbose=0, mode='auto', baseline=None)]\n",
    "nn.fit(partial_x_train, partial_y_train, callbacks=EarlyStopping_CallBack, epochs=500, batch_size=512, validation_data=(x_val, y_val), verbose=0)\n",
    "nn.evaluate(x_test, y_test)"
   ]
  },
  {
   "cell_type": "code",
   "execution_count": 34,
   "metadata": {},
   "outputs": [
    {
     "name": "stdout",
     "output_type": "stream",
     "text": [
      "25000/25000 [==============================] - 2s 90us/sample - loss: 0.3965 - binary_accuracy: 0.8714\n"
     ]
    },
    {
     "data": {
      "text/plain": [
       "[0.3964729193162918, 0.8714]"
      ]
     },
     "execution_count": 34,
     "metadata": {},
     "output_type": "execute_result"
    }
   ],
   "source": [
    "from tensorflow.keras import models\n",
    "from tensorflow.keras import layers\n",
    "from tensorflow.keras.utils import plot_model\n",
    "from tensorflow.keras.callbacks import EarlyStopping\n",
    "\n",
    "nn = models.Sequential([\n",
    "    layers.Dense(64, activation='relu', input_shape=(numwords,)),\n",
    "    layers.Dense(64, activation='relu'),\n",
    "    layers.Dense(64, activation='relu'),\n",
    "    layers.Dense(1, activation='sigmoid')\n",
    "])\n",
    "\n",
    "nn.compile(optimizer='rmsprop', loss='binary_crossentropy', metrics=['binary_accuracy'])\n",
    "\n",
    "EarlyStopping_CallBack = [EarlyStopping(monitor='val_loss', min_delta=0, patience=5, verbose=0, mode='auto', baseline=None)]\n",
    "nn.fit(partial_x_train, partial_y_train, callbacks=EarlyStopping_CallBack, epochs=500, batch_size=512, validation_data=(x_val, y_val), verbose=0)\n",
    "nn.evaluate(x_test, y_test)"
   ]
  },
  {
   "cell_type": "markdown",
   "metadata": {},
   "source": [
    "### See what happens when you use mse as a loss function, instead of binary_crossentropy?"
   ]
  },
  {
   "cell_type": "code",
   "execution_count": 36,
   "metadata": {},
   "outputs": [
    {
     "name": "stdout",
     "output_type": "stream",
     "text": [
      "25000/25000 [==============================] - 2s 90us/sample - loss: 0.1015 - binary_accuracy: 0.8727\n"
     ]
    },
    {
     "data": {
      "text/plain": [
       "[0.10154552843391895, 0.87268]"
      ]
     },
     "execution_count": 36,
     "metadata": {},
     "output_type": "execute_result"
    }
   ],
   "source": [
    "from tensorflow.keras import models\n",
    "from tensorflow.keras import layers\n",
    "from tensorflow.keras.utils import plot_model\n",
    "from tensorflow.keras.callbacks import EarlyStopping\n",
    "\n",
    "nn = models.Sequential([\n",
    "    layers.Dense(64, activation='relu', input_shape=(numwords,)),\n",
    "    layers.Dense(64, activation='relu'),\n",
    "    layers.Dense(64, activation='relu'),\n",
    "    layers.Dense(1, activation='sigmoid')\n",
    "])\n",
    "\n",
    "nn.compile(optimizer='rmsprop', loss='mean_squared_error', metrics=['binary_accuracy'])\n",
    "\n",
    "EarlyStopping_CallBack = [EarlyStopping(monitor='val_loss', min_delta=0, patience=5, verbose=0, mode='auto', baseline=None)]\n",
    "nn.fit(partial_x_train, partial_y_train, callbacks=EarlyStopping_CallBack, epochs=500, batch_size=512, validation_data=(x_val, y_val), verbose=0)\n",
    "nn.evaluate(x_test, y_test)"
   ]
  },
  {
   "cell_type": "markdown",
   "metadata": {},
   "source": [
    "### See what happens when using tanh activation instead of relu?"
   ]
  },
  {
   "cell_type": "code",
   "execution_count": 39,
   "metadata": {},
   "outputs": [
    {
     "name": "stdout",
     "output_type": "stream",
     "text": [
      "25000/25000 [==============================] - 2s 87us/sample - loss: 0.3828 - binary_accuracy: 0.8634\n"
     ]
    },
    {
     "data": {
      "text/plain": [
       "[0.3828461663508415, 0.8634]"
      ]
     },
     "execution_count": 39,
     "metadata": {},
     "output_type": "execute_result"
    }
   ],
   "source": [
    "from tensorflow.keras import models\n",
    "from tensorflow.keras import layers\n",
    "from tensorflow.keras.utils import plot_model\n",
    "from tensorflow.keras.callbacks import EarlyStopping\n",
    "\n",
    "nn = models.Sequential([\n",
    "    layers.Dense(64, activation='tanh', input_shape=(numwords,)),\n",
    "    layers.Dense(64, activation='tanh'),\n",
    "    layers.Dense(64, activation='tanh'),\n",
    "    layers.Dense(1, activation='sigmoid')\n",
    "])\n",
    "\n",
    "nn.compile(optimizer='rmsprop', loss='binary_crossentropy', metrics=['binary_accuracy'])\n",
    "\n",
    "EarlyStopping_CallBack = [EarlyStopping(monitor='val_loss', min_delta=0, patience=5, verbose=0, mode='auto', baseline=None)]\n",
    "nn.fit(partial_x_train, partial_y_train, callbacks=EarlyStopping_CallBack, epochs=500, batch_size=512, validation_data=(x_val, y_val), verbose=0)\n",
    "nn.evaluate(x_test, y_test)"
   ]
  },
  {
   "cell_type": "code",
   "execution_count": null,
   "metadata": {},
   "outputs": [],
   "source": []
  }
 ],
 "metadata": {
  "colab": {
   "name": "SentimentAnalysisExample+exercise.ipynb",
   "provenance": [
    {
     "file_id": "1ZL0FstT3_lcGoFIYk6ZqKBfdQIs7x1uf",
     "timestamp": 1585007864366
    }
   ]
  },
  "kernelspec": {
   "display_name": "Python 3",
   "language": "python",
   "name": "python3"
  },
  "language_info": {
   "codemirror_mode": {
    "name": "ipython",
    "version": 3
   },
   "file_extension": ".py",
   "mimetype": "text/x-python",
   "name": "python",
   "nbconvert_exporter": "python",
   "pygments_lexer": "ipython3",
   "version": "3.7.7"
  }
 },
 "nbformat": 4,
 "nbformat_minor": 4
}
