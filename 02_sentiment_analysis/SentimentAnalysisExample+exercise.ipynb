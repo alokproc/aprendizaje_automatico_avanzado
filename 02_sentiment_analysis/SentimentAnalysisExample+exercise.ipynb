{
 "cells": [
  {
   "cell_type": "markdown",
   "metadata": {
    "colab_type": "text",
    "id": "KM0Y-uAVb4UD"
   },
   "source": [
    "# exercise: sentiment analysis"
   ]
  },
  {
   "cell_type": "markdown",
   "metadata": {
    "colab_type": "text",
    "id": "EOjaMdKwb4UJ"
   },
   "source": [
    "Binary classification is possibly the most common type of problem in ML applications. In this one we're going to see how to build a classifier in Keras. Specifically, we will build a neural network to help us classify movie opinions as \"positive/negative\" based only on the textual content of the movie. It will be an example of what is currently known as sentiment analysis."
   ]
  },
  {
   "cell_type": "markdown",
   "metadata": {
    "colab_type": "text",
    "id": "U9ykCQdDb4UO"
   },
   "source": [
    "## IMDB dataset"
   ]
  },
  {
   "cell_type": "markdown",
   "metadata": {
    "colab_type": "text",
    "id": "OD3UxgoRb4US"
   },
   "source": [
    "We will use one of the datasets provided by the IMDB site (Internet Movie DataBase) formed by 50,000 highly polarized opinions (which simplifies the learning task). This set is divided in 50%/50% for training/test, and in each of them there are 50% of opinions of each type.\n",
    "\n",
    "As with the previous dataset (MNIST) this dataset also comes with Keras, and in addition is provided pre-processed: by means of an indexed dictionary, the opinions (word sequences) have been converted into sequences of integers.\n",
    "\n",
    "The code that loads the dataset (about 80Mb of data that will be downloaded the first time it is executed) is:"
   ]
  },
  {
   "cell_type": "code",
   "execution_count": 2,
   "metadata": {
    "colab": {
     "base_uri": "https://localhost:8080/",
     "height": 98
    },
    "colab_type": "code",
    "executionInfo": {
     "elapsed": 10062,
     "status": "ok",
     "timestamp": 1584999760848,
     "user": {
      "displayName": "Ekhi Zugasti Uriguen",
      "photoUrl": "https://lh3.googleusercontent.com/a-/AOh14GjLW21F9JMtJwfUDFcY2ROtJC3l1QPlGpvoN9Qy=s64",
      "userId": "00195558535022081217"
     },
     "user_tz": -60
    },
    "id": "DbN_nV4ib4UV",
    "outputId": "253ba047-54a1-4c40-cc70-f860122ebcd2"
   },
   "outputs": [],
   "source": [
    "from tensorflow.keras.datasets import imdb\n",
    "numwords=10000\n",
    "(train_data, train_labels), (test_data, test_labels) = imdb.load_data(num_words=numwords)"
   ]
  },
  {
   "cell_type": "markdown",
   "metadata": {
    "colab_type": "text",
    "id": "L1sgD_whb4Ui"
   },
   "source": [
    "As the dictionary is tremendously large and there are many words that are rarely used, we'll be left with only the 10,000 most frequent words (something we get by means of the argument num_words = 10000 in the loading process).\n",
    "\n",
    "If you wish, you can explore the content of the train_data and test_data variables, which are lists of opinions, where each opinion is a list of integers (encoding a sequence of words). The variables train_labels and test_labels are binary lists, where 0 indicates that the associated opinion is negative and 1 that it is positive:"
   ]
  },
  {
   "cell_type": "code",
   "execution_count": 3,
   "metadata": {},
   "outputs": [
    {
     "data": {
      "text/html": [
       "<div>\n",
       "<style scoped>\n",
       "    .dataframe tbody tr th:only-of-type {\n",
       "        vertical-align: middle;\n",
       "    }\n",
       "\n",
       "    .dataframe tbody tr th {\n",
       "        vertical-align: top;\n",
       "    }\n",
       "\n",
       "    .dataframe thead th {\n",
       "        text-align: right;\n",
       "    }\n",
       "</style>\n",
       "<table border=\"1\" class=\"dataframe\">\n",
       "  <thead>\n",
       "    <tr style=\"text-align: right;\">\n",
       "      <th></th>\n",
       "      <th>0</th>\n",
       "    </tr>\n",
       "  </thead>\n",
       "  <tbody>\n",
       "    <tr>\n",
       "      <th>0</th>\n",
       "      <td>[1, 14, 22, 16, 43, 530, 973, 1622, 1385, 65, ...</td>\n",
       "    </tr>\n",
       "    <tr>\n",
       "      <th>1</th>\n",
       "      <td>[1, 194, 1153, 194, 8255, 78, 228, 5, 6, 1463,...</td>\n",
       "    </tr>\n",
       "    <tr>\n",
       "      <th>2</th>\n",
       "      <td>[1, 14, 47, 8, 30, 31, 7, 4, 249, 108, 7, 4, 5...</td>\n",
       "    </tr>\n",
       "    <tr>\n",
       "      <th>3</th>\n",
       "      <td>[1, 4, 2, 2, 33, 2804, 4, 2040, 432, 111, 153,...</td>\n",
       "    </tr>\n",
       "    <tr>\n",
       "      <th>4</th>\n",
       "      <td>[1, 249, 1323, 7, 61, 113, 10, 10, 13, 1637, 1...</td>\n",
       "    </tr>\n",
       "  </tbody>\n",
       "</table>\n",
       "</div>"
      ],
      "text/plain": [
       "                                                   0\n",
       "0  [1, 14, 22, 16, 43, 530, 973, 1622, 1385, 65, ...\n",
       "1  [1, 194, 1153, 194, 8255, 78, 228, 5, 6, 1463,...\n",
       "2  [1, 14, 47, 8, 30, 31, 7, 4, 249, 108, 7, 4, 5...\n",
       "3  [1, 4, 2, 2, 33, 2804, 4, 2040, 432, 111, 153,...\n",
       "4  [1, 249, 1323, 7, 61, 113, 10, 10, 13, 1637, 1..."
      ]
     },
     "execution_count": 3,
     "metadata": {},
     "output_type": "execute_result"
    }
   ],
   "source": [
    "import pandas as pd\n",
    "\n",
    "pd.DataFrame(train_data).head()"
   ]
  },
  {
   "cell_type": "code",
   "execution_count": 4,
   "metadata": {},
   "outputs": [
    {
     "data": {
      "text/html": [
       "<div>\n",
       "<style scoped>\n",
       "    .dataframe tbody tr th:only-of-type {\n",
       "        vertical-align: middle;\n",
       "    }\n",
       "\n",
       "    .dataframe tbody tr th {\n",
       "        vertical-align: top;\n",
       "    }\n",
       "\n",
       "    .dataframe thead th {\n",
       "        text-align: right;\n",
       "    }\n",
       "</style>\n",
       "<table border=\"1\" class=\"dataframe\">\n",
       "  <thead>\n",
       "    <tr style=\"text-align: right;\">\n",
       "      <th></th>\n",
       "      <th>0</th>\n",
       "    </tr>\n",
       "  </thead>\n",
       "  <tbody>\n",
       "    <tr>\n",
       "      <th>0</th>\n",
       "      <td>1</td>\n",
       "    </tr>\n",
       "    <tr>\n",
       "      <th>1</th>\n",
       "      <td>0</td>\n",
       "    </tr>\n",
       "    <tr>\n",
       "      <th>2</th>\n",
       "      <td>0</td>\n",
       "    </tr>\n",
       "    <tr>\n",
       "      <th>3</th>\n",
       "      <td>1</td>\n",
       "    </tr>\n",
       "    <tr>\n",
       "      <th>4</th>\n",
       "      <td>0</td>\n",
       "    </tr>\n",
       "  </tbody>\n",
       "</table>\n",
       "</div>"
      ],
      "text/plain": [
       "   0\n",
       "0  1\n",
       "1  0\n",
       "2  0\n",
       "3  1\n",
       "4  0"
      ]
     },
     "execution_count": 4,
     "metadata": {},
     "output_type": "execute_result"
    }
   ],
   "source": [
    "pd.DataFrame(train_labels).head()"
   ]
  },
  {
   "cell_type": "markdown",
   "metadata": {
    "colab_type": "text",
    "id": "FsS54CABb4Ul"
   },
   "source": [
    "\n",
    "\n",
    "## Data Preprocessing"
   ]
  },
  {
   "cell_type": "markdown",
   "metadata": {
    "colab_type": "text",
    "id": "VMhzTRi5b4Un"
   },
   "source": [
    "Since neural networks do not support lists of integers as input, because they are of variable length, we have to add additional pre-processing to be able to work with them. We have two options:\n",
    "\n",
    "- Complete the shorter lists so that they're all the same length, and then convert them into tensors that will feed the input layer of the network.\n",
    "- Encode the lists in One-hot to convert them into 0s and 1s vectors. Since we have a maximum of 10,000 words in our vocabulary, each opinion will be converted into a binary list of 10,000 positions indicating which words appear in the opinion. In this case, the first (dense) layer of our network would be connected with vectors of length 10,000.\n",
    "\n",
    "We will choose this second option, which over time we will see has more advantages than the first.\n",
    "\n",
    "The code that allows us to do this conversion is:\n"
   ]
  },
  {
   "cell_type": "code",
   "execution_count": 5,
   "metadata": {
    "colab": {},
    "colab_type": "code",
    "id": "fImSfZXwb4Uq"
   },
   "outputs": [],
   "source": [
    "import numpy as np\n",
    "\n",
    "def vectorize_sequences(sequences, dimension=numwords):\n",
    "    # Create an all-zero matrix of shape (len(sequences), dimension)\n",
    "    results = np.zeros((len(sequences), dimension))\n",
    "    for i, sequence in enumerate(sequences):\n",
    "        results[i, sequence] = 1.  # set specific indices of results[i] to 1s\n",
    "    return results\n",
    "\n",
    "# Our vectorized training data\n",
    "x_train = vectorize_sequences(train_data)\n",
    "# Our vectorized test data\n",
    "x_test = vectorize_sequences(test_data)"
   ]
  },
  {
   "cell_type": "markdown",
   "metadata": {
    "colab_type": "text",
    "id": "_yK1yZ8kb4Uy"
   },
   "source": [
    "We would also have to do a conversion with the labels, but since in this case they are already binary vectors, it is enough to convert them into numerical ones:\n"
   ]
  },
  {
   "cell_type": "code",
   "execution_count": 6,
   "metadata": {
    "colab": {},
    "colab_type": "code",
    "id": "tE7vdcRxb4U0"
   },
   "outputs": [],
   "source": [
    "# Our vectorized labels\n",
    "y_train = np.asarray(train_labels).astype('float32')\n",
    "y_test = np.asarray(test_labels).astype('float32')"
   ]
  },
  {
   "cell_type": "code",
   "execution_count": 7,
   "metadata": {},
   "outputs": [
    {
     "data": {
      "text/plain": [
       "array([1., 0., 0., ..., 0., 1., 0.], dtype=float32)"
      ]
     },
     "execution_count": 7,
     "metadata": {},
     "output_type": "execute_result"
    }
   ],
   "source": [
    "y_train"
   ]
  },
  {
   "cell_type": "markdown",
   "metadata": {
    "colab_type": "text",
    "id": "Bo0OEMd3b4U8"
   },
   "source": [
    "## Network Definition"
   ]
  },
  {
   "cell_type": "markdown",
   "metadata": {
    "colab_type": "text",
    "id": "l_Rm5lq3b4U-"
   },
   "source": [
    "As we have seen, the input data are vectors, and the labels are scalar (1s and 0s), so this is the simplest configuration possible to be worked with a neural network, and a type of network that works well with this type of problem is a simple stack of dense layers with relu activations, which in Keras are built with the instruction: layers.Dense(16, activation='relu').\n",
    "\n",
    "In general, in all types of layers, the most common arguments you will have to use will be the number of neurons in the layer, and the type of activation these neurons will use. In the previous case we used 16 neurons, which means that this layer will use 16 dimensions to try to structure the patterns it finds in the input data according to the target function (loss) that it should optimize.\n",
    "\n",
    "It can be intuitively interpreted that the dimension of the layer represents how much freedom the network is allowed to learn internal representations. Having more units allows you to learn more complex representations, but also increases the computational load and facilitates the memorization of patterns in the training data (which may not be relevant to the problem and may lead to an over-adjustment phenomenon).\n",
    "\n",
    "Regarding the architecture when working with dense layers, there are two key decisions to consider:\n",
    "\n",
    "\n",
    "*   How many layers to use.\n",
    "\n",
    "*   How many units to place in each layer.\n",
    "\n",
    "\n",
    "    \n",
    "\n",
    "While there are no general rules for how to make these decisions, there are some reasons that can be learned from experience and some implicit knowledge useful for network design. For this example, without a clear justification, and only as a demonstration of the techniques we will use three intermediate layers of 16 neurons each, and a third layer that will have a single scalar output (which will represent the model's prediction). The intermediate layers will use relu as an activation function, and the final layer will use a sigmoid (which has an output in [0, 1]).\n",
    "\n",
    "The implementation in Keras, similar to the one we already did for MNIST, is therefore"
   ]
  },
  {
   "cell_type": "code",
   "execution_count": 8,
   "metadata": {
    "colab": {
     "base_uri": "https://localhost:8080/",
     "height": 295
    },
    "colab_type": "code",
    "executionInfo": {
     "elapsed": 877,
     "status": "ok",
     "timestamp": 1585003968093,
     "user": {
      "displayName": "Ekhi Zugasti Uriguen",
      "photoUrl": "https://lh3.googleusercontent.com/a-/AOh14GjLW21F9JMtJwfUDFcY2ROtJC3l1QPlGpvoN9Qy=s64",
      "userId": "00195558535022081217"
     },
     "user_tz": -60
    },
    "id": "zr8Sk4dob4VA",
    "outputId": "7cc74137-948e-4eaa-944a-086a726176f4"
   },
   "outputs": [
    {
     "name": "stdout",
     "output_type": "stream",
     "text": [
      "Model: \"sequential\"\n",
      "_________________________________________________________________\n",
      "Layer (type)                 Output Shape              Param #   \n",
      "=================================================================\n",
      "dense (Dense)                (None, 4)                 40004     \n",
      "_________________________________________________________________\n",
      "dense_1 (Dense)              (None, 4)                 20        \n",
      "_________________________________________________________________\n",
      "dense_2 (Dense)              (None, 4)                 20        \n",
      "_________________________________________________________________\n",
      "dense_3 (Dense)              (None, 1)                 5         \n",
      "=================================================================\n",
      "Total params: 40,049\n",
      "Trainable params: 40,049\n",
      "Non-trainable params: 0\n",
      "_________________________________________________________________\n"
     ]
    }
   ],
   "source": [
    "from tensorflow.keras import models\n",
    "from tensorflow.keras import layers\n",
    "from tensorflow.keras.utils import plot_model\n",
    "\n",
    "red = models.Sequential()\n",
    "red.add(layers.Dense(4, activation='relu', input_shape=(numwords,)))\n",
    "red.add(layers.Dense(4, activation='relu'))\n",
    "red.add(layers.Dense(4, activation='relu'))\n",
    "red.add(layers.Dense(1, activation='sigmoid'))\n",
    "red.summary()\n"
   ]
  },
  {
   "cell_type": "code",
   "execution_count": 9,
   "metadata": {
    "colab": {
     "base_uri": "https://localhost:8080/",
     "height": 533
    },
    "colab_type": "code",
    "executionInfo": {
     "elapsed": 14561,
     "status": "ok",
     "timestamp": 1584999765392,
     "user": {
      "displayName": "Ekhi Zugasti Uriguen",
      "photoUrl": "https://lh3.googleusercontent.com/a-/AOh14GjLW21F9JMtJwfUDFcY2ROtJC3l1QPlGpvoN9Qy=s64",
      "userId": "00195558535022081217"
     },
     "user_tz": -60
    },
    "id": "Re9jQl4eOOTC",
    "outputId": "c9e9b172-4a64-4923-d17c-3aabad741b6d"
   },
   "outputs": [
    {
     "name": "stdout",
     "output_type": "stream",
     "text": [
      "Failed to import pydot. You must install pydot and graphviz for `pydotprint` to work.\n"
     ]
    }
   ],
   "source": [
    "plot_model(red, to_file='IMDBModel_plot.png', show_shapes=True, show_layer_names=True)"
   ]
  },
  {
   "cell_type": "markdown",
   "metadata": {
    "colab_type": "text",
    "id": "qqi5crYUb4VF"
   },
   "source": [
    "Following the same pattern we saw in the previous example, we need to choose the loss function (which will be minimized) and the optimization method (which will seek to minimize that function).\n",
    "\n",
    "Since we are facing a binary classification problem and the output of our network is a probability (provided by the sigmoid), we will use binary_crossentropy as the loss function. This is not the only viable option, we could have chosen, for example, mean_squared_error, but in this case binary_crossentropy is a better option because we are working with probabilities.\n",
    "\n",
    "Cross entropy comes from the Information Theory field, and measures the distance between probability distributions (in this case, the distribution calculated by the predictor and the one that represents the actual distribution coming from the training data).\n",
    "\n",
    "As an optimizer we will use rmsprop, which is usually a good choice in almost all cases. To monitor the evolution of learning we will use only one metric, accuracy.\n"
   ]
  },
  {
   "cell_type": "code",
   "execution_count": 10,
   "metadata": {
    "colab": {},
    "colab_type": "code",
    "id": "gecGwuQZb4VH"
   },
   "outputs": [],
   "source": [
    "red.compile(optimizer='rmsprop', loss='binary_crossentropy', metrics=['binary_accuracy'])"
   ]
  },
  {
   "cell_type": "markdown",
   "metadata": {
    "colab_type": "text",
    "id": "6eoQENnpb4VO"
   },
   "source": [
    "In this case we are passing all the data as strings that come predefined in Keras and work with fixed parameters, but it is also possible to adjust with more flexibility each one of them and to configure the parameters on which it depends, and even to pass you functions, either those that Keras brings or completely customized. For example:\n",
    " - we can set a new learning Rate. The lower the learning rate, the more difficult will be achieving the optimal point (so we would need to add more epochs)"
   ]
  },
  {
   "cell_type": "code",
   "execution_count": 11,
   "metadata": {
    "colab": {},
    "colab_type": "code",
    "id": "_CunMAWLb4VP"
   },
   "outputs": [],
   "source": [
    "from tensorflow.keras import optimizers\n",
    "\n",
    "red.compile(optimizer=optimizers.RMSprop(lr=0.0001), #the default value is 0.001\n",
    "            loss='binary_crossentropy',\n",
    "            metrics=['binary_accuracy'])"
   ]
  },
  {
   "cell_type": "markdown",
   "metadata": {
    "colab_type": "text",
    "id": "heMNn39Bb4VV"
   },
   "source": [
    "## Model Validation"
   ]
  },
  {
   "cell_type": "markdown",
   "metadata": {
    "colab_type": "text",
    "id": "n7vFSm_Tb4VX"
   },
   "source": [
    "n order to monitor the metrics (accuracy) while training is taking place we need to have more data that the model does not use during the process. We will create a validation set by separating another 10,000 samples from the original set. So the situation is as follows:\n",
    "- Training set: with which we will try to optimize the weights of the network so that it minimizes the loss function. In this process we use a model that depends on certain parameters that may need to be adjusted to achieve better performance.\n",
    "- Validation set: with which we will measure how good is the concrete model we are training (with fixed parameters). It is something like a temporary test set. It allows to adjust these parameters to improve the performance.\n",
    "- Test set: that has not been used at any moment of the previous iterations and that allows to measure in an objective way the goodness of the final model obtained."
   ]
  },
  {
   "cell_type": "code",
   "execution_count": 12,
   "metadata": {
    "colab": {},
    "colab_type": "code",
    "id": "eKPokIlvb4VZ"
   },
   "outputs": [],
   "source": [
    "from sklearn.model_selection import train_test_split\n",
    "\n",
    "partial_x_train, x_val, partial_y_train, y_val = train_test_split(x_train, y_train, test_size=0.15)"
   ]
  },
  {
   "cell_type": "markdown",
   "metadata": {
    "colab_type": "text",
    "id": "olPf5tWFb4Vg"
   },
   "source": [
    "We will then train the model on the complete training set (no validation, no test), in mini-batches of 512 samples (i.e. every 512 samples analyzed, the weights of the network are updated).\n",
    "\n",
    "We will monitor loss and accuracy over the 10,000 samples left in the validation set. To do this, we use the validation_data argument of the fit function, which we did not use in the previous example.\n",
    "\n",
    "As predicting the right number of iterations (epochs) can be complicated, we will prefix a high number of epochs (500) and define an early stop criterion using the EarlyStopping function (to which several decisions must be indicated, the most relevant being the monitoring criterion to be used and the number of epochs without improvement in it before stopping, called patience):"
   ]
  },
  {
   "cell_type": "code",
   "execution_count": 13,
   "metadata": {
    "colab": {
     "base_uri": "https://localhost:8080/",
     "height": 1000
    },
    "colab_type": "code",
    "executionInfo": {
     "elapsed": 86949,
     "status": "ok",
     "timestamp": 1585004067930,
     "user": {
      "displayName": "Ekhi Zugasti Uriguen",
      "photoUrl": "https://lh3.googleusercontent.com/a-/AOh14GjLW21F9JMtJwfUDFcY2ROtJC3l1QPlGpvoN9Qy=s64",
      "userId": "00195558535022081217"
     },
     "user_tz": -60
    },
    "id": "xE643n8bb4Vh",
    "outputId": "173dd82d-7c71-41ef-fc77-3d83744f509b"
   },
   "outputs": [
    {
     "name": "stdout",
     "output_type": "stream",
     "text": [
      "Train on 21250 samples, validate on 3750 samples\n",
      "Epoch 1/500\n",
      "21250/21250 [==============================] - 3s 156us/sample - loss: 0.6874 - binary_accuracy: 0.5425 - val_loss: 0.6810 - val_binary_accuracy: 0.5779\n",
      "Epoch 2/500\n",
      "21250/21250 [==============================] - 1s 41us/sample - loss: 0.6745 - binary_accuracy: 0.5805 - val_loss: 0.6687 - val_binary_accuracy: 0.5781\n",
      "Epoch 3/500\n",
      "21250/21250 [==============================] - 1s 37us/sample - loss: 0.6605 - binary_accuracy: 0.5871 - val_loss: 0.6550 - val_binary_accuracy: 0.5733\n",
      "Epoch 4/500\n",
      "21250/21250 [==============================] - 1s 37us/sample - loss: 0.6460 - binary_accuracy: 0.5989 - val_loss: 0.6418 - val_binary_accuracy: 0.5971\n",
      "Epoch 5/500\n",
      "21250/21250 [==============================] - 1s 39us/sample - loss: 0.6324 - binary_accuracy: 0.6261 - val_loss: 0.6299 - val_binary_accuracy: 0.6181\n",
      "Epoch 6/500\n",
      "21250/21250 [==============================] - 1s 38us/sample - loss: 0.6199 - binary_accuracy: 0.6491 - val_loss: 0.6187 - val_binary_accuracy: 0.6411\n",
      "Epoch 7/500\n",
      "21250/21250 [==============================] - 1s 37us/sample - loss: 0.6081 - binary_accuracy: 0.6737 - val_loss: 0.6084 - val_binary_accuracy: 0.6651\n",
      "Epoch 8/500\n",
      "21250/21250 [==============================] - 1s 37us/sample - loss: 0.5970 - binary_accuracy: 0.6957 - val_loss: 0.5988 - val_binary_accuracy: 0.6832\n",
      "Epoch 9/500\n",
      "21250/21250 [==============================] - 1s 37us/sample - loss: 0.5866 - binary_accuracy: 0.7142 - val_loss: 0.5897 - val_binary_accuracy: 0.7072\n",
      "Epoch 10/500\n",
      "21250/21250 [==============================] - 1s 37us/sample - loss: 0.5768 - binary_accuracy: 0.7308 - val_loss: 0.5814 - val_binary_accuracy: 0.7243\n",
      "Epoch 11/500\n",
      "21250/21250 [==============================] - 1s 37us/sample - loss: 0.5676 - binary_accuracy: 0.7453 - val_loss: 0.5735 - val_binary_accuracy: 0.7352\n",
      "Epoch 12/500\n",
      "21250/21250 [==============================] - 1s 37us/sample - loss: 0.5589 - binary_accuracy: 0.7592 - val_loss: 0.5665 - val_binary_accuracy: 0.7341\n",
      "Epoch 13/500\n",
      "21250/21250 [==============================] - 1s 37us/sample - loss: 0.5506 - binary_accuracy: 0.7705 - val_loss: 0.5597 - val_binary_accuracy: 0.7424\n",
      "Epoch 14/500\n",
      "21250/21250 [==============================] - 1s 37us/sample - loss: 0.5427 - binary_accuracy: 0.7818 - val_loss: 0.5531 - val_binary_accuracy: 0.7523\n",
      "Epoch 15/500\n",
      "21250/21250 [==============================] - 1s 37us/sample - loss: 0.5352 - binary_accuracy: 0.7912 - val_loss: 0.5466 - val_binary_accuracy: 0.7725\n",
      "Epoch 16/500\n",
      "21250/21250 [==============================] - 1s 37us/sample - loss: 0.5281 - binary_accuracy: 0.8035 - val_loss: 0.5410 - val_binary_accuracy: 0.7765\n",
      "Epoch 17/500\n",
      "21250/21250 [==============================] - 1s 37us/sample - loss: 0.5213 - binary_accuracy: 0.8116 - val_loss: 0.5356 - val_binary_accuracy: 0.7827\n",
      "Epoch 18/500\n",
      "21250/21250 [==============================] - 1s 37us/sample - loss: 0.5148 - binary_accuracy: 0.8195 - val_loss: 0.5308 - val_binary_accuracy: 0.7848\n",
      "Epoch 19/500\n",
      "21250/21250 [==============================] - 1s 37us/sample - loss: 0.5085 - binary_accuracy: 0.8260 - val_loss: 0.5260 - val_binary_accuracy: 0.7907\n",
      "Epoch 20/500\n",
      "21250/21250 [==============================] - 1s 37us/sample - loss: 0.5026 - binary_accuracy: 0.8317 - val_loss: 0.5217 - val_binary_accuracy: 0.7931\n",
      "Epoch 21/500\n",
      "21250/21250 [==============================] - 1s 37us/sample - loss: 0.4968 - binary_accuracy: 0.8371 - val_loss: 0.5169 - val_binary_accuracy: 0.8040\n",
      "Epoch 22/500\n",
      "21250/21250 [==============================] - 1s 38us/sample - loss: 0.4913 - binary_accuracy: 0.8431 - val_loss: 0.5125 - val_binary_accuracy: 0.8123\n",
      "Epoch 23/500\n",
      "21250/21250 [==============================] - 1s 37us/sample - loss: 0.4860 - binary_accuracy: 0.8495 - val_loss: 0.5087 - val_binary_accuracy: 0.8187\n",
      "Epoch 24/500\n",
      "21250/21250 [==============================] - 1s 38us/sample - loss: 0.4809 - binary_accuracy: 0.8551 - val_loss: 0.5052 - val_binary_accuracy: 0.8219\n",
      "Epoch 25/500\n",
      "21250/21250 [==============================] - 1s 38us/sample - loss: 0.4760 - binary_accuracy: 0.8604 - val_loss: 0.5019 - val_binary_accuracy: 0.8256\n",
      "Epoch 26/500\n",
      "21250/21250 [==============================] - 1s 38us/sample - loss: 0.4713 - binary_accuracy: 0.8644 - val_loss: 0.4980 - val_binary_accuracy: 0.8352\n",
      "Epoch 27/500\n",
      "21250/21250 [==============================] - 1s 37us/sample - loss: 0.4667 - binary_accuracy: 0.8697 - val_loss: 0.4959 - val_binary_accuracy: 0.8288\n",
      "Epoch 28/500\n",
      "21250/21250 [==============================] - 1s 37us/sample - loss: 0.4623 - binary_accuracy: 0.8727 - val_loss: 0.4920 - val_binary_accuracy: 0.8389\n",
      "Epoch 29/500\n",
      "21250/21250 [==============================] - 1s 37us/sample - loss: 0.4581 - binary_accuracy: 0.8774 - val_loss: 0.4902 - val_binary_accuracy: 0.8352\n",
      "Epoch 30/500\n",
      "21250/21250 [==============================] - 1s 37us/sample - loss: 0.4539 - binary_accuracy: 0.8799 - val_loss: 0.4869 - val_binary_accuracy: 0.8408\n",
      "Epoch 31/500\n",
      "21250/21250 [==============================] - 1s 39us/sample - loss: 0.4499 - binary_accuracy: 0.8849 - val_loss: 0.4859 - val_binary_accuracy: 0.8355\n",
      "Epoch 32/500\n",
      "21250/21250 [==============================] - 1s 37us/sample - loss: 0.4460 - binary_accuracy: 0.8877 - val_loss: 0.4826 - val_binary_accuracy: 0.8413\n",
      "Epoch 33/500\n",
      "21250/21250 [==============================] - 1s 37us/sample - loss: 0.4422 - binary_accuracy: 0.8913 - val_loss: 0.4813 - val_binary_accuracy: 0.8411\n",
      "Epoch 34/500\n",
      "21250/21250 [==============================] - 1s 37us/sample - loss: 0.4386 - binary_accuracy: 0.8942 - val_loss: 0.4785 - val_binary_accuracy: 0.8453\n",
      "Epoch 35/500\n",
      "21250/21250 [==============================] - 1s 37us/sample - loss: 0.4351 - binary_accuracy: 0.8971 - val_loss: 0.4763 - val_binary_accuracy: 0.8456\n",
      "Epoch 36/500\n",
      "21250/21250 [==============================] - 1s 37us/sample - loss: 0.4316 - binary_accuracy: 0.9000 - val_loss: 0.4740 - val_binary_accuracy: 0.8501\n",
      "Epoch 37/500\n",
      "21250/21250 [==============================] - 1s 37us/sample - loss: 0.4282 - binary_accuracy: 0.9032 - val_loss: 0.4737 - val_binary_accuracy: 0.8464\n",
      "Epoch 38/500\n",
      "21250/21250 [==============================] - 1s 38us/sample - loss: 0.4250 - binary_accuracy: 0.9051 - val_loss: 0.4702 - val_binary_accuracy: 0.8528\n",
      "Epoch 39/500\n",
      "21250/21250 [==============================] - 1s 37us/sample - loss: 0.4218 - binary_accuracy: 0.9087 - val_loss: 0.4704 - val_binary_accuracy: 0.8509\n",
      "Epoch 40/500\n",
      "21250/21250 [==============================] - 1s 37us/sample - loss: 0.4186 - binary_accuracy: 0.9105 - val_loss: 0.4681 - val_binary_accuracy: 0.8523\n",
      "Epoch 41/500\n",
      "21250/21250 [==============================] - 1s 37us/sample - loss: 0.4156 - binary_accuracy: 0.9126 - val_loss: 0.4661 - val_binary_accuracy: 0.8557\n",
      "Epoch 42/500\n",
      "21250/21250 [==============================] - 1s 37us/sample - loss: 0.4126 - binary_accuracy: 0.9156 - val_loss: 0.4661 - val_binary_accuracy: 0.8528\n",
      "Epoch 43/500\n",
      "21250/21250 [==============================] - 1s 37us/sample - loss: 0.4097 - binary_accuracy: 0.9171 - val_loss: 0.4642 - val_binary_accuracy: 0.8555\n",
      "Epoch 44/500\n",
      "21250/21250 [==============================] - 1s 37us/sample - loss: 0.4069 - binary_accuracy: 0.9197 - val_loss: 0.4636 - val_binary_accuracy: 0.8549\n",
      "Epoch 45/500\n",
      "21250/21250 [==============================] - 1s 38us/sample - loss: 0.4041 - binary_accuracy: 0.9215 - val_loss: 0.4621 - val_binary_accuracy: 0.8576\n",
      "Epoch 46/500\n",
      "21250/21250 [==============================] - 1s 38us/sample - loss: 0.4014 - binary_accuracy: 0.9241 - val_loss: 0.4625 - val_binary_accuracy: 0.8549\n",
      "Epoch 47/500\n",
      "21250/21250 [==============================] - 1s 37us/sample - loss: 0.3987 - binary_accuracy: 0.9251 - val_loss: 0.4589 - val_binary_accuracy: 0.8637\n",
      "Epoch 48/500\n",
      "21250/21250 [==============================] - 1s 37us/sample - loss: 0.3961 - binary_accuracy: 0.9275 - val_loss: 0.4596 - val_binary_accuracy: 0.8600\n",
      "Epoch 49/500\n",
      "21250/21250 [==============================] - 1s 37us/sample - loss: 0.3935 - binary_accuracy: 0.9289 - val_loss: 0.4583 - val_binary_accuracy: 0.8627\n",
      "Epoch 50/500\n",
      "21250/21250 [==============================] - 1s 38us/sample - loss: 0.3909 - binary_accuracy: 0.9305 - val_loss: 0.4584 - val_binary_accuracy: 0.8611\n",
      "Epoch 51/500\n",
      "21250/21250 [==============================] - 1s 37us/sample - loss: 0.3885 - binary_accuracy: 0.9324 - val_loss: 0.4582 - val_binary_accuracy: 0.8613\n",
      "Epoch 52/500\n",
      "21250/21250 [==============================] - 1s 37us/sample - loss: 0.3860 - binary_accuracy: 0.9340 - val_loss: 0.4569 - val_binary_accuracy: 0.8635\n",
      "Epoch 53/500\n",
      "21250/21250 [==============================] - 1s 37us/sample - loss: 0.3836 - binary_accuracy: 0.9350 - val_loss: 0.4564 - val_binary_accuracy: 0.8637\n",
      "Epoch 54/500\n",
      "21250/21250 [==============================] - 1s 37us/sample - loss: 0.3813 - binary_accuracy: 0.9371 - val_loss: 0.4572 - val_binary_accuracy: 0.8629\n",
      "Epoch 55/500\n",
      "21250/21250 [==============================] - 1s 37us/sample - loss: 0.3789 - binary_accuracy: 0.9386 - val_loss: 0.4589 - val_binary_accuracy: 0.8587\n",
      "Epoch 56/500\n",
      "21250/21250 [==============================] - 1s 37us/sample - loss: 0.3767 - binary_accuracy: 0.9393 - val_loss: 0.4560 - val_binary_accuracy: 0.8648\n",
      "Epoch 57/500\n",
      "21250/21250 [==============================] - 1s 37us/sample - loss: 0.3745 - binary_accuracy: 0.9405 - val_loss: 0.4548 - val_binary_accuracy: 0.8669\n",
      "Epoch 58/500\n",
      "21250/21250 [==============================] - 1s 37us/sample - loss: 0.3722 - binary_accuracy: 0.9427 - val_loss: 0.4544 - val_binary_accuracy: 0.8675\n",
      "Epoch 59/500\n",
      "21250/21250 [==============================] - 1s 37us/sample - loss: 0.3700 - binary_accuracy: 0.9433 - val_loss: 0.4546 - val_binary_accuracy: 0.8677\n",
      "Epoch 60/500\n",
      "21250/21250 [==============================] - 1s 37us/sample - loss: 0.3678 - binary_accuracy: 0.9445 - val_loss: 0.4553 - val_binary_accuracy: 0.8675\n",
      "Epoch 61/500\n",
      "21250/21250 [==============================] - 1s 37us/sample - loss: 0.3657 - binary_accuracy: 0.9455 - val_loss: 0.4557 - val_binary_accuracy: 0.8675\n",
      "Epoch 62/500\n",
      "21250/21250 [==============================] - 1s 37us/sample - loss: 0.3636 - binary_accuracy: 0.9470 - val_loss: 0.4561 - val_binary_accuracy: 0.8669\n",
      "Epoch 63/500\n",
      "21250/21250 [==============================] - 1s 37us/sample - loss: 0.3616 - binary_accuracy: 0.9482 - val_loss: 0.4544 - val_binary_accuracy: 0.8683\n",
      "Epoch 64/500\n",
      "21250/21250 [==============================] - 1s 37us/sample - loss: 0.3595 - binary_accuracy: 0.9485 - val_loss: 0.4564 - val_binary_accuracy: 0.8677\n",
      "Epoch 65/500\n",
      "21250/21250 [==============================] - 1s 39us/sample - loss: 0.3576 - binary_accuracy: 0.9500 - val_loss: 0.4551 - val_binary_accuracy: 0.8677\n",
      "Epoch 66/500\n",
      "21250/21250 [==============================] - 1s 39us/sample - loss: 0.3556 - binary_accuracy: 0.9507 - val_loss: 0.4546 - val_binary_accuracy: 0.8677\n",
      "Epoch 67/500\n",
      "21250/21250 [==============================] - 1s 37us/sample - loss: 0.3536 - binary_accuracy: 0.9523 - val_loss: 0.4558 - val_binary_accuracy: 0.8669\n",
      "Epoch 68/500\n",
      "21250/21250 [==============================] - 1s 37us/sample - loss: 0.3517 - binary_accuracy: 0.9531 - val_loss: 0.4538 - val_binary_accuracy: 0.8685\n",
      "Epoch 69/500\n",
      "21250/21250 [==============================] - 1s 37us/sample - loss: 0.3498 - binary_accuracy: 0.9540 - val_loss: 0.4555 - val_binary_accuracy: 0.8685\n",
      "Epoch 70/500\n",
      "21250/21250 [==============================] - 1s 37us/sample - loss: 0.3478 - binary_accuracy: 0.9547 - val_loss: 0.4591 - val_binary_accuracy: 0.8659\n",
      "Epoch 71/500\n",
      "21250/21250 [==============================] - 1s 37us/sample - loss: 0.3460 - binary_accuracy: 0.9557 - val_loss: 0.4568 - val_binary_accuracy: 0.8680\n",
      "Epoch 72/500\n",
      "21250/21250 [==============================] - 1s 38us/sample - loss: 0.3441 - binary_accuracy: 0.9565 - val_loss: 0.4573 - val_binary_accuracy: 0.8680\n",
      "Epoch 73/500\n",
      "21250/21250 [==============================] - 1s 37us/sample - loss: 0.3423 - binary_accuracy: 0.9569 - val_loss: 0.4575 - val_binary_accuracy: 0.8691\n"
     ]
    }
   ],
   "source": [
    "from tensorflow.keras.callbacks import EarlyStopping\n",
    "\n",
    "EarlyStopping_CallBack = [EarlyStopping(monitor='val_loss',\n",
    "                                        min_delta=0,\n",
    "                                        patience=5,\n",
    "                                        verbose=0,\n",
    "                                        mode='auto',\n",
    "                                        baseline=None)]\n",
    "entrenamiento = red.fit(partial_x_train,\n",
    "                        partial_y_train,\n",
    "                        callbacks=EarlyStopping_CallBack,\n",
    "                        epochs=500,\n",
    "                        batch_size=512,\n",
    "                        validation_data=(x_val, y_val))"
   ]
  },
  {
   "cell_type": "markdown",
   "metadata": {
    "colab_type": "text",
    "id": "BW5dK1kxb4Vm"
   },
   "source": [
    "the call to fit() returns a history object, which has the following structure"
   ]
  },
  {
   "cell_type": "code",
   "execution_count": 14,
   "metadata": {
    "colab": {
     "base_uri": "https://localhost:8080/",
     "height": 34
    },
    "colab_type": "code",
    "executionInfo": {
     "elapsed": 617,
     "status": "ok",
     "timestamp": 1585004095919,
     "user": {
      "displayName": "Ekhi Zugasti Uriguen",
      "photoUrl": "https://lh3.googleusercontent.com/a-/AOh14GjLW21F9JMtJwfUDFcY2ROtJC3l1QPlGpvoN9Qy=s64",
      "userId": "00195558535022081217"
     },
     "user_tz": -60
    },
    "id": "rEG63sQxb4Vo",
    "outputId": "b17ff3ff-2356-4b3a-9b3b-a778626c9023"
   },
   "outputs": [
    {
     "data": {
      "text/plain": [
       "dict_keys(['loss', 'binary_accuracy', 'val_loss', 'val_binary_accuracy'])"
      ]
     },
     "execution_count": 14,
     "metadata": {},
     "output_type": "execute_result"
    }
   ],
   "source": [
    "entrenamiento_dict = entrenamiento.history\n",
    "entrenamiento_dict.keys()"
   ]
  },
  {
   "cell_type": "markdown",
   "metadata": {
    "colab_type": "text",
    "id": "A1Z4XVELb4Vs"
   },
   "source": [
    "In this case, this object contains 4 entries, one for each metric being monitored during training and during validation. We can use Matplotlib to represent the training and validation losses/accuracies simultaneously:"
   ]
  },
  {
   "cell_type": "code",
   "execution_count": 15,
   "metadata": {
    "colab": {
     "base_uri": "https://localhost:8080/",
     "height": 295
    },
    "colab_type": "code",
    "executionInfo": {
     "elapsed": 1795,
     "status": "ok",
     "timestamp": 1585004248630,
     "user": {
      "displayName": "Ekhi Zugasti Uriguen",
      "photoUrl": "https://lh3.googleusercontent.com/a-/AOh14GjLW21F9JMtJwfUDFcY2ROtJC3l1QPlGpvoN9Qy=s64",
      "userId": "00195558535022081217"
     },
     "user_tz": -60
    },
    "id": "IFBp0GiTb4Vv",
    "outputId": "63107b73-4b06-4c0b-ed46-f02be6aee24e"
   },
   "outputs": [
    {
     "data": {
      "image/png": "[encoded data removed]",
      "text/plain": [
       "<Figure size 432x288 with 1 Axes>"
      ]
     },
     "metadata": {
      "needs_background": "light"
     },
     "output_type": "display_data"
    }
   ],
   "source": [
    "import matplotlib.pyplot as plt\n",
    "\n",
    "ent_acc = entrenamiento.history['binary_accuracy']\n",
    "val_acc = entrenamiento.history['val_binary_accuracy']\n",
    "ent_loss = entrenamiento.history['loss']\n",
    "val_loss = entrenamiento.history['val_loss']\n",
    "\n",
    "epochs = range(1, len(ent_acc) + 1)\n",
    "\n",
    "# \"bo\" is for \"blue dot\"\n",
    "plt.plot(epochs, ent_loss, 'bo', label='Training')\n",
    "# r* red star\n",
    "plt.plot(epochs, val_loss, 'r*', label='Validation')\n",
    "plt.title('Loss in Training and Validation')\n",
    "plt.xlabel('Epochs')\n",
    "plt.ylabel('Loss')\n",
    "plt.legend()\n",
    "\n",
    "plt.show()"
   ]
  },
  {
   "cell_type": "code",
   "execution_count": 16,
   "metadata": {
    "colab": {
     "base_uri": "https://localhost:8080/",
     "height": 295
    },
    "colab_type": "code",
    "executionInfo": {
     "elapsed": 633,
     "status": "ok",
     "timestamp": 1585004284077,
     "user": {
      "displayName": "Ekhi Zugasti Uriguen",
      "photoUrl": "https://lh3.googleusercontent.com/a-/AOh14GjLW21F9JMtJwfUDFcY2ROtJC3l1QPlGpvoN9Qy=s64",
      "userId": "00195558535022081217"
     },
     "user_tz": -60
    },
    "id": "5vS-2yhYb4Vz",
    "outputId": "98582733-5a4a-41b3-9d9b-25e60fc643a5"
   },
   "outputs": [
    {
     "data": {
      "image/png": "[encoded data removed]",
      "text/plain": [
       "<Figure size 432x288 with 1 Axes>"
      ]
     },
     "metadata": {
      "needs_background": "light"
     },
     "output_type": "display_data"
    }
   ],
   "source": [
    "plt.clf()   # clear figure\n",
    "acc_values = entrenamiento_dict['binary_accuracy']\n",
    "val_acc_values = entrenamiento_dict['val_binary_accuracy']\n",
    "\n",
    "plt.plot(epochs, ent_acc, 'bo', label='Training')\n",
    "plt.plot(epochs, val_acc, 'r*', label='Validation')\n",
    "plt.title('Accuracy in Training and Validation')\n",
    "plt.xlabel('Epochs')\n",
    "plt.ylabel('Accuracy')\n",
    "plt.legend()\n",
    "\n",
    "plt.show()"
   ]
  },
  {
   "cell_type": "markdown",
   "metadata": {
    "colab_type": "text",
    "id": "Wjua5g21b4V5"
   },
   "source": [
    "These graphs show that the training loss decreases with each epoch, and that the training accuracy increases, which indicates that the optimization procedure is working properly (especially regarding the loss function). But in this case we observe that the same does not happen with the validation, which begin to worsen from the first epochs. This is a clear case of overfitting: after a few steps the system over-adjusts to the training data, and learns a representation that is specific to this data and cannot be generalised to other data.\n"
   ]
  },
  {
   "cell_type": "markdown",
   "metadata": {
    "colab_type": "text",
    "id": "E75XoYSDb4V7"
   },
   "source": [
    "Lets try to evaluate the model on the test data, not used until now:"
   ]
  },
  {
   "cell_type": "code",
   "execution_count": 17,
   "metadata": {
    "colab": {
     "base_uri": "https://localhost:8080/",
     "height": 52
    },
    "colab_type": "code",
    "executionInfo": {
     "elapsed": 4778,
     "status": "ok",
     "timestamp": 1585004379727,
     "user": {
      "displayName": "Ekhi Zugasti Uriguen",
      "photoUrl": "https://lh3.googleusercontent.com/a-/AOh14GjLW21F9JMtJwfUDFcY2ROtJC3l1QPlGpvoN9Qy=s64",
      "userId": "00195558535022081217"
     },
     "user_tz": -60
    },
    "id": "O1TMRsOUb4V8",
    "outputId": "7747bbeb-e60f-4b3e-d693-517710517dd2"
   },
   "outputs": [
    {
     "name": "stdout",
     "output_type": "stream",
     "text": [
      "25000/25000 [==============================] - 2s 72us/sample - loss: 0.4615 - binary_accuracy: 0.8568\n"
     ]
    },
    {
     "data": {
      "text/plain": [
       "[0.46148110195159914, 0.85676]"
      ]
     },
     "execution_count": 17,
     "metadata": {},
     "output_type": "execute_result"
    }
   ],
   "source": [
    "results = red.evaluate(x_test, y_test)\n",
    "results"
   ]
  },
  {
   "cell_type": "markdown",
   "metadata": {
    "colab_type": "text",
    "id": "C6sfYDk8b4V_"
   },
   "source": [
    "We see that the very simple approach we have made achieves a fairly high accuracy, although the current state of the art for this problem is around 95%, but working on much more elaborate networks."
   ]
  },
  {
   "cell_type": "markdown",
   "metadata": {
    "colab_type": "text",
    "id": "Me0Q41WCb4WB"
   },
   "source": [
    "## Predicción sobre datos nuevos"
   ]
  },
  {
   "cell_type": "markdown",
   "metadata": {
    "colab_type": "text",
    "id": "UXZdq8TAb4WE"
   },
   "source": [
    "Having trained the network, the natural step is to use the model for something practical. We can generate new predictions about opinions to analyze whether they are positive or not using the predict method associated with the model:"
   ]
  },
  {
   "cell_type": "code",
   "execution_count": 18,
   "metadata": {
    "colab": {
     "base_uri": "https://localhost:8080/",
     "height": 139
    },
    "colab_type": "code",
    "executionInfo": {
     "elapsed": 2727,
     "status": "ok",
     "timestamp": 1585004490631,
     "user": {
      "displayName": "Ekhi Zugasti Uriguen",
      "photoUrl": "https://lh3.googleusercontent.com/a-/AOh14GjLW21F9JMtJwfUDFcY2ROtJC3l1QPlGpvoN9Qy=s64",
      "userId": "00195558535022081217"
     },
     "user_tz": -60
    },
    "id": "hzqC7VjOb4WF",
    "outputId": "20553ce0-a6a0-4586-a00d-18493daa14a5"
   },
   "outputs": [
    {
     "data": {
      "text/plain": [
       "array([[0.08572776],\n",
       "       [0.57526094],\n",
       "       [0.1722798 ],\n",
       "       ...,\n",
       "       [0.12737869],\n",
       "       [0.09745336],\n",
       "       [0.33333528]], dtype=float32)"
      ]
     },
     "execution_count": 18,
     "metadata": {},
     "output_type": "execute_result"
    }
   ],
   "source": [
    "red.predict(x_test)"
   ]
  },
  {
   "cell_type": "markdown",
   "metadata": {
    "colab_type": "text",
    "id": "FKiCP3-Wb4WK"
   },
   "source": [
    "We see that the model is very determining in some cases (reaching values like 0.99 or 0.01) but not so much in others (with values close to a medium, like 0.46)"
   ]
  },
  {
   "cell_type": "markdown",
   "metadata": {
    "colab_type": "text",
    "id": "Y8sqwHKjb4WL"
   },
   "source": [
    "## Proposed Work"
   ]
  },
  {
   "cell_type": "markdown",
   "metadata": {
    "colab_type": "text",
    "id": "YTvTz-bIb4WN"
   },
   "source": [
    "Easy small changes:\n",
    "- In the previous model we used 3 hidden layers... check the effect of increasing or decreasing this number on validation and test accuracy.\n",
    "- Change the number of units in the hidden layers (8, 32, 64,...) and measure their effect.\n",
    "- See what happens when you use mse as a loss function, instead of binary_crossentropy?\n",
    "- See what happens when using tanh activation instead of relu?"
   ]
  },
  {
   "cell_type": "markdown",
   "metadata": {
    "colab_type": "text",
    "id": "bGl1pRykpGXy"
   },
   "source": [
    "Use Hyperas for Parameter tunning:\n",
    "Select a fixed number of layers and let Hyperas select the best hyperparameters for all of them \n",
    "\n",
    "\n",
    "*   Number of neurons in each layer\n",
    "*   Activation function for each layer\n",
    "* Dropout value \n",
    "* optimizer\n",
    "* Batch size\n",
    "\n",
    "Is it possible to add or remove layers with hyperas?\n",
    "\n"
   ]
  },
  {
   "cell_type": "markdown",
   "metadata": {
    "colab_type": "text",
    "id": "znMP6jxSqosf"
   },
   "source": [
    "Hyperas is not currently installed in google colab, you can install it, executing the code:\n",
    "\n",
    "\n",
    "```\n",
    "!pip install hyperas\n",
    "```\n",
    "\n",
    "help for using Hyperas in colab: https://nilsschlueter.de/blog/articles/keras-hyperparameter-tuning-in-google-colab-using-hyperas/"
   ]
  },
  {
   "cell_type": "code",
   "execution_count": null,
   "metadata": {},
   "outputs": [],
   "source": []
  },
  {
   "cell_type": "markdown",
   "metadata": {},
   "source": [
    "## Easy small changes"
   ]
  },
  {
   "cell_type": "markdown",
   "metadata": {},
   "source": [
    "### In the previous model we used 3 hidden layers... check the effect of increasing or decreasing this number on validation and test accuracy."
   ]
  },
  {
   "cell_type": "code",
   "execution_count": 19,
   "metadata": {},
   "outputs": [
    {
     "name": "stdout",
     "output_type": "stream",
     "text": [
      "25000/25000 [==============================] - 2s 77us/sample - loss: 0.5460 - binary_accuracy: 0.8662\n"
     ]
    },
    {
     "data": {
      "text/plain": [
       "[0.5459733516216279, 0.86616]"
      ]
     },
     "execution_count": 19,
     "metadata": {},
     "output_type": "execute_result"
    }
   ],
   "source": [
    "# we try adding more hidden layers\n",
    "from tensorflow.keras import models\n",
    "from tensorflow.keras import layers\n",
    "from tensorflow.keras.utils import plot_model\n",
    "from tensorflow.keras.callbacks import EarlyStopping\n",
    "\n",
    "nn = models.Sequential([\n",
    "    layers.Dense(4, activation='relu', input_shape=(numwords,)),\n",
    "    layers.Dense(4, activation='relu'),\n",
    "    layers.Dense(4, activation='relu'),\n",
    "    layers.Dense(4, activation='relu'),\n",
    "    layers.Dense(4, activation='relu'),\n",
    "    layers.Dense(1, activation='sigmoid')\n",
    "])\n",
    "\n",
    "nn.compile(optimizer='rmsprop', loss='binary_crossentropy', metrics=['binary_accuracy'])\n",
    "\n",
    "EarlyStopping_CallBack = [EarlyStopping(monitor='val_loss', min_delta=0, patience=5, verbose=0, mode='auto', baseline=None)]\n",
    "nn.fit(partial_x_train, partial_y_train, callbacks=EarlyStopping_CallBack, epochs=500, batch_size=512, validation_data=(x_val, y_val), verbose=0)\n",
    "nn.evaluate(x_test, y_test)"
   ]
  },
  {
   "cell_type": "code",
   "execution_count": 20,
   "metadata": {},
   "outputs": [
    {
     "name": "stdout",
     "output_type": "stream",
     "text": [
      "25000/25000 [==============================] - 2s 76us/sample - loss: 0.4621 - binary_accuracy: 0.8625\n"
     ]
    },
    {
     "data": {
      "text/plain": [
       "[0.46209822960853575, 0.86252]"
      ]
     },
     "execution_count": 20,
     "metadata": {},
     "output_type": "execute_result"
    }
   ],
   "source": [
    "# we try decreasing hidden layers\n",
    "from tensorflow.keras import models\n",
    "from tensorflow.keras import layers\n",
    "from tensorflow.keras.utils import plot_model\n",
    "from tensorflow.keras.callbacks import EarlyStopping\n",
    "\n",
    "nn = models.Sequential([\n",
    "    layers.Dense(4, activation='relu', input_shape=(numwords,)),\n",
    "    layers.Dense(4, activation='relu'),\n",
    "    layers.Dense(1, activation='sigmoid')\n",
    "])\n",
    "\n",
    "nn.compile(optimizer='rmsprop', loss='binary_crossentropy', metrics=['binary_accuracy'])\n",
    "\n",
    "EarlyStopping_CallBack = [EarlyStopping(monitor='val_loss', min_delta=0, patience=5, verbose=0, mode='auto', baseline=None)]\n",
    "nn.fit(partial_x_train, partial_y_train, callbacks=EarlyStopping_CallBack, epochs=500, batch_size=512, validation_data=(x_val, y_val), verbose=0)\n",
    "nn.evaluate(x_test, y_test)"
   ]
  },
  {
   "cell_type": "markdown",
   "metadata": {},
   "source": [
    "### Change the number of units in the hidden layers (8, 32, 64,...) and measure their effect."
   ]
  },
  {
   "cell_type": "code",
   "execution_count": 21,
   "metadata": {},
   "outputs": [
    {
     "name": "stdout",
     "output_type": "stream",
     "text": [
      "25000/25000 [==============================] - 2s 83us/sample - loss: 0.4511 - binary_accuracy: 0.8672\n"
     ]
    },
    {
     "data": {
      "text/plain": [
       "[0.4510644646024704, 0.86724]"
      ]
     },
     "execution_count": 21,
     "metadata": {},
     "output_type": "execute_result"
    }
   ],
   "source": [
    "from tensorflow.keras import models\n",
    "from tensorflow.keras import layers\n",
    "from tensorflow.keras.utils import plot_model\n",
    "from tensorflow.keras.callbacks import EarlyStopping\n",
    "\n",
    "nn = models.Sequential([\n",
    "    layers.Dense(8, activation='relu', input_shape=(numwords,)),\n",
    "    layers.Dense(8, activation='relu'),\n",
    "    layers.Dense(8, activation='relu'),\n",
    "    layers.Dense(1, activation='sigmoid')\n",
    "])\n",
    "\n",
    "nn.compile(optimizer='rmsprop', loss='binary_crossentropy', metrics=['binary_accuracy'])\n",
    "\n",
    "EarlyStopping_CallBack = [EarlyStopping(monitor='val_loss', min_delta=0, patience=5, verbose=0, mode='auto', baseline=None)]\n",
    "nn.fit(partial_x_train, partial_y_train, callbacks=EarlyStopping_CallBack, epochs=500, batch_size=512, validation_data=(x_val, y_val), verbose=0)\n",
    "nn.evaluate(x_test, y_test)"
   ]
  },
  {
   "cell_type": "code",
   "execution_count": 22,
   "metadata": {},
   "outputs": [
    {
     "name": "stdout",
     "output_type": "stream",
     "text": [
      "25000/25000 [==============================] - 2s 72us/sample - loss: 0.4952 - binary_accuracy: 0.8691\n"
     ]
    },
    {
     "data": {
      "text/plain": [
       "[0.49517646633148193, 0.86912]"
      ]
     },
     "execution_count": 22,
     "metadata": {},
     "output_type": "execute_result"
    }
   ],
   "source": [
    "from tensorflow.keras import models\n",
    "from tensorflow.keras import layers\n",
    "from tensorflow.keras.utils import plot_model\n",
    "from tensorflow.keras.callbacks import EarlyStopping\n",
    "\n",
    "nn = models.Sequential([\n",
    "    layers.Dense(64, activation='relu', input_shape=(numwords,)),\n",
    "    layers.Dense(64, activation='relu'),\n",
    "    layers.Dense(64, activation='relu'),\n",
    "    layers.Dense(1, activation='sigmoid')\n",
    "])\n",
    "\n",
    "nn.compile(optimizer='rmsprop', loss='binary_crossentropy', metrics=['binary_accuracy'])\n",
    "\n",
    "EarlyStopping_CallBack = [EarlyStopping(monitor='val_loss', min_delta=0, patience=5, verbose=0, mode='auto', baseline=None)]\n",
    "nn.fit(partial_x_train, partial_y_train, callbacks=EarlyStopping_CallBack, epochs=500, batch_size=512, validation_data=(x_val, y_val), verbose=0)\n",
    "nn.evaluate(x_test, y_test)"
   ]
  },
  {
   "cell_type": "markdown",
   "metadata": {},
   "source": [
    "### See what happens when you use mse as a loss function, instead of binary_crossentropy?"
   ]
  },
  {
   "cell_type": "code",
   "execution_count": 23,
   "metadata": {},
   "outputs": [
    {
     "name": "stdout",
     "output_type": "stream",
     "text": [
      "25000/25000 [==============================] - 2s 74us/sample - loss: 0.1071 - binary_accuracy: 0.8695\n"
     ]
    },
    {
     "data": {
      "text/plain": [
       "[0.10712328526094556, 0.86948]"
      ]
     },
     "execution_count": 23,
     "metadata": {},
     "output_type": "execute_result"
    }
   ],
   "source": [
    "from tensorflow.keras import models\n",
    "from tensorflow.keras import layers\n",
    "from tensorflow.keras.utils import plot_model\n",
    "from tensorflow.keras.callbacks import EarlyStopping\n",
    "\n",
    "nn = models.Sequential([\n",
    "    layers.Dense(64, activation='relu', input_shape=(numwords,)),\n",
    "    layers.Dense(64, activation='relu'),\n",
    "    layers.Dense(64, activation='relu'),\n",
    "    layers.Dense(1, activation='sigmoid')\n",
    "])\n",
    "\n",
    "nn.compile(optimizer='rmsprop', loss='mean_squared_error', metrics=['binary_accuracy'])\n",
    "\n",
    "EarlyStopping_CallBack = [EarlyStopping(monitor='val_loss', min_delta=0, patience=5, verbose=0, mode='auto', baseline=None)]\n",
    "nn.fit(partial_x_train, partial_y_train, callbacks=EarlyStopping_CallBack, epochs=500, batch_size=512, validation_data=(x_val, y_val), verbose=0)\n",
    "nn.evaluate(x_test, y_test)"
   ]
  },
  {
   "cell_type": "markdown",
   "metadata": {},
   "source": [
    "### See what happens when using tanh activation instead of relu?"
   ]
  },
  {
   "cell_type": "code",
   "execution_count": 24,
   "metadata": {},
   "outputs": [
    {
     "name": "stdout",
     "output_type": "stream",
     "text": [
      "25000/25000 [==============================] - 2s 77us/sample - loss: 0.4647 - binary_accuracy: 0.8562\n"
     ]
    },
    {
     "data": {
      "text/plain": [
       "[0.46474745687007907, 0.85616]"
      ]
     },
     "execution_count": 24,
     "metadata": {},
     "output_type": "execute_result"
    }
   ],
   "source": [
    "from tensorflow.keras import models\n",
    "from tensorflow.keras import layers\n",
    "from tensorflow.keras.utils import plot_model\n",
    "from tensorflow.keras.callbacks import EarlyStopping\n",
    "\n",
    "nn = models.Sequential([\n",
    "    layers.Dense(64, activation='tanh', input_shape=(numwords,)),\n",
    "    layers.Dense(64, activation='tanh'),\n",
    "    layers.Dense(64, activation='tanh'),\n",
    "    layers.Dense(1, activation='sigmoid')\n",
    "])\n",
    "\n",
    "nn.compile(optimizer='rmsprop', loss='binary_crossentropy', metrics=['binary_accuracy'])\n",
    "\n",
    "EarlyStopping_CallBack = [EarlyStopping(monitor='val_loss', min_delta=0, patience=5, verbose=0, mode='auto', baseline=None)]\n",
    "nn.fit(partial_x_train, partial_y_train, callbacks=EarlyStopping_CallBack, epochs=500, batch_size=512, validation_data=(x_val, y_val), verbose=0)\n",
    "nn.evaluate(x_test, y_test)"
   ]
  },
  {
   "cell_type": "markdown",
   "metadata": {},
   "source": [
    "## Hyperas"
   ]
  },
  {
   "cell_type": "code",
   "execution_count": 25,
   "metadata": {},
   "outputs": [],
   "source": [
    "from tensorflow.keras import models\n",
    "from tensorflow.keras import layers\n",
    "from tensorflow.keras.utils import plot_model\n",
    "from tensorflow.keras.callbacks import EarlyStopping\n",
    "\n",
    "def data():\n",
    "    # we use directly global variables\n",
    "    return x_train, y_train, x_test, y_test\n",
    "\n",
    "def model(x_train, y_train, x_test, y_test):\n",
    "    nn = models.Sequential([\n",
    "        layers.Dense(4, activation='relu', input_shape=(numwords,)),\n",
    "        layers.Dense(4, activation='relu'),\n",
    "        layers.Dense(4, activation='relu'),\n",
    "        layers.Dense(1, activation='sigmoid')\n",
    "    ])\n",
    "    nn.compile(optimizer='rmsprop', loss='binary_crossentropy', metrics=['binary_accuracy'])\n",
    "    EarlyStopping_CallBack = [EarlyStopping(monitor='val_loss', min_delta=0, patience=5, verbose=0, mode='auto', baseline=None)]\n",
    "    nn.fit(partial_x_train, partial_y_train, callbacks=EarlyStopping_CallBack, epochs=500, batch_size=512, validation_data=(x_val, y_val), verbose=0)    \n",
    "    score, acc = nn.evaluate(x_test, y_test, verbose=0)\n",
    "    print('Test accuracy:', acc)\n",
    "    return {'loss': -acc, 'status': STATUS_OK, 'model': model}\n",
    "    \n",
    "    "
   ]
  },
  {
   "cell_type": "code",
   "execution_count": 26,
   "metadata": {},
   "outputs": [
    {
     "name": "stderr",
     "output_type": "stream",
     "text": [
      "Using TensorFlow backend.\n"
     ]
    },
    {
     "name": "stdout",
     "output_type": "stream",
     "text": [
      ">>> Imports:\n",
      "#coding=utf-8\n",
      "\n",
      "try:\n",
      "    from tensorflow.keras.datasets import imdb\n",
      "except:\n",
      "    pass\n",
      "\n",
      "try:\n",
      "    import pandas as pd\n",
      "except:\n",
      "    pass\n",
      "\n",
      "try:\n",
      "    import numpy as np\n",
      "except:\n",
      "    pass\n",
      "\n",
      "try:\n",
      "    from tensorflow.keras import models\n",
      "except:\n",
      "    pass\n",
      "\n",
      "try:\n",
      "    from tensorflow.keras import layers\n",
      "except:\n",
      "    pass\n",
      "\n",
      "try:\n",
      "    from tensorflow.keras.utils import plot_model\n",
      "except:\n",
      "    pass\n",
      "\n",
      "try:\n",
      "    from tensorflow.keras import optimizers\n",
      "except:\n",
      "    pass\n",
      "\n",
      "try:\n",
      "    from sklearn.model_selection import train_test_split\n",
      "except:\n",
      "    pass\n",
      "\n",
      "try:\n",
      "    from tensorflow.keras.callbacks import EarlyStopping\n",
      "except:\n",
      "    pass\n",
      "\n",
      "try:\n",
      "    import matplotlib.pyplot as plt\n",
      "except:\n",
      "    pass\n",
      "\n",
      "try:\n",
      "    from tensorflow.keras import models\n",
      "except:\n",
      "    pass\n",
      "\n",
      "try:\n",
      "    from tensorflow.keras import layers\n",
      "except:\n",
      "    pass\n",
      "\n",
      "try:\n",
      "    from tensorflow.keras.utils import plot_model\n",
      "except:\n",
      "    pass\n",
      "\n",
      "try:\n",
      "    from tensorflow.keras.callbacks import EarlyStopping\n",
      "except:\n",
      "    pass\n",
      "\n",
      "try:\n",
      "    from tensorflow.keras import models\n",
      "except:\n",
      "    pass\n",
      "\n",
      "try:\n",
      "    from tensorflow.keras import layers\n",
      "except:\n",
      "    pass\n",
      "\n",
      "try:\n",
      "    from tensorflow.keras.utils import plot_model\n",
      "except:\n",
      "    pass\n",
      "\n",
      "try:\n",
      "    from tensorflow.keras.callbacks import EarlyStopping\n",
      "except:\n",
      "    pass\n",
      "\n",
      "try:\n",
      "    from tensorflow.keras import models\n",
      "except:\n",
      "    pass\n",
      "\n",
      "try:\n",
      "    from tensorflow.keras import layers\n",
      "except:\n",
      "    pass\n",
      "\n",
      "try:\n",
      "    from tensorflow.keras.utils import plot_model\n",
      "except:\n",
      "    pass\n",
      "\n",
      "try:\n",
      "    from tensorflow.keras.callbacks import EarlyStopping\n",
      "except:\n",
      "    pass\n",
      "\n",
      "try:\n",
      "    from tensorflow.keras import models\n",
      "except:\n",
      "    pass\n",
      "\n",
      "try:\n",
      "    from tensorflow.keras import layers\n",
      "except:\n",
      "    pass\n",
      "\n",
      "try:\n",
      "    from tensorflow.keras.utils import plot_model\n",
      "except:\n",
      "    pass\n",
      "\n",
      "try:\n",
      "    from tensorflow.keras.callbacks import EarlyStopping\n",
      "except:\n",
      "    pass\n",
      "\n",
      "try:\n",
      "    from tensorflow.keras import models\n",
      "except:\n",
      "    pass\n",
      "\n",
      "try:\n",
      "    from tensorflow.keras import layers\n",
      "except:\n",
      "    pass\n",
      "\n",
      "try:\n",
      "    from tensorflow.keras.utils import plot_model\n",
      "except:\n",
      "    pass\n",
      "\n",
      "try:\n",
      "    from tensorflow.keras.callbacks import EarlyStopping\n",
      "except:\n",
      "    pass\n",
      "\n",
      "try:\n",
      "    from tensorflow.keras import models\n",
      "except:\n",
      "    pass\n",
      "\n",
      "try:\n",
      "    from tensorflow.keras import layers\n",
      "except:\n",
      "    pass\n",
      "\n",
      "try:\n",
      "    from tensorflow.keras.utils import plot_model\n",
      "except:\n",
      "    pass\n",
      "\n",
      "try:\n",
      "    from tensorflow.keras.callbacks import EarlyStopping\n",
      "except:\n",
      "    pass\n",
      "\n",
      "try:\n",
      "    from tensorflow.keras import models\n",
      "except:\n",
      "    pass\n",
      "\n",
      "try:\n",
      "    from tensorflow.keras import layers\n",
      "except:\n",
      "    pass\n",
      "\n",
      "try:\n",
      "    from tensorflow.keras.utils import plot_model\n",
      "except:\n",
      "    pass\n",
      "\n",
      "try:\n",
      "    from tensorflow.keras.callbacks import EarlyStopping\n",
      "except:\n",
      "    pass\n",
      "\n",
      ">>> Hyperas search space:\n",
      "\n",
      "def get_space():\n",
      "    return {\n",
      "    }\n",
      "\n",
      ">>> Data\n",
      " 1: \n",
      " 2: # we use directly global variables\n",
      " 3: \n",
      " 4: \n",
      " 5: \n",
      ">>> Resulting replaced keras model:\n",
      "\n",
      "  1: def keras_fmin_fnct(space):\n",
      "  2: \n",
      "  3:     nn = models.Sequential([\n",
      "  4:         layers.Dense(4, activation='relu', input_shape=(numwords,)),\n",
      "  5:         layers.Dense(4, activation='relu'),\n",
      "  6:         layers.Dense(4, activation='relu'),\n",
      "  7:         layers.Dense(1, activation='sigmoid')\n",
      "  8:     ])\n",
      "  9:     nn.compile(optimizer='rmsprop', loss='binary_crossentropy', metrics=['binary_accuracy'])\n",
      " 10:     EarlyStopping_CallBack = [EarlyStopping(monitor='val_loss', min_delta=0, patience=5, verbose=0, mode='auto', baseline=None)]\n",
      " 11:     nn.fit(partial_x_train, partial_y_train, callbacks=EarlyStopping_CallBack, epochs=500, batch_size=512, validation_data=(x_val, y_val), verbose=0)    \n",
      " 12:     score, acc = nn.evaluate(x_test, y_test, verbose=0)\n",
      " 13:     print('Test accuracy:', acc)\n",
      " 14:     return {'loss': -acc, 'status': STATUS_OK, 'model': model}\n",
      " 15: \n"
     ]
    },
    {
     "ename": "IndexError",
     "evalue": "list index out of range",
     "output_type": "error",
     "traceback": [
      "\u001b[1;31m---------------------------------------------------------------------------\u001b[0m",
      "\u001b[1;31mIndexError\u001b[0m                                Traceback (most recent call last)",
      "\u001b[1;32m<ipython-input-26-83d58b43866d>\u001b[0m in \u001b[0;36m<module>\u001b[1;34m\u001b[0m\n\u001b[0;32m      8\u001b[0m     \u001b[0malgo\u001b[0m\u001b[1;33m=\u001b[0m\u001b[0mtpe\u001b[0m\u001b[1;33m.\u001b[0m\u001b[0msuggest\u001b[0m\u001b[1;33m,\u001b[0m\u001b[1;33m\u001b[0m\u001b[1;33m\u001b[0m\u001b[0m\n\u001b[0;32m      9\u001b[0m     \u001b[0mnotebook_name\u001b[0m\u001b[1;33m=\u001b[0m\u001b[1;34m'SentimentAnalysisExample+exercise'\u001b[0m\u001b[1;33m,\u001b[0m\u001b[1;33m\u001b[0m\u001b[1;33m\u001b[0m\u001b[0m\n\u001b[1;32m---> 10\u001b[1;33m     \u001b[0mtrials\u001b[0m\u001b[1;33m=\u001b[0m\u001b[0mTrials\u001b[0m\u001b[1;33m(\u001b[0m\u001b[1;33m)\u001b[0m\u001b[1;33m\u001b[0m\u001b[1;33m\u001b[0m\u001b[0m\n\u001b[0m\u001b[0;32m     11\u001b[0m )\n",
      "\u001b[1;32mZ:\\Programacion\\Anaconda\\envs\\deepl\\lib\\site-packages\\hyperas\\optim.py\u001b[0m in \u001b[0;36mminimize\u001b[1;34m(model, data, algo, max_evals, trials, functions, rseed, notebook_name, verbose, eval_space, return_space, keep_temp)\u001b[0m\n\u001b[0;32m     67\u001b[0m                                      \u001b[0mnotebook_name\u001b[0m\u001b[1;33m=\u001b[0m\u001b[0mnotebook_name\u001b[0m\u001b[1;33m,\u001b[0m\u001b[1;33m\u001b[0m\u001b[1;33m\u001b[0m\u001b[0m\n\u001b[0;32m     68\u001b[0m                                      \u001b[0mverbose\u001b[0m\u001b[1;33m=\u001b[0m\u001b[0mverbose\u001b[0m\u001b[1;33m,\u001b[0m\u001b[1;33m\u001b[0m\u001b[1;33m\u001b[0m\u001b[0m\n\u001b[1;32m---> 69\u001b[1;33m                                      keep_temp=keep_temp)\n\u001b[0m\u001b[0;32m     70\u001b[0m \u001b[1;33m\u001b[0m\u001b[0m\n\u001b[0;32m     71\u001b[0m     \u001b[0mbest_model\u001b[0m \u001b[1;33m=\u001b[0m \u001b[1;32mNone\u001b[0m\u001b[1;33m\u001b[0m\u001b[1;33m\u001b[0m\u001b[0m\n",
      "\u001b[1;32mZ:\\Programacion\\Anaconda\\envs\\deepl\\lib\\site-packages\\hyperas\\optim.py\u001b[0m in \u001b[0;36mbase_minimizer\u001b[1;34m(model, data, functions, algo, max_evals, trials, rseed, full_model_string, notebook_name, verbose, stack, keep_temp)\u001b[0m\n\u001b[0;32m    137\u001b[0m              \u001b[0mtrials\u001b[0m\u001b[1;33m=\u001b[0m\u001b[0mtrials\u001b[0m\u001b[1;33m,\u001b[0m\u001b[1;33m\u001b[0m\u001b[1;33m\u001b[0m\u001b[0m\n\u001b[0;32m    138\u001b[0m              \u001b[0mrstate\u001b[0m\u001b[1;33m=\u001b[0m\u001b[0mnp\u001b[0m\u001b[1;33m.\u001b[0m\u001b[0mrandom\u001b[0m\u001b[1;33m.\u001b[0m\u001b[0mRandomState\u001b[0m\u001b[1;33m(\u001b[0m\u001b[0mrseed\u001b[0m\u001b[1;33m)\u001b[0m\u001b[1;33m,\u001b[0m\u001b[1;33m\u001b[0m\u001b[1;33m\u001b[0m\u001b[0m\n\u001b[1;32m--> 139\u001b[1;33m              return_argmin=True),\n\u001b[0m\u001b[0;32m    140\u001b[0m         \u001b[0mget_space\u001b[0m\u001b[1;33m(\u001b[0m\u001b[1;33m)\u001b[0m\u001b[1;33m\u001b[0m\u001b[1;33m\u001b[0m\u001b[0m\n\u001b[0;32m    141\u001b[0m     )\n",
      "\u001b[1;32mZ:\\Programacion\\Anaconda\\envs\\deepl\\lib\\site-packages\\hyperopt\\fmin.py\u001b[0m in \u001b[0;36mfmin\u001b[1;34m(fn, space, algo, max_evals, timeout, loss_threshold, trials, rstate, allow_trials_fmin, pass_expr_memo_ctrl, catch_eval_exceptions, verbose, return_argmin, points_to_evaluate, max_queue_len, show_progressbar)\u001b[0m\n\u001b[0;32m    480\u001b[0m             \u001b[0mcatch_eval_exceptions\u001b[0m\u001b[1;33m=\u001b[0m\u001b[0mcatch_eval_exceptions\u001b[0m\u001b[1;33m,\u001b[0m\u001b[1;33m\u001b[0m\u001b[1;33m\u001b[0m\u001b[0m\n\u001b[0;32m    481\u001b[0m             \u001b[0mreturn_argmin\u001b[0m\u001b[1;33m=\u001b[0m\u001b[0mreturn_argmin\u001b[0m\u001b[1;33m,\u001b[0m\u001b[1;33m\u001b[0m\u001b[1;33m\u001b[0m\u001b[0m\n\u001b[1;32m--> 482\u001b[1;33m             \u001b[0mshow_progressbar\u001b[0m\u001b[1;33m=\u001b[0m\u001b[0mshow_progressbar\u001b[0m\u001b[1;33m,\u001b[0m\u001b[1;33m\u001b[0m\u001b[1;33m\u001b[0m\u001b[0m\n\u001b[0m\u001b[0;32m    483\u001b[0m         )\n\u001b[0;32m    484\u001b[0m \u001b[1;33m\u001b[0m\u001b[0m\n",
      "\u001b[1;32mZ:\\Programacion\\Anaconda\\envs\\deepl\\lib\\site-packages\\hyperopt\\base.py\u001b[0m in \u001b[0;36mfmin\u001b[1;34m(self, fn, space, algo, max_evals, timeout, loss_threshold, max_queue_len, rstate, verbose, pass_expr_memo_ctrl, catch_eval_exceptions, return_argmin, show_progressbar)\u001b[0m\n\u001b[0;32m    684\u001b[0m             \u001b[0mcatch_eval_exceptions\u001b[0m\u001b[1;33m=\u001b[0m\u001b[0mcatch_eval_exceptions\u001b[0m\u001b[1;33m,\u001b[0m\u001b[1;33m\u001b[0m\u001b[1;33m\u001b[0m\u001b[0m\n\u001b[0;32m    685\u001b[0m             \u001b[0mreturn_argmin\u001b[0m\u001b[1;33m=\u001b[0m\u001b[0mreturn_argmin\u001b[0m\u001b[1;33m,\u001b[0m\u001b[1;33m\u001b[0m\u001b[1;33m\u001b[0m\u001b[0m\n\u001b[1;32m--> 686\u001b[1;33m             \u001b[0mshow_progressbar\u001b[0m\u001b[1;33m=\u001b[0m\u001b[0mshow_progressbar\u001b[0m\u001b[1;33m,\u001b[0m\u001b[1;33m\u001b[0m\u001b[1;33m\u001b[0m\u001b[0m\n\u001b[0m\u001b[0;32m    687\u001b[0m         )\n\u001b[0;32m    688\u001b[0m \u001b[1;33m\u001b[0m\u001b[0m\n",
      "\u001b[1;32mZ:\\Programacion\\Anaconda\\envs\\deepl\\lib\\site-packages\\hyperopt\\fmin.py\u001b[0m in \u001b[0;36mfmin\u001b[1;34m(fn, space, algo, max_evals, timeout, loss_threshold, trials, rstate, allow_trials_fmin, pass_expr_memo_ctrl, catch_eval_exceptions, verbose, return_argmin, points_to_evaluate, max_queue_len, show_progressbar)\u001b[0m\n\u001b[0;32m    490\u001b[0m             \u001b[0mtrials\u001b[0m \u001b[1;33m=\u001b[0m \u001b[0mgenerate_trials_to_calculate\u001b[0m\u001b[1;33m(\u001b[0m\u001b[0mpoints_to_evaluate\u001b[0m\u001b[1;33m)\u001b[0m\u001b[1;33m\u001b[0m\u001b[1;33m\u001b[0m\u001b[0m\n\u001b[0;32m    491\u001b[0m \u001b[1;33m\u001b[0m\u001b[0m\n\u001b[1;32m--> 492\u001b[1;33m     \u001b[0mdomain\u001b[0m \u001b[1;33m=\u001b[0m \u001b[0mbase\u001b[0m\u001b[1;33m.\u001b[0m\u001b[0mDomain\u001b[0m\u001b[1;33m(\u001b[0m\u001b[0mfn\u001b[0m\u001b[1;33m,\u001b[0m \u001b[0mspace\u001b[0m\u001b[1;33m,\u001b[0m \u001b[0mpass_expr_memo_ctrl\u001b[0m\u001b[1;33m=\u001b[0m\u001b[0mpass_expr_memo_ctrl\u001b[0m\u001b[1;33m)\u001b[0m\u001b[1;33m\u001b[0m\u001b[1;33m\u001b[0m\u001b[0m\n\u001b[0m\u001b[0;32m    493\u001b[0m \u001b[1;33m\u001b[0m\u001b[0m\n\u001b[0;32m    494\u001b[0m     rval = FMinIter(\n",
      "\u001b[1;32mZ:\\Programacion\\Anaconda\\envs\\deepl\\lib\\site-packages\\hyperopt\\base.py\u001b[0m in \u001b[0;36m__init__\u001b[1;34m(self, fn, expr, workdir, pass_expr_memo_ctrl, name, loss_target)\u001b[0m\n\u001b[0;32m    837\u001b[0m         \u001b[0mbefore\u001b[0m \u001b[1;33m=\u001b[0m \u001b[0mpyll\u001b[0m\u001b[1;33m.\u001b[0m\u001b[0mdfs\u001b[0m\u001b[1;33m(\u001b[0m\u001b[0mself\u001b[0m\u001b[1;33m.\u001b[0m\u001b[0mexpr\u001b[0m\u001b[1;33m)\u001b[0m\u001b[1;33m\u001b[0m\u001b[1;33m\u001b[0m\u001b[0m\n\u001b[0;32m    838\u001b[0m         \u001b[1;31m# -- raises exception if expr contains cycles\u001b[0m\u001b[1;33m\u001b[0m\u001b[1;33m\u001b[0m\u001b[1;33m\u001b[0m\u001b[0m\n\u001b[1;32m--> 839\u001b[1;33m         \u001b[0mpyll\u001b[0m\u001b[1;33m.\u001b[0m\u001b[0mtoposort\u001b[0m\u001b[1;33m(\u001b[0m\u001b[0mself\u001b[0m\u001b[1;33m.\u001b[0m\u001b[0mexpr\u001b[0m\u001b[1;33m)\u001b[0m\u001b[1;33m\u001b[0m\u001b[1;33m\u001b[0m\u001b[0m\n\u001b[0m\u001b[0;32m    840\u001b[0m         \u001b[0mvh\u001b[0m \u001b[1;33m=\u001b[0m \u001b[0mself\u001b[0m\u001b[1;33m.\u001b[0m\u001b[0mvh\u001b[0m \u001b[1;33m=\u001b[0m \u001b[0mVectorizeHelper\u001b[0m\u001b[1;33m(\u001b[0m\u001b[0mself\u001b[0m\u001b[1;33m.\u001b[0m\u001b[0mexpr\u001b[0m\u001b[1;33m,\u001b[0m \u001b[0mself\u001b[0m\u001b[1;33m.\u001b[0m\u001b[0ms_new_ids\u001b[0m\u001b[1;33m)\u001b[0m\u001b[1;33m\u001b[0m\u001b[1;33m\u001b[0m\u001b[0m\n\u001b[0;32m    841\u001b[0m         \u001b[1;31m# -- raises exception if v_expr contains cycles\u001b[0m\u001b[1;33m\u001b[0m\u001b[1;33m\u001b[0m\u001b[1;33m\u001b[0m\u001b[0m\n",
      "\u001b[1;32mZ:\\Programacion\\Anaconda\\envs\\deepl\\lib\\site-packages\\hyperopt\\pyll\\base.py\u001b[0m in \u001b[0;36mtoposort\u001b[1;34m(expr)\u001b[0m\n\u001b[0;32m    710\u001b[0m         \u001b[0mG\u001b[0m\u001b[1;33m.\u001b[0m\u001b[0madd_edges_from\u001b[0m\u001b[1;33m(\u001b[0m\u001b[1;33m[\u001b[0m\u001b[1;33m(\u001b[0m\u001b[0mn_in\u001b[0m\u001b[1;33m,\u001b[0m \u001b[0mnode\u001b[0m\u001b[1;33m)\u001b[0m \u001b[1;32mfor\u001b[0m \u001b[0mn_in\u001b[0m \u001b[1;32min\u001b[0m \u001b[0mnode\u001b[0m\u001b[1;33m.\u001b[0m\u001b[0minputs\u001b[0m\u001b[1;33m(\u001b[0m\u001b[1;33m)\u001b[0m\u001b[1;33m]\u001b[0m\u001b[1;33m)\u001b[0m\u001b[1;33m\u001b[0m\u001b[1;33m\u001b[0m\u001b[0m\n\u001b[0;32m    711\u001b[0m     \u001b[0morder\u001b[0m \u001b[1;33m=\u001b[0m \u001b[0mlist\u001b[0m\u001b[1;33m(\u001b[0m\u001b[0mnx\u001b[0m\u001b[1;33m.\u001b[0m\u001b[0mtopological_sort\u001b[0m\u001b[1;33m(\u001b[0m\u001b[0mG\u001b[0m\u001b[1;33m)\u001b[0m\u001b[1;33m)\u001b[0m\u001b[1;33m\u001b[0m\u001b[1;33m\u001b[0m\u001b[0m\n\u001b[1;32m--> 712\u001b[1;33m     \u001b[1;32massert\u001b[0m \u001b[0morder\u001b[0m\u001b[1;33m[\u001b[0m\u001b[1;33m-\u001b[0m\u001b[1;36m1\u001b[0m\u001b[1;33m]\u001b[0m \u001b[1;33m==\u001b[0m \u001b[0mexpr\u001b[0m\u001b[1;33m\u001b[0m\u001b[1;33m\u001b[0m\u001b[0m\n\u001b[0m\u001b[0;32m    713\u001b[0m     \u001b[1;32mreturn\u001b[0m \u001b[0morder\u001b[0m\u001b[1;33m\u001b[0m\u001b[1;33m\u001b[0m\u001b[0m\n\u001b[0;32m    714\u001b[0m \u001b[1;33m\u001b[0m\u001b[0m\n",
      "\u001b[1;31mIndexError\u001b[0m: list index out of range"
     ]
    }
   ],
   "source": [
    "from hyperopt import Trials, STATUS_OK, tpe\n",
    "from hyperas import optim\n",
    "\n",
    "best_run, best_model = optim.minimize(\n",
    "    model=model, \n",
    "    data=data, \n",
    "    max_evals=10, \n",
    "    algo=tpe.suggest, \n",
    "    notebook_name='SentimentAnalysisExample+exercise', \n",
    "    trials=Trials()\n",
    ")"
   ]
  },
  {
   "cell_type": "code",
   "execution_count": null,
   "metadata": {},
   "outputs": [],
   "source": []
  }
 ],
 "metadata": {
  "colab": {
   "name": "SentimentAnalysisExample+exercise.ipynb",
   "provenance": [
    {
     "file_id": "1ZL0FstT3_lcGoFIYk6ZqKBfdQIs7x1uf",
     "timestamp": 1585007864366
    }
   ]
  },
  "kernelspec": {
   "display_name": "Python 3",
   "language": "python",
   "name": "python3"
  },
  "language_info": {
   "codemirror_mode": {
    "name": "ipython",
    "version": 3
   },
   "file_extension": ".py",
   "mimetype": "text/x-python",
   "name": "python",
   "nbconvert_exporter": "python",
   "pygments_lexer": "ipython3",
   "version": "3.7.7"
  }
 },
 "nbformat": 4,
 "nbformat_minor": 4
}
