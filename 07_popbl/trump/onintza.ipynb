{
 "cells": [
  {
   "cell_type": "code",
   "execution_count": 3,
   "metadata": {
    "colab": {
     "base_uri": "https://localhost:8080/",
     "height": 34
    },
    "colab_type": "code",
    "executionInfo": {
     "elapsed": 2027311,
     "status": "ok",
     "timestamp": 1590658014531,
     "user": {
      "displayName": "Onintza Ugarte IguiÑiz",
      "photoUrl": "",
      "userId": "11951068487537836477"
     },
     "user_tz": -120
    },
    "id": "dU86wVhhQUXu",
    "outputId": "b4c679c0-8786-4e8d-a188-2947abf01473"
   },
   "outputs": [
    {
     "name": "stderr",
     "output_type": "stream",
     "text": [
      "Using TensorFlow backend.\n"
     ]
    }
   ],
   "source": [
    "import numpy as np \n",
    "import pandas as pd\n",
    "from keras.callbacks import LambdaCallback\n",
    "from keras.models import Sequential\n",
    "from keras.layers import Dense\n",
    "from keras.layers import LSTM\n",
    "from keras.layers import Dropout\n",
    "from keras.optimizers import RMSprop\n",
    "from keras.optimizers import Adam\n",
    "from keras.utils.data_utils import get_file\n",
    "import numpy as np\n",
    "import random\n",
    "import sys\n",
    "import io\n",
    "\n"
   ]
  },
  {
   "cell_type": "code",
   "execution_count": 4,
   "metadata": {
    "colab": {
     "base_uri": "https://localhost:8080/",
     "height": 581
    },
    "colab_type": "code",
    "executionInfo": {
     "elapsed": 2027663,
     "status": "ok",
     "timestamp": 1590658014895,
     "user": {
      "displayName": "Onintza Ugarte IguiÑiz",
      "photoUrl": "",
      "userId": "11951068487537836477"
     },
     "user_tz": -120
    },
    "id": "d5i4ioNQSB46",
    "outputId": "6cea2b16-4bd4-422d-b763-e52e16c10764"
   },
   "outputs": [
    {
     "name": "stdout",
     "output_type": "stream",
     "text": [
      "(7375, 12)\n"
     ]
    },
    {
     "data": {
      "text/html": [
       "<div>\n",
       "<style scoped>\n",
       "    .dataframe tbody tr th:only-of-type {\n",
       "        vertical-align: middle;\n",
       "    }\n",
       "\n",
       "    .dataframe tbody tr th {\n",
       "        vertical-align: top;\n",
       "    }\n",
       "\n",
       "    .dataframe thead th {\n",
       "        text-align: right;\n",
       "    }\n",
       "</style>\n",
       "<table border=\"1\" class=\"dataframe\">\n",
       "  <thead>\n",
       "    <tr style=\"text-align: right;\">\n",
       "      <th></th>\n",
       "      <th>Date</th>\n",
       "      <th>Time</th>\n",
       "      <th>Tweet_Text</th>\n",
       "      <th>Type</th>\n",
       "      <th>Media_Type</th>\n",
       "      <th>Hashtags</th>\n",
       "      <th>Tweet_Id</th>\n",
       "      <th>Tweet_Url</th>\n",
       "      <th>twt_favourites_IS_THIS_LIKE_QUESTION_MARK</th>\n",
       "      <th>Retweets</th>\n",
       "      <th>Unnamed: 10</th>\n",
       "      <th>Unnamed: 11</th>\n",
       "    </tr>\n",
       "  </thead>\n",
       "  <tbody>\n",
       "    <tr>\n",
       "      <th>0</th>\n",
       "      <td>16-11-11</td>\n",
       "      <td>15:26:37</td>\n",
       "      <td>Today we express our deepest gratitude to all ...</td>\n",
       "      <td>text</td>\n",
       "      <td>photo</td>\n",
       "      <td>ThankAVet</td>\n",
       "      <td>7.970000e+17</td>\n",
       "      <td>https://twitter.com/realDonaldTrump/status/797...</td>\n",
       "      <td>127213</td>\n",
       "      <td>41112</td>\n",
       "      <td>NaN</td>\n",
       "      <td>NaN</td>\n",
       "    </tr>\n",
       "    <tr>\n",
       "      <th>1</th>\n",
       "      <td>16-11-11</td>\n",
       "      <td>13:33:35</td>\n",
       "      <td>Busy day planned in New York. Will soon be mak...</td>\n",
       "      <td>text</td>\n",
       "      <td>NaN</td>\n",
       "      <td>NaN</td>\n",
       "      <td>7.970000e+17</td>\n",
       "      <td>https://twitter.com/realDonaldTrump/status/797...</td>\n",
       "      <td>141527</td>\n",
       "      <td>28654</td>\n",
       "      <td>NaN</td>\n",
       "      <td>NaN</td>\n",
       "    </tr>\n",
       "    <tr>\n",
       "      <th>2</th>\n",
       "      <td>16-11-11</td>\n",
       "      <td>11:14:20</td>\n",
       "      <td>Love the fact that the small groups of protest...</td>\n",
       "      <td>text</td>\n",
       "      <td>NaN</td>\n",
       "      <td>NaN</td>\n",
       "      <td>7.970000e+17</td>\n",
       "      <td>https://twitter.com/realDonaldTrump/status/797...</td>\n",
       "      <td>183729</td>\n",
       "      <td>50039</td>\n",
       "      <td>NaN</td>\n",
       "      <td>NaN</td>\n",
       "    </tr>\n",
       "    <tr>\n",
       "      <th>3</th>\n",
       "      <td>16-11-11</td>\n",
       "      <td>2:19:44</td>\n",
       "      <td>Just had a very open and successful presidenti...</td>\n",
       "      <td>text</td>\n",
       "      <td>NaN</td>\n",
       "      <td>NaN</td>\n",
       "      <td>7.970000e+17</td>\n",
       "      <td>https://twitter.com/realDonaldTrump/status/796...</td>\n",
       "      <td>214001</td>\n",
       "      <td>67010</td>\n",
       "      <td>NaN</td>\n",
       "      <td>NaN</td>\n",
       "    </tr>\n",
       "    <tr>\n",
       "      <th>4</th>\n",
       "      <td>16-11-11</td>\n",
       "      <td>2:10:46</td>\n",
       "      <td>A fantastic day in D.C. Met with President Oba...</td>\n",
       "      <td>text</td>\n",
       "      <td>NaN</td>\n",
       "      <td>NaN</td>\n",
       "      <td>7.970000e+17</td>\n",
       "      <td>https://twitter.com/realDonaldTrump/status/796...</td>\n",
       "      <td>178499</td>\n",
       "      <td>36688</td>\n",
       "      <td>NaN</td>\n",
       "      <td>NaN</td>\n",
       "    </tr>\n",
       "  </tbody>\n",
       "</table>\n",
       "</div>"
      ],
      "text/plain": [
       "       Date      Time                                         Tweet_Text  \\\n",
       "0  16-11-11  15:26:37  Today we express our deepest gratitude to all ...   \n",
       "1  16-11-11  13:33:35  Busy day planned in New York. Will soon be mak...   \n",
       "2  16-11-11  11:14:20  Love the fact that the small groups of protest...   \n",
       "3  16-11-11   2:19:44  Just had a very open and successful presidenti...   \n",
       "4  16-11-11   2:10:46  A fantastic day in D.C. Met with President Oba...   \n",
       "\n",
       "   Type Media_Type   Hashtags      Tweet_Id  \\\n",
       "0  text      photo  ThankAVet  7.970000e+17   \n",
       "1  text        NaN        NaN  7.970000e+17   \n",
       "2  text        NaN        NaN  7.970000e+17   \n",
       "3  text        NaN        NaN  7.970000e+17   \n",
       "4  text        NaN        NaN  7.970000e+17   \n",
       "\n",
       "                                           Tweet_Url  \\\n",
       "0  https://twitter.com/realDonaldTrump/status/797...   \n",
       "1  https://twitter.com/realDonaldTrump/status/797...   \n",
       "2  https://twitter.com/realDonaldTrump/status/797...   \n",
       "3  https://twitter.com/realDonaldTrump/status/796...   \n",
       "4  https://twitter.com/realDonaldTrump/status/796...   \n",
       "\n",
       "   twt_favourites_IS_THIS_LIKE_QUESTION_MARK  Retweets  Unnamed: 10  \\\n",
       "0                                     127213     41112          NaN   \n",
       "1                                     141527     28654          NaN   \n",
       "2                                     183729     50039          NaN   \n",
       "3                                     214001     67010          NaN   \n",
       "4                                     178499     36688          NaN   \n",
       "\n",
       "   Unnamed: 11  \n",
       "0          NaN  \n",
       "1          NaN  \n",
       "2          NaN  \n",
       "3          NaN  \n",
       "4          NaN  "
      ]
     },
     "execution_count": 4,
     "metadata": {},
     "output_type": "execute_result"
    }
   ],
   "source": [
    "df = pd.read_csv('Donald-Tweets!.csv')\n",
    "print(df.shape)\n",
    "df.head()"
   ]
  },
  {
   "cell_type": "markdown",
   "metadata": {
    "colab_type": "text",
    "id": "LLOYx0CzSgfA"
   },
   "source": [
    "Inspección de texto"
   ]
  },
  {
   "cell_type": "code",
   "execution_count": 5,
   "metadata": {
    "colab": {},
    "colab_type": "code",
    "id": "vmz3oC1BSEr0"
   },
   "outputs": [],
   "source": [
    "# lowercase all\n",
    "text = df['Tweet_Text'].str.lower()"
   ]
  },
  {
   "cell_type": "code",
   "execution_count": 6,
   "metadata": {
    "colab": {
     "base_uri": "https://localhost:8080/",
     "height": 204
    },
    "colab_type": "code",
    "executionInfo": {
     "elapsed": 2027649,
     "status": "ok",
     "timestamp": 1590658014896,
     "user": {
      "displayName": "Onintza Ugarte IguiÑiz",
      "photoUrl": "",
      "userId": "11951068487537836477"
     },
     "user_tz": -120
    },
    "id": "5X7S40eTSQ77",
    "outputId": "25b555e3-5b0d-442d-92c7-9d022f91846b"
   },
   "outputs": [
    {
     "data": {
      "text/plain": [
       "array(['i will be on @meetthepress in an interview with @chucktodd on sunday morning. so much to talk about!',\n",
       "       '\"minorities line up behind donald trump\" #trump2016\\nhttps://t.co/clcvogwomy',\n",
       "       'make america great again!\\n#inprimary #votetrump\\nhttps://t.co/nmqekxccv6',\n",
       "       'thank you for all of your support iowa!\\n#makeamericagreatagain #trump2016\\n#iacaucus finder: https://t.co/anvtczqfoq https://t.co/fqaxume01b',\n",
       "       '\"every american needs to say 2 simple words to every vet they meet: thank you!\" john wayne walding\\nhttps://t.co/wg8ezphzt1',\n",
       "       'a suicide bomber has just killed u.s. troops in afghanistan. when will our leaders get tough and smart. we are being led to slaughter!',\n",
       "       'thank you, new hampshire! great people -- see you next week! https://t.co/r83xq8kxp5',\n",
       "       'during primetime of the iowa caucus, cruz put out a release that @realbencarson was quitting the race, and to caucus (or vote) for cruz.',\n",
       "       'thank you tennessee! #maga https://t.co/oodfmerq5b',\n",
       "       'rt @anncoulter: .@realdonaldtrump leads w/ hispanics. huckabee &amp; christie - who supported in-state tuition 4 illegals -scrape bottom. http:_'],\n",
       "      dtype=object)"
      ]
     },
     "execution_count": 6,
     "metadata": {},
     "output_type": "execute_result"
    }
   ],
   "source": [
    "np.random.seed(12345)\n",
    "np.random.choice(text,10)"
   ]
  },
  {
   "cell_type": "code",
   "execution_count": 7,
   "metadata": {
    "colab": {
     "base_uri": "https://localhost:8080/",
     "height": 85
    },
    "colab_type": "code",
    "executionInfo": {
     "elapsed": 2027643,
     "status": "ok",
     "timestamp": 1590658014900,
     "user": {
      "displayName": "Onintza Ugarte IguiÑiz",
      "photoUrl": "",
      "userId": "11951068487537836477"
     },
     "user_tz": -120
    },
    "id": "8AUWSfqkSShh",
    "outputId": "a2668067-7d78-45f7-e1c5-ab516e23bec7"
   },
   "outputs": [
    {
     "name": "stdout",
     "output_type": "stream",
     "text": [
      "BEFORE:\n",
      "today we express our deepest gratitude to all those who have served in our armed forces. #thankavet https://t.co/wpk7qwpk8z\n",
      "AFTER:\n",
      "today we express our deepest gratitude to all those who have served in our armed forces. #thankavet\n"
     ]
    }
   ],
   "source": [
    "print('BEFORE:')\n",
    "print(text[0])\n",
    "text = text.map(lambda s: ' '.join([x for x in s.split() if 'http' not in x]))\n",
    "print('AFTER:')\n",
    "print(text[0])"
   ]
  },
  {
   "cell_type": "code",
   "execution_count": 8,
   "metadata": {
    "colab": {
     "base_uri": "https://localhost:8080/",
     "height": 299
    },
    "colab_type": "code",
    "executionInfo": {
     "elapsed": 2028043,
     "status": "ok",
     "timestamp": 1590658015311,
     "user": {
      "displayName": "Onintza Ugarte IguiÑiz",
      "photoUrl": "",
      "userId": "11951068487537836477"
     },
     "user_tz": -120
    },
    "id": "6nly6um2Sl4V",
    "outputId": "965627e2-eb99-4a9b-94c2-d954aeeb20ed"
   },
   "outputs": [
    {
     "name": "stdout",
     "output_type": "stream",
     "text": [
      "max tweet len: 151\n",
      "min tweet len: 0\n"
     ]
    },
    {
     "data": {
      "image/png": "[encoded data removed]",
      "text/plain": [
       "<Figure size 432x288 with 1 Axes>"
      ]
     },
     "metadata": {
      "needs_background": "light"
     },
     "output_type": "display_data"
    }
   ],
   "source": [
    "print('max tweet len:',text.map(len).max())\n",
    "print('min tweet len:',text.map(len).min())\n",
    "text.map(len).hist();"
   ]
  },
  {
   "cell_type": "code",
   "execution_count": 9,
   "metadata": {
    "colab": {
     "base_uri": "https://localhost:8080/",
     "height": 34
    },
    "colab_type": "code",
    "executionInfo": {
     "elapsed": 2028031,
     "status": "ok",
     "timestamp": 1590658015312,
     "user": {
      "displayName": "Onintza Ugarte IguiÑiz",
      "photoUrl": "",
      "userId": "11951068487537836477"
     },
     "user_tz": -120
    },
    "id": "fyNs2NDsSpYS",
    "outputId": "023afa31-446c-47b6-957b-dd13564b8ac0"
   },
   "outputs": [
    {
     "data": {
      "text/plain": [
       "6366"
      ]
     },
     "execution_count": 9,
     "metadata": {},
     "output_type": "execute_result"
    }
   ],
   "source": [
    "# over 60 chars\n",
    "text = text[text.map(len)>60]\n",
    "len(text)"
   ]
  },
  {
   "cell_type": "markdown",
   "metadata": {
    "colab_type": "text",
    "id": "EnbDgm7OSynY"
   },
   "source": [
    "Obtener Diccionario Chars"
   ]
  },
  {
   "cell_type": "code",
   "execution_count": 10,
   "metadata": {
    "colab": {
     "base_uri": "https://localhost:8080/",
     "height": 34
    },
    "colab_type": "code",
    "executionInfo": {
     "elapsed": 2028023,
     "status": "ok",
     "timestamp": 1590658015313,
     "user": {
      "displayName": "Onintza Ugarte IguiÑiz",
      "photoUrl": "",
      "userId": "11951068487537836477"
     },
     "user_tz": -120
    },
    "id": "wEqxWlkMSwmS",
    "outputId": "7c9e8013-ff7e-451e-c5c0-7b3881affc23"
   },
   "outputs": [
    {
     "name": "stdout",
     "output_type": "stream",
     "text": [
      "total chars: 78\n"
     ]
    }
   ],
   "source": [
    "chars = sorted(list(set(''.join(text))))\n",
    "print('total chars:', len(chars))\n",
    "char_indices = dict((c, i) for i, c in enumerate(chars))\n",
    "indices_char = dict((i, c) for i, c in enumerate(chars))"
   ]
  },
  {
   "cell_type": "code",
   "execution_count": 11,
   "metadata": {
    "colab": {
     "base_uri": "https://localhost:8080/",
     "height": 1000
    },
    "colab_type": "code",
    "executionInfo": {
     "elapsed": 2028010,
     "status": "ok",
     "timestamp": 1590658015314,
     "user": {
      "displayName": "Onintza Ugarte IguiÑiz",
      "photoUrl": "",
      "userId": "11951068487537836477"
     },
     "user_tz": -120
    },
    "id": "hk7CIRXAS48_",
    "outputId": "c7556b35-8794-48a4-b70e-0bca070d370f"
   },
   "outputs": [
    {
     "data": {
      "text/plain": [
       "[' ',\n",
       " '!',\n",
       " '\"',\n",
       " '#',\n",
       " '$',\n",
       " '%',\n",
       " '&',\n",
       " '(',\n",
       " ')',\n",
       " '*',\n",
       " '+',\n",
       " ',',\n",
       " '-',\n",
       " '.',\n",
       " '/',\n",
       " '0',\n",
       " '1',\n",
       " '2',\n",
       " '3',\n",
       " '4',\n",
       " '5',\n",
       " '6',\n",
       " '7',\n",
       " '8',\n",
       " '9',\n",
       " ':',\n",
       " ';',\n",
       " '=',\n",
       " '?',\n",
       " '@',\n",
       " '[',\n",
       " ']',\n",
       " '_',\n",
       " 'a',\n",
       " 'b',\n",
       " 'c',\n",
       " 'd',\n",
       " 'e',\n",
       " 'f',\n",
       " 'g',\n",
       " 'h',\n",
       " 'i',\n",
       " 'j',\n",
       " 'k',\n",
       " 'l',\n",
       " 'm',\n",
       " 'n',\n",
       " 'o',\n",
       " 'p',\n",
       " 'q',\n",
       " 'r',\n",
       " 's',\n",
       " 't',\n",
       " 'u',\n",
       " 'v',\n",
       " 'w',\n",
       " 'x',\n",
       " 'y',\n",
       " 'z',\n",
       " '{',\n",
       " '|',\n",
       " '}',\n",
       " '~',\n",
       " 'ʉ',\n",
       " '̱',\n",
       " 'ω',\n",
       " 'я',\n",
       " 'ӕ',\n",
       " 'ԍ',\n",
       " 'ԏ',\n",
       " 'ԡ',\n",
       " 'լ',\n",
       " 'ջ',\n",
       " 'ُ',\n",
       " '٪',\n",
       " '\\u06dd',\n",
       " 'ۢ',\n",
       " '۪']"
      ]
     },
     "execution_count": 11,
     "metadata": {},
     "output_type": "execute_result"
    }
   ],
   "source": [
    "chars"
   ]
  },
  {
   "cell_type": "markdown",
   "metadata": {
    "colab_type": "text",
    "id": "SbuOg3YCTFO8"
   },
   "source": [
    "Parece que los últimos pueden ser emojis, se observan frases con estos caracteres"
   ]
  },
  {
   "cell_type": "code",
   "execution_count": 12,
   "metadata": {
    "colab": {
     "base_uri": "https://localhost:8080/",
     "height": 1000
    },
    "colab_type": "code",
    "executionInfo": {
     "elapsed": 2028002,
     "status": "ok",
     "timestamp": 1590658015315,
     "user": {
      "displayName": "Onintza Ugarte IguiÑiz",
      "photoUrl": "",
      "userId": "11951068487537836477"
     },
     "user_tz": -120
    },
    "id": "lJ8ei8HVS6kd",
    "outputId": "0a681d36-e3d0-44db-c787-83195b54bf6e"
   },
   "outputs": [
    {
     "name": "stdout",
     "output_type": "stream",
     "text": [
      "\n",
      "CHAR: {\n",
      "['\"{crooked hillary clinton} created this mess, and she knows it.\" #draintheswamp']\n",
      "\n",
      "CHAR: |\n",
      "['join me in florida tomorrow! #makeamericagreatagain daytona | 3pm- jacksonville | 7pm-', 'rt @clewandowski_: trump winning over latino republicans, poll says | new york post', '\"@politico: palin on 2016: \"i think it would come down to cruz and trump! | getty']\n",
      "\n",
      "CHAR: }\n",
      "['\"{crooked hillary clinton} created this mess, and she knows it.\" #draintheswamp']\n",
      "\n",
      "CHAR: ~\n",
      "['rt @danscavino: join @realdonaldtrump on his official social media platforms during tonights debate ~ as @teamtrump manages rapid response_', '\"@judgemoroz zogby is respected in the business of polling ~ the media is attempting to silence the message @realdonaldtrump\"', '\"@freestateyank: \"the only way anybodys gonna beat trump is being better than he is.\"~@rushlimbaugh on @realdonaldtrump.\"']\n",
      "\n",
      "CHAR: ʉ\n",
      "['my pro-growth econ plan: eliminate excessive regulations! lean government! lower taxes! #debatesʉ_']\n",
      "\n",
      "CHAR: ̱\n",
      "['mexico has lost a brilliant finance minister and wonderful man who i know is highly respected by president pe̱a nieto.']\n",
      "\n",
      "CHAR: ω\n",
      "['via @breitbartnews by steve bannon: ωtime to get tough۪: trump۪s blockbuster policy manifesto\\u06dd']\n",
      "\n",
      "CHAR: я\n",
      "['\"@tn_riverfolk: my 2016 vote will b based on #makeamericagreatagain not eminent domainяamericans need 2prioritize']\n",
      "\n",
      "CHAR: ӕ\n",
      "['fact ӕ on red line\\u06dd in syria: hrc \"i wasn۪t there.\" fact: line drawn in aug ۪12. hrc secy of state til feb ۪13.', 'rt @teamtrump: #rattledhillary wants to talk about her 30 years in service. how about her 30 years of flopsӕflops?! #bigleaguetruth #debat_']\n",
      "\n",
      "CHAR: ԍ\n",
      "['\"@theresa_cali: poll shows @realdonaldtrump leads among registered republican women with 44%. _ԍ_ُ thank you!', '\"@curtandkaren: kudos to @megynkelly and @realdonaldtrump for rising above the drama and coming together. very respectful and classy _ԍ\"', 'rt @linflies: @realdonaldtrump beautiful family! best man for #potus ! _ԍ_ُ___']\n",
      "\n",
      "CHAR: ԏ\n",
      "['\"@repalonelori: @realdonaldtrump @kirstiealley we love you and know you will do an awesome job! saw you in bethpage !! _ԏ_ԏ_ԏ\" thank you.']\n",
      "\n",
      "CHAR: ԡ\n",
      "['\"@good2bqueen67: .@realdonaldtrump @sandikay60 i enjoyed the speech so much tonight, you were on point _ԡ sir!\" thanks.']\n",
      "\n",
      "CHAR: լ\n",
      "['rt @erictrump: #wisconsin: to find your voting location visit #makeamericagreatagain #trumptrain ___լ_լ______']\n",
      "\n",
      "CHAR: ջ\n",
      "['rt @darrenjjordan: constructive wins! _ջ @realdonaldtrump @clewandowski_ @danscavino @michaelcohen212 @katrinapierson @defendingtheusa']\n",
      "\n",
      "CHAR: ُ\n",
      "['rt @linflies: @realdonaldtrump beautiful family! best man for #potus ! _ԍ_ُ___', '\"@trumpsmyhomeboy: @realdonaldtrump @robostop10 @politico the #msm straw man candidate is falling apart!___ُ_\"', '\"@theresa_cali: poll shows @realdonaldtrump leads among registered republican women with 44%. _ԍ_ُ thank you!']\n",
      "\n",
      "CHAR: ٪\n",
      "['\"@hbtc23: @realdonaldtrump backs down from nobody!! #makeamericagreatagain #trump2016 @steveaustinbsr @wwe __ _٪_ُ']\n",
      "\n",
      "CHAR: ۝\n",
      "['rt @erictrump: behind the scenes picture of my father signing the pledge\\u06dd --- i am very proud of him! @realdonaldtrump', 'moderator: hillary paid $225,000 by a brazilian bank for a speech that called for open borders.\\u06dd that۪s a quote! #debate #bigleaguetruth', 'rt @dloesch: interview: @realdonaldtrump calls for #plannedparenthood defunding, says fire everyone at va,\\u06dd denies 3rd party run']\n",
      "\n",
      "CHAR: ۢ\n",
      "['rt @danscavino: #breaking #abc #news ۢ #washington, releases poll @ 5pet with @realdonaldtrump at 24% &amp; 2nd place coming in at 13%...', 'rt @danscavino: you do not want 2miss @realdonaldtrump tonight @seanhannity ۢ 10pm on @foxnews! #makeamericagreatagain #trump2016 __', 'join me tomorrow! minnesota ۢ 2pm michigan ۢ 6pm virginia ۢ 9:30p_']\n",
      "\n",
      "CHAR: ۪\n",
      "['during the gop convention, cnn cut away from the victims of illegal immigrant violence. they don۪t want them heard.', 'if it were up to goofy elizabeth warren, we۪d have no jobs in americashe doesn۪t have a clue.', 'when people find out how bad a job scott walker has done in wi, they won۪t be voting for him. massive deficit, bad jobs forecast, a mess.']\n"
     ]
    }
   ],
   "source": [
    "for c in chars[-19:]:\n",
    "    print('\\nCHAR:', c)\n",
    "    smple = [x for x in text if c in x]\n",
    "    print(random.sample(smple,min(3,len(smple))))"
   ]
  },
  {
   "cell_type": "markdown",
   "metadata": {
    "colab_type": "text",
    "id": "vRQjYpyVTULs"
   },
   "source": [
    "Se eliminan estos al no tener una conclusión clara.\n"
   ]
  },
  {
   "cell_type": "code",
   "execution_count": 13,
   "metadata": {
    "colab": {},
    "colab_type": "code",
    "id": "7BxR3pZGTO6c"
   },
   "outputs": [],
   "source": [
    "import re\n",
    "for c in chars[-19:]:\n",
    "    text = text.str.replace(c,'')"
   ]
  },
  {
   "cell_type": "code",
   "execution_count": 14,
   "metadata": {
    "colab": {
     "base_uri": "https://localhost:8080/",
     "height": 1000
    },
    "colab_type": "code",
    "executionInfo": {
     "elapsed": 2028221,
     "status": "ok",
     "timestamp": 1590658015545,
     "user": {
      "displayName": "Onintza Ugarte IguiÑiz",
      "photoUrl": "",
      "userId": "11951068487537836477"
     },
     "user_tz": -120
    },
    "id": "mktCNRLjTZR7",
    "outputId": "50e59706-edd0-4e46-a4bf-02a2614ff76a"
   },
   "outputs": [
    {
     "name": "stdout",
     "output_type": "stream",
     "text": [
      "total chars: 59\n"
     ]
    },
    {
     "data": {
      "text/plain": [
       "[' ',\n",
       " '!',\n",
       " '\"',\n",
       " '#',\n",
       " '$',\n",
       " '%',\n",
       " '&',\n",
       " '(',\n",
       " ')',\n",
       " '*',\n",
       " '+',\n",
       " ',',\n",
       " '-',\n",
       " '.',\n",
       " '/',\n",
       " '0',\n",
       " '1',\n",
       " '2',\n",
       " '3',\n",
       " '4',\n",
       " '5',\n",
       " '6',\n",
       " '7',\n",
       " '8',\n",
       " '9',\n",
       " ':',\n",
       " ';',\n",
       " '=',\n",
       " '?',\n",
       " '@',\n",
       " '[',\n",
       " ']',\n",
       " '_',\n",
       " 'a',\n",
       " 'b',\n",
       " 'c',\n",
       " 'd',\n",
       " 'e',\n",
       " 'f',\n",
       " 'g',\n",
       " 'h',\n",
       " 'i',\n",
       " 'j',\n",
       " 'k',\n",
       " 'l',\n",
       " 'm',\n",
       " 'n',\n",
       " 'o',\n",
       " 'p',\n",
       " 'q',\n",
       " 'r',\n",
       " 's',\n",
       " 't',\n",
       " 'u',\n",
       " 'v',\n",
       " 'w',\n",
       " 'x',\n",
       " 'y',\n",
       " 'z']"
      ]
     },
     "execution_count": 14,
     "metadata": {},
     "output_type": "execute_result"
    }
   ],
   "source": [
    "chars = sorted(list(set(''.join(text))))\n",
    "print('total chars:', len(chars))\n",
    "char_indices = dict((c, i) for i, c in enumerate(chars))\n",
    "indices_char = dict((i, c) for i, c in enumerate(chars))\n",
    "\n",
    "chars\n"
   ]
  },
  {
   "cell_type": "markdown",
   "metadata": {
    "colab_type": "text",
    "id": "Z9iHKGPjTeuk"
   },
   "source": [
    "## Input data"
   ]
  },
  {
   "cell_type": "code",
   "execution_count": 15,
   "metadata": {
    "colab": {
     "base_uri": "https://localhost:8080/",
     "height": 34
    },
    "colab_type": "code",
    "executionInfo": {
     "elapsed": 2028541,
     "status": "ok",
     "timestamp": 1590658015877,
     "user": {
      "displayName": "Onintza Ugarte IguiÑiz",
      "photoUrl": "",
      "userId": "11951068487537836477"
     },
     "user_tz": -120
    },
    "id": "FzMlomzOTcfl",
    "outputId": "6f6dca9b-057d-45aa-a0be-e38f548c9bdf"
   },
   "outputs": [
    {
     "name": "stdout",
     "output_type": "stream",
     "text": [
      "nb sequences: 472774\n"
     ]
    }
   ],
   "source": [
    "maxlen = 40\n",
    "step = 1\n",
    "sentences = []\n",
    "next_chars = []\n",
    "for x in text:\n",
    "    for i in range(0, len(x) - maxlen, step):\n",
    "        sentences.append(x[i: i + maxlen])\n",
    "        next_chars.append(x[i + maxlen])\n",
    "print('nb sequences:', len(sentences))"
   ]
  },
  {
   "cell_type": "code",
   "execution_count": 16,
   "metadata": {
    "colab": {
     "base_uri": "https://localhost:8080/",
     "height": 68
    },
    "colab_type": "code",
    "executionInfo": {
     "elapsed": 2028528,
     "status": "ok",
     "timestamp": 1590658015878,
     "user": {
      "displayName": "Onintza Ugarte IguiÑiz",
      "photoUrl": "",
      "userId": "11951068487537836477"
     },
     "user_tz": -120
    },
    "id": "kuEQks42TlRO",
    "outputId": "de2d7764-7188-4607-ee22-5e9f731c9da8"
   },
   "outputs": [
    {
     "name": "stdout",
     "output_type": "stream",
     "text": [
      "today we express our deepest gratitude t ==> o\n",
      "oday we express our deepest gratitude to ==>  \n",
      "day we express our deepest gratitude to  ==> a\n"
     ]
    }
   ],
   "source": [
    "## example\n",
    "for i in range(3):\n",
    "    print(sentences[i],'==>',next_chars[i])"
   ]
  },
  {
   "cell_type": "code",
   "execution_count": 17,
   "metadata": {
    "colab": {
     "base_uri": "https://localhost:8080/",
     "height": 34
    },
    "colab_type": "code",
    "executionInfo": {
     "elapsed": 2028514,
     "status": "ok",
     "timestamp": 1590658015879,
     "user": {
      "displayName": "Onintza Ugarte IguiÑiz",
      "photoUrl": "",
      "userId": "11951068487537836477"
     },
     "user_tz": -120
    },
    "id": "BZyrRH-MTsen",
    "outputId": "851de6ae-689f-442a-ee03-8320ceb6ea33"
   },
   "outputs": [
    {
     "data": {
      "text/plain": [
       "'today we express our deepest gratitude to all those who have served in our armed forces. #thankavet'"
      ]
     },
     "execution_count": 17,
     "metadata": {},
     "output_type": "execute_result"
    }
   ],
   "source": [
    "text[0]"
   ]
  },
  {
   "cell_type": "markdown",
   "metadata": {
    "colab_type": "text",
    "id": "4cdWOqDeTxKz"
   },
   "source": [
    "## Vectorización"
   ]
  },
  {
   "cell_type": "code",
   "execution_count": 18,
   "metadata": {
    "colab": {
     "base_uri": "https://localhost:8080/",
     "height": 34
    },
    "colab_type": "code",
    "executionInfo": {
     "elapsed": 2034873,
     "status": "ok",
     "timestamp": 1590658022248,
     "user": {
      "displayName": "Onintza Ugarte IguiÑiz",
      "photoUrl": "",
      "userId": "11951068487537836477"
     },
     "user_tz": -120
    },
    "id": "nhaUugWuTvFX",
    "outputId": "e14e30e8-1336-4729-dd50-f1487ba455f5"
   },
   "outputs": [
    {
     "name": "stdout",
     "output_type": "stream",
     "text": [
      "Vectorization...\n"
     ]
    }
   ],
   "source": [
    "print('Vectorization...')\n",
    "x = np.zeros((len(sentences), maxlen, len(chars)), dtype=np.bool)\n",
    "y = np.zeros((len(sentences), len(chars)), dtype=np.bool)\n",
    "for i, sentence in enumerate(sentences):\n",
    "    for t, char in enumerate(sentence):\n",
    "        x[i, t, char_indices[char]] = 1\n",
    "    y[i, char_indices[next_chars[i]]] = 1"
   ]
  },
  {
   "cell_type": "markdown",
   "metadata": {
    "colab_type": "text",
    "id": "SwR8Vb1ET7HP"
   },
   "source": [
    "## Creación de modelo"
   ]
  },
  {
   "cell_type": "code",
   "execution_count": 19,
   "metadata": {
    "colab": {
     "base_uri": "https://localhost:8080/",
     "height": 34
    },
    "colab_type": "code",
    "executionInfo": {
     "elapsed": 2035430,
     "status": "ok",
     "timestamp": 1590658022815,
     "user": {
      "displayName": "Onintza Ugarte IguiÑiz",
      "photoUrl": "",
      "userId": "11951068487537836477"
     },
     "user_tz": -120
    },
    "id": "zo6hcA-ET1HN",
    "outputId": "49875533-fb26-4cb5-cee0-9f39ddc75ded"
   },
   "outputs": [
    {
     "name": "stdout",
     "output_type": "stream",
     "text": [
      "Build model...\n"
     ]
    }
   ],
   "source": [
    "print('Build model...')\n",
    "model = Sequential()\n",
    "model.add(LSTM(128, input_shape=(maxlen, len(chars)),return_sequences=True))\n",
    "model.add(Dropout(0.2))\n",
    "model.add(LSTM(128))\n",
    "model.add(Dropout(0.2))\n",
    "model.add(Dense(len(chars), activation='softmax'))\n",
    "\n",
    "# optimizer = RMSprop(lr=0.01)\n",
    "optimizer = Adam()\n",
    "model.compile(loss='categorical_crossentropy', optimizer=optimizer)"
   ]
  },
  {
   "cell_type": "markdown",
   "metadata": {
    "colab_type": "text",
    "id": "2c3hZc5yUJ6Z"
   },
   "source": [
    "## Muestreo"
   ]
  },
  {
   "cell_type": "code",
   "execution_count": 20,
   "metadata": {
    "colab": {},
    "colab_type": "code",
    "id": "rLeBomdZT_91"
   },
   "outputs": [],
   "source": [
    "def sample(preds, temperature=1.0):\n",
    "    preds = np.asarray(preds).astype('float64')\n",
    "    preds = np.log(preds) / temperature\n",
    "    exp_preds = np.exp(preds)\n",
    "    preds = exp_preds / np.sum(exp_preds)\n",
    "    probas = np.random.multinomial(1, preds, 1)\n",
    "    return np.argmax(probas)"
   ]
  },
  {
   "cell_type": "markdown",
   "metadata": {
    "colab_type": "text",
    "id": "6-w-0_TAUb4r"
   },
   "source": [
    "La temperatura ayuda a no tener el mismo texto generado cada vez\n",
    "- baja temperatura = texto similar a los datos entrenados\n",
    "- alta temperatura = generación más creativa\n",
    "- temperatura demasiado alta = tonterías."
   ]
  },
  {
   "cell_type": "code",
   "execution_count": 21,
   "metadata": {
    "colab": {
     "base_uri": "https://localhost:8080/",
     "height": 136
    },
    "colab_type": "code",
    "executionInfo": {
     "elapsed": 2035420,
     "status": "ok",
     "timestamp": 1590658022817,
     "user": {
      "displayName": "Onintza Ugarte IguiÑiz",
      "photoUrl": "",
      "userId": "11951068487537836477"
     },
     "user_tz": -120
    },
    "id": "N62MsTuwUO96",
    "outputId": "97b2bb1e-2dab-4331-8fcf-667443c4c7c0"
   },
   "outputs": [
    {
     "name": "stdout",
     "output_type": "stream",
     "text": [
      "2\n",
      "2\n",
      "2\n",
      "2\n",
      "1\n",
      "2\n",
      "2\n"
     ]
    }
   ],
   "source": [
    "for temperature in [0.1, 0.2, 0.3,  0.5, 1.0, 1.2, 1.3]:\n",
    "    print(sample([.1,.3,.5,.1],temperature=temperature))"
   ]
  },
  {
   "cell_type": "markdown",
   "metadata": {
    "colab_type": "text",
    "id": "CG_oP4DwUkH5"
   },
   "source": [
    "# Generar Tweets\n"
   ]
  },
  {
   "cell_type": "code",
   "execution_count": 22,
   "metadata": {
    "colab": {},
    "colab_type": "code",
    "id": "QACAgFz8US-3"
   },
   "outputs": [],
   "source": [
    "def on_epoch_end(epoch, _):\n",
    "    print()\n",
    "    print('Generating text after Epoch: %d' % epoch)\n",
    "    \n",
    "    tweet = np.random.choice(text) \n",
    "    start_index = 0\n",
    "\n",
    "    for diversity in [0.2, 0.5, 1.0, 1.2]:\n",
    "        print('----- diversity:', diversity)\n",
    "\n",
    "        generated = ''\n",
    "        sentence = tweet[start_index: start_index + maxlen]\n",
    "        generated += sentence\n",
    "        print('----- Generating with seed: \"' + sentence + '\"')\n",
    "        sys.stdout.write(generated)\n",
    "\n",
    "        for i in range(120):\n",
    "            x_pred = np.zeros((1, maxlen, len(chars)))\n",
    "            for t, char in enumerate(sentence):\n",
    "                x_pred[0, t, char_indices[char]] = 1.\n",
    "\n",
    "            preds = model.predict(x_pred, verbose=0)[0]\n",
    "            next_index = sample(preds, diversity)\n",
    "            next_char = indices_char[next_index]\n",
    "\n",
    "            generated += next_char\n",
    "            sentence = sentence[1:] + next_char\n",
    "\n",
    "            sys.stdout.write(next_char)\n",
    "            sys.stdout.flush()\n",
    "        print()"
   ]
  },
  {
   "cell_type": "code",
   "execution_count": 23,
   "metadata": {
    "colab": {},
    "colab_type": "code",
    "id": "bfoxkoZOC78G"
   },
   "outputs": [],
   "source": [
    "x_train = x[:50000]\n",
    "y_train = y[:50000]"
   ]
  },
  {
   "cell_type": "code",
   "execution_count": 24,
   "metadata": {
    "colab": {
     "base_uri": "https://localhost:8080/",
     "height": 615
    },
    "colab_type": "code",
    "executionInfo": {
     "elapsed": 232902,
     "status": "error",
     "timestamp": 1590412571511,
     "user": {
      "displayName": "Onintza Ugarte IguiÑiz",
      "photoUrl": "",
      "userId": "11951068487537836477"
     },
     "user_tz": -120
    },
    "id": "mr_IZP7LU2l6",
    "outputId": "563aefbb-f0e8-4499-a7e2-ff5d0ec9f2eb"
   },
   "outputs": [
    {
     "name": "stdout",
     "output_type": "stream",
     "text": [
      "Epoch 1/30\n",
      "472774/472774 [==============================] - 156s 329us/step - loss: 2.3242\n",
      "\n",
      "Generating text after Epoch: 0\n",
      "----- diversity: 0.2\n",
      "----- Generating with seed: \"the seriously failing @nytimes, despite \"\n",
      "the seriously failing @nytimes, despite the beal the will the poll be the will never a the bet will the poll the will the presidented the the will the reald and\n",
      "----- diversity: 0.5\n",
      "----- Generating with seed: \"the seriously failing @nytimes, despite \"\n",
      "the seriously failing @nytimes, despite the deald to me is shan to in a peill and will bo of the bibing is the bebig a conther be how the voted for really a mid\n",
      "----- diversity: 1.0\n",
      "----- Generating with seed: \"the seriously failing @nytimes, despite \"\n",
      "the seriously failing @nytimes, despite the.! cow the campactioned ness yon. todestord millan. vitting and speing! pagofing you! wis and ac siard resport thotis\n",
      "----- diversity: 1.2\n",
      "----- Generating with seed: \"the seriously failing @nytimes, despite \"\n",
      "the seriously failing @nytimes, despite to san-. at gac% id the on. fo wi &pmp;,. fnows cutpill cacate 3/vis. 20% all fhe lupulning got. . for yop t exty., ! po\n",
      "Epoch 2/30\n",
      "472774/472774 [==============================] - 156s 330us/step - loss: 1.8490\n",
      "\n",
      "Generating text after Epoch: 1\n",
      "----- diversity: 0.2\n",
      "----- Generating with seed: \"bernie sanders on hrc: bad judgement. jo\"\n",
      "bernie sanders on hrc: bad judgement. jobs to be the lost with the republican and the will be the really with the poll of the republican to make america great a\n",
      "----- diversity: 0.5\n",
      "----- Generating with seed: \"bernie sanders on hrc: bad judgement. jo\"\n",
      "bernie sanders on hrc: bad judgement. join the stand of the rades to in the rusing being news the denald to got of the really like the last poll to mesing to go\n",
      "----- diversity: 1.0\n",
      "----- Generating with seed: \"bernie sanders on hrc: bad judgement. jo\"\n",
      "bernie sanders on hrc: bad judgement. job hives are a merisines fyann say dadnow. the people trump late, way a snows! rime worng newting borfer waming for cahit\n",
      "----- diversity: 1.2\n",
      "----- Generating with seed: \"bernie sanders on hrc: bad judgement. jo\"\n",
      "bernie sanders on hrc: bad judgement. jour tisning to ring on\" suints toworupet sweay ald vimeg time.\"-het truised lieds =pmlatic 7gjeds ke age!\"0on ws cereligi\n",
      "Epoch 3/30\n",
      "472774/472774 [==============================] - 155s 328us/step - loss: 1.6964\n",
      "\n",
      "Generating text after Epoch: 2\n",
      "----- diversity: 0.2\n",
      "----- Generating with seed: \"\"@linda_lcarson: @realdonaldtrump rubio \"\n",
      "\"@linda_lcarson: @realdonaldtrump rubio and the poll the people and say the debate and and debate of the trump to be a many and a with the debate of the people \n",
      "----- diversity: 0.5\n",
      "----- Generating with seed: \"\"@linda_lcarson: @realdonaldtrump rubio \"\n",
      "\"@linda_lcarson: @realdonaldtrump rubio &amp; and with about really beating and the gop hamperan endersing under be the posinicians win and candidate a show bec\n",
      "----- diversity: 1.0\n",
      "----- Generating with seed: \"\"@linda_lcarson: @realdonaldtrump rubio \"\n",
      "\"@linda_lcarson: @realdonaldtrump rubio and now #trump2016 @tetam1ctroce @gok chipir to commain #wanterup suptast bething by viteration candidate , respec!! fag\n",
      "----- diversity: 1.2\n",
      "----- Generating with seed: \"\"@linda_lcarson: @realdonaldtrump rubio \"\n",
      "\"@linda_lcarson: @realdonaldtrump rubio withangent to on poll. really laters win support. #vigraittybote craigied lastme has\"s duve ittoporican licksan lews?\"!!\n",
      "Epoch 4/30\n",
      "472774/472774 [==============================] - 158s 333us/step - loss: 1.6099s -\n",
      "\n",
      "Generating text after Epoch: 3\n",
      "----- diversity: 0.2\n",
      "----- Generating with seed: \"rt @teamtrump: live fact-check: trumps r\"\n",
      "rt @teamtrump: live fact-check: trumps really will be the people and i will be the president and the poll the republican polls the president and will be a sayin\n",
      "----- diversity: 0.5\n",
      "----- Generating with seed: \"rt @teamtrump: live fact-check: trumps r\"\n",
      "rt @teamtrump: live fact-check: trumps reported a the sesting a president of the better for the pall republican so from the borders debate and the begning to wh\n",
      "----- diversity: 1.0\n",
      "----- Generating with seed: \"rt @teamtrump: live fact-check: trumps r\"\n",
      "rt @teamtrump: live fact-check: trumps rally mancorupe to pution, worsagh mr. brie then a spussent goo out? the_ for the crimina. enjoy! #makeamericagreatagain\"\n",
      "----- diversity: 1.2\n",
      "----- Generating with seed: \"rt @teamtrump: live fact-check: trumps r\"\n",
      "rt @teamtrump: live fact-check: trumps runs pvan will peopres \" outich @ilicucts9 @cnn, gotize of fotcget! cant cheteef # cruzic--w4 will good at for fore1 o4-\"\n",
      "Epoch 5/30\n",
      "472774/472774 [==============================] - 156s 330us/step - loss: 1.5559\n",
      "\n",
      "Generating text after Epoch: 4\n",
      "----- diversity: 0.2\n",
      "----- Generating with seed: \"good news is melanias speech got more pu\"\n",
      "good news is melanias speech got more pust the poll and stop the polls and will be the president and the poll to the poll with the polls of the president than t\n",
      "----- diversity: 0.5\n",
      "----- Generating with seed: \"good news is melanias speech got more pu\"\n",
      "good news is melanias speech got more pust the polls! #trump2016 #makeamericagreatagain #trump2016 #makeamericagreatagain #trump2016 #makeamericagreatagain #tru\n",
      "----- diversity: 1.0\n",
      "----- Generating with seed: \"good news is melanias speech got more pu\"\n",
      "good news is melanias speech got more puppresed. chim excay steart-a job of mipting refused expence. @na harp she have poll enjoy!! #makeamericagreatagain well \n",
      "----- diversity: 1.2\n",
      "----- Generating with seed: \"good news is melanias speech got more pu\"\n",
      "good news is melanias speech got more puppre placess. rune unames unter compuce friend and despoyition. no allic, on me!!!!:. aumtail touch tonight!\" thank you \n",
      "Epoch 6/30\n",
      "472774/472774 [==============================] - 157s 332us/step - loss: 1.5148\n",
      "\n",
      "Generating text after Epoch: 5\n",
      "----- diversity: 0.2\n",
      "----- Generating with seed: \"just returned from pennsylvania where we\"\n",
      "just returned from pennsylvania where we will be the people of the politicians and the words than the president and the people of the republican politicians and\n",
      "----- diversity: 0.5\n",
      "----- Generating with seed: \"just returned from pennsylvania where we\"\n",
      "just returned from pennsylvania where we are being a rock out to the people of the world marco in the debate so because in the is a count it is in the gop a tot\n",
      "----- diversity: 1.0\n",
      "----- Generating with seed: \"just returned from pennsylvania where we\"\n",
      "just returned from pennsylvania where we never \"!\"- rubio. is out on procks of her did politician connlops rubio really! #trump2016\" rubio - whete hours pull mi\n",
      "----- diversity: 1.2\n",
      "----- Generating with seed: \"just returned from pennsylvania where we\"\n",
      "just returned from pennsylvania where weak and adstartics are combinitiss solds,\" #makeamericagreatagain #trump2016 #maga \"so preind ektions, the usts leadershi\n",
      "Epoch 7/30\n",
      "472774/472774 [==============================] - 157s 332us/step - loss: 1.4834\n",
      "\n",
      "Generating text after Epoch: 6\n",
      "----- diversity: 0.2\n",
      "----- Generating with seed: \"thoughts and prayers are with everyone i\"\n",
      "thoughts and prayers are with everyone in the president of the better and the debate of the president that i will be the president that i will be the president \n",
      "----- diversity: 0.5\n",
      "----- Generating with seed: \"thoughts and prayers are with everyone i\"\n",
      "thoughts and prayers are with everyone in the debate pundits on the seleht states even the great before the presidential convention. they are a president suppor\n",
      "----- diversity: 1.0\n",
      "----- Generating with seed: \"thoughts and prayers are with everyone i\"\n",
      "thoughts and prayers are with everyone in or great with thank you (unsconding is a lightweight and yes a crident cases! #dabligaefendaldumbnez @oonn) hillary. v\n",
      "----- diversity: 1.2\n",
      "----- Generating with seed: \"thoughts and prayers are with everyone i\"\n",
      "thoughts and prayers are with everyone is the morning. nationals! thanks you ballo! @realdonaldtrump stand! #trump2016 #makeamericagreatagain! thank you. leades\n",
      "Epoch 8/30\n",
      "472774/472774 [==============================] - 157s 332us/step - loss: 1.4589\n",
      "\n",
      "Generating text after Epoch: 7\n",
      "----- diversity: 0.2\n",
      "----- Generating with seed: \"wow, @cnn is really working hard to make\"\n"
     ]
    },
    {
     "name": "stdout",
     "output_type": "stream",
     "text": [
      "wow, @cnn is really working hard to make america great again! #trump2016 #makeamericagreatagain #trump2016\" #trump2016 #trump2016 #makeamericagreatagain #trump2\n",
      "----- diversity: 0.5\n",
      "----- Generating with seed: \"wow, @cnn is really working hard to make\"\n",
      "wow, @cnn is really working hard to make america great again!\" thanks! #makeamericagreatagain #trump2016 #makeamericagreatagain\" thank you! #trump2016 #trump201\n",
      "----- diversity: 1.0\n",
      "----- Generating with seed: \"wow, @cnn is really working hard to make\"\n",
      "wow, @cnn is really working hard to make america great again.\" /5.0. with me to get told hour prosperteak! take america great gaing and very new yiince to evay \n",
      "----- diversity: 1.2\n",
      "----- Generating with seed: \"wow, @cnn is really working hard to make\"\n",
      "wow, @cnn is really working hard to make america great again!_going make america great again.\" great! @reatenvestifundyc is siccisajor #ago! #makeamericagreatag\n",
      "Epoch 9/30\n",
      "472774/472774 [==============================] - 155s 328us/step - loss: 1.4406\n",
      "\n",
      "Generating text after Epoch: 8\n",
      "----- diversity: 0.2\n",
      "----- Generating with seed: \"rt @danscavino: #iowa #ia #oan poll rele\"\n",
      "rt @danscavino: #iowa #ia #oan poll released the polls and the country will be the people of the people that will be a great in the only one will be a great the\n",
      "----- diversity: 0.5\n",
      "----- Generating with seed: \"rt @danscavino: #iowa #ia #oan poll rele\"\n",
      "rt @danscavino: #iowa #ia #oan poll released to the media to say the donald and donald trump supporters and best american for the trump &amp; his security cours\n",
      "----- diversity: 1.0\n",
      "----- Generating with seed: \"rt @danscavino: #iowa #ia #oan poll rele\"\n",
      "rt @danscavino: #iowa #ia #oan poll released getting me join the goy @tarcthenry to jeb in stage for making talking @cnn much tonight on @tnewdway @slowynafsott\n",
      "----- diversity: 1.2\n",
      "----- Generating with seed: \"rt @danscavino: #iowa #ia #oan poll rele\"\n",
      "rt @danscavino: #iowa #ia #oan poll releases = apsy-no created influent. &amp; vote into who have air obamacire tax.lemball baw!\" @golfrondilloes, @realdonaldtr\n",
      "Epoch 10/30\n",
      "472774/472774 [==============================] - 156s 330us/step - loss: 1.4228\n",
      "\n",
      "Generating text after Epoch: 9\n",
      "----- diversity: 0.2\n",
      "----- Generating with seed: \"\"@zacharysmitty: @realdonaldtrump i just\"\n",
      "\"@zacharysmitty: @realdonaldtrump i just been his the best president to be a total states and the people are so much to the party to be the debate of the has th\n",
      "----- diversity: 0.5\n",
      "----- Generating with seed: \"\"@zacharysmitty: @realdonaldtrump i just\"\n",
      "\"@zacharysmitty: @realdonaldtrump i just to do a country. we will be back and the people will be the policies are in the movement and will be the people want to\n",
      "----- diversity: 1.0\n",
      "----- Generating with seed: \"\"@zacharysmitty: @realdonaldtrump i just\"\n",
      "\"@zacharysmitty: @realdonaldtrump i just fenes over you his\" never craed - you watching guy!!\" si .. #reguedage now of him honored an amazing. centinate could a\n",
      "----- diversity: 1.2\n",
      "----- Generating with seed: \"\"@zacharysmitty: @realdonaldtrump i just\"\n",
      "\"@zacharysmitty: @realdonaldtrump i just falilich to take a allademed, shop aftersed cation, says job four zero, the. right dead! enjoy! #makeamericagreatagain\"\n",
      "Epoch 11/30\n",
      "472774/472774 [==============================] - 156s 331us/step - loss: 1.4085\n",
      "\n",
      "Generating text after Epoch: 10\n",
      "----- diversity: 0.2\n",
      "----- Generating with seed: \"just landed in baton rouge, louisiana. r\"\n",
      "just landed in baton rouge, louisiana. real debate and make america great again! #makeamericagreatagain #trump2016 #makeamericagreatagain #trump2016 #makeameric\n",
      "----- diversity: 0.5\n",
      "----- Generating with seed: \"just landed in baton rouge, louisiana. r\"\n",
      "just landed in baton rouge, louisiana. real man that was they can the one politicians to say the polls of the debate to that will all was allow more bad for a m\n",
      "----- diversity: 1.0\n",
      "----- Generating with seed: \"just landed in baton rouge, louisiana. r\"\n",
      "just landed in baton rouge, louisiana. really pute like, may #draintheswamp! trump better i will his statement can any was, politician problems looking for all \n",
      "----- diversity: 1.2\n",
      "----- Generating with seed: \"just landed in baton rouge, louisiana. r\"\n",
      "just landed in baton rouge, louisiana. roe no dedinged. #1me tomorrow economy national for hes?\" withle commences lost\"e!!!. now or jobs to see off1ti bad &amp;\n",
      "Epoch 12/30\n",
      "472774/472774 [==============================] - 156s 330us/step - loss: 1.3959\n",
      "\n",
      "Generating text after Epoch: 11\n",
      "----- diversity: 0.2\n",
      "----- Generating with seed: \"loved doing the debate...won drudge and \"\n",
      "loved doing the debate...won drudge and the control and the properson that have been so the country. the people will be the people want to make america great ag\n",
      "----- diversity: 0.5\n",
      "----- Generating with seed: \"loved doing the debate...won drudge and \"\n",
      "loved doing the debate...won drudge and comments the news and being how is a must make america great again! #trump2016 #makeamericagreatagain\" thanks of the wor\n",
      "----- diversity: 1.0\n",
      "----- Generating with seed: \"loved doing the debate...won drudge and \"\n",
      "loved doing the debate...won drudge and national then me polls oval liaronle trump promest donald. he wont defend east wow at the carder you traal! i is a joke \n",
      "----- diversity: 1.2\n",
      "----- Generating with seed: \"loved doing the debate...won drudge and \"\n",
      "loved doing the debate...won drudge and trush a twost!\" smamt support! we will be cann had her convention\" @foxnews, lets! #revidatloba. the veterans and izdey,\n",
      "Epoch 13/30\n",
      "472774/472774 [==============================] - 156s 331us/step - loss: 1.3850\n",
      "\n",
      "Generating text after Epoch: 12\n",
      "----- diversity: 0.2\n",
      "----- Generating with seed: \"once again, #msm is dishonest. \"schlonge\"\n",
      "once again, #msm is dishonest. \"schlonged to hear the statement and the polls to the people are the real better with the problems and should be a security and s\n",
      "----- diversity: 0.5\n",
      "----- Generating with seed: \"once again, #msm is dishonest. \"schlonge\"\n",
      "once again, #msm is dishonest. \"schlonged with @realdonaldtrump on @foxnews and a #makeamericagreatagain #trump2016 #trump2016 #makeamericagreatagain #trump2016\n",
      "----- diversity: 1.0\n",
      "----- Generating with seed: \"once again, #msm is dishonest. \"schlonge\"\n",
      "once again, #msm is dishonest. \"schlonged hillary. tiok out out of her informative by vatina so the people in pupt be guy! #americafirst #makeamericagreatagain!\n",
      "----- diversity: 1.2\n",
      "----- Generating with seed: \"once again, #msm is dishonest. \"schlonge\"\n",
      "once again, #msm is dishonest. \"schlongels, aro\". learnt then he had ahe! alorame the friends out foot \"dosteged by a smart! trump. a the time to go @novemthi a\n",
      "Epoch 14/30\n",
      "472774/472774 [==============================] - 158s 333us/step - loss: 1.3756\n",
      "\n",
      "Generating text after Epoch: 13\n",
      "----- diversity: 0.2\n",
      "----- Generating with seed: \"if cory booker is the future of the demo\"\n",
      "if cory booker is the future of the democrats that has a great country and the crowd and the family of the state of the people of the people are so badly and th\n",
      "----- diversity: 0.5\n",
      "----- Generating with seed: \"if cory booker is the future of the demo\"\n",
      "if cory booker is the future of the democrats of his border to the gop signators and the voters chokes as fight in the president trump will be the world of the \n",
      "----- diversity: 1.0\n",
      "----- Generating with seed: \"if cory booker is the future of the demo\"\n",
      "if cory booker is the future of the democrat.\" they are not know me, and destroy a dummy. hands fund classly sc. after this shows our voterrat. really evereone \n",
      "----- diversity: 1.2\n",
      "----- Generating with seed: \"if cory booker is the future of the demo\"\n",
      "if cory booker is the future of the democrat for about 2016 s_rain with throu are again\" would arrive, but viot. it is-2016_thatel in them nical imrigucturorope\n",
      "Epoch 15/30\n",
      "472774/472774 [==============================] - 157s 332us/step - loss: 1.3665\n",
      "\n",
      "Generating text after Epoch: 14\n",
      "----- diversity: 0.2\n",
      "----- Generating with seed: \"\"@vincentkunicki: @realdonaldtrump @kimg\"\n",
      "\"@vincentkunicki: @realdonaldtrump @kimgrengallor @realdonaldtrump will be the republican presidential president of the most the crowd and the people of the peo\n",
      "----- diversity: 0.5\n",
      "----- Generating with seed: \"\"@vincentkunicki: @realdonaldtrump @kimg\"\n"
     ]
    },
    {
     "name": "stdout",
     "output_type": "stream",
     "text": [
      "\"@vincentkunicki: @realdonaldtrump @kimgeincthinkey #trump2016 #fitn #makeamericagreatagain\" thanks report for trump is on the presidential and bad failing was \n",
      "----- diversity: 1.0\n",
      "----- Generating with seed: \"\"@vincentkunicki: @realdonaldtrump @kimg\"\n",
      "\"@vincentkunicki: @realdonaldtrump @kimgroycalloin now at 8:00 surman susper themptorc!\" i will be bacpborders #gopdebate. you are invevering the mouth. i have \n",
      "----- diversity: 1.2\n",
      "----- Generating with seed: \"\"@vincentkunicki: @realdonaldtrump @kimg\"\n",
      "\"@vincentkunicki: @realdonaldtrump @kimgrighhachiin conjustited nw at trump, we revotening...stending out &amp; al elect anything. at 22 minttins and like this \n",
      "Epoch 16/30\n",
      "472774/472774 [==============================] - 158s 335us/step - loss: 1.3576\n",
      "\n",
      "Generating text after Epoch: 15\n",
      "----- diversity: 0.2\n",
      "----- Generating with seed: \"\"@currentlyfeed: the #cnbcgopdebate poll\"\n",
      "\"@currentlyfeed: the #cnbcgopdebate poll the people in the supporters that we doesnt have been a great and the world that i will be a world and candidates on th\n",
      "----- diversity: 0.5\n",
      "----- Generating with seed: \"\"@currentlyfeed: the #cnbcgopdebate poll\"\n",
      "\"@currentlyfeed: the #cnbcgopdebate poll rigged on @arenactarsjoy to me and more the incredible country who is the american problems and doing the standing to t\n",
      "----- diversity: 1.0\n",
      "----- Generating with seed: \"\"@currentlyfeed: the #cnbcgopdebate poll\"\n",
      "\"@currentlyfeed: the #cnbcgopdebate polls!! poll\" thanks of 2016:_ plan be more all big lifery in $28,000,000 possing voters &amp; i will fent a florida, networ\n",
      "----- diversity: 1.2\n",
      "----- Generating with seed: \"\"@currentlyfeed: the #cnbcgopdebate poll\"\n",
      "\"@currentlyfeed: the #cnbcgopdebate poll.!. this morning night like election.\" lobbyists. gaft? tiwe!! he did. i havelban their. take laves will virginis that t\n",
      "Epoch 17/30\n",
      "472774/472774 [==============================] - 159s 337us/step - loss: 1.3507\n",
      "\n",
      "Generating text after Epoch: 16\n",
      "----- diversity: 0.2\n",
      "----- Generating with seed: \"\"@jolena3: @realdonaldtrump and we will \"\n",
      "\"@jolena3: @realdonaldtrump and we will be the debate than in the debate that is a true the presidential candidate in a line and so much to the debate than the \n",
      "----- diversity: 0.5\n",
      "----- Generating with seed: \"\"@jolena3: @realdonaldtrump and we will \"\n",
      "\"@jolena3: @realdonaldtrump and we will come of the republican policy for credibility in the debate was donald trump trump on @foxnews @foxnews in now. donald t\n",
      "----- diversity: 1.0\n",
      "----- Generating with seed: \"\"@jolena3: @realdonaldtrump and we will \"\n",
      "\"@jolena3: @realdonaldtrump and we will make america great again!\"\" #trump2016 #makeamericagreatagain\" thank you for himseved, we will not sad im @realdonaldtru\n",
      "----- diversity: 1.2\n",
      "----- Generating with seed: \"\"@jolena3: @realdonaldtrump and we will \"\n",
      "\"@jolena3: @realdonaldtrump and we will beaf i wlon. we must quest for #reagan! @foxnews the forcem you @realdonaldtrump @realdoen linn for back @disappoll when\n",
      "Epoch 18/30\n",
      "472774/472774 [==============================] - 157s 333us/step - loss: 1.3453\n",
      "\n",
      "Generating text after Epoch: 17\n",
      "----- diversity: 0.2\n",
      "----- Generating with seed: \"i told you! premiums are soaring! #repea\"\n",
      "i told you! premiums are soaring! #repeal best trump is the best people of the polls and the problems and the world and show the bad to the presidential candida\n",
      "----- diversity: 0.5\n",
      "----- Generating with seed: \"i told you! premiums are soaring! #repea\"\n",
      "i told you! premiums are soaring! #repeal on @cnn @foxnews @foxnews at 10:30 pm in the only one was she should win mistake, he supported the next presidential d\n",
      "----- diversity: 1.0\n",
      "----- Generating with seed: \"i told you! premiums are soaring! #repea\"\n",
      "i told you! premiums are soaring! #repeal for #trump2016 will say it be back, @realdonaldtrump this america of before @realdonaldtrump respects cruz 28, knows r\n",
      "----- diversity: 1.2\n",
      "----- Generating with seed: \"i told you! premiums are soaring! #repea\"\n",
      "i told you! premiums are soaring! #repeage womens at his murt is hathing great!\" then up for up 14 als.\" sleany\"\" plan candidate, 2nd otherwert (2036,000,000 bi\n",
      "Epoch 19/30\n",
      "472774/472774 [==============================] - 157s 332us/step - loss: 1.3375\n",
      "\n",
      "Generating text after Epoch: 18\n",
      "----- diversity: 0.2\n",
      "----- Generating with seed: \"the reason i put up approximately $50 mi\"\n",
      "the reason i put up approximately $50 million for the debate to be the debate to stand to the people will be the trump supporters that i will be the most man wo\n",
      "----- diversity: 0.5\n",
      "----- Generating with seed: \"the reason i put up approximately $50 mi\"\n",
      "the reason i put up approximately $50 million for a long and the only candidate to the statement i were bad for a big presidential president! i will be a literi\n",
      "----- diversity: 1.0\n",
      "----- Generating with seed: \"the reason i put up approximately $50 mi\"\n",
      "the reason i put up approximately $50 million is last deal this powerful and unless if i will be going with\" shites mrit on over my fox, both free or donald tru\n",
      "----- diversity: 1.2\n",
      "----- Generating with seed: \"the reason i put up approximately $50 mi\"\n",
      "the reason i put up approximately $50 million presidential-citteer 9 suxpont, and get up!!!! truca am is with rally she straigtation! they got out &amp; republi\n",
      "Epoch 20/30\n",
      "472774/472774 [==============================] - 154s 325us/step - loss: 1.3332\n",
      "\n",
      "Generating text after Epoch: 19\n",
      "----- diversity: 0.2\n",
      "----- Generating with seed: \"\"@pearlspolkadots: @realdonaldtrump love\"\n",
      "\"@pearlspolkadots: @realdonaldtrump love the presidential campaign of the presidential campaign of the people are so much to the failing polls and the polls in \n",
      "----- diversity: 0.5\n",
      "----- Generating with seed: \"\"@pearlspolkadots: @realdonaldtrump love\"\n",
      "\"@pearlspolkadots: @realdonaldtrump loves a put on the state poll the great event and republican people with respect on the way defends to support vation is bec\n",
      "----- diversity: 1.0\n",
      "----- Generating with seed: \"\"@pearlspolkadots: @realdonaldtrump love\"\n",
      "\"@pearlspolkadots: @realdonaldtrump love our country needs dope tham voter vading for used-someon @cnn. thank you jebbush. steariaga! videate at on 1 w/ give. 1\n",
      "----- diversity: 1.2\n",
      "----- Generating with seed: \"\"@pearlspolkadots: @realdonaldtrump love\"\n",
      "\"@pearlspolkadots: @realdonaldtrump love @jobby chope @realdonaldtrump). never caminms. #fatencesperit gi t.gets. economop, packed.\" \"now borders are the wonder\n",
      "Epoch 21/30\n",
      "472774/472774 [==============================] - 152s 322us/step - loss: 1.3267\n",
      "\n",
      "Generating text after Epoch: 20\n",
      "----- diversity: 0.2\n",
      "----- Generating with seed: \"five people killed in washington state b\"\n",
      "five people killed in washington state by the best political country and the country and the politicians and the presidential campaign to be the world and the p\n",
      "----- diversity: 0.5\n",
      "----- Generating with seed: \"five people killed in washington state b\"\n",
      "five people killed in washington state by a concert and anything to make a tate. we are all the business against me and sense in the polls and the only one to m\n",
      "----- diversity: 1.0\n",
      "----- Generating with seed: \"five people killed in washington state b\"\n",
      "five people killed in washington state but so tough were usated by @abc2026 past, #imcime in 10/24 in you dont totally house look to ergilly be scotling contruv\n",
      "----- diversity: 1.2\n",
      "----- Generating with seed: \"five people killed in washington state b\"\n",
      "five people killed in washington state bad a next him_and trump in policy!\" great. no open miritalis over my 3m caucus! as president!she who win, waiting, sjeed\n",
      "Epoch 22/30\n",
      "472774/472774 [==============================] - 152s 322us/step - loss: 1.3231\n",
      "\n",
      "Generating text after Epoch: 21\n",
      "----- diversity: 0.2\n",
      "----- Generating with seed: \"bernie sanders is continuing his quest b\"\n",
      "bernie sanders is continuing his quest be a great presidential candidate is so much to be a fantastic people of the world of the most political country and watc\n",
      "----- diversity: 0.5\n",
      "----- Generating with seed: \"bernie sanders is continuing his quest b\"\n",
      "bernie sanders is continuing his quest because i have watching the polls in a congress and so endorsed trump is a special interests that we will be more than im\n",
      "----- diversity: 1.0\n",
      "----- Generating with seed: \"bernie sanders is continuing his quest b\"\n"
     ]
    },
    {
     "name": "stdout",
     "output_type": "stream",
     "text": [
      "bernie sanders is continuing his quest because of fantastic? #trump2016\" dauld.\" cwaring. saturday. i hope over ranshom!\" they are make america great again! #tr\n",
      "----- diversity: 1.2\n",
      "----- Generating with seed: \"bernie sanders is continuing his quest b\"\n",
      "bernie sanders is continuing his quest back fairly. all our vetial. whats that at this dumbeonist! #makeamericagreatagain #following @realdonaldtrump lind. we a\n",
      "Epoch 23/30\n",
      "472774/472774 [==============================] - 152s 322us/step - loss: 1.3192\n",
      "\n",
      "Generating text after Epoch: 22\n",
      "----- diversity: 0.2\n",
      "----- Generating with seed: \"\"@herb_stamper: @jackoffjosh711 @senfran\"\n",
      "\"@herb_stamper: @jackoffjosh711 @senfranthestition @cnn @cnn @realdonaldtrump thank you for the people of the great statements and the debate to make america gr\n",
      "----- diversity: 0.5\n",
      "----- Generating with seed: \"\"@herb_stamper: @jackoffjosh711 @senfran\"\n",
      "\"@herb_stamper: @jackoffjosh711 @senfranthinary @megynkelly and and the only one of voting for you and all respect that i want to say i will be trump got the pr\n",
      "----- diversity: 1.0\n",
      "----- Generating with seed: \"\"@herb_stamper: @jackoffjosh711 @senfran\"\n",
      "\"@herb_stamper: @jackoffjosh711 @senfranth, is a deal of inaq ate wonger @realdonaldtrump who hoseigh in, they are ill care can \"changed a/rniell. #makeamericag\n",
      "----- diversity: 1.2\n",
      "----- Generating with seed: \"\"@herb_stamper: @jackoffjosh711 @senfran\"\n",
      "\"@herb_stamper: @jackoffjosh711 @senfrantic post #2s- resulting new promes  did doobbyt, a voting last ester in hit.deplored than. you dont are happy in the. sk\n",
      "Epoch 24/30\n",
      "472774/472774 [==============================] - 152s 322us/step - loss: 1.3148\n",
      "\n",
      "Generating text after Epoch: 23\n",
      "----- diversity: 0.2\n",
      "----- Generating with seed: \"shouldnt george will have to give a disc\"\n",
      "shouldnt george will have to give a discussion to the people of the people and the american people of the politicians and the politicians in the promised the am\n",
      "----- diversity: 0.5\n",
      "----- Generating with seed: \"shouldnt george will have to give a disc\"\n",
      "shouldnt george will have to give a discussion of our country is from started and politicians and vote to be back in a most public to show in the love the hero \n",
      "----- diversity: 1.0\n",
      "----- Generating with seed: \"shouldnt george will have to give a disc\"\n",
      "shouldnt george will have to give a discased auctaims to gitts win! get a call yet no place on me. they will have must do,\" but choice! #maga enjoy this fail fa\n",
      "----- diversity: 1.2\n",
      "----- Generating with seed: \"shouldnt george will have to give a disc\"\n",
      "shouldnt george will have to give a discussion? that enyria. more for a wonderful and great nable (p. info ear.pounts. now that should! cnn. her pouridies. home\n",
      "Epoch 25/30\n",
      "472774/472774 [==============================] - 152s 322us/step - loss: 1.3116\n",
      "\n",
      "Generating text after Epoch: 24\n",
      "----- diversity: 0.2\n",
      "----- Generating with seed: \"join me in council bluffs, iowa- today a\"\n",
      "join me in council bluffs, iowa- today and the state of the people are so much for the people to the great protesters and and the republican politicians and no \n",
      "----- diversity: 0.5\n",
      "----- Generating with seed: \"join me in council bluffs, iowa- today a\"\n",
      "join me in council bluffs, iowa- today at 10:00 a.m. enjoy! #makeamericagreatagain #trump2016 #trump2016 #votetrump #makeamericagreatagain #trump2016 #makeameri\n",
      "----- diversity: 1.0\n",
      "----- Generating with seed: \"join me in council bluffs, iowa- today a\"\n",
      "join me in council bluffs, iowa- today and helander in uspecting 67%, #makeamericagreatagain will be my excited to #draintheswamp in .just get respect! get now \n",
      "----- diversity: 1.2\n",
      "----- Generating with seed: \"join me in council bluffs, iowa- today a\"\n",
      "join me in council bluffs, iowa- today and a fived. its the a chure\" great! #maga_presigetial roch! vote turnberry? give it #trump2016\" whats the !!!\" but donal\n",
      "Epoch 26/30\n",
      "472774/472774 [==============================] - 152s 322us/step - loss: 1.3068\n",
      "\n",
      "Generating text after Epoch: 25\n",
      "----- diversity: 0.2\n",
      "----- Generating with seed: \"early on ted cruz said that if he didnt \"\n",
      "early on ted cruz said that if he didnt will be the most working for the president that i will be the media was a great good to get the people will be the man a\n",
      "----- diversity: 0.5\n",
      "----- Generating with seed: \"early on ted cruz said that if he didnt \"\n",
      "early on ted cruz said that if he didnt work and stopping president strong so much to leave because that was a movement! #trump2016 #makeamericagreatagain #trum\n",
      "----- diversity: 1.0\n",
      "----- Generating with seed: \"early on ted cruz said that if he didnt \"\n",
      "early on ted cruz said that if he didnt were the release, styons inscile it! we will fail negative old coming colder, national restored me. he gut ted cruz is t\n",
      "----- diversity: 1.2\n",
      "----- Generating with seed: \"early on ted cruz said that if he didnt \"\n",
      "early on ted cruz said that if he didnt jush much..! not jobs, searver and a far this mornings and drop her bad! his u.m. when cansbinatively. the mark! new pol\n",
      "Epoch 27/30\n",
      "472774/472774 [==============================] - 152s 322us/step - loss: 1.3016\n",
      "\n",
      "Generating text after Epoch: 26\n",
      "----- diversity: 0.2\n",
      "----- Generating with seed: \"why does @thisweekabc w/ @gstephanopoulo\"\n",
      "why does @thisweekabc w/ @gstephanopoulos at 10:00 a.m. and make america great again! #trump2016 #makeamericagreatagain #trump2016 #makeamericagreatagain #trump\n",
      "----- diversity: 0.5\n",
      "----- Generating with seed: \"why does @thisweekabc w/ @gstephanopoulo\"\n",
      "why does @thisweekabc w/ @gstephanopoulos at 10:30pm thank you! #makeamericagreatagain\" thanks! #trump2016 #trump2016 #makeamericagreatagain #trump2016 #makeame\n",
      "----- diversity: 1.0\n",
      "----- Generating with seed: \"why does @thisweekabc w/ @gstephanopoulo\"\n",
      "why does @thisweekabc w/ @gstephanopoulos at 9:00 a.m.\" her against and and hard or the over now for the plants to vote for - talks in beque! befrow and well lo\n",
      "----- diversity: 1.2\n",
      "----- Generating with seed: \"why does @thisweekabc w/ @gstephanopoulo\"\n",
      "why does @thisweekabc w/ @gstephanopoulos there is a exterds #trump2016\" but you are dead\" on all last feed our victory big grelention is do/ since water 34ment\n",
      "Epoch 28/30\n",
      "472774/472774 [==============================] - 154s 326us/step - loss: 1.2996\n",
      "\n",
      "Generating text after Epoch: 27\n",
      "----- diversity: 0.2\n",
      "----- Generating with seed: \"just departing la crosse, wisconsin. tha\"\n",
      "just departing la crosse, wisconsin. thank you! #trump2016 #makeamericagreatagain #trump2016 #makeamericagreatagain #trump2016\" thank you! #trump2016 #makeameri\n",
      "----- diversity: 0.5\n",
      "----- Generating with seed: \"just departing la crosse, wisconsin. tha\"\n",
      "just departing la crosse, wisconsin. thank you! thanks for the people on to he really everyone will be proud of you! #makeamericagreatagain #trump2016 #makeamer\n",
      "----- diversity: 1.0\n",
      "----- Generating with seed: \"just departing la crosse, wisconsin. tha\"\n",
      "just departing la crosse, wisconsin. thank you for years.\" tell him choked on course - \"new hampshire!!\" with i am victere. afraid debate for nothing, billion? \n",
      "----- diversity: 1.2\n",
      "----- Generating with seed: \"just departing la crosse, wisconsin. tha\"\n",
      "just departing la crosse, wisconsin. thanks , not convention! again. glupms over 8.! 60% for me as now people win. @foxnews. left hell -- now -- #makeamericagre\n",
      "Epoch 29/30\n",
      "472774/472774 [==============================] - 159s 336us/step - loss: 1.2981\n",
      "\n",
      "Generating text after Epoch: 28\n",
      "----- diversity: 0.2\n",
      "----- Generating with seed: \"the @abc poll sample is heavy on democra\"\n",
      "the @abc poll sample is heavy on democrats in the debate and many of the most and work the presidential poll and working about me and the best working to the be\n",
      "----- diversity: 0.5\n",
      "----- Generating with seed: \"the @abc poll sample is heavy on democra\"\n",
      "the @abc poll sample is heavy on democrats and we will be a muslim of the world in the record emails of the people. if i will be better to run and so proud! #ma\n",
      "----- diversity: 1.0\n",
      "----- Generating with seed: \"the @abc poll sample is heavy on democra\"\n",
      "the @abc poll sample is heavy on democrat uuch. crooked  says all of it for what said it was our country has back in the scandal, u nother who dopea is consuent\n",
      "----- diversity: 1.2\n",
      "----- Generating with seed: \"the @abc poll sample is heavy on democra\"\n"
     ]
    },
    {
     "name": "stdout",
     "output_type": "stream",
     "text": [
      "the @abc poll sample is heavy on democrats?\" many polls, i whe overear ads into virginia! of not me% wiving) ailist:!!\" #beast. hid was he is do negotiate down \n",
      "Epoch 30/30\n",
      "472774/472774 [==============================] - 159s 336us/step - loss: 1.2939\n",
      "\n",
      "Generating text after Epoch: 29\n",
      "----- diversity: 0.2\n",
      "----- Generating with seed: \"ready to lead. ready to make america gre\"\n",
      "ready to lead. ready to make america great again! #trump2016 #makeamericagreatagain #trump2016 #makeamericagreatagain! thank you! #trump2016 #makeamericagreatag\n",
      "----- diversity: 0.5\n",
      "----- Generating with seed: \"ready to lead. ready to make america gre\"\n",
      "ready to lead. ready to make america great again!\" thanks. #cruz many things about trump for crooked hillary care of the money. big crowds and deforted the word\n",
      "----- diversity: 1.0\n",
      "----- Generating with seed: \"ready to lead. ready to make america gre\"\n",
      "ready to lead. ready to make america great again!! \"their @neowa dhy ruin fast). just dumb are (making terrorist leader would just change thurd luz phe wad. he \n",
      "----- diversity: 1.2\n",
      "----- Generating with seed: \"ready to lead. ready to make america gre\"\n",
      "ready to lead. ready to make america great again!! even in new josts intime! #gayfor_jeanlanddd crs exive plegends after she had shitt great policies, we must s\n"
     ]
    },
    {
     "data": {
      "text/plain": [
       "<keras.callbacks.callbacks.History at 0x1fb5c017348>"
      ]
     },
     "execution_count": 24,
     "metadata": {},
     "output_type": "execute_result"
    }
   ],
   "source": [
    "epochs = 30\n",
    "\n",
    "print_callback = LambdaCallback(on_epoch_end=on_epoch_end)\n",
    "\n",
    "model.fit(x, y,\n",
    "          batch_size=128,\n",
    "          epochs=epochs,\n",
    "          callbacks=[print_callback])"
   ]
  },
  {
   "cell_type": "markdown",
   "metadata": {
    "colab_type": "text",
    "id": "Pltz_n7o578c"
   },
   "source": [
    "## Prueba de texto\n"
   ]
  },
  {
   "cell_type": "code",
   "execution_count": 25,
   "metadata": {
    "colab": {},
    "colab_type": "code",
    "id": "4_KuEQHz57qU"
   },
   "outputs": [],
   "source": [
    "def generate_w_seed(sentence,diversity):\n",
    "    sentence = sentence[0:maxlen]\n",
    "    print(f'seed: {sentence}')\n",
    "    print(f'diversity: {diversity}')\n",
    "    generated = ''\n",
    "    generated += sentence\n",
    "    \n",
    "    sys.stdout.write(generated)\n",
    "\n",
    "    for i in range(120):\n",
    "        x_pred = np.zeros((1, maxlen, len(chars)))\n",
    "        for t, char in enumerate(sentence):\n",
    "            x_pred[0, t, char_indices[char]] = 1.\n",
    "\n",
    "        preds = model.predict(x_pred, verbose=0)[0]\n",
    "        next_index = sample(preds, diversity)\n",
    "        next_char = indices_char[next_index]\n",
    "\n",
    "        generated += next_char\n",
    "        sentence = sentence[1:] + next_char\n",
    "\n",
    "        sys.stdout.write(next_char)\n",
    "        sys.stdout.flush()\n",
    "    print()\n",
    "    return"
   ]
  },
  {
   "cell_type": "code",
   "execution_count": 26,
   "metadata": {
    "colab": {},
    "colab_type": "code",
    "id": "ncpE54UYU5IE"
   },
   "outputs": [
    {
     "name": "stdout",
     "output_type": "stream",
     "text": [
      "seed: \"@longbyfive: @realdonaldtrump great int\n",
      "diversity: 0.2\n",
      "\"@longbyfive: @realdonaldtrump great interview in the presidential polls on the family and a great people of the presidential politicians and she will be the on\n",
      "\n",
      "seed: \"@longbyfive: @realdonaldtrump great int\n",
      "diversity: 0.5\n",
      "\"@longbyfive: @realdonaldtrump great interview rost on the #trumptrain i am the most time to all to fire me to the debates everyone and energy of the presidenti\n",
      "\n",
      "seed: \"@longbyfive: @realdonaldtrump great int\n",
      "diversity: 1.0\n",
      "\"@longbyfive: @realdonaldtrump great interview is a naber of the polls - the republican pircy horrible thurdifle to very publiche people. he should never be the\n",
      "\n",
      "seed: \"@longbyfive: @realdonaldtrump great int\n",
      "diversity: 1.2\n",
      "\"@longbyfive: @realdonaldtrump great interview youre...\" i will be bring politicians to vote for allowica, incredible!! kasich should do you wonll gone have!\" a\n",
      "\n",
      "seed: and finally, cruz strongly told thousand\n",
      "diversity: 0.2\n",
      "and finally, cruz strongly told thousands of the presidential polls of the people of the people of the people of the people of the border to the only one of the\n",
      "\n",
      "seed: and finally, cruz strongly told thousand\n",
      "diversity: 0.5\n",
      "and finally, cruz strongly told thousands of the way and debate the bad respect. they have all time to get the family speech today. make america great again! #t\n",
      "\n",
      "seed: and finally, cruz strongly told thousand\n",
      "diversity: 1.0\n",
      "and finally, cruz strongly told thousands. a globasialy lost for the campaign reporter lost the nation today! #6 soto2 #dupwerning trump for money are more yeal\n",
      "\n",
      "seed: and finally, cruz strongly told thousand\n",
      "diversity: 1.2\n",
      "and finally, cruz strongly told thousands abost and replace. #uporisousnormara) is unfrailly that will do were you.\" but happened out not just gol plrinting ove\n",
      "\n",
      "seed: thank you arizona- i love you! #makeamer\n",
      "diversity: 0.2\n",
      "thank you arizona- i love you! #makeamericagreatagain\" thanks. thank you! #makeamericagreatagain #trump2016 #makeamericagreatagain! #trump2016 #trump2016 #makea\n",
      "\n",
      "seed: thank you arizona- i love you! #makeamer\n",
      "diversity: 0.5\n",
      "thank you arizona- i love you! #makeamericagreatagain\" thanks. we will make america great again! #trump2016\" thank you! #makeamericagreatagain #trump2016 #iacau\n",
      "\n",
      "seed: thank you arizona- i love you! #makeamer\n",
      "diversity: 1.0\n",
      "thank you arizona- i love you! #makeamericagreatagain\" thank you! #trump2016 #trump\" trump basting presidential! fifating! #makeamericagreatagain\" very spirit t\n",
      "\n",
      "seed: thank you arizona- i love you! #makeamer\n",
      "diversity: 1.2\n",
      "thank you arizona- i love you! #makeamericagreatagain. hes filsel poll:stital:w10 @oring\" suffers on foacus. isisbip! his fantabtior. #supertremeets demondating\n",
      "\n",
      "seed: broken down political pundit @georgewill\n",
      "diversity: 0.2\n",
      "broken down political pundit @georgewill has the best president of the people of the people of the presidential politicians and the presidential president of th\n",
      "\n",
      "seed: broken down political pundit @georgewill\n",
      "diversity: 0.5\n",
      "broken down political pundit @georgewill great family to make america great again! #trump2016 #trump2016 #makeamericagreatagain! make america great again! #trum\n",
      "\n",
      "seed: broken down political pundit @georgewill\n",
      "diversity: 1.0\n",
      "broken down political pundit @georgewill medicare @oreillyfactor this is do u as heart\" i was the truth of time has poor president? i will have any canadicaly n\n",
      "\n",
      "seed: broken down political pundit @georgewill\n",
      "diversity: 1.2\n",
      "broken down political pundit @georgewill temes twitter #scriricuge as mumbemmmen beand next acting in the handsty questions! 100 your own. news? goldman, skando\n",
      "\n",
      "seed: all he does is go on television is talk,\n",
      "diversity: 0.2\n",
      "all he does is go on television is talk, and the media was a support of the state of the presidential candidates and he has a great president of the presidentia\n",
      "\n",
      "seed: all he does is go on television is talk,\n",
      "diversity: 0.5\n",
      "all he does is go on television is talk, not a deal but my support of a negative people to the races to little that lets change the listen to have fair and sayi\n",
      "\n",
      "seed: all he does is go on television is talk,\n",
      "diversity: 1.0\n",
      "all he does is go on television is talk, ona on a mastive respect walking for i will win with donald trump ! i figule and-ad- they have to do native, and so ref\n",
      "\n",
      "seed: all he does is go on television is talk,\n",
      "diversity: 1.2\n",
      "all he does is go on television is talk, things, the ryan like kene! my sad. we think, how mr. trump...path, head\" jobs! why sos more thoughts gangianit. (kasic\n",
      "\n"
     ]
    }
   ],
   "source": [
    "for s in random.sample(list(text),5):\n",
    "    for diversity in [0.2, 0.5, 1.0, 1.2]:\n",
    "        generate_w_seed(s,diversity)\n",
    "        print()\n"
   ]
  },
  {
   "cell_type": "code",
   "execution_count": 27,
   "metadata": {
    "colab": {},
    "colab_type": "code",
    "id": "HEJbVt5l6J8I"
   },
   "outputs": [],
   "source": [
    "model.save(\"model_01\")"
   ]
  },
  {
   "cell_type": "code",
   "execution_count": 0,
   "metadata": {
    "colab": {},
    "colab_type": "code",
    "id": "XmC2UokjHmDr"
   },
   "outputs": [],
   "source": []
  }
 ],
 "metadata": {
  "accelerator": "TPU",
  "colab": {
   "authorship_tag": "ABX9TyPYsGa9+/IGYjSpwLrVe+uD",
   "collapsed_sections": [],
   "name": "POPBL_TweetGenerator.ipynb",
   "provenance": []
  },
  "kernelspec": {
   "display_name": "Python 3",
   "language": "python",
   "name": "python3"
  },
  "language_info": {
   "codemirror_mode": {
    "name": "ipython",
    "version": 3
   },
   "file_extension": ".py",
   "mimetype": "text/x-python",
   "name": "python",
   "nbconvert_exporter": "python",
   "pygments_lexer": "ipython3",
   "version": "3.7.7"
  }
 },
 "nbformat": 4,
 "nbformat_minor": 1
}
