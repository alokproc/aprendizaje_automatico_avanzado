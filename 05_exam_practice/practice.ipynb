{
 "cells": [
  {
   "cell_type": "code",
   "execution_count": null,
   "metadata": {},
   "outputs": [],
   "source": [
    "print(\"hello\")\n",
    "#https://www.kaggle.com/dimitreoliveira/time-series-forecasting-with-lstm-autoencoders/data"
   ]
  },
  {
   "cell_type": "code",
   "execution_count": null,
   "metadata": {},
   "outputs": [],
   "source": []
  },
  {
   "cell_type": "code",
   "execution_count": null,
   "metadata": {},
   "outputs": [],
   "source": [
    "import warnings\n",
    "import numpy as np\n",
    "import pandas as pd\n",
    "import matplotlib.pyplot as plt\n",
    "from keras import optimizers\n",
    "from keras.utils import plot_model\n",
    "from keras.models import Sequential, Model\n",
    "from keras.layers import Dense, LSTM, RepeatVector, TimeDistributed\n",
    "from sklearn.metrics import mean_squared_error\n",
    "from sklearn.model_selection import train_test_split\n",
    "\n",
    "%matplotlib inline\n",
    "pd.set_option('display.float_format', lambda x: '%.2f' % x)\n",
    "warnings.filterwarnings(\"ignore\")\n",
    "\n",
    "# Set seeds to make the experiment more reproducible.\n",
    "from numpy.random import seed\n",
    "seed(0)\n",
    "from tensorflow import set_random_seed\n",
    "set_random_seed(0)"
   ]
  },
  {
   "cell_type": "code",
   "execution_count": null,
   "metadata": {},
   "outputs": [],
   "source": [
    "test = pd.read_csv('test.csv', dtype={'ID': 'int32', 'shop_id': 'int32', 'item_id': 'int32'})\n",
    "item_categories = pd.read_csv('../input/item_categories.csv', dtype={'item_category_name': 'str', 'item_category_id': 'int32'})\n",
    "items = pd.read_csv('../input/items.csv', dtype={'item_name': 'str', 'item_id': 'int32',  'item_category_id': 'int32'})\n",
    "shops = pd.read_csv('../input/shops.csv', dtype={'shop_name': 'str', 'shop_id': 'int32'})\n",
    "sales = pd.read_csv('../input/sales_train.csv', parse_dates=['date'],  dtype={'date': 'str', 'date_block_num': 'int32', 'shop_id': 'int32', \n",
    "                      'item_id': 'int32', 'item_price': 'float32', 'item_cnt_day': 'int32'})"
   ]
  }
 ],
 "metadata": {
  "kernelspec": {
   "display_name": "Python 3",
   "language": "python",
   "name": "python3"
  },
  "language_info": {
   "codemirror_mode": {
    "name": "ipython",
    "version": 3
   },
   "file_extension": ".py",
   "mimetype": "text/x-python",
   "name": "python",
   "nbconvert_exporter": "python",
   "pygments_lexer": "ipython3",
   "version": "3.7.7"
  }
 },
 "nbformat": 4,
 "nbformat_minor": 4
}
