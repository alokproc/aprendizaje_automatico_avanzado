{
 "cells": [
  {
   "cell_type": "markdown",
   "metadata": {
    "colab_type": "text",
    "id": "rjiNjkMBbYoN"
   },
   "source": [
    "# cat or dog?\n",
    "\n",
    "you will find cat and dog pictures in the folder where this notebook is located. please, create a CNN from scratch in order to be able to make a CNN that is able to differentiate a cat from a dog.\n",
    "\n",
    "Use image augmentation, and preprocessing, using keras methods, you will save a lot of time.\n",
    "\n",
    "\n",
    "1.   arquitecture your own model\n",
    "2.   use a pretrained model, but change it in order to fit your problem, and train only the last layers of the CNN network.\n",
    "https://www.learnopencv.com/keras-tutorial-fine-tuning-using-pre-trained-models/\n"
   ]
  },
  {
   "cell_type": "code",
   "execution_count": 1,
   "metadata": {},
   "outputs": [],
   "source": [
    "from tensorflow.keras import models, layers\n",
    "\n",
    "model = models.Sequential([\n",
    "    layers.Conv2D(32, (5,5), input_shape=(64,64,3), activation='relu'),\n",
    "    layers.MaxPooling2D(pool_size = (2,2)),\n",
    "    layers.Dropout(0.2),\n",
    "    layers.Conv2D(64, (5,5), activation='relu'),\n",
    "    layers.MaxPooling2D(pool_size=(2,2)),\n",
    "    layers.Dropout(0.2),\n",
    "    layers.Conv2D(128, (5,5), activation='relu'),\n",
    "    layers.MaxPooling2D(pool_size=(2,2)),\n",
    "    layers.Dropout(0.2),\n",
    "    layers.Flatten(),\n",
    "    layers.Dense(units=128, activation='relu'),\n",
    "    layers.Dense(units=1, activation='sigmoid')\n",
    "])\n",
    "\n",
    "model.compile(optimizer='adam', loss='binary_crossentropy', metrics=['accuracy'])"
   ]
  },
  {
   "cell_type": "code",
   "execution_count": 2,
   "metadata": {},
   "outputs": [
    {
     "name": "stderr",
     "output_type": "stream",
     "text": [
      "Using TensorFlow backend.\n"
     ]
    },
    {
     "name": "stdout",
     "output_type": "stream",
     "text": [
      "Found 8010 images belonging to 2 classes.\n",
      "Found 2000 images belonging to 2 classes.\n"
     ]
    }
   ],
   "source": [
    "from keras.preprocessing.image import ImageDataGenerator\n",
    "\n",
    "it_train = ImageDataGenerator(rescale=1./255, shear_range=0.2, zoom_range=0.2, horizontal_flip=True)\n",
    "it_test = ImageDataGenerator(rescale=1./255)\n",
    "\n",
    "train = it_train.flow_from_directory('training_set', target_size=(64,64), batch_size=32, class_mode='binary')\n",
    "test = it_test.flow_from_directory('test_set', target_size=(64,64), batch_size=32, class_mode='binary')"
   ]
  },
  {
   "cell_type": "code",
   "execution_count": 3,
   "metadata": {},
   "outputs": [
    {
     "name": "stdout",
     "output_type": "stream",
     "text": [
      "WARNING:tensorflow:From <ipython-input-3-e92236242a12>:1: Model.fit_generator (from tensorflow.python.keras.engine.training) is deprecated and will be removed in a future version.\n",
      "Instructions for updating:\n",
      "Please use Model.fit, which supports generators.\n",
      "WARNING:tensorflow:sample_weight modes were coerced from\n",
      "  ...\n",
      "    to  \n",
      "  ['...']\n",
      "WARNING:tensorflow:sample_weight modes were coerced from\n",
      "  ...\n",
      "    to  \n",
      "  ['...']\n",
      "Train for 100 steps, validate for 10 steps\n",
      "Epoch 1/10\n",
      "100/100 [==============================] - 10s 100ms/step - loss: 0.7032 - accuracy: 0.5059 - val_loss: 0.6935 - val_accuracy: 0.5031\n",
      "Epoch 2/10\n",
      "100/100 [==============================] - 10s 100ms/step - loss: 0.6903 - accuracy: 0.5554 - val_loss: 0.6870 - val_accuracy: 0.5781\n",
      "Epoch 3/10\n",
      "100/100 [==============================] - 10s 101ms/step - loss: 0.6798 - accuracy: 0.5768 - val_loss: 0.6597 - val_accuracy: 0.6344\n",
      "Epoch 4/10\n",
      "100/100 [==============================] - 10s 102ms/step - loss: 0.6846 - accuracy: 0.5623 - val_loss: 0.6869 - val_accuracy: 0.5156\n",
      "Epoch 5/10\n",
      "100/100 [==============================] - 10s 102ms/step - loss: 0.6758 - accuracy: 0.5772 - val_loss: 0.6797 - val_accuracy: 0.5875\n",
      "Epoch 6/10\n",
      "100/100 [==============================] - 10s 97ms/step - loss: 0.6668 - accuracy: 0.5900 - val_loss: 0.6584 - val_accuracy: 0.6094\n",
      "Epoch 7/10\n",
      "100/100 [==============================] - 10s 98ms/step - loss: 0.6437 - accuracy: 0.6303 - val_loss: 0.6763 - val_accuracy: 0.5938\n",
      "Epoch 8/10\n",
      "100/100 [==============================] - 10s 98ms/step - loss: 0.6517 - accuracy: 0.6306 - val_loss: 0.6325 - val_accuracy: 0.6219\n",
      "Epoch 9/10\n",
      "100/100 [==============================] - 9s 93ms/step - loss: 0.6327 - accuracy: 0.6381 - val_loss: 0.6225 - val_accuracy: 0.6656\n",
      "Epoch 10/10\n",
      "100/100 [==============================] - 9s 91ms/step - loss: 0.6295 - accuracy: 0.6526 - val_loss: 0.5967 - val_accuracy: 0.7500\n"
     ]
    },
    {
     "data": {
      "text/plain": [
       "<tensorflow.python.keras.callbacks.History at 0x1985c526608>"
      ]
     },
     "execution_count": 3,
     "metadata": {},
     "output_type": "execute_result"
    }
   ],
   "source": [
    "model.fit_generator(train, steps_per_epoch=100, epochs=10, validation_data=test, validation_steps=10)"
   ]
  },
  {
   "cell_type": "code",
   "execution_count": 4,
   "metadata": {
    "colab": {},
    "colab_type": "code",
    "id": "IaARgIMQbUUu"
   },
   "outputs": [
    {
     "name": "stdout",
     "output_type": "stream",
     "text": [
      "dog\n"
     ]
    }
   ],
   "source": [
    "import numpy as np\n",
    "from keras.preprocessing import image\n",
    "\n",
    "test_image = image.load_img('single_prediction/cat_or_dog_1.jpg', target_size=(64,64))\n",
    "test_image = image.img_to_array(test_image)\n",
    "test_image = np.expand_dims(test_image, axis=0)\n",
    "result = model.predict(test_image)\n",
    "if result[0][0] == 1:\n",
    "    prediction = 'dog'\n",
    "else:\n",
    "    prediction = 'cat'    \n",
    "print(prediction)"
   ]
  },
  {
   "cell_type": "code",
   "execution_count": 5,
   "metadata": {},
   "outputs": [
    {
     "name": "stdout",
     "output_type": "stream",
     "text": [
      "cat\n"
     ]
    }
   ],
   "source": [
    "import numpy as np\n",
    "from keras.preprocessing import image\n",
    "\n",
    "test_image = image.load_img('single_prediction/cat_or_dog_2.jpg', target_size=(64,64))\n",
    "test_image = image.img_to_array(test_image)\n",
    "test_image = np.expand_dims(test_image, axis=0)\n",
    "result = model.predict(test_image)\n",
    "if result[0][0] == 1:\n",
    "    prediction = 'dog'\n",
    "else:\n",
    "    prediction = 'cat'    \n",
    "print(prediction)"
   ]
  },
  {
   "cell_type": "code",
   "execution_count": 6,
   "metadata": {},
   "outputs": [
    {
     "name": "stdout",
     "output_type": "stream",
     "text": [
      "dog\n"
     ]
    }
   ],
   "source": [
    "import numpy as np\n",
    "from keras.preprocessing import image\n",
    "\n",
    "test_image = image.load_img('single_prediction/kinton2.jpg', target_size=(64,64))\n",
    "test_image = image.img_to_array(test_image)\n",
    "test_image = np.expand_dims(test_image, axis=0)\n",
    "result = model.predict(test_image)\n",
    "if result[0][0] == 1:\n",
    "    prediction = 'dog'\n",
    "else:\n",
    "    prediction = 'cat'    \n",
    "print(prediction)"
   ]
  }
 ],
 "metadata": {
  "colab": {
   "authorship_tag": "ABX9TyOUFxbD9FVNTOf1oX9dbhB1",
   "name": "CatOrDog.ipynb",
   "provenance": []
  },
  "kernelspec": {
   "display_name": "Python 3",
   "language": "python",
   "name": "python3"
  },
  "language_info": {
   "codemirror_mode": {
    "name": "ipython",
    "version": 3
   },
   "file_extension": ".py",
   "mimetype": "text/x-python",
   "name": "python",
   "nbconvert_exporter": "python",
   "pygments_lexer": "ipython3",
   "version": "3.7.7"
  }
 },
 "nbformat": 4,
 "nbformat_minor": 4
}
