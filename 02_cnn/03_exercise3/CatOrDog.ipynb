{
 "cells": [
  {
   "cell_type": "markdown",
   "metadata": {
    "colab_type": "text",
    "id": "rjiNjkMBbYoN"
   },
   "source": [
    "# cat or dog?\n",
    "\n",
    "you will find cat and dog pictures in the folder where this notebook is located. please, create a CNN from scratch in order to be able to make a CNN that is able to differentiate a cat from a dog.\n",
    "\n",
    "Use image augmentation, and preprocessing, using keras methods, you will save a lot of time.\n",
    "\n",
    "\n",
    "1.   arquitecture your own model\n",
    "2.   use a pretrained model, but change it in order to fit your problem, and train only the last layers of the CNN network.\n",
    "https://www.learnopencv.com/keras-tutorial-fine-tuning-using-pre-trained-models/\n"
   ]
  },
  {
   "cell_type": "code",
   "execution_count": null,
   "metadata": {
    "colab": {},
    "colab_type": "code",
    "id": "IaARgIMQbUUu"
   },
   "outputs": [],
   "source": []
  }
 ],
 "metadata": {
  "colab": {
   "authorship_tag": "ABX9TyOUFxbD9FVNTOf1oX9dbhB1",
   "name": "CatOrDog.ipynb",
   "provenance": []
  },
  "kernelspec": {
   "display_name": "Python 3",
   "language": "python",
   "name": "python3"
  },
  "language_info": {
   "codemirror_mode": {
    "name": "ipython",
    "version": 3
   },
   "file_extension": ".py",
   "mimetype": "text/x-python",
   "name": "python",
   "nbconvert_exporter": "python",
   "pygments_lexer": "ipython3",
   "version": "3.7.7"
  }
 },
 "nbformat": 4,
 "nbformat_minor": 4
}
