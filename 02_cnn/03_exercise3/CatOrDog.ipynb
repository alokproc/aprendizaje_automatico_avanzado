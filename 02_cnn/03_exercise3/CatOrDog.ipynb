{
 "cells": [
  {
   "cell_type": "markdown",
   "metadata": {
    "colab_type": "text",
    "id": "rjiNjkMBbYoN"
   },
   "source": [
    "# cat or dog?\n",
    "\n",
    "you will find cat and dog pictures in the folder where this notebook is located. please, create a CNN from scratch in order to be able to make a CNN that is able to differentiate a cat from a dog.\n",
    "\n",
    "Use image augmentation, and preprocessing, using keras methods, you will save a lot of time.\n",
    "\n",
    "\n",
    "1.   arquitecture your own model"
   ]
  },
  {
   "cell_type": "code",
   "execution_count": 1,
   "metadata": {},
   "outputs": [],
   "source": [
    "from tensorflow.keras import models, layers\n",
    "\n",
    "model = models.Sequential([\n",
    "    layers.Conv2D(32, (5,5), input_shape=(64,64,3), activation='relu'),\n",
    "    layers.MaxPooling2D(pool_size = (2,2)),\n",
    "    layers.Dropout(0.2),\n",
    "    layers.Conv2D(64, (5,5), activation='relu'),\n",
    "    layers.MaxPooling2D(pool_size=(2,2)),\n",
    "    layers.Dropout(0.2),\n",
    "    layers.Conv2D(128, (5,5), activation='relu'),\n",
    "    layers.MaxPooling2D(pool_size=(2,2)),\n",
    "    layers.Dropout(0.2),\n",
    "    layers.Flatten(),\n",
    "    layers.Dense(units=128, activation='relu'),\n",
    "    layers.Dense(units=1, activation='sigmoid')\n",
    "])\n",
    "\n",
    "model.compile(optimizer='adam', loss='binary_crossentropy', metrics=['accuracy'])"
   ]
  },
  {
   "cell_type": "code",
   "execution_count": 2,
   "metadata": {},
   "outputs": [
    {
     "name": "stderr",
     "output_type": "stream",
     "text": [
      "Using TensorFlow backend.\n"
     ]
    },
    {
     "name": "stdout",
     "output_type": "stream",
     "text": [
      "Found 8010 images belonging to 2 classes.\n",
      "Found 2000 images belonging to 2 classes.\n"
     ]
    }
   ],
   "source": [
    "from keras.preprocessing.image import ImageDataGenerator\n",
    "\n",
    "it_train = ImageDataGenerator(rescale=1./255, shear_range=0.2, zoom_range=0.2, horizontal_flip=True)\n",
    "it_test = ImageDataGenerator(rescale=1./255)\n",
    "\n",
    "train = it_train.flow_from_directory('training_set', target_size=(64,64), batch_size=32, class_mode='binary')\n",
    "test = it_test.flow_from_directory('test_set', target_size=(64,64), batch_size=32, class_mode='binary')"
   ]
  },
  {
   "cell_type": "code",
   "execution_count": 3,
   "metadata": {},
   "outputs": [
    {
     "name": "stdout",
     "output_type": "stream",
     "text": [
      "WARNING:tensorflow:From <ipython-input-3-e92236242a12>:1: Model.fit_generator (from tensorflow.python.keras.engine.training) is deprecated and will be removed in a future version.\n",
      "Instructions for updating:\n",
      "Please use Model.fit, which supports generators.\n",
      "WARNING:tensorflow:sample_weight modes were coerced from\n",
      "  ...\n",
      "    to  \n",
      "  ['...']\n",
      "WARNING:tensorflow:sample_weight modes were coerced from\n",
      "  ...\n",
      "    to  \n",
      "  ['...']\n",
      "Train for 100 steps, validate for 10 steps\n",
      "Epoch 1/10\n",
      "100/100 [==============================] - 17s 170ms/step - loss: 0.6944 - accuracy: 0.5160 - val_loss: 0.6912 - val_accuracy: 0.5344\n",
      "Epoch 2/10\n",
      "100/100 [==============================] - 13s 132ms/step - loss: 0.6928 - accuracy: 0.5069 - val_loss: 0.6875 - val_accuracy: 0.5344\n",
      "Epoch 3/10\n",
      "100/100 [==============================] - 10s 105ms/step - loss: 0.6915 - accuracy: 0.5228 - val_loss: 0.6905 - val_accuracy: 0.5344\n",
      "Epoch 4/10\n",
      "100/100 [==============================] - 10s 101ms/step - loss: 0.6927 - accuracy: 0.5000 - val_loss: 0.6794 - val_accuracy: 0.5406\n",
      "Epoch 5/10\n",
      "100/100 [==============================] - 9s 90ms/step - loss: 0.6868 - accuracy: 0.5431 - val_loss: 0.6698 - val_accuracy: 0.5969\n",
      "Epoch 6/10\n",
      "100/100 [==============================] - 9s 89ms/step - loss: 0.6817 - accuracy: 0.5672 - val_loss: 0.6695 - val_accuracy: 0.5750\n",
      "Epoch 7/10\n",
      "100/100 [==============================] - 9s 92ms/step - loss: 0.6778 - accuracy: 0.5666 - val_loss: 0.6654 - val_accuracy: 0.5875\n",
      "Epoch 8/10\n",
      "100/100 [==============================] - 9s 88ms/step - loss: 0.6635 - accuracy: 0.5944 - val_loss: 0.6428 - val_accuracy: 0.6250\n",
      "Epoch 9/10\n",
      "100/100 [==============================] - 9s 88ms/step - loss: 0.6635 - accuracy: 0.6026 - val_loss: 0.6419 - val_accuracy: 0.6281\n",
      "Epoch 10/10\n",
      "100/100 [==============================] - 9s 88ms/step - loss: 0.6456 - accuracy: 0.6281 - val_loss: 0.6275 - val_accuracy: 0.6469\n"
     ]
    },
    {
     "data": {
      "text/plain": [
       "<tensorflow.python.keras.callbacks.History at 0x22f76884308>"
      ]
     },
     "execution_count": 3,
     "metadata": {},
     "output_type": "execute_result"
    }
   ],
   "source": [
    "model.fit_generator(train, steps_per_epoch=100, epochs=10, validation_data=test, validation_steps=10)"
   ]
  },
  {
   "cell_type": "code",
   "execution_count": 5,
   "metadata": {
    "colab": {},
    "colab_type": "code",
    "id": "IaARgIMQbUUu"
   },
   "outputs": [
    {
     "name": "stdout",
     "output_type": "stream",
     "text": [
      "single_prediction/cat_or_dog_1.jpg  is a  dog\n",
      "single_prediction/cat_or_dog_2.jpg  is a  cat\n",
      "single_prediction/kinton2.jpg  is a  dog\n"
     ]
    }
   ],
   "source": [
    "import numpy as np\n",
    "from keras.preprocessing import image\n",
    "\n",
    "def image_validator(image_url):\n",
    "    test_image = image.load_img(image_url, target_size=(64,64))\n",
    "    test_image = image.img_to_array(test_image)\n",
    "    test_image = np.expand_dims(test_image, axis=0)\n",
    "    result = model.predict(test_image)\n",
    "    if result[0][0] == 1:\n",
    "        prediction = 'dog'\n",
    "    else:\n",
    "        prediction = 'cat'    \n",
    "    print(image_url, ' is a ', prediction)\n",
    "    \n",
    "image_validator('single_prediction/cat_or_dog_1.jpg')\n",
    "image_validator('single_prediction/cat_or_dog_2.jpg')\n",
    "image_validator('single_prediction/kinton2.jpg')"
   ]
  },
  {
   "cell_type": "markdown",
   "metadata": {},
   "source": [
    "2.   use a pretrained model, but change it in order to fit your problem, and train only the last layers of the CNN network.\n",
    "https://www.learnopencv.com/keras-tutorial-fine-tuning-using-pre-trained-models/"
   ]
  },
  {
   "cell_type": "code",
   "execution_count": 6,
   "metadata": {},
   "outputs": [
    {
     "name": "stdout",
     "output_type": "stream",
     "text": [
      "Model: \"sequential_1\"\n",
      "_________________________________________________________________\n",
      "Layer (type)                 Output Shape              Param #   \n",
      "=================================================================\n",
      "vgg16 (Model)                (None, 2, 2, 512)         14714688  \n",
      "_________________________________________________________________\n",
      "flatten_1 (Flatten)          (None, 2048)              0         \n",
      "_________________________________________________________________\n",
      "dense_2 (Dense)              (None, 128)               262272    \n",
      "_________________________________________________________________\n",
      "dense_3 (Dense)              (None, 1)                 129       \n",
      "=================================================================\n",
      "Total params: 14,977,089\n",
      "Trainable params: 14,977,089\n",
      "Non-trainable params: 0\n",
      "_________________________________________________________________\n"
     ]
    }
   ],
   "source": [
    "from tensorflow.keras.applications import vgg16\n",
    "from tensorflow.keras import models, layers\n",
    "\n",
    "base_model = vgg16.VGG16(weights='imagenet', include_top=False, input_shape=(64,64,3))\n",
    "\n",
    "model = models.Sequential([\n",
    "    base_model,\n",
    "    layers.Flatten(input_shape=base_model.output_shape[1:]),\n",
    "    layers.Dense(128, activation='relu'),\n",
    "    layers.Dense(1, activation='sigmoid') # hay 10 clases posibles\n",
    "])\n",
    "\n",
    "model.compile(optimizer='adam', loss='binary_crossentropy', metrics=['accuracy'])\n",
    "\n",
    "model.summary()"
   ]
  },
  {
   "cell_type": "code",
   "execution_count": 7,
   "metadata": {},
   "outputs": [
    {
     "name": "stdout",
     "output_type": "stream",
     "text": [
      "WARNING:tensorflow:sample_weight modes were coerced from\n",
      "  ...\n",
      "    to  \n",
      "  ['...']\n",
      "WARNING:tensorflow:sample_weight modes were coerced from\n",
      "  ...\n",
      "    to  \n",
      "  ['...']\n",
      "Train for 100 steps, validate for 10 steps\n",
      "Epoch 1/10\n",
      "100/100 [==============================] - 10s 99ms/step - loss: 0.8163 - accuracy: 0.5009 - val_loss: 0.7163 - val_accuracy: 0.4656\n",
      "Epoch 2/10\n",
      "100/100 [==============================] - 9s 88ms/step - loss: 0.6951 - accuracy: 0.5044 - val_loss: 0.6912 - val_accuracy: 0.5344\n",
      "Epoch 3/10\n",
      "100/100 [==============================] - 9s 87ms/step - loss: 0.6958 - accuracy: 0.4874 - val_loss: 0.6925 - val_accuracy: 0.5344\n",
      "Epoch 4/10\n",
      "100/100 [==============================] - 9s 89ms/step - loss: 0.6946 - accuracy: 0.4956 - val_loss: 0.6929 - val_accuracy: 0.5344\n",
      "Epoch 5/10\n",
      "100/100 [==============================] - 9s 88ms/step - loss: 0.6933 - accuracy: 0.4931 - val_loss: 0.6929 - val_accuracy: 0.5344\n",
      "Epoch 6/10\n",
      "100/100 [==============================] - 9s 88ms/step - loss: 0.6930 - accuracy: 0.5128 - val_loss: 0.6923 - val_accuracy: 0.5344\n",
      "Epoch 7/10\n",
      "100/100 [==============================] - 9s 87ms/step - loss: 0.6931 - accuracy: 0.5057 - val_loss: 0.6924 - val_accuracy: 0.5344\n",
      "Epoch 8/10\n",
      "100/100 [==============================] - 9s 88ms/step - loss: 0.6933 - accuracy: 0.4950 - val_loss: 0.6928 - val_accuracy: 0.5344\n",
      "Epoch 9/10\n",
      "100/100 [==============================] - 9s 89ms/step - loss: 0.6932 - accuracy: 0.5038 - val_loss: 0.6928 - val_accuracy: 0.5344\n",
      "Epoch 10/10\n",
      "100/100 [==============================] - 9s 88ms/step - loss: 0.6933 - accuracy: 0.4816 - val_loss: 0.6930 - val_accuracy: 0.5344\n"
     ]
    },
    {
     "data": {
      "text/plain": [
       "<tensorflow.python.keras.callbacks.History at 0x230d8b95348>"
      ]
     },
     "execution_count": 7,
     "metadata": {},
     "output_type": "execute_result"
    }
   ],
   "source": [
    "model.fit_generator(train, steps_per_epoch=100, epochs=10, validation_data=test, validation_steps=10)"
   ]
  },
  {
   "cell_type": "code",
   "execution_count": 8,
   "metadata": {},
   "outputs": [
    {
     "name": "stdout",
     "output_type": "stream",
     "text": [
      "single_prediction/cat_or_dog_1.jpg  is a  cat\n",
      "single_prediction/cat_or_dog_2.jpg  is a  cat\n",
      "single_prediction/kinton2.jpg  is a  cat\n"
     ]
    }
   ],
   "source": [
    "import numpy as np\n",
    "from keras.preprocessing import image\n",
    "\n",
    "def image_validator(image_url):\n",
    "    test_image = image.load_img(image_url, target_size=(64,64))\n",
    "    test_image = image.img_to_array(test_image)\n",
    "    test_image = np.expand_dims(test_image, axis=0)\n",
    "    result = model.predict(test_image)\n",
    "    if result[0][0] == 1:\n",
    "        prediction = 'dog'\n",
    "    else:\n",
    "        prediction = 'cat'    \n",
    "    print(image_url, ' is a ', prediction)\n",
    "    \n",
    "image_validator('single_prediction/cat_or_dog_1.jpg')\n",
    "image_validator('single_prediction/cat_or_dog_2.jpg')\n",
    "image_validator('single_prediction/kinton2.jpg')"
   ]
  }
 ],
 "metadata": {
  "colab": {
   "authorship_tag": "ABX9TyOUFxbD9FVNTOf1oX9dbhB1",
   "name": "CatOrDog.ipynb",
   "provenance": []
  },
  "kernelspec": {
   "display_name": "Python 3",
   "language": "python",
   "name": "python3"
  },
  "language_info": {
   "codemirror_mode": {
    "name": "ipython",
    "version": 3
   },
   "file_extension": ".py",
   "mimetype": "text/x-python",
   "name": "python",
   "nbconvert_exporter": "python",
   "pygments_lexer": "ipython3",
   "version": "3.7.7"
  }
 },
 "nbformat": 4,
 "nbformat_minor": 4
}
