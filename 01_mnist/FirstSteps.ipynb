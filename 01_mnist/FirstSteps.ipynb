{
 "cells": [
  {
   "cell_type": "markdown",
   "metadata": {
    "colab_type": "text",
    "id": "l508vsuXa84g"
   },
   "source": [
    "# First models"
   ]
  },
  {
   "cell_type": "markdown",
   "metadata": {
    "colab_type": "text",
    "id": "QhfaWqjga84p"
   },
   "source": [
    "## Data Preparation"
   ]
  },
  {
   "cell_type": "markdown",
   "metadata": {
    "colab_type": "text",
    "id": "cNG6EVhSa84u"
   },
   "source": [
    "The first step of all modeling is the preparation and loading of the data. In our case, the MNIST problem, which consists of a large database of written digits and is so common that it has become a paradigmatic example within Machine Learning.\n",
    "\n",
    "The pre-processing work required to be able to apply a model to this problem is not minor but, fortunately, Keras provides a direct instruction to download the images representing the thousands of handwritten digits (already with a unified format of 28x28 pixels in grayscale).\n",
    "\n",
    "In order to load the data that Keras brings as an example, you have to follow two steps: first, load the Keras library that provides the tools to work with the specific dataset (which is usually in the package keras.datasets, in this case called mnist); and, second, execute the process of loading the data (the library provides the function load_data()). It must be taken into account that the first time this process is carried out, the data is downloaded from a repository that comes by default predefined in that package, since, due to its size, it is not installed together with the library, but only when the user needs it:"
   ]
  },
  {
   "cell_type": "code",
   "execution_count": 1,
   "metadata": {
    "colab": {},
    "colab_type": "code",
    "id": "ZqSfLO6Ga84x"
   },
   "outputs": [],
   "source": [
    "from tensorflow.keras.datasets import mnist\n",
    "\n",
    "(train_data, train_labels), (test_data, test_labels) = mnist.load_data()"
   ]
  },
  {
   "cell_type": "markdown",
   "metadata": {
    "colab_type": "text",
    "id": "HsJzcWVva85A"
   },
   "source": [
    "We can explore a bit how each of these variables are by using specific Python instructions that give us information about their structure and show the first values:\n"
   ]
  },
  {
   "cell_type": "code",
   "execution_count": 2,
   "metadata": {
    "colab": {
     "base_uri": "https://localhost:8080/",
     "height": 34
    },
    "colab_type": "code",
    "executionInfo": {
     "elapsed": 704,
     "status": "ok",
     "timestamp": 1584901981396,
     "user": {
      "displayName": "Ekhi Zugasti Uriguen",
      "photoUrl": "https://lh3.googleusercontent.com/a-/AOh14GjLW21F9JMtJwfUDFcY2ROtJC3l1QPlGpvoN9Qy=s64",
      "userId": "00195558535022081217"
     },
     "user_tz": -60
    },
    "id": "iO-_m7ara85D",
    "outputId": "7c79e741-94be-4948-c28e-875f824971e5"
   },
   "outputs": [
    {
     "data": {
      "text/plain": [
       "(60000, 28, 28)"
      ]
     },
     "execution_count": 2,
     "metadata": {},
     "output_type": "execute_result"
    }
   ],
   "source": [
    "train_data.shape"
   ]
  },
  {
   "cell_type": "code",
   "execution_count": 3,
   "metadata": {
    "colab": {
     "base_uri": "https://localhost:8080/",
     "height": 34
    },
    "colab_type": "code",
    "executionInfo": {
     "elapsed": 621,
     "status": "ok",
     "timestamp": 1584901983497,
     "user": {
      "displayName": "Ekhi Zugasti Uriguen",
      "photoUrl": "https://lh3.googleusercontent.com/a-/AOh14GjLW21F9JMtJwfUDFcY2ROtJC3l1QPlGpvoN9Qy=s64",
      "userId": "00195558535022081217"
     },
     "user_tz": -60
    },
    "id": "4tmn854da85M",
    "outputId": "372dba4b-e5a5-4565-c646-e688db001e15"
   },
   "outputs": [
    {
     "data": {
      "text/plain": [
       "60000"
      ]
     },
     "execution_count": 3,
     "metadata": {},
     "output_type": "execute_result"
    }
   ],
   "source": [
    "len(train_labels)"
   ]
  },
  {
   "cell_type": "code",
   "execution_count": 4,
   "metadata": {
    "colab": {
     "base_uri": "https://localhost:8080/",
     "height": 34
    },
    "colab_type": "code",
    "executionInfo": {
     "elapsed": 593,
     "status": "ok",
     "timestamp": 1584901986607,
     "user": {
      "displayName": "Ekhi Zugasti Uriguen",
      "photoUrl": "https://lh3.googleusercontent.com/a-/AOh14GjLW21F9JMtJwfUDFcY2ROtJC3l1QPlGpvoN9Qy=s64",
      "userId": "00195558535022081217"
     },
     "user_tz": -60
    },
    "id": "47unI6QLa85T",
    "outputId": "0b196741-ca4c-4fdd-a5b5-6027fdd196cc"
   },
   "outputs": [
    {
     "data": {
      "text/plain": [
       "array([5, 0, 4, ..., 5, 6, 8], dtype=uint8)"
      ]
     },
     "execution_count": 4,
     "metadata": {},
     "output_type": "execute_result"
    }
   ],
   "source": [
    "train_labels"
   ]
  },
  {
   "cell_type": "code",
   "execution_count": 5,
   "metadata": {
    "colab": {
     "base_uri": "https://localhost:8080/",
     "height": 34
    },
    "colab_type": "code",
    "executionInfo": {
     "elapsed": 592,
     "status": "ok",
     "timestamp": 1584901989418,
     "user": {
      "displayName": "Ekhi Zugasti Uriguen",
      "photoUrl": "https://lh3.googleusercontent.com/a-/AOh14GjLW21F9JMtJwfUDFcY2ROtJC3l1QPlGpvoN9Qy=s64",
      "userId": "00195558535022081217"
     },
     "user_tz": -60
    },
    "id": "Srz8GaNxa85b",
    "outputId": "76f8e877-063b-4af6-e1e8-5cd555a344d5"
   },
   "outputs": [
    {
     "data": {
      "text/plain": [
       "(10000, 28, 28)"
      ]
     },
     "execution_count": 5,
     "metadata": {},
     "output_type": "execute_result"
    }
   ],
   "source": [
    "test_data.shape"
   ]
  },
  {
   "cell_type": "code",
   "execution_count": 6,
   "metadata": {
    "colab": {
     "base_uri": "https://localhost:8080/",
     "height": 34
    },
    "colab_type": "code",
    "executionInfo": {
     "elapsed": 562,
     "status": "ok",
     "timestamp": 1584901993555,
     "user": {
      "displayName": "Ekhi Zugasti Uriguen",
      "photoUrl": "https://lh3.googleusercontent.com/a-/AOh14GjLW21F9JMtJwfUDFcY2ROtJC3l1QPlGpvoN9Qy=s64",
      "userId": "00195558535022081217"
     },
     "user_tz": -60
    },
    "id": "xS4rJQc3a85h",
    "outputId": "893db52a-18d5-4131-a30d-dfdf067bdf22"
   },
   "outputs": [
    {
     "data": {
      "text/plain": [
       "10000"
      ]
     },
     "execution_count": 6,
     "metadata": {},
     "output_type": "execute_result"
    }
   ],
   "source": [
    "len(test_labels)"
   ]
  },
  {
   "cell_type": "code",
   "execution_count": 7,
   "metadata": {
    "colab": {
     "base_uri": "https://localhost:8080/",
     "height": 34
    },
    "colab_type": "code",
    "executionInfo": {
     "elapsed": 589,
     "status": "ok",
     "timestamp": 1584901995479,
     "user": {
      "displayName": "Ekhi Zugasti Uriguen",
      "photoUrl": "https://lh3.googleusercontent.com/a-/AOh14GjLW21F9JMtJwfUDFcY2ROtJC3l1QPlGpvoN9Qy=s64",
      "userId": "00195558535022081217"
     },
     "user_tz": -60
    },
    "id": "DhHdqCYka85n",
    "outputId": "40771617-9837-456e-da26-19fcebabbcf1"
   },
   "outputs": [
    {
     "data": {
      "text/plain": [
       "array([7, 2, 1, ..., 4, 5, 6], dtype=uint8)"
      ]
     },
     "execution_count": 7,
     "metadata": {},
     "output_type": "execute_result"
    }
   ],
   "source": [
    "test_labels"
   ]
  },
  {
   "cell_type": "markdown",
   "metadata": {
    "colab_type": "text",
    "id": "1hUacjDOa85u"
   },
   "source": [
    "If we want to see some of the images in the dataset, we can make use of the appropriate instruction from, for example, the matplotlib library:"
   ]
  },
  {
   "cell_type": "code",
   "execution_count": 8,
   "metadata": {
    "colab": {
     "base_uri": "https://localhost:8080/",
     "height": 282
    },
    "colab_type": "code",
    "executionInfo": {
     "elapsed": 608,
     "status": "ok",
     "timestamp": 1584902120547,
     "user": {
      "displayName": "Ekhi Zugasti Uriguen",
      "photoUrl": "https://lh3.googleusercontent.com/a-/AOh14GjLW21F9JMtJwfUDFcY2ROtJC3l1QPlGpvoN9Qy=s64",
      "userId": "00195558535022081217"
     },
     "user_tz": -60
    },
    "id": "lLpxIH2Ka85v",
    "outputId": "9f3b7c37-4178-4c07-d1d8-3104b5cf5b09"
   },
   "outputs": [
    {
     "data": {
      "text/plain": [
       "<matplotlib.image.AxesImage at 0x29d5bf99d08>"
      ]
     },
     "execution_count": 8,
     "metadata": {},
     "output_type": "execute_result"
    },
    {
     "data": {
      "image/png": "[encoded data removed]",
      "text/plain": [
       "<Figure size 432x288 with 1 Axes>"
      ]
     },
     "metadata": {
      "needs_background": "light"
     },
     "output_type": "display_data"
    }
   ],
   "source": [
    "from matplotlib import pyplot as plt\n",
    "\n",
    "plt.imshow(test_data[0],cmap='gray')\n"
   ]
  },
  {
   "cell_type": "markdown",
   "metadata": {
    "colab_type": "text",
    "id": "d4v_QzUWa852"
   },
   "source": [
    "The workflow is similar to the one that is always followed in the Supervised ML processes, and which we have analyzed in the previous term:\n",
    "- We show the model (a neural network, in our case) the training data, train_data and train_labels.\n",
    "- The model must learn to associate the images with the associated labels.\n",
    "- Finally, we verify the learning done by checking on test_data that the answers given by the model (predictions) coincide with those stored in test_labels.\n",
    "\n"
   ]
  },
  {
   "cell_type": "markdown",
   "metadata": {
    "colab_type": "text",
    "id": "kaXYVWn_a853"
   },
   "source": [
    "## Model Definition"
   ]
  },
  {
   "cell_type": "markdown",
   "metadata": {
    "colab_type": "text",
    "id": "IskhkxDGa855"
   },
   "source": [
    "We are already in a position to define a neural network that will consume the above data to see if we are able to provide a first solution to the problem of handwritten digit recognition. As we are only making a first approximation to Keras, the defined network will be very basic, with only one input and one output layer:\n",
    "- We are going to place an input layer with 784 (= 28 * 28) neurons (which will receive each of the 784 pixels of each image), with ReLU activation function, and\n",
    "- an output layer with 10 neurons (one neuron for each of the possible output labels), and with softmax activation (so it can be interpreted as an output probability that indicates how likely it is that the input image will have each of the labels as output):\n",
    "\n"
   ]
  },
  {
   "cell_type": "code",
   "execution_count": 9,
   "metadata": {
    "colab": {
     "base_uri": "https://localhost:8080/",
     "height": 278
    },
    "colab_type": "code",
    "executionInfo": {
     "elapsed": 628,
     "status": "ok",
     "timestamp": 1584902432535,
     "user": {
      "displayName": "Ekhi Zugasti Uriguen",
      "photoUrl": "https://lh3.googleusercontent.com/a-/AOh14GjLW21F9JMtJwfUDFcY2ROtJC3l1QPlGpvoN9Qy=s64",
      "userId": "00195558535022081217"
     },
     "user_tz": -60
    },
    "id": "5WE2S6VDa858",
    "outputId": "5d0f3fa8-8762-4485-aaf8-d3aa7afda308"
   },
   "outputs": [
    {
     "name": "stdout",
     "output_type": "stream",
     "text": [
      "Model: \"sequential\"\n",
      "_________________________________________________________________\n",
      "Layer (type)                 Output Shape              Param #   \n",
      "=================================================================\n",
      "dense (Dense)                (None, 512)               401920    \n",
      "_________________________________________________________________\n",
      "dense_1 (Dense)              (None, 10)                5130      \n",
      "=================================================================\n",
      "Total params: 407,050\n",
      "Trainable params: 407,050\n",
      "Non-trainable params: 0\n",
      "_________________________________________________________________\n"
     ]
    }
   ],
   "source": [
    "from tensorflow.keras import models\n",
    "from tensorflow.keras import layers\n",
    "from tensorflow.keras.utils import plot_model\n",
    "\n",
    "nn = models.Sequential([\n",
    "    layers.Dense(512, activation='relu', input_shape=(28 * 28,)),\n",
    "    layers.Dense(10, activation='softmax')\n",
    "])\n",
    "nn.summary()"
   ]
  },
  {
   "cell_type": "code",
   "execution_count": 10,
   "metadata": {
    "colab": {
     "base_uri": "https://localhost:8080/",
     "height": 312
    },
    "colab_type": "code",
    "executionInfo": {
     "elapsed": 647,
     "status": "ok",
     "timestamp": 1584902438951,
     "user": {
      "displayName": "Ekhi Zugasti Uriguen",
      "photoUrl": "https://lh3.googleusercontent.com/a-/AOh14GjLW21F9JMtJwfUDFcY2ROtJC3l1QPlGpvoN9Qy=s64",
      "userId": "00195558535022081217"
     },
     "user_tz": -60
    },
    "id": "RtPMsoe7iyhV",
    "outputId": "d5858b8b-3191-4617-8052-c500f01070cd"
   },
   "outputs": [
    {
     "name": "stdout",
     "output_type": "stream",
     "text": [
      "Failed to import pydot. You must install pydot and graphviz for `pydotprint` to work.\n"
     ]
    }
   ],
   "source": [
    "plot_model(nn, to_file='model_plot.png', show_shapes=True, show_layer_names=True)"
   ]
  },
  {
   "cell_type": "markdown",
   "metadata": {
    "colab_type": "text",
    "id": "jiOvsbPRa86C"
   },
   "source": [
    "In addition to neurons, which are the atomic units that make up a neural network, from a functional point of view, the basic element of neural networks is what is known as a layer, a processing module formed by a set of equal neurons that can be interpreted as a \"filter\" of data.\n",
    "\n",
    "Most of Deep Learning, and where it is demonstrating an added value with respect to the other existing ML models, consists of concatenating simple layers (and, possibly, with specific differentiated functionalities) to obtain a computing device that processes data progressively.\n",
    "\n",
    "In the case of the network we have defined, this device consists of a sequence of two dense layers, which are totally connected neural layers. The second (and last) layer is a \"softmax\" layer of 10 outputs, which means that it will return a probability vector of 10 values (i.e. 10 values in [0, 1] that add up to 1). Each of these values will interpret the probability that the current image belongs to one of the 10 classes (the digits from 0 to 9)."
   ]
  },
  {
   "cell_type": "markdown",
   "metadata": {
    "colab_type": "text",
    "id": "_ze7fz5Ca86E"
   },
   "source": [
    "So far we have only defined the structure of the network, but we have not given any information about how the training will be carried out. To do this we have to tell Keras some additional features, such as the optimizer that will allow us to modify the weights of the net, which target (error) function will be used to drive this optimization, and the metrics that we will use to measure how the net behaves as it is trained.\n",
    "\n",
    "Keras provides the compile function that allows you to set these (and other) properties on an already defined network:\n"
   ]
  },
  {
   "cell_type": "code",
   "execution_count": 11,
   "metadata": {
    "colab": {},
    "colab_type": "code",
    "id": "38nJaSA8a86G"
   },
   "outputs": [],
   "source": [
    "nn.compile(optimizer='rmsprop',\n",
    "            loss='categorical_crossentropy',\n",
    "            metrics=['accuracy'])"
   ]
  },
  {
   "cell_type": "markdown",
   "metadata": {
    "colab_type": "text",
    "id": "s9ADyVoma86M"
   },
   "source": [
    "Since the neural network we are going to use must receive as input data each image in a flattened form (i.e. not as a 28x28 matrix, but as a 28x28=784 position vector), our first step is to make use of the instructions provided by Keras to transform the form of the input data.\n",
    "\n",
    "In addition, we will take advantage to normalize the content of these images (they are in grayscales with uint8 values between 0 and 255, and we will pass them to float32 values in [0, 1]), something advisable when working with this type of models:"
   ]
  },
  {
   "cell_type": "code",
   "execution_count": 12,
   "metadata": {
    "colab": {},
    "colab_type": "code",
    "id": "EJ-nOdCza86N"
   },
   "outputs": [],
   "source": [
    "train_data = train_data.reshape((60000, 28 * 28))\n",
    "train_data = train_data.astype('float32') / 255\n",
    "\n",
    "test_data = test_data.reshape((10000, 28 * 28))\n",
    "test_data = test_data.astype('float32') / 255"
   ]
  },
  {
   "cell_type": "markdown",
   "metadata": {
    "colab_type": "text",
    "id": "9Bgz_zzda86V"
   },
   "source": [
    "In addition, we will convert the tags (which come in the dataset as integer values), into binary vectors to correspond to the output that our network can provide:\n"
   ]
  },
  {
   "cell_type": "code",
   "execution_count": 13,
   "metadata": {
    "colab": {},
    "colab_type": "code",
    "id": "a4qLTiD9a86X"
   },
   "outputs": [],
   "source": [
    "from tensorflow.keras.utils import plot_model, to_categorical\n",
    "\n",
    "train_labels = to_categorical(train_labels)\n",
    "test_labels = to_categorical(test_labels)"
   ]
  },
  {
   "cell_type": "code",
   "execution_count": 14,
   "metadata": {
    "colab": {
     "base_uri": "https://localhost:8080/",
     "height": 34
    },
    "colab_type": "code",
    "executionInfo": {
     "elapsed": 598,
     "status": "ok",
     "timestamp": 1584902682735,
     "user": {
      "displayName": "Ekhi Zugasti Uriguen",
      "photoUrl": "https://lh3.googleusercontent.com/a-/AOh14GjLW21F9JMtJwfUDFcY2ROtJC3l1QPlGpvoN9Qy=s64",
      "userId": "00195558535022081217"
     },
     "user_tz": -60
    },
    "id": "Osi9d4etj44Q",
    "outputId": "e34f5743-30e8-470e-acb8-e907bfa838d2"
   },
   "outputs": [
    {
     "data": {
      "text/plain": [
       "array([0., 0., 0., 0., 0., 1., 0., 0., 0., 0.], dtype=float32)"
      ]
     },
     "execution_count": 14,
     "metadata": {},
     "output_type": "execute_result"
    }
   ],
   "source": [
    "train_labels[0]"
   ]
  },
  {
   "cell_type": "markdown",
   "metadata": {
    "colab_type": "text",
    "id": "WbVqLhywa86d"
   },
   "source": [
    "## Fitting"
   ]
  },
  {
   "cell_type": "markdown",
   "metadata": {
    "colab_type": "text",
    "id": "0naR8BDaa86e"
   },
   "source": [
    "Once the data is prepared and the network is defined (structure and functionality), we can make use of the fit instruction to start the training process on the data we have. Essentially, we have to indicate on which data to train (input and output), how many iterations (epochs) and with which batch size (how often the algorithm updates the weights).\n",
    "\n",
    "During the training process, Keras informs about the values that the objective function takes, as well as the metric/s that we have set in the compilation."
   ]
  },
  {
   "cell_type": "code",
   "execution_count": 15,
   "metadata": {
    "colab": {
     "base_uri": "https://localhost:8080/",
     "height": 225
    },
    "colab_type": "code",
    "executionInfo": {
     "elapsed": 22610,
     "status": "ok",
     "timestamp": 1584902786853,
     "user": {
      "displayName": "Ekhi Zugasti Uriguen",
      "photoUrl": "https://lh3.googleusercontent.com/a-/AOh14GjLW21F9JMtJwfUDFcY2ROtJC3l1QPlGpvoN9Qy=s64",
      "userId": "00195558535022081217"
     },
     "user_tz": -60
    },
    "id": "0EZh-z1pa86g",
    "outputId": "d1561f80-d484-4f6d-a998-568f42e5e5c2"
   },
   "outputs": [
    {
     "name": "stdout",
     "output_type": "stream",
     "text": [
      "Train on 60000 samples\n",
      "Epoch 1/5\n",
      "60000/60000 [==============================] - 2s 26us/sample - loss: 0.2590 - accuracy: 0.9255\n",
      "Epoch 2/5\n",
      "60000/60000 [==============================] - 1s 17us/sample - loss: 0.1041 - accuracy: 0.9696\n",
      "Epoch 3/5\n",
      "60000/60000 [==============================] - 1s 16us/sample - loss: 0.0687 - accuracy: 0.9792\n",
      "Epoch 4/5\n",
      "60000/60000 [==============================] - 1s 16us/sample - loss: 0.0504 - accuracy: 0.9853\n",
      "Epoch 5/5\n",
      "60000/60000 [==============================] - 1s 17us/sample - loss: 0.0377 - accuracy: 0.9890\n"
     ]
    },
    {
     "data": {
      "text/plain": [
       "<tensorflow.python.keras.callbacks.History at 0x29d570d02c8>"
      ]
     },
     "execution_count": 15,
     "metadata": {},
     "output_type": "execute_result"
    }
   ],
   "source": [
    "nn.fit(train_data, train_labels, epochs=5, batch_size=128)"
   ]
  },
  {
   "cell_type": "markdown",
   "metadata": {
    "colab_type": "text",
    "id": "ErFbIAyPa86l"
   },
   "source": [
    "We must keep in mind that the values shown are the error and metrics calculated on the training data itself. However, since the goal of a learning model is to generalize well on data that the training process has not seen before, we need the test set to evaluate how the network behaves on examples it has not used to fit.\n",
    "\n",
    "On the training data we quickly reach an accuracy of 0.989 (i.e. 98.9%), but let's see how well it behaves on the test data (that it has not used to learn):\n"
   ]
  },
  {
   "cell_type": "code",
   "execution_count": 16,
   "metadata": {
    "colab": {
     "base_uri": "https://localhost:8080/",
     "height": 34
    },
    "colab_type": "code",
    "executionInfo": {
     "elapsed": 1015,
     "status": "ok",
     "timestamp": 1584902827805,
     "user": {
      "displayName": "Ekhi Zugasti Uriguen",
      "photoUrl": "https://lh3.googleusercontent.com/a-/AOh14GjLW21F9JMtJwfUDFcY2ROtJC3l1QPlGpvoN9Qy=s64",
      "userId": "00195558535022081217"
     },
     "user_tz": -60
    },
    "id": "Y5IbPigHa86n",
    "outputId": "35ba8318-3d04-42a7-b46a-89218d4ba5c5"
   },
   "outputs": [
    {
     "name": "stdout",
     "output_type": "stream",
     "text": [
      "10000/10000 [==============================] - 1s 53us/sample - loss: 0.0692 - accuracy: 0.9798\n"
     ]
    }
   ],
   "source": [
    "test_loss, test_acc = nn.evaluate(test_data, test_labels)"
   ]
  },
  {
   "cell_type": "code",
   "execution_count": 17,
   "metadata": {
    "colab": {
     "base_uri": "https://localhost:8080/",
     "height": 34
    },
    "colab_type": "code",
    "executionInfo": {
     "elapsed": 646,
     "status": "ok",
     "timestamp": 1584902835242,
     "user": {
      "displayName": "Ekhi Zugasti Uriguen",
      "photoUrl": "https://lh3.googleusercontent.com/a-/AOh14GjLW21F9JMtJwfUDFcY2ROtJC3l1QPlGpvoN9Qy=s64",
      "userId": "00195558535022081217"
     },
     "user_tz": -60
    },
    "id": "sCvxZqW_a86s",
    "outputId": "1c8674aa-792d-48f2-88c6-d8c220209e3c"
   },
   "outputs": [
    {
     "name": "stdout",
     "output_type": "stream",
     "text": [
      "test_acc: 0.9798\n"
     ]
    }
   ],
   "source": [
    "print('test_acc:', test_acc)"
   ]
  },
  {
   "cell_type": "markdown",
   "metadata": {
    "colab_type": "text",
    "id": "c5mg3dCrqEyp"
   },
   "source": [
    "# Mini Exercise\n",
    "\n",
    "use the Image that you can find in the drive, and make a prediction with it."
   ]
  },
  {
   "cell_type": "code",
   "execution_count": 18,
   "metadata": {},
   "outputs": [
    {
     "data": {
      "text/plain": [
       "<matplotlib.image.AxesImage at 0x29d59d7f1c8>"
      ]
     },
     "execution_count": 18,
     "metadata": {},
     "output_type": "execute_result"
    },
    {
     "data": {
      "image/png": "[encoded data removed]",
      "text/plain": [
       "<Figure size 432x288 with 1 Axes>"
      ]
     },
     "metadata": {
      "needs_background": "light"
     },
     "output_type": "display_data"
    }
   ],
   "source": [
    "import cv2\n",
    "\n",
    "mnist_ekhi = cv2.imread(\"mnist-ekhi.png\", cv2.IMREAD_GRAYSCALE)\n",
    "plt.imshow(mnist_ekhi, cmap=\"gray\")"
   ]
  },
  {
   "cell_type": "code",
   "execution_count": 19,
   "metadata": {},
   "outputs": [
    {
     "name": "stdout",
     "output_type": "stream",
     "text": [
      "(784,)\n"
     ]
    },
    {
     "data": {
      "text/plain": [
       "array([[7.6514309e-14, 1.5872478e-10, 9.4989133e-01, 5.0108720e-02,\n",
       "        5.0894042e-25, 4.5168171e-08, 3.2252039e-16, 4.2247995e-20,\n",
       "        1.6243251e-09, 4.3987562e-16]], dtype=float32)"
      ]
     },
     "execution_count": 19,
     "metadata": {},
     "output_type": "execute_result"
    }
   ],
   "source": [
    "import numpy as np\n",
    "\n",
    "mnist_ekhi = np.concatenate(mnist_ekhi).astype('float32') / 255\n",
    "print(mnist_ekhi.shape)\n",
    "pred = nn.predict(np.array([mnist_ekhi,]))\n",
    "pred"
   ]
  },
  {
   "cell_type": "markdown",
   "metadata": {
    "colab_type": "text",
    "id": "ba1iW_OTkq5I"
   },
   "source": [
    "## Exercise\n"
   ]
  },
  {
   "cell_type": "markdown",
   "metadata": {
    "colab_type": "text",
    "id": "_6aJG0hckzmG"
   },
   "source": [
    "\n",
    "\n",
    "This example has was not created taking into account the general ML workflow that was explained in class. We have a model that has statistical power. so, following the universal ml workflow:\n",
    "1. defining the problem and assembling a dataset (done)\n",
    "2. choose a measure of success (done, but can be changed)\n",
    "3. Deciding on an evaluation protocol (done, but can be changed)\n",
    "4. preparing your data (done)\n",
    "5. Developing first model (done)\n",
    "6. scaling up (not done)\n",
    "7. regularizing the model (not done)\n",
    "8. tuning hyperparameters (not done) (use GridSearchCV)\n",
    "\n",
    "\n",
    "> https://machinelearningmastery.com/grid-search-hyperparameters-deep-learning-models-python-keras/\n",
    "\n",
    "\n",
    "9. validating the model (done, but must be re-done)\n",
    "\n",
    "Please, finalize the ML workflow in order to match the universal ML workflow."
   ]
  },
  {
   "cell_type": "markdown",
   "metadata": {},
   "source": [
    "### 6. Scaling up"
   ]
  },
  {
   "cell_type": "code",
   "execution_count": 22,
   "metadata": {},
   "outputs": [
    {
     "name": "stdout",
     "output_type": "stream",
     "text": [
      "Train on 60000 samples\n",
      "Epoch 1/5\n",
      "60000/60000 [==============================] - 1s 21us/sample - loss: 0.8128 - accuracy: 0.7642\n",
      "Epoch 2/5\n",
      "60000/60000 [==============================] - 1s 17us/sample - loss: 0.3524 - accuracy: 0.8989\n",
      "Epoch 3/5\n",
      "60000/60000 [==============================] - 1s 17us/sample - loss: 0.3024 - accuracy: 0.9132\n",
      "Epoch 4/5\n",
      "60000/60000 [==============================] - 1s 17us/sample - loss: 0.2795 - accuracy: 0.9197\n",
      "Epoch 5/5\n",
      "60000/60000 [==============================] - 1s 16us/sample - loss: 0.2652 - accuracy: 0.9237\n",
      "test_acc: 0.9798\n"
     ]
    }
   ],
   "source": [
    "# double the hidden layer neurons\n",
    "nn = models.Sequential([\n",
    "    layers.Dense(10, activation='relu', input_shape=(28 * 28,)),\n",
    "    layers.Dense(10, activation='softmax')\n",
    "])\n",
    "nn.compile(optimizer='rmsprop', loss='categorical_crossentropy', metrics=['accuracy'])\n",
    "nn.fit(train_data, train_labels, epochs=5, batch_size=128)\n",
    "print('test_acc:', test_acc)"
   ]
  },
  {
   "cell_type": "code",
   "execution_count": 23,
   "metadata": {},
   "outputs": [
    {
     "name": "stdout",
     "output_type": "stream",
     "text": [
      "Train on 60000 samples\n",
      "Epoch 1/5\n",
      "60000/60000 [==============================] - 1s 25us/sample - loss: 0.2270 - accuracy: 0.9310\n",
      "Epoch 2/5\n",
      "60000/60000 [==============================] - 1s 19us/sample - loss: 0.0833 - accuracy: 0.9743\n",
      "Epoch 3/5\n",
      "60000/60000 [==============================] - 1s 19us/sample - loss: 0.0526 - accuracy: 0.9833\n",
      "Epoch 4/5\n",
      "60000/60000 [==============================] - 1s 20us/sample - loss: 0.0378 - accuracy: 0.9877\n",
      "Epoch 5/5\n",
      "60000/60000 [==============================] - 1s 19us/sample - loss: 0.0291 - accuracy: 0.9913\n",
      "test_acc: 0.9798\n"
     ]
    }
   ],
   "source": [
    "# add another layer\n",
    "nn = models.Sequential([\n",
    "    layers.Dense(512, activation='relu', input_shape=(28 * 28,)),\n",
    "    layers.Dense(256, activation='relu', input_shape=(28 * 28,)),\n",
    "    layers.Dense(10, activation='softmax')\n",
    "])\n",
    "nn.compile(optimizer='rmsprop', loss='categorical_crossentropy', metrics=['accuracy'])\n",
    "nn.fit(train_data, train_labels, epochs=5, batch_size=128)\n",
    "print('test_acc:', test_acc)"
   ]
  },
  {
   "cell_type": "markdown",
   "metadata": {},
   "source": [
    "### 7. Regularizing the model"
   ]
  },
  {
   "cell_type": "code",
   "execution_count": 24,
   "metadata": {},
   "outputs": [
    {
     "name": "stdout",
     "output_type": "stream",
     "text": [
      "Train on 60000 samples\n",
      "Epoch 1/5\n",
      "60000/60000 [==============================] - 2s 27us/sample - loss: 0.2912 - accuracy: 0.9298\n",
      "Epoch 2/5\n",
      "60000/60000 [==============================] - 1s 20us/sample - loss: 0.1483 - accuracy: 0.9700\n",
      "Epoch 3/5\n",
      "60000/60000 [==============================] - 1s 20us/sample - loss: 0.1173 - accuracy: 0.9778\n",
      "Epoch 4/5\n",
      "60000/60000 [==============================] - 1s 20us/sample - loss: 0.1005 - accuracy: 0.9821\n",
      "Epoch 5/5\n",
      "60000/60000 [==============================] - 1s 19us/sample - loss: 0.0908 - accuracy: 0.9840\n",
      "test_acc: 0.9798\n"
     ]
    }
   ],
   "source": [
    "from tensorflow.keras import models, layers, regularizers\n",
    "\n",
    "nn = models.Sequential([\n",
    "    layers.Dense(1024, activation='relu', input_shape=(28 * 28,), kernel_regularizer=regularizers.l2(0.0001)),\n",
    "    layers.Dense(10, activation='softmax')\n",
    "])\n",
    "nn.compile(optimizer='rmsprop', loss='categorical_crossentropy', metrics=['accuracy'])\n",
    "nn.fit(train_data, train_labels, epochs=5, batch_size=128)\n",
    "print('test_acc:', test_acc)"
   ]
  },
  {
   "cell_type": "markdown",
   "metadata": {},
   "source": [
    "### 8. Tunning hyperparameters (use GridSearchCV)"
   ]
  },
  {
   "cell_type": "code",
   "execution_count": null,
   "metadata": {},
   "outputs": [],
   "source": [
    "from tensorflow.keras import models, layers, regularizers\n",
    "from tensorflow.keras.wrappers.scikit_learn import KerasClassifier\n",
    "from sklearn.model_selection import GridSearchCV\n",
    "\n",
    "def create_model(lamda=0.0001):\n",
    "    model = models.Sequential([\n",
    "        layers.Dense(1024, activation='relu', input_shape=(28 * 28,), kernel_regularizer=regularizers.l2(lamda)),\n",
    "        layers.Dense(10, activation='softmax')\n",
    "    ])\n",
    "    model.compile(optimizer='rmsprop', loss='categorical_crossentropy', metrics=['accuracy'])\n",
    "    return model\n",
    "\n",
    "model = KerasClassifier(build_fn=create_model, epochs=50, batch_size=128)\n",
    "\n",
    "param_grid = dict(\n",
    "    epochs=[1, 3, 6],\n",
    "    #lamda=[0.1, 0.0001] #peta por exceso de memoria\n",
    ")\n",
    "\n",
    "grid = GridSearchCV(estimator=model, param_grid=param_grid, n_jobs=-1, cv=3)\n",
    "grid_result = grid.fit(train_data, train_labels)\n",
    "\n",
    "# summarize results\n",
    "print(\"Best: %f using %s\" % (grid_result.best_score_, grid_result.best_params_))"
   ]
  },
  {
   "cell_type": "markdown",
   "metadata": {},
   "source": [
    "### 9. Validating the model"
   ]
  },
  {
   "cell_type": "code",
   "execution_count": 25,
   "metadata": {},
   "outputs": [
    {
     "name": "stdout",
     "output_type": "stream",
     "text": [
      "Train on 60000 samples\n",
      "Epoch 1/5\n",
      "60000/60000 [==============================] - 2s 27us/sample - loss: 0.2913 - accuracy: 0.9309\n",
      "Epoch 2/5\n",
      "60000/60000 [==============================] - 1s 19us/sample - loss: 0.1456 - accuracy: 0.9708\n",
      "Epoch 3/5\n",
      "60000/60000 [==============================] - 1s 19us/sample - loss: 0.1149 - accuracy: 0.9785\n",
      "Epoch 4/5\n",
      "60000/60000 [==============================] - 1s 20us/sample - loss: 0.1015 - accuracy: 0.9810\n",
      "Epoch 5/5\n",
      "60000/60000 [==============================] - 1s 18us/sample - loss: 0.0907 - accuracy: 0.9836\n"
     ]
    },
    {
     "data": {
      "text/plain": [
       "<tensorflow.python.keras.callbacks.History at 0x29ef030ff08>"
      ]
     },
     "execution_count": 25,
     "metadata": {},
     "output_type": "execute_result"
    }
   ],
   "source": [
    "from tensorflow.keras import models, layers, regularizers\n",
    "\n",
    "nn = models.Sequential([\n",
    "    layers.Dense(1024, activation='relu', input_shape=(28 * 28,), kernel_regularizer=regularizers.l2(0.0001)),\n",
    "    layers.Dense(10, activation='softmax')\n",
    "])\n",
    "nn.compile(optimizer='rmsprop', loss='categorical_crossentropy', metrics=['accuracy'])\n",
    "nn.fit(train_data, train_labels, epochs=5, batch_size=128)"
   ]
  },
  {
   "cell_type": "code",
   "execution_count": 26,
   "metadata": {},
   "outputs": [
    {
     "name": "stdout",
     "output_type": "stream",
     "text": [
      "10000/10000 [==============================] - 1s 51us/sample - loss: 0.1207 - accuracy: 0.9728\n"
     ]
    }
   ],
   "source": [
    "test_loss, test_acc = nn.evaluate(test_data, test_labels)"
   ]
  },
  {
   "cell_type": "code",
   "execution_count": 27,
   "metadata": {},
   "outputs": [
    {
     "name": "stdout",
     "output_type": "stream",
     "text": [
      "test_acc: 0.9728\n"
     ]
    }
   ],
   "source": [
    "print('test_acc:', test_acc)"
   ]
  }
 ],
 "metadata": {
  "colab": {
   "name": "FirstSteps.ipynb",
   "provenance": []
  },
  "kernelspec": {
   "display_name": "Python 3",
   "language": "python",
   "name": "python3"
  },
  "language_info": {
   "codemirror_mode": {
    "name": "ipython",
    "version": 3
   },
   "file_extension": ".py",
   "mimetype": "text/x-python",
   "name": "python",
   "nbconvert_exporter": "python",
   "pygments_lexer": "ipython3",
   "version": "3.7.7"
  }
 },
 "nbformat": 4,
 "nbformat_minor": 1
}
