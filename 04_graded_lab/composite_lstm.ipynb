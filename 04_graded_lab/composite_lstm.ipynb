{
 "cells": [
  {
   "cell_type": "markdown",
   "metadata": {},
   "source": [
    "# COMPOSITE - LSTM-Autoencoder\n",
    "\n",
    "Composites are compounds formed by different materials to obtain new properties that those materials alone do not possess. In this case I have worked on the process of creating the fibreglass. These composites are created by injecting the mixture of materials into a mold composed of 32 zones.\n",
    "\n",
    "![](img/img0.PNG)\n",
    "\n",
    "The available data is composed of 10,000 csv files (26gb), each corresponding to a process of creating the composite. Each process has variables from different sensors that change over time, captured with a frequency of 0.05-0.1 seconds. These variables represent pressures of the different zones and the injection flow of the compound.\n",
    "\n",
    "On the other hand, there are also constant columns that measure the final quality of the product. Among them there is a variable that classifies the experiment or process in a binary way, being 1 when the creation process has been carried out correctly and 0 when it has been carried out incorrectly. The other quality measurements have been discarded. We are faced with a binary classification problem. Among the 10,000 experiments, we have 5,000 correct and 5,000 incorrect experiments."
   ]
  },
  {
   "cell_type": "markdown",
   "metadata": {},
   "source": [
    "## 1. Problem definition\n",
    "\n",
    "The main objective of this problem will be to try to detect in a semi-supervised way which experiments are correct and which are not. Assuming that the correct experiments represent correct behavior in a similar way, we will train our model only with these experiments. In this way, we will model normal behavior and be able to detect anything outside of that normality. \n",
    "\n",
    "With this, we will define an error threshold. Any instance that is below that error threshold will be considered normal behavior while anything above that threshold will be considered an anomaly."
   ]
  },
  {
   "cell_type": "markdown",
   "metadata": {},
   "source": [
    "## 2. Measure of success\n",
    "\n",
    "To know if the results are correct or not, the accuracy will be taken into account. With this we can know how to measure the success rate of our model."
   ]
  },
  {
   "cell_type": "markdown",
   "metadata": {},
   "source": [
    "## 3. Evaluation protocol\n",
    "\n",
    "Due to the fact that we have 5000 correct and 5000 incorrect experiments, and taking into account the dimensionality of the data, we will divide our data into train and test.On one hand, we will use 4000 correct experiments to train our model and model normality. On the other hand, 1000 correct experiments and 5000 incorrect experiments will be saved for the test stage.\n",
    "\n",
    "- Training\n",
    "    - 4000 correct experiments\n",
    "- Testing\n",
    "    - 1000 correct experiments\n",
    "    - 5000 incorrect experiments"
   ]
  },
  {
   "cell_type": "markdown",
   "metadata": {},
   "source": [
    "## 4. Preparing the data"
   ]
  },
  {
   "cell_type": "markdown",
   "metadata": {},
   "source": [
    "### Reshape the time series to 832 time-steps\n",
    "\n",
    "As the length of the experiments is not fixed, we will reduce all the experiments so that they have the same duration as the shortest experiment. In the case of these data, the shortest experiment has 832 observations. We will use the 'resample' function of the Scipy library to reduce the dimensionality of the time series.\n",
    "\n",
    "https://docs.scipy.org/doc/scipy/reference/generated/scipy.signal.resample.html"
   ]
  },
  {
   "cell_type": "code",
   "execution_count": 1,
   "metadata": {},
   "outputs": [],
   "source": [
    "min_samples = 832"
   ]
  },
  {
   "cell_type": "code",
   "execution_count": 2,
   "metadata": {},
   "outputs": [],
   "source": [
    "import numpy as np\n",
    "import pandas as pd\n",
    "from glob import glob\n",
    "from scipy import signal\n",
    "\n",
    "size = 832\n",
    "files = glob('Z:\\Descargas\\composite\\CSV_DATA\\*.csv')\n",
    "for file in files:\n",
    "    df = pd.read_csv(file)\n",
    "    col_names = ('Flow rate', 'Pressure')    \n",
    "    cols = [col for col in df if col.endswith(col_names)]    \n",
    "    resampled_df = pd.DataFrame(signal.resample(df[cols], min_samples), columns=cols)\n",
    "    resampled_df['TOTAL_QUALITY'] = df['TOTAL_QUALITY']\n",
    "    resampled_df.to_csv(file.replace('CSV_DATA', 'deepl\\CSV_DATA_RESAMPLED'), index=False)"
   ]
  },
  {
   "cell_type": "markdown",
   "metadata": {},
   "source": [
    "### Divide the data to train/test\n",
    "\n",
    "- Training\n",
    "    - 4000 correct experiments\n",
    "- Testing\n",
    "    - 1000 correct experiments\n",
    "    - 5000 incorrect experiments\n",
    "    \n",
    "We concentrate the experiments one below the other, divide them into train/test and export them to csv files.\n",
    "\n",
    "![](img/img1.PNG)"
   ]
  },
  {
   "cell_type": "code",
   "execution_count": 1,
   "metadata": {},
   "outputs": [
    {
     "name": "stdout",
     "output_type": "stream",
     "text": [
      "5055\n",
      "4959\n"
     ]
    }
   ],
   "source": [
    "import numpy as np\n",
    "import pandas as pd\n",
    "from glob import glob\n",
    "\n",
    "files = glob('Z:\\Descargas\\composite\\deepl\\CSV_DATA_RESAMPLED\\*.csv')\n",
    "\n",
    "correct = []\n",
    "incorrect = []\n",
    "\n",
    "for file in files:\n",
    "    df = pd.read_csv(file)\n",
    "    if df.iloc[:,-1][0] == 1:\n",
    "        correct.append(df)\n",
    "    else:\n",
    "        incorrect.append(df)\n",
    "        \n",
    "print(len(correct))\n",
    "print(len(incorrect))"
   ]
  },
  {
   "cell_type": "code",
   "execution_count": 9,
   "metadata": {},
   "outputs": [],
   "source": [
    "import random\n",
    "\n",
    "random.shuffle(correct)\n",
    "random.shuffle(incorrect)\n",
    "\n",
    "train_correct = correct[:4000]\n",
    "train_correct = pd.concat(train_correct)\n",
    "train_correct = train_correct.to_csv('Z:\\\\Descargas\\\\composite\\\\deepl\\\\train_correct.csv', index=False)\n",
    "\n",
    "test_correct = correct[-1055:]\n",
    "test_correct = pd.concat(test_correct)\n",
    "test_correct = test_correct.to_csv('Z:\\\\Descargas\\\\composite\\\\deepl\\\\test_correct.csv', index=False)\n",
    "\n",
    "test_incorrect = incorrect\n",
    "test_incorrect = pd.concat(test_incorrect)\n",
    "test_incorrect = test_incorrect.to_csv('Z:\\\\Descargas\\\\composite\\\\deepl\\\\test_incorrect.csv', index=False)"
   ]
  },
  {
   "cell_type": "markdown",
   "metadata": {},
   "source": [
    "### Normalize the data using MinMaxScaler\n",
    "\n",
    "We normalize our data with the Sklearn MinMaxScaler function. With this we get our data in a range between 0 and 1. This scaler is only trained with the train data and will be used to normalize the test data."
   ]
  },
  {
   "cell_type": "code",
   "execution_count": 7,
   "metadata": {},
   "outputs": [
    {
     "data": {
      "text/plain": [
       "(3328000, 29)"
      ]
     },
     "execution_count": 7,
     "metadata": {},
     "output_type": "execute_result"
    }
   ],
   "source": [
    "import pandas as pd\n",
    "\n",
    "train = pd.read_csv('Z:\\\\Descargas\\\\composite\\\\deepl\\\\train_correct.csv')\n",
    "train = train.drop('TOTAL_QUALITY', axis=1)\n",
    "train.shape"
   ]
  },
  {
   "cell_type": "code",
   "execution_count": 8,
   "metadata": {},
   "outputs": [
    {
     "data": {
      "text/plain": [
       "(3328000, 29)"
      ]
     },
     "execution_count": 8,
     "metadata": {},
     "output_type": "execute_result"
    }
   ],
   "source": [
    "from sklearn.preprocessing import MinMaxScaler\n",
    "\n",
    "scaler = MinMaxScaler().fit(train)\n",
    "train = scaler.transform(train)\n",
    "train.shape"
   ]
  },
  {
   "cell_type": "markdown",
   "metadata": {},
   "source": [
    "### Reshape the data\n",
    "\n",
    "Reshape the data so that the dimensions are suitable for our recurrent model.\n",
    "\n",
    "- samples = 4000\n",
    "- timesteps = 832\n",
    "- features = 29"
   ]
  },
  {
   "cell_type": "code",
   "execution_count": 9,
   "metadata": {},
   "outputs": [
    {
     "data": {
      "text/plain": [
       "(4000, 832, 29)"
      ]
     },
     "execution_count": 9,
     "metadata": {},
     "output_type": "execute_result"
    }
   ],
   "source": [
    "# reshape input into [samples, timesteps, features]\n",
    "\n",
    "train = train.reshape((4000, 832, 29))\n",
    "train.shape"
   ]
  },
  {
   "cell_type": "markdown",
   "metadata": {},
   "source": [
    "## 5. Developing the LSTM-Autoencoder model"
   ]
  },
  {
   "cell_type": "code",
   "execution_count": 10,
   "metadata": {},
   "outputs": [],
   "source": [
    "# https://stackoverflow.com/questions/37232782/nan-loss-when-training-regression-network\n",
    "# https://machinelearningmastery.com/how-to-avoid-exploding-gradients-in-neural-networks-with-gradient-clipping/"
   ]
  },
  {
   "cell_type": "code",
   "execution_count": 13,
   "metadata": {},
   "outputs": [
    {
     "name": "stdout",
     "output_type": "stream",
     "text": [
      "Model: \"sequential_2\"\n",
      "_________________________________________________________________\n",
      "Layer (type)                 Output Shape              Param #   \n",
      "=================================================================\n",
      "lstm_8 (LSTM)                (None, 832, 128)          80896     \n",
      "_________________________________________________________________\n",
      "lstm_9 (LSTM)                (None, 64)                49408     \n",
      "_________________________________________________________________\n",
      "repeat_vector_2 (RepeatVecto (None, 832, 64)           0         \n",
      "_________________________________________________________________\n",
      "lstm_10 (LSTM)               (None, 832, 64)           33024     \n",
      "_________________________________________________________________\n",
      "lstm_11 (LSTM)               (None, 832, 128)          98816     \n",
      "_________________________________________________________________\n",
      "time_distributed_2 (TimeDist (None, 832, 29)           3741      \n",
      "=================================================================\n",
      "Total params: 265,885\n",
      "Trainable params: 265,885\n",
      "Non-trainable params: 0\n",
      "_________________________________________________________________\n"
     ]
    }
   ],
   "source": [
    "from tensorflow.keras import models, layers\n",
    "from tensorflow.keras.callbacks import EarlyStopping\n",
    "from tensorflow.keras.optimizers import SGD\n",
    "from tensorflow.keras.regularizers import l1, l2\n",
    "\n",
    "model = models.Sequential([\n",
    "    layers.LSTM(128, activation='relu', kernel_regularizer=l1(0.001), return_sequences=True, input_shape=(832, 29)),\n",
    "    layers.LSTM(64, activation='relu', kernel_regularizer=l1(0.001), return_sequences=False),\n",
    "    layers.RepeatVector(train.shape[1]),\n",
    "    layers.LSTM(64, activation='relu', kernel_regularizer=l1(0.001), return_sequences=True),\n",
    "    layers.LSTM(128, activation='relu', kernel_regularizer=l1(0.001), return_sequences=True),\n",
    "    layers.TimeDistributed(layers.Dense(train.shape[2]))\n",
    "])\n",
    "\n",
    "#opt = SGD(lr=0.01, momentum=0.9, nesterov=True, clipnorm=1)\n",
    "model.compile(optimizer='adam', loss='mse')\n",
    "model.summary()"
   ]
  },
  {
   "cell_type": "code",
   "execution_count": 14,
   "metadata": {},
   "outputs": [
    {
     "name": "stdout",
     "output_type": "stream",
     "text": [
      "Train on 3600 samples, validate on 400 samples\n",
      "Epoch 1/20\n",
      "3600/3600 [==============================] - 55s 15ms/sample - loss: 4.4355 - val_loss: 3.2037\n",
      "Epoch 2/20\n",
      "3600/3600 [==============================] - 52s 15ms/sample - loss: 2.3333 - val_loss: 1.4701\n",
      "Epoch 3/20\n",
      "3600/3600 [==============================] - 52s 14ms/sample - loss: 0.9283 - val_loss: 0.4413\n",
      "Epoch 4/20\n",
      "3600/3600 [==============================] - 52s 14ms/sample - loss: 0.2257 - val_loss: 0.0709\n",
      "Epoch 5/20\n",
      "3600/3600 [==============================] - 53s 15ms/sample - loss: 0.0358 - val_loss: 0.0181\n",
      "Epoch 6/20\n",
      "3600/3600 [==============================] - 54s 15ms/sample - loss: 0.0146 - val_loss: 0.0128\n",
      "Epoch 7/20\n",
      "3600/3600 [==============================] - 52s 15ms/sample - loss: 0.0124 - val_loss: 0.0122\n",
      "Epoch 8/20\n",
      "3600/3600 [==============================] - 53s 15ms/sample - loss: 0.0122 - val_loss: 0.0122\n",
      "Epoch 9/20\n",
      "3600/3600 [==============================] - 53s 15ms/sample - loss: 0.0122 - val_loss: 0.0122\n",
      "Epoch 10/20\n",
      "3600/3600 [==============================] - 51s 14ms/sample - loss: 0.0122 - val_loss: 0.0122\n"
     ]
    }
   ],
   "source": [
    "early_stop = [EarlyStopping(monitor='val_loss', min_delta=0, patience=3, verbose=0, mode='auto', baseline=None)]\n",
    "\n",
    "history = model.fit(train, train, callbacks=early_stop, epochs=20, batch_size=128, validation_split=0.1)"
   ]
  },
  {
   "cell_type": "code",
   "execution_count": 15,
   "metadata": {},
   "outputs": [
    {
     "data": {
      "image/png": "[encoded data removed]",
      "text/plain": [
       "<Figure size 1120x480 with 1 Axes>"
      ]
     },
     "metadata": {
      "needs_background": "light"
     },
     "output_type": "display_data"
    }
   ],
   "source": [
    "from matplotlib import pyplot as plt\n",
    "\n",
    "# plot the training losses\n",
    "fig, ax = plt.subplots(figsize=(14, 6), dpi=80)\n",
    "ax.plot(history.history['loss'], 'b', label='Train', linewidth=2)\n",
    "ax.plot(history.history['val_loss'], 'r', label='Validation', linewidth=2)\n",
    "ax.set_title('Model loss', fontsize=16)\n",
    "ax.set_ylabel('Loss (mse)')\n",
    "ax.set_xlabel('Epoch')\n",
    "ax.legend(loc='upper right')\n",
    "plt.show()"
   ]
  },
  {
   "cell_type": "code",
   "execution_count": 16,
   "metadata": {},
   "outputs": [],
   "source": [
    "model.save('models/lstm_autoencoder_model.h5') "
   ]
  },
  {
   "cell_type": "markdown",
   "metadata": {},
   "source": [
    "### **Calcular threshold**"
   ]
  },
  {
   "cell_type": "code",
   "execution_count": 1,
   "metadata": {},
   "outputs": [
    {
     "name": "stdout",
     "output_type": "stream",
     "text": [
      "Model: \"sequential_2\"\n",
      "_________________________________________________________________\n",
      "Layer (type)                 Output Shape              Param #   \n",
      "=================================================================\n",
      "lstm_8 (LSTM)                (None, 832, 128)          80896     \n",
      "_________________________________________________________________\n",
      "lstm_9 (LSTM)                (None, 64)                49408     \n",
      "_________________________________________________________________\n",
      "repeat_vector_2 (RepeatVecto (None, 832, 64)           0         \n",
      "_________________________________________________________________\n",
      "lstm_10 (LSTM)               (None, 832, 64)           33024     \n",
      "_________________________________________________________________\n",
      "lstm_11 (LSTM)               (None, 832, 128)          98816     \n",
      "_________________________________________________________________\n",
      "time_distributed_2 (TimeDist (None, 832, 29)           3741      \n",
      "=================================================================\n",
      "Total params: 265,885\n",
      "Trainable params: 265,885\n",
      "Non-trainable params: 0\n",
      "_________________________________________________________________\n"
     ]
    }
   ],
   "source": [
    "from tensorflow.keras.models import load_model\n",
    "\n",
    "model = load_model('models/lstm_autoencoder_model.h5')\n",
    "model.summary()"
   ]
  },
  {
   "cell_type": "code",
   "execution_count": 2,
   "metadata": {},
   "outputs": [
    {
     "name": "stdout",
     "output_type": "stream",
     "text": [
      "(4000, 832, 29)\n",
      "(4959, 832, 29)\n"
     ]
    }
   ],
   "source": [
    "import numpy as np\n",
    "import pandas as pd\n",
    "from sklearn.preprocessing import MinMaxScaler\n",
    "\n",
    "# load\n",
    "train = pd.read_csv('Z:\\\\Descargas\\\\composite\\\\deepl\\\\train_correct.csv')\n",
    "train = train.drop('TOTAL_QUALITY', axis=1)\n",
    "test_incorrect = pd.read_csv('Z:\\\\Descargas\\\\composite\\\\deepl\\\\test_incorrect.csv')\n",
    "test_incorrect = test_incorrect.drop('TOTAL_QUALITY', axis=1)\n",
    "\n",
    "# normalize\n",
    "scaler = MinMaxScaler().fit(train)\n",
    "train = scaler.transform(train)\n",
    "test_incorrect = scaler.transform(test_incorrect)\n",
    "\n",
    "# reshape\n",
    "train = train.reshape((4000, 832, 29))\n",
    "test_incorrect = test_incorrect.reshape((4959, 832, 29))\n",
    "\n",
    "# predict\n",
    "pred_train = model.predict(train)\n",
    "pred_test = model.predict(test_incorrect)\n",
    "print(pred_train.shape)\n",
    "print(pred_test.shape)"
   ]
  },
  {
   "cell_type": "code",
   "execution_count": 3,
   "metadata": {},
   "outputs": [
    {
     "data": {
      "text/plain": [
       "0.0008074425297207114"
      ]
     },
     "execution_count": 3,
     "metadata": {},
     "output_type": "execute_result"
    }
   ],
   "source": [
    "from sklearn.metrics import mean_absolute_error\n",
    "\n",
    "errors_train = []\n",
    "\n",
    "for i in range(0, pred_train.shape[0]):\n",
    "    error = mean_absolute_error(train[i], pred_train[i])\n",
    "    errors_train.append(error)\n",
    "\n",
    "errors_train = np.array(errors_train)\n",
    "threshold = errors_train.mean()+3*errors_train.std()\n",
    "threshold"
   ]
  },
  {
   "cell_type": "code",
   "execution_count": 6,
   "metadata": {},
   "outputs": [],
   "source": [
    "from sklearn.metrics import mean_absolute_error\n",
    "\n",
    "errors_test = []\n",
    "\n",
    "for i in range(0, pred_test.shape[0]):\n",
    "    error = mean_absolute_error(test_incorrect[i], pred_test[i])\n",
    "    errors_test.append(error)\n",
    "\n",
    "errors_test = np.array(errors_test)"
   ]
  },
  {
   "cell_type": "code",
   "execution_count": 7,
   "metadata": {},
   "outputs": [
    {
     "data": {
      "image/png": "[encoded data removed]",
      "text/plain": [
       "<Figure size 1120x480 with 1 Axes>"
      ]
     },
     "metadata": {
      "needs_background": "light"
     },
     "output_type": "display_data"
    }
   ],
   "source": [
    "from matplotlib import pyplot as plt\n",
    "\n",
    "fig, ax = plt.subplots(figsize=(14, 6), dpi=80)\n",
    "ax.plot(errors_train, 'b', label='Correct', linewidth=2)\n",
    "ax.plot(errors_test, 'r', label='Incorrect', linewidth=2)\n",
    "ax.plot(np.full(shape=5007, fill_value=threshold), 'g', label='Threshold', linewidth=2)\n",
    "ax.set_title('Model loss', fontsize=16)\n",
    "ax.set_ylabel('MAE')\n",
    "ax.set_xlabel('Instances')\n",
    "ax.legend(loc='upper right')\n",
    "plt.show()"
   ]
  }
 ],
 "metadata": {
  "kernelspec": {
   "display_name": "Python 3",
   "language": "python",
   "name": "python3"
  },
  "language_info": {
   "codemirror_mode": {
    "name": "ipython",
    "version": 3
   },
   "file_extension": ".py",
   "mimetype": "text/x-python",
   "name": "python",
   "nbconvert_exporter": "python",
   "pygments_lexer": "ipython3",
   "version": "3.7.7"
  }
 },
 "nbformat": 4,
 "nbformat_minor": 4
}
