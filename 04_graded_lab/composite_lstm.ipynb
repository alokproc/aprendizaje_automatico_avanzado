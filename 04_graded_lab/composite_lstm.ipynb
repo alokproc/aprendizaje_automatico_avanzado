{
 "cells": [
  {
   "cell_type": "markdown",
   "metadata": {},
   "source": [
    "### **Buscar el time series más corto**"
   ]
  },
  {
   "cell_type": "code",
   "execution_count": 1,
   "metadata": {},
   "outputs": [],
   "source": [
    "min_samples = 832"
   ]
  },
  {
   "cell_type": "markdown",
   "metadata": {},
   "source": [
    "### **Hacer reshape de todos los experimentos a tener 832 (Todos los time series)**"
   ]
  },
  {
   "cell_type": "code",
   "execution_count": 2,
   "metadata": {},
   "outputs": [],
   "source": [
    "import numpy as np\n",
    "import pandas as pd\n",
    "from glob import glob\n",
    "from scipy import signal\n",
    "\n",
    "size = 832\n",
    "files = glob('Z:\\Descargas\\composite\\CSV_DATA\\*.csv')\n",
    "for file in files:\n",
    "    df = pd.read_csv(file)\n",
    "    col_names = ('Flow rate', 'Pressure')    \n",
    "    cols = [col for col in df if col.endswith(col_names)]    \n",
    "    resampled_df = pd.DataFrame(signal.resample(df[cols], min_samples), columns=cols)\n",
    "    resampled_df['TOTAL_QUALITY'] = df['TOTAL_QUALITY']\n",
    "    resampled_df.to_csv(file.replace('CSV_DATA', 'deepl\\CSV_DATA_RESAMPLED'), index=False)"
   ]
  },
  {
   "cell_type": "markdown",
   "metadata": {},
   "source": [
    "### **Generar dataset de train y test**"
   ]
  },
  {
   "cell_type": "code",
   "execution_count": 1,
   "metadata": {},
   "outputs": [
    {
     "name": "stdout",
     "output_type": "stream",
     "text": [
      "5055\n",
      "4959\n"
     ]
    }
   ],
   "source": [
    "import numpy as np\n",
    "import pandas as pd\n",
    "from glob import glob\n",
    "\n",
    "files = glob('Z:\\Descargas\\composite\\deepl\\CSV_DATA_RESAMPLED\\*.csv')\n",
    "\n",
    "correct = []\n",
    "incorrect = []\n",
    "\n",
    "for file in files:\n",
    "    df = pd.read_csv(file)\n",
    "    if df.iloc[:,-1][0] == 1:\n",
    "        correct.append(df)\n",
    "    else:\n",
    "        incorrect.append(df)\n",
    "        \n",
    "print(len(correct))\n",
    "print(len(incorrect))"
   ]
  },
  {
   "cell_type": "code",
   "execution_count": 9,
   "metadata": {},
   "outputs": [],
   "source": [
    "import random\n",
    "\n",
    "random.shuffle(correct)\n",
    "random.shuffle(incorrect)\n",
    "\n",
    "train_correct = correct[:4000]\n",
    "train_correct = pd.concat(train_correct)\n",
    "train_correct = train_correct.to_csv('Z:\\\\Descargas\\\\composite\\\\deepl\\\\train_correct.csv', index=False)\n",
    "\n",
    "test_correct = correct[-1055:]\n",
    "test_correct = pd.concat(test_correct)\n",
    "test_correct = test_correct.to_csv('Z:\\\\Descargas\\\\composite\\\\deepl\\\\test_correct.csv', index=False)\n",
    "\n",
    "test_incorrect = incorrect\n",
    "test_incorrect = pd.concat(test_incorrect)\n",
    "test_incorrect = test_incorrect.to_csv('Z:\\\\Descargas\\\\composite\\\\deepl\\\\test_incorrect.csv', index=False)"
   ]
  },
  {
   "cell_type": "markdown",
   "metadata": {},
   "source": [
    "### **Normalizar los datos con MinMaxScaler**"
   ]
  },
  {
   "cell_type": "code",
   "execution_count": 7,
   "metadata": {},
   "outputs": [
    {
     "data": {
      "text/plain": [
       "(3328000, 29)"
      ]
     },
     "execution_count": 7,
     "metadata": {},
     "output_type": "execute_result"
    }
   ],
   "source": [
    "import pandas as pd\n",
    "\n",
    "train = pd.read_csv('Z:\\\\Descargas\\\\composite\\\\deepl\\\\train_correct.csv')\n",
    "train = train.drop('TOTAL_QUALITY', axis=1)\n",
    "train.shape"
   ]
  },
  {
   "cell_type": "code",
   "execution_count": 8,
   "metadata": {},
   "outputs": [
    {
     "data": {
      "text/plain": [
       "(3328000, 29)"
      ]
     },
     "execution_count": 8,
     "metadata": {},
     "output_type": "execute_result"
    }
   ],
   "source": [
    "from sklearn.preprocessing import MinMaxScaler\n",
    "\n",
    "scaler = MinMaxScaler().fit(train)\n",
    "train = scaler.transform(train)\n",
    "train.shape"
   ]
  },
  {
   "cell_type": "markdown",
   "metadata": {},
   "source": [
    "### **Definir modelo LSTM-AutoEncoder**"
   ]
  },
  {
   "cell_type": "code",
   "execution_count": 9,
   "metadata": {},
   "outputs": [
    {
     "data": {
      "text/plain": [
       "(4000, 832, 29)"
      ]
     },
     "execution_count": 9,
     "metadata": {},
     "output_type": "execute_result"
    }
   ],
   "source": [
    "# reshape input into [samples, timesteps, features]\n",
    "\n",
    "train = train.reshape((4000, 832, 29))\n",
    "train.shape"
   ]
  },
  {
   "cell_type": "code",
   "execution_count": 10,
   "metadata": {},
   "outputs": [],
   "source": [
    "# https://stackoverflow.com/questions/37232782/nan-loss-when-training-regression-network\n",
    "# https://machinelearningmastery.com/how-to-avoid-exploding-gradients-in-neural-networks-with-gradient-clipping/"
   ]
  },
  {
   "cell_type": "code",
   "execution_count": 13,
   "metadata": {},
   "outputs": [
    {
     "name": "stdout",
     "output_type": "stream",
     "text": [
      "Model: \"sequential_2\"\n",
      "_________________________________________________________________\n",
      "Layer (type)                 Output Shape              Param #   \n",
      "=================================================================\n",
      "lstm_8 (LSTM)                (None, 832, 128)          80896     \n",
      "_________________________________________________________________\n",
      "lstm_9 (LSTM)                (None, 64)                49408     \n",
      "_________________________________________________________________\n",
      "repeat_vector_2 (RepeatVecto (None, 832, 64)           0         \n",
      "_________________________________________________________________\n",
      "lstm_10 (LSTM)               (None, 832, 64)           33024     \n",
      "_________________________________________________________________\n",
      "lstm_11 (LSTM)               (None, 832, 128)          98816     \n",
      "_________________________________________________________________\n",
      "time_distributed_2 (TimeDist (None, 832, 29)           3741      \n",
      "=================================================================\n",
      "Total params: 265,885\n",
      "Trainable params: 265,885\n",
      "Non-trainable params: 0\n",
      "_________________________________________________________________\n"
     ]
    }
   ],
   "source": [
    "from tensorflow.keras import models, layers\n",
    "from tensorflow.keras.callbacks import EarlyStopping\n",
    "from tensorflow.keras.optimizers import SGD\n",
    "from tensorflow.keras.regularizers import l1, l2\n",
    "\n",
    "model = models.Sequential([\n",
    "    layers.LSTM(128, activation='relu', kernel_regularizer=l1(0.001), return_sequences=True, input_shape=(832, 29)),\n",
    "    layers.LSTM(64, activation='relu', kernel_regularizer=l1(0.001), return_sequences=False),\n",
    "    layers.RepeatVector(train.shape[1]),\n",
    "    layers.LSTM(64, activation='relu', kernel_regularizer=l1(0.001), return_sequences=True),\n",
    "    layers.LSTM(128, activation='relu', kernel_regularizer=l1(0.001), return_sequences=True),\n",
    "    layers.TimeDistributed(layers.Dense(train.shape[2]))\n",
    "])\n",
    "\n",
    "#opt = SGD(lr=0.01, momentum=0.9, nesterov=True, clipnorm=1)\n",
    "model.compile(optimizer='adam', loss='mse')\n",
    "model.summary()"
   ]
  },
  {
   "cell_type": "code",
   "execution_count": 14,
   "metadata": {},
   "outputs": [
    {
     "name": "stdout",
     "output_type": "stream",
     "text": [
      "Train on 3600 samples, validate on 400 samples\n",
      "Epoch 1/20\n",
      "3600/3600 [==============================] - 55s 15ms/sample - loss: 4.4355 - val_loss: 3.2037\n",
      "Epoch 2/20\n",
      "3600/3600 [==============================] - 52s 15ms/sample - loss: 2.3333 - val_loss: 1.4701\n",
      "Epoch 3/20\n",
      "3600/3600 [==============================] - 52s 14ms/sample - loss: 0.9283 - val_loss: 0.4413\n",
      "Epoch 4/20\n",
      "3600/3600 [==============================] - 52s 14ms/sample - loss: 0.2257 - val_loss: 0.0709\n",
      "Epoch 5/20\n",
      "3600/3600 [==============================] - 53s 15ms/sample - loss: 0.0358 - val_loss: 0.0181\n",
      "Epoch 6/20\n",
      "3600/3600 [==============================] - 54s 15ms/sample - loss: 0.0146 - val_loss: 0.0128\n",
      "Epoch 7/20\n",
      "3600/3600 [==============================] - 52s 15ms/sample - loss: 0.0124 - val_loss: 0.0122\n",
      "Epoch 8/20\n",
      "3600/3600 [==============================] - 53s 15ms/sample - loss: 0.0122 - val_loss: 0.0122\n",
      "Epoch 9/20\n",
      "3600/3600 [==============================] - 53s 15ms/sample - loss: 0.0122 - val_loss: 0.0122\n",
      "Epoch 10/20\n",
      "3600/3600 [==============================] - 51s 14ms/sample - loss: 0.0122 - val_loss: 0.0122\n"
     ]
    }
   ],
   "source": [
    "early_stop = [EarlyStopping(monitor='val_loss', min_delta=0, patience=3, verbose=0, mode='auto', baseline=None)]\n",
    "\n",
    "history = model.fit(train, train, callbacks=early_stop, epochs=20, batch_size=128, validation_split=0.1)"
   ]
  },
  {
   "cell_type": "code",
   "execution_count": 15,
   "metadata": {},
   "outputs": [
    {
     "data": {
      "image/png": "[encoded data removed]",
      "text/plain": [
       "<Figure size 1120x480 with 1 Axes>"
      ]
     },
     "metadata": {
      "needs_background": "light"
     },
     "output_type": "display_data"
    }
   ],
   "source": [
    "from matplotlib import pyplot as plt\n",
    "\n",
    "# plot the training losses\n",
    "fig, ax = plt.subplots(figsize=(14, 6), dpi=80)\n",
    "ax.plot(history.history['loss'], 'b', label='Train', linewidth=2)\n",
    "ax.plot(history.history['val_loss'], 'r', label='Validation', linewidth=2)\n",
    "ax.set_title('Model loss', fontsize=16)\n",
    "ax.set_ylabel('Loss (mse)')\n",
    "ax.set_xlabel('Epoch')\n",
    "ax.legend(loc='upper right')\n",
    "plt.show()"
   ]
  },
  {
   "cell_type": "code",
   "execution_count": 16,
   "metadata": {},
   "outputs": [],
   "source": [
    "model.save('models/lstm_autoencoder_model.h5') "
   ]
  },
  {
   "cell_type": "markdown",
   "metadata": {},
   "source": [
    "### **Calcular threshold**"
   ]
  },
  {
   "cell_type": "code",
   "execution_count": 17,
   "metadata": {},
   "outputs": [
    {
     "name": "stdout",
     "output_type": "stream",
     "text": [
      "Model: \"sequential_2\"\n",
      "_________________________________________________________________\n",
      "Layer (type)                 Output Shape              Param #   \n",
      "=================================================================\n",
      "lstm_8 (LSTM)                (None, 832, 128)          80896     \n",
      "_________________________________________________________________\n",
      "lstm_9 (LSTM)                (None, 64)                49408     \n",
      "_________________________________________________________________\n",
      "repeat_vector_2 (RepeatVecto (None, 832, 64)           0         \n",
      "_________________________________________________________________\n",
      "lstm_10 (LSTM)               (None, 832, 64)           33024     \n",
      "_________________________________________________________________\n",
      "lstm_11 (LSTM)               (None, 832, 128)          98816     \n",
      "_________________________________________________________________\n",
      "time_distributed_2 (TimeDist (None, 832, 29)           3741      \n",
      "=================================================================\n",
      "Total params: 265,885\n",
      "Trainable params: 265,885\n",
      "Non-trainable params: 0\n",
      "_________________________________________________________________\n"
     ]
    }
   ],
   "source": [
    "from tensorflow.keras.models import load_model\n",
    "\n",
    "model = load_model('models/lstm_autoencoder_model.h5')\n",
    "model.summary()"
   ]
  },
  {
   "cell_type": "code",
   "execution_count": 18,
   "metadata": {},
   "outputs": [
    {
     "data": {
      "text/plain": [
       "(4000, 832, 29)"
      ]
     },
     "execution_count": 18,
     "metadata": {},
     "output_type": "execute_result"
    }
   ],
   "source": [
    "import numpy as np\n",
    "import pandas as pd\n",
    "from sklearn.preprocessing import MinMaxScaler\n",
    "\n",
    "# load\n",
    "train = pd.read_csv('Z:\\\\Descargas\\\\composite\\\\deepl\\\\train_correct.csv')\n",
    "train = train.drop('TOTAL_QUALITY', axis=1)\n",
    "test_incorrect = pd.read_csv('Z:\\\\Descargas\\\\composite\\\\deepl\\\\test_incorrect.csv')\n",
    "test_incorrect = test_incorrect.drop('TOTAL_QUALITY', axis=1)\n",
    "\n",
    "# normalize\n",
    "scaler = MinMaxScaler().fit(train)\n",
    "train = scaler.transform(train)\n",
    "test_incorrect = scaler.transform(test_incorrect)\n",
    "\n",
    "# reshape\n",
    "train = train.reshape((4000, 832, 29))\n",
    "test_incorrect = test_incorrect.reshape((4959, 832, 29))\n",
    "\n",
    "# predict\n",
    "pred_train = model.predict(train)\n",
    "pred_train.shape"
   ]
  },
  {
   "cell_type": "code",
   "execution_count": 29,
   "metadata": {},
   "outputs": [
    {
     "data": {
      "text/plain": [
       "0.0008074425297207114"
      ]
     },
     "execution_count": 29,
     "metadata": {},
     "output_type": "execute_result"
    }
   ],
   "source": [
    "import numpy as np\n",
    "\n",
    "train_loss = np.mean(np.abs(pred_train-train), axis=2)\n",
    "train_loss = np.mean(train_loss, axis=1)\n",
    "threshold = train_loss.mean()+3*train_loss.std()\n",
    "threshold"
   ]
  },
  {
   "cell_type": "code",
   "execution_count": 31,
   "metadata": {},
   "outputs": [],
   "source": [
    "pred_test = model.predict(test_incorrect)"
   ]
  },
  {
   "cell_type": "code",
   "execution_count": 32,
   "metadata": {},
   "outputs": [],
   "source": [
    "draw_train = np.mean(np.abs(pred_train-train), axis=2)\n",
    "draw_train = np.mean(draw_train, axis=1)\n",
    "\n",
    "draw_test = np.mean(np.abs(pred_test-test_incorrect), axis=2)\n",
    "draw_test = np.mean(draw_test, axis=1)"
   ]
  },
  {
   "cell_type": "code",
   "execution_count": 33,
   "metadata": {},
   "outputs": [
    {
     "data": {
      "image/png": "[encoded data removed]",
      "text/plain": [
       "<Figure size 1120x480 with 1 Axes>"
      ]
     },
     "metadata": {
      "needs_background": "light"
     },
     "output_type": "display_data"
    }
   ],
   "source": [
    "from matplotlib import pyplot as plt\n",
    "\n",
    "fig, ax = plt.subplots(figsize=(14, 6), dpi=80)\n",
    "ax.plot(draw_train, 'b', label='Correct', linewidth=2)\n",
    "ax.plot(draw_test, 'r', label='Incorrect', linewidth=2)\n",
    "ax.plot(np.full(shape=5007, fill_value=threshold), 'g', label='Threshold', linewidth=2)\n",
    "ax.set_title('Model loss', fontsize=16)\n",
    "ax.set_ylabel('MSE')\n",
    "ax.set_xlabel('Instances')\n",
    "ax.legend(loc='upper right')\n",
    "plt.show()"
   ]
  },
  {
   "cell_type": "code",
   "execution_count": null,
   "metadata": {},
   "outputs": [],
   "source": []
  }
 ],
 "metadata": {
  "kernelspec": {
   "display_name": "Python 3",
   "language": "python",
   "name": "python3"
  },
  "language_info": {
   "codemirror_mode": {
    "name": "ipython",
    "version": 3
   },
   "file_extension": ".py",
   "mimetype": "text/x-python",
   "name": "python",
   "nbconvert_exporter": "python",
   "pygments_lexer": "ipython3",
   "version": "3.7.7"
  }
 },
 "nbformat": 4,
 "nbformat_minor": 4
}
