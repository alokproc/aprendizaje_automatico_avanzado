{
 "cells": [
  {
   "cell_type": "markdown",
   "metadata": {},
   "source": [
    "### **Normalizar los datos con MinMaxScaler**"
   ]
  },
  {
   "cell_type": "code",
   "execution_count": null,
   "metadata": {},
   "outputs": [],
   "source": [
    "import pandas as pd\n",
    "\n",
    "train = pd.read_csv('Z:\\\\Descargas\\\\composite\\\\deepl\\\\train_correct.csv')\n",
    "train.shape"
   ]
  },
  {
   "cell_type": "code",
   "execution_count": null,
   "metadata": {},
   "outputs": [],
   "source": [
    "train"
   ]
  },
  {
   "cell_type": "code",
   "execution_count": null,
   "metadata": {},
   "outputs": [],
   "source": [
    "from sklearn.preprocessing import MinMaxScaler\n",
    "\n",
    "scaler = MinMaxScaler().fit(train)\n",
    "train = scaler.transform(train)\n",
    "train.shape"
   ]
  },
  {
   "cell_type": "markdown",
   "metadata": {},
   "source": [
    "### **Definir modelo CNN-AutoEncoder**"
   ]
  },
  {
   "cell_type": "code",
   "execution_count": null,
   "metadata": {},
   "outputs": [],
   "source": [
    "# reshape input into [samples, timesteps, features]\n",
    "\n",
    "n_samples = 1502\n",
    "n_steps = 832\n",
    "n_features = train.shape[1]\n",
    "train = train.reshape((n_samples, n_steps, n_features))\n",
    "\n",
    "train.shape"
   ]
  },
  {
   "cell_type": "code",
   "execution_count": null,
   "metadata": {},
   "outputs": [],
   "source": [
    "from tensorflow.keras import models, layers\n",
    "\n",
    "model = models.Sequential([\n",
    "    # encoder\n",
    "    layers.Conv2D(32, (5, 5), activation='relu', input_shape=(1, train.shape[1], train.shape[2]))\n",
    "    layers.MaxPooling2D(pool_size=(3, 3))\n",
    "    layers.Conv2D(16, (5, 5), activation='relu')\n",
    "    layers.MaxPooling2D(pool_size=(3, 3))\n",
    "    layers.Conv2D(8, (5, 5), activation='relu')\n",
    "    layers.MaxPooling2D(pool_size=(3, 3))\n",
    "    # decoder\n",
    "    layers.Conv2D(8, (5, 5), activation='relu')\n",
    "    layers.UpSampling2D((2, 2))\n",
    "    layers.Conv2D(16, (5, 5), activation='relu')\n",
    "    layers.UpSampling2D((2, 2))\n",
    "    layers.Conv2D(32, (5, 5), activation='relu')\n",
    "    layers.UpSampling2D((2, 2))\n",
    "])\n",
    "\n",
    "model.compile(optimizer='rmsprop', loss='mae')\n",
    "model.summary()"
   ]
  }
 ],
 "metadata": {
  "kernelspec": {
   "display_name": "Python 3",
   "language": "python",
   "name": "python3"
  },
  "language_info": {
   "codemirror_mode": {
    "name": "ipython",
    "version": 3
   },
   "file_extension": ".py",
   "mimetype": "text/x-python",
   "name": "python",
   "nbconvert_exporter": "python",
   "pygments_lexer": "ipython3",
   "version": "3.7.7"
  }
 },
 "nbformat": 4,
 "nbformat_minor": 4
}
